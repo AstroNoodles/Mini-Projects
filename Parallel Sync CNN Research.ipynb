{
  "nbformat": 4,
  "nbformat_minor": 0,
  "metadata": {
    "colab": {
      "name": "Parallel_Sync_CNN_Research B.ipynb",
      "provenance": [],
      "collapsed_sections": [],
      "toc_visible": true,
      "include_colab_link": true
    },
    "kernelspec": {
      "name": "python3",
      "display_name": "Python 3"
    }
  },
  "cells": [
    {
      "cell_type": "markdown",
      "metadata": {
        "id": "view-in-github",
        "colab_type": "text"
      },
      "source": [
        "<a href=\"https://colab.research.google.com/github/AstroNoodles/Mini-Projects/blob/master/Parallel%20Sync%20CNN%20Research.ipynb\" target=\"_parent\"><img src=\"https://colab.research.google.com/assets/colab-badge.svg\" alt=\"Open In Colab\"/></a>"
      ]
    },
    {
      "cell_type": "markdown",
      "metadata": {
        "colab_type": "text",
        "id": "pAGvK8NCk4eZ"
      },
      "source": [
        "# Parallel Synchronous Gradient Descent CNN Research\n",
        "In this notebook, I am led by graduate student Pengzhan Guo to create a synchronous CNN that can be parallelized between multiple supercomputers and is optimized by the best gradient descent networks (ADAM or RMSProp).\n",
        "\n",
        "A sample run of the CNN will be completed with the CIFAR10 dataset and that framework will be applied here as well. The network will be based on the <a href=\"https://github.com/geifmany/cifar-vgg/blob/master/cifar10vgg.py\" target=\"_blank\">VGG16 design</a> that was proposed by K. Simonyan and A. Zisserman. \n",
        "\n",
        "How else could you create a custom CNN?"
      ]
    },
    {
      "cell_type": "code",
      "metadata": {
        "colab_type": "code",
        "id": "y8wXX7t2IPR7",
        "colab": {
          "base_uri": "https://localhost:8080/",
          "height": 292
        },
        "outputId": "f5e67702-deaf-4d8f-e4b3-25f7178622bf"
      },
      "source": [
        "!pip3 install keras-tuner"
      ],
      "execution_count": null,
      "outputs": [
        {
          "output_type": "stream",
          "text": [
            "Requirement already satisfied: keras-tuner in /usr/local/lib/python3.6/dist-packages (1.0.1)\n",
            "Requirement already satisfied: colorama in /usr/local/lib/python3.6/dist-packages (from keras-tuner) (0.4.3)\n",
            "Requirement already satisfied: scipy in /usr/local/lib/python3.6/dist-packages (from keras-tuner) (1.4.1)\n",
            "Requirement already satisfied: terminaltables in /usr/local/lib/python3.6/dist-packages (from keras-tuner) (3.1.0)\n",
            "Requirement already satisfied: requests in /usr/local/lib/python3.6/dist-packages (from keras-tuner) (2.23.0)\n",
            "Requirement already satisfied: numpy in /usr/local/lib/python3.6/dist-packages (from keras-tuner) (1.18.5)\n",
            "Requirement already satisfied: future in /usr/local/lib/python3.6/dist-packages (from keras-tuner) (0.16.0)\n",
            "Requirement already satisfied: tabulate in /usr/local/lib/python3.6/dist-packages (from keras-tuner) (0.8.7)\n",
            "Requirement already satisfied: tqdm in /usr/local/lib/python3.6/dist-packages (from keras-tuner) (4.41.1)\n",
            "Requirement already satisfied: scikit-learn in /usr/local/lib/python3.6/dist-packages (from keras-tuner) (0.22.2.post1)\n",
            "Requirement already satisfied: certifi>=2017.4.17 in /usr/local/lib/python3.6/dist-packages (from requests->keras-tuner) (2020.6.20)\n",
            "Requirement already satisfied: chardet<4,>=3.0.2 in /usr/local/lib/python3.6/dist-packages (from requests->keras-tuner) (3.0.4)\n",
            "Requirement already satisfied: idna<3,>=2.5 in /usr/local/lib/python3.6/dist-packages (from requests->keras-tuner) (2.10)\n",
            "Requirement already satisfied: urllib3!=1.25.0,!=1.25.1,<1.26,>=1.21.1 in /usr/local/lib/python3.6/dist-packages (from requests->keras-tuner) (1.24.3)\n",
            "Requirement already satisfied: joblib>=0.11 in /usr/local/lib/python3.6/dist-packages (from scikit-learn->keras-tuner) (0.16.0)\n"
          ],
          "name": "stdout"
        }
      ]
    },
    {
      "cell_type": "code",
      "metadata": {
        "colab_type": "code",
        "id": "MsNj0qWzsfGg",
        "colab": {}
      },
      "source": [
        "import numpy as np\n",
        "import pandas as pd\n",
        "from sklearn.model_selection import train_test_split\n",
        "import matplotlib.pyplot as plt\n",
        "from PIL import Image\n",
        "from PIL.Image import ANTIALIAS\n",
        "\n",
        "\n",
        "import tensorflow as tf\n",
        "import tensorflow.keras as keras\n",
        "from tensorflow.keras.preprocessing.image import load_img, img_to_array\n",
        "from tensorflow.python.client import device_lib\n",
        "from kerastuner.tuners import RandomSearch\n",
        "from kerastuner import HyperParameters\n",
        "\n",
        "import random\n",
        "import tarfile\n",
        "import zipfile\n",
        "import os\n",
        "import concurrent.futures\n",
        "\n",
        "from os.path import exists\n",
        "from warnings import simplefilter"
      ],
      "execution_count": null,
      "outputs": []
    },
    {
      "cell_type": "markdown",
      "metadata": {
        "colab_type": "text",
        "id": "Zp_xTdqDmbny"
      },
      "source": [
        "Since Keras has not updated alongside Pandas to note this warning noting users to do this,\n",
        "```\n",
        "df[index] --> df.iloc[index]\n",
        "```\n",
        "there will be a bunch of warnings while training the CNN. Let's remove it.\n",
        "\n"
      ]
    },
    {
      "cell_type": "code",
      "metadata": {
        "colab_type": "code",
        "id": "PkMopvfmmHDf",
        "colab": {}
      },
      "source": [
        "simplefilter(action='ignore', category=FutureWarning)"
      ],
      "execution_count": null,
      "outputs": []
    },
    {
      "cell_type": "markdown",
      "metadata": {
        "colab_type": "text",
        "id": "I2Q1Ikh1lW-a"
      },
      "source": [
        "# Setting Up Google Drive\n",
        "This will be used later to save the model before the runtime disconnects."
      ]
    },
    {
      "cell_type": "code",
      "metadata": {
        "colab_type": "code",
        "id": "GFjUpIDlldS2",
        "colab": {
          "base_uri": "https://localhost:8080/",
          "height": 54
        },
        "outputId": "83b2ef83-c9e5-4d9d-c2d9-97fab5462f1e"
      },
      "source": [
        "from google.colab import drive\n",
        "\n",
        "drive.mount('/content/drive')"
      ],
      "execution_count": null,
      "outputs": [
        {
          "output_type": "stream",
          "text": [
            "Drive already mounted at /content/drive; to attempt to forcibly remount, call drive.mount(\"/content/drive\", force_remount=True).\n"
          ],
          "name": "stdout"
        }
      ]
    },
    {
      "cell_type": "markdown",
      "metadata": {
        "colab_type": "text",
        "id": "mXEyw05F9nAX"
      },
      "source": [
        "# Retrieving the Datasets\n",
        "This is the step where visualization and preprocessing is done in the CIFAR10 dataset that Keras gives us."
      ]
    },
    {
      "cell_type": "code",
      "metadata": {
        "colab_type": "code",
        "id": "gz9vvJFs8WAa",
        "colab": {
          "base_uri": "https://localhost:8080/",
          "height": 34
        },
        "outputId": "a530e252-112b-4a81-ec7b-433aed9d6655"
      },
      "source": [
        "# DEBUG\n",
        "print(tf.keras.__version__)\n",
        "devices = device_lib.list_local_devices()"
      ],
      "execution_count": null,
      "outputs": [
        {
          "output_type": "stream",
          "text": [
            "2.4.0\n"
          ],
          "name": "stdout"
        }
      ]
    },
    {
      "cell_type": "markdown",
      "metadata": {
        "colab_type": "text",
        "id": "O2ncDtfGdOYH"
      },
      "source": [
        "## Using The Image Data\n",
        "This is from mammographic slides with SVS images rather than DICOM images"
      ]
    },
    {
      "cell_type": "markdown",
      "metadata": {
        "colab_type": "text",
        "id": "QwhNTUqRksUk"
      },
      "source": [
        "The strategy:\n",
        "1. To identify breast cancer cells, you need to convert them from the slide data to standard jpeg images. It would also be a good idea to resize them to a reasonable size (300 x 300)\n",
        "2. In order to do this, you can read the zip file and use `concurrent.futures` to read the data async while other things are running.\n",
        "3. Finally, it is preprocessing time!\n",
        "\n",
        "Side Note: How do I save the images without using too much storage? (Many gigabytes and megabytes x 140)"
      ]
    },
    {
      "cell_type": "code",
      "metadata": {
        "colab_type": "code",
        "id": "cGaUIhrckzAg",
        "colab": {
          "base_uri": "https://localhost:8080/",
          "height": 136
        },
        "outputId": "a332ddef-3538-4baf-9df3-7ada931ae9c2"
      },
      "source": [
        "output_folders = []\n",
        "\n",
        "for folder in os.listdir(\".\"):\n",
        "    full_path: str = os.path.join(os.getcwd(), folder)  \n",
        "    if folder.endswith(\".zip\"):\n",
        "        with zipfile.ZipFile(full_path) as zf:\n",
        "            name = full_path.replace(\".zip\", \"\")\n",
        "            zf.extractall(name)\n",
        "    elif folder.endswith(\".tar.gz\"):\n",
        "        with tarfile.open(full_path) as tf:\n",
        "            name = full_path.replace(\".tar.gz\", \"\")\n",
        "            print(name)\n",
        "            output_folders.append(name)\n",
        "            tf.extractall(name)"
      ],
      "execution_count": null,
      "outputs": [
        {
          "output_type": "stream",
          "text": [
            "/content/Output5\n",
            "/content/Output7\n",
            "/content/Output2\n",
            "/content/Output6\n",
            "/content/Output3\n",
            "/content/Output4\n",
            "/content/Output1\n"
          ],
          "name": "stdout"
        }
      ]
    },
    {
      "cell_type": "code",
      "metadata": {
        "colab_type": "code",
        "id": "ulR_k8EVpc7p",
        "colab": {
          "base_uri": "https://localhost:8080/",
          "height": 1000
        },
        "outputId": "1eda46b2-e40c-4158-9515-6820531f3d88"
      },
      "source": [
        "import shutil\n",
        "\n",
        "# Total Number of Files: 150 (Sample)\n",
        "\n",
        "outputs_path = os.path.join(os.getcwd(), \"outputs\")\n",
        "\n",
        "if not os.path.exists(outputs_path):\n",
        "  shutil.rmtree(outputs_path)\n",
        "  os.mkdir(outputs_path)\n",
        "\n",
        "pic_directory = []\n",
        "\n",
        "for subfolder in output_folders:\n",
        "  for pic_dir in os.listdir(subfolder):\n",
        "      pic_directory.append(os.path.join(subfolder, pic_dir))\n",
        "\n",
        "# print(pic_directory)\n",
        "# for output in pic_directory:\n",
        "#   print(len(os.listdir(output)))\n",
        "print(pic_directory)\n",
        "\n",
        "for output in pic_directory:\n",
        "  for file in os.listdir(output):\n",
        "    print(os.path.join(outputs_path, file))\n",
        "    shutil.move(os.path.join(output, file), os.path.join(outputs_path, file))\n",
        "\n",
        "print(len(os.listdir(outputs_path)))"
      ],
      "execution_count": null,
      "outputs": [
        {
          "output_type": "stream",
          "text": [
            "['/content/Output5/Output', '/content/Output7/Output', '/content/Output2/Output', '/content/Output6/Output', '/content/Output3/Output', '/content/Output4/Output', '/content/Output1/Output']\n",
            "/content/outputs/HobI17-435966474961.png\n",
            "/content/outputs/HobI17-440719796933.png\n",
            "/content/outputs/HobI17-313879325559.png\n",
            "/content/outputs/HobI17-269154319884.png\n",
            "/content/outputs/HobI17-553581330459.png\n",
            "/content/outputs/HobI17-425397955012.png\n",
            "/content/outputs/HobI17-324909994030.png\n",
            "/content/outputs/HobI17-288509838143.png\n",
            "/content/outputs/HobI17-458471686651.png\n",
            "/content/outputs/HobI17-348600370849.png\n",
            "/content/outputs/HobI17-334708419649.png\n",
            "/content/outputs/HobI17-495667251867.png\n",
            "/content/outputs/HobI17-265070624026.png\n",
            "/content/outputs/HobI17-447409697483.png\n",
            "/content/outputs/HobI17-467062691081.png\n",
            "/content/outputs/HobI17-519774790910.png\n",
            "/content/outputs/HobI17-421574798660.png\n",
            "/content/outputs/HobI17-545903287930.png\n",
            "/content/outputs/HobI17-377050210278.png\n",
            "/content/outputs/HobI17-476054943119.png\n",
            "/content/outputs/HobI16-673050001795.png\n",
            "/content/outputs/HobI16-303757967057.png\n",
            "/content/outputs/HobI16-334188031493.png\n",
            "/content/outputs/HobI16-072823783181.png\n",
            "/content/outputs/HobI16-732317408482.png\n",
            "/content/outputs/HobI16-053768896760.png\n",
            "/content/outputs/HobI16-723628532151.png\n",
            "/content/outputs/HobI16-553454144783.png\n",
            "/content/outputs/HobI16-568713100973.png\n",
            "/content/outputs/HobI16-105105202254.png\n",
            "/content/outputs/HobI18-104537363663.png\n",
            "/content/outputs/HobI18-615488176850.png\n",
            "/content/outputs/HobI18-116913530563.png\n",
            "/content/outputs/HobI18-423802432924.png\n",
            "/content/outputs/HobI18-295854571047.png\n",
            "/content/outputs/HobI18-585178062343.png\n",
            "/content/outputs/HobI18-156692134456.png\n",
            "/content/outputs/HobI18-685127433264.png\n",
            "/content/outputs/HobI18-155976821520.png\n",
            "/content/outputs/HobI18-323369624610.png\n",
            "/content/outputs/HobI18-386778904831.png\n",
            "/content/outputs/HobI18-264942777411.png\n",
            "/content/outputs/HobI18-406340937735.png\n",
            "/content/outputs/HobI18-303776291914.png\n",
            "/content/outputs/HobI18-711038761484.png\n",
            "/content/outputs/HobI18-160344775131.png\n",
            "/content/outputs/HobI18-246204354838.png\n",
            "/content/outputs/HobI18-092641163539.png\n",
            "/content/outputs/HobI18-987777882592.png\n",
            "/content/outputs/HobI18-628416694544.png\n",
            "/content/outputs/HobI18-767451561893.png\n",
            "/content/outputs/HobI18-171355267698.png\n",
            "/content/outputs/HobI18-522858288490.png\n",
            "/content/outputs/HobI17-255403409805.png\n",
            "/content/outputs/HobI18-099794757323.png\n",
            "/content/outputs/HobI18-671727960719.png\n",
            "/content/outputs/HobI18-789815111269.png\n",
            "/content/outputs/HobI18-618697230393.png\n",
            "/content/outputs/HobI18-244929700327.png\n",
            "/content/outputs/HobI18-706116254954.png\n",
            "/content/outputs/HobI18-173605056616.png\n",
            "/content/outputs/HobI18-559324358086.png\n",
            "/content/outputs/HobI18-116874549628.png\n",
            "/content/outputs/HobI18-331819024579.png\n",
            "/content/outputs/HobI18-189221870743.png\n",
            "/content/outputs/HobI18-593216593303.png\n",
            "/content/outputs/HobI18-796881418672.png\n",
            "/content/outputs/HobI18-494717903184.png\n",
            "/content/outputs/HobI18-641230701381.png\n",
            "/content/outputs/HobI18-595961947225.png\n",
            "/content/outputs/HobI17-219470745199.png\n",
            "/content/outputs/HobI17-085745661307.png\n",
            "/content/outputs/HobI16-800515347962.png\n",
            "/content/outputs/HobI17-117814883069.png\n",
            "/content/outputs/HobI17-036398431404.png\n",
            "/content/outputs/HobI16-708082515907.png\n",
            "/content/outputs/HobI17-158487016760.png\n",
            "/content/outputs/HobI17-247547626174.png\n",
            "/content/outputs/HobI17-176780238278.png\n",
            "/content/outputs/HobI17-014668898938.png\n",
            "/content/outputs/HobI17-213453116848.png\n",
            "/content/outputs/HobI17-188975055458.png\n",
            "/content/outputs/HobI17-074732741064.png\n",
            "/content/outputs/HobI17-054128333834.png\n",
            "/content/outputs/HobI16-850322983160.png\n",
            "/content/outputs/HobI17-192632085422.png\n",
            "/content/outputs/HobI16-837889994938.png\n",
            "/content/outputs/HobI17-054246972264.png\n",
            "/content/outputs/HobI17-092737210733.png\n",
            "/content/outputs/HobI17-203923657811.png\n",
            "/content/outputs/HobI17-883321793262.png\n",
            "/content/outputs/HobI17-796855272934.png\n",
            "/content/outputs/HobI17-890038662634.png\n",
            "/content/outputs/HobI17-788882576662.png\n",
            "/content/outputs/HobI18-029043796428.png\n",
            "/content/outputs/HobI17-974235225863.png\n",
            "/content/outputs/HobI17-804061080478.png\n",
            "/content/outputs/HobI17-875559163472.png\n",
            "/content/outputs/HobI17-828077018053.png\n",
            "/content/outputs/HobI17-977643406918.png\n",
            "/content/outputs/HobI17-848084691666.png\n",
            "/content/outputs/HobI17-792063748170.png\n",
            "/content/outputs/HobI18-069937884593.png\n",
            "/content/outputs/HobI18-045092912528.png\n",
            "/content/outputs/HobI17-800973460562.png\n",
            "/content/outputs/HobI17-929050186119.png\n",
            "/content/outputs/HobI17-876230315187.png\n",
            "/content/outputs/HobI18-029873239450.png\n",
            "/content/outputs/HobI17-793253845164.png\n",
            "/content/outputs/HobI17-812250131208.png\n",
            "/content/outputs/HobI17-640264021539.png\n",
            "/content/outputs/HobI17-655346198230.png\n",
            "/content/outputs/HobI17-593769981242.png\n",
            "/content/outputs/HobI17-749048090290.png\n",
            "/content/outputs/HobI17-659203035810.png\n",
            "/content/outputs/HobI17-743356791372.png\n",
            "/content/outputs/HobI17-648654794571.png\n",
            "/content/outputs/HobI17-750867388324.png\n",
            "/content/outputs/HobI17-485538505474.png\n",
            "/content/outputs/HobI17-688924862435.png\n",
            "/content/outputs/HobI17-681327099314.png\n",
            "/content/outputs/HobI17-558005179666.png\n",
            "/content/outputs/HobI17-677160798281.png\n",
            "/content/outputs/HobI17-636884305743.png\n",
            "/content/outputs/HobI17-778814457598.png\n",
            "/content/outputs/HobI17-622270352572.png\n",
            "/content/outputs/HobI17-660006336651.png\n",
            "/content/outputs/HobI17-719990954481.png\n",
            "/content/outputs/HobI17-627940372723.png\n",
            "/content/outputs/HobI17-719246842170.png\n",
            "/content/outputs/HobI18-615488176850.png\n",
            "/content/outputs/HobI18-423802432924.png\n",
            "/content/outputs/HobI18-585178062343.png\n",
            "/content/outputs/HobI18-685127433264.png\n",
            "/content/outputs/HobI18-711038761484.png\n",
            "/content/outputs/HobI18-987777882592.png\n",
            "/content/outputs/HobI18-628416694544.png\n",
            "/content/outputs/HobI18-767451561893.png\n",
            "/content/outputs/HobI18-522858288490.png\n",
            "/content/outputs/HobI17-255403409805.png\n",
            "/content/outputs/HobI18-671727960719.png\n",
            "/content/outputs/HobI18-789815111269.png\n",
            "/content/outputs/HobI18-618697230393.png\n",
            "/content/outputs/HobI18-706116254954.png\n",
            "/content/outputs/HobI18-559324358086.png\n",
            "/content/outputs/HobI18-593216593303.png\n",
            "/content/outputs/HobI18-796881418672.png\n",
            "/content/outputs/HobI18-494717903184.png\n",
            "/content/outputs/HobI18-641230701381.png\n",
            "/content/outputs/HobI18-595961947225.png\n",
            "137\n"
          ],
          "name": "stdout"
        }
      ]
    },
    {
      "cell_type": "markdown",
      "metadata": {
        "id": "zN-U8RFscIdh",
        "colab_type": "text"
      },
      "source": [
        "## Parallelzing the I/O for Reading Images!"
      ]
    },
    {
      "cell_type": "markdown",
      "metadata": {
        "id": "gekNJrKbcaJ5",
        "colab_type": "text"
      },
      "source": [
        "So now we are going to read the images and get each of their filenames. In actuality, we will need to use `pydicom` later to transform the actual svs images into PNG or JPEG."
      ]
    },
    {
      "cell_type": "code",
      "metadata": {
        "id": "7tjVFdQTcNSH",
        "colab_type": "code",
        "colab": {}
      },
      "source": [
        "# choose the best size\n",
        "size = (256, 256)\n",
        "\n",
        "def read_images(directory: str) -> np.ndarray:\n",
        "  # print(directory)\n",
        "  print([os.path.join(directory, img) for img in os.listdir(directory) \n",
        "  if img.endswith(\".png\") or img.endswith(\".jpg\")])\n",
        "\n",
        "  imgs = [load_img(os.path.join(directory, img)) for img in sorted(os.listdir(directory)) \n",
        "  if img.endswith(\".png\") or img.endswith(\".jpg\")]\n",
        "  # print(imgs)\n",
        "  thumbnails = [img.resize(size, ANTIALIAS) for img in imgs]\n",
        "\n",
        "  # FOR THUMBNAILS (LARGE IMAGES)\n",
        "  # [img.thumbnail(size, ANTIALIAS) for img in imgs]\n",
        "  # thumbnails = [img for img in imgs]\n",
        "  # print(thumbnails)\n",
        "\n",
        "  # PUT SOMEWHERE ELSE --> arrays = [img_to_array(img) for img in thumbnails]\n",
        "  return thumbnails"
      ],
      "execution_count": null,
      "outputs": []
    },
    {
      "cell_type": "markdown",
      "metadata": {
        "id": "zXizLIZBcnma",
        "colab_type": "text"
      },
      "source": [
        "Parallelizing I/O, here we go!"
      ]
    },
    {
      "cell_type": "code",
      "metadata": {
        "id": "TRvVoCsVcZiY",
        "colab_type": "code",
        "colab": {
          "base_uri": "https://localhost:8080/",
          "height": 323
        },
        "outputId": "4b603339-00c2-4b9a-f239-e6b0e35c5c4e"
      },
      "source": [
        "# read in fixed order\n",
        "\n",
        "bc_images = read_images(outputs_path)\n",
        "plt.imshow(bc_images[0])"
      ],
      "execution_count": null,
      "outputs": [
        {
          "output_type": "stream",
          "text": [
            "['/content/outputs/HobI17-219470745199.png', '/content/outputs/HobI18-104537363663.png', '/content/outputs/HobI17-435966474961.png', '/content/outputs/HobI18-615488176850.png', '/content/outputs/HobI17-085745661307.png', '/content/outputs/HobI17-883321793262.png', '/content/outputs/HobI16-800515347962.png', '/content/outputs/HobI18-116913530563.png', '/content/outputs/HobI18-423802432924.png', '/content/outputs/HobI16-673050001795.png', '/content/outputs/HobI16-303757967057.png', '/content/outputs/HobI18-295854571047.png', '/content/outputs/HobI18-585178062343.png', '/content/outputs/HobI17-796855272934.png', '/content/outputs/HobI18-156692134456.png', '/content/outputs/HobI17-440719796933.png', '/content/outputs/HobI17-313879325559.png', '/content/outputs/HobI17-890038662634.png', '/content/outputs/HobI17-269154319884.png', '/content/outputs/HobI17-553581330459.png', '/content/outputs/HobI17-640264021539.png', '/content/outputs/HobI17-425397955012.png', '/content/outputs/HobI17-788882576662.png', '/content/outputs/HobI18-685127433264.png', '/content/outputs/HobI17-655346198230.png', '/content/outputs/HobI17-117814883069.png', '/content/outputs/HobI17-593769981242.png', '/content/outputs/HobI17-749048090290.png', '/content/outputs/HobI18-029043796428.png', '/content/outputs/HobI17-036398431404.png', '/content/outputs/HobI16-708082515907.png', '/content/outputs/HobI18-155976821520.png', '/content/outputs/HobI17-659203035810.png', '/content/outputs/HobI17-324909994030.png', '/content/outputs/HobI17-288509838143.png', '/content/outputs/HobI17-743356791372.png', '/content/outputs/HobI17-974235225863.png', '/content/outputs/HobI18-323369624610.png', '/content/outputs/HobI18-386778904831.png', '/content/outputs/HobI17-804061080478.png', '/content/outputs/HobI17-648654794571.png', '/content/outputs/HobI17-158487016760.png', '/content/outputs/HobI17-247547626174.png', '/content/outputs/HobI16-334188031493.png', '/content/outputs/HobI17-875559163472.png', '/content/outputs/HobI17-750867388324.png', '/content/outputs/HobI17-176780238278.png', '/content/outputs/HobI18-264942777411.png', '/content/outputs/HobI17-458471686651.png', '/content/outputs/HobI17-485538505474.png', '/content/outputs/HobI18-406340937735.png', '/content/outputs/HobI17-828077018053.png', '/content/outputs/HobI17-688924862435.png', '/content/outputs/HobI18-303776291914.png', '/content/outputs/HobI18-711038761484.png', '/content/outputs/HobI17-977643406918.png', '/content/outputs/HobI16-072823783181.png', '/content/outputs/HobI18-160344775131.png', '/content/outputs/HobI17-848084691666.png', '/content/outputs/HobI17-681327099314.png', '/content/outputs/HobI16-732317408482.png', '/content/outputs/HobI18-246204354838.png', '/content/outputs/HobI18-092641163539.png', '/content/outputs/HobI17-792063748170.png', '/content/outputs/HobI17-558005179666.png', '/content/outputs/HobI18-069937884593.png', '/content/outputs/HobI18-987777882592.png', '/content/outputs/HobI18-045092912528.png', '/content/outputs/HobI18-628416694544.png', '/content/outputs/HobI17-348600370849.png', '/content/outputs/HobI17-334708419649.png', '/content/outputs/HobI18-767451561893.png', '/content/outputs/HobI17-495667251867.png', '/content/outputs/HobI16-053768896760.png', '/content/outputs/HobI17-265070624026.png', '/content/outputs/HobI17-014668898938.png', '/content/outputs/HobI17-677160798281.png', '/content/outputs/HobI16-723628532151.png', '/content/outputs/HobI17-447409697483.png', '/content/outputs/HobI17-213453116848.png', '/content/outputs/HobI18-171355267698.png', '/content/outputs/HobI18-522858288490.png', '/content/outputs/HobI17-188975055458.png', '/content/outputs/HobI17-074732741064.png', '/content/outputs/HobI17-255403409805.png', '/content/outputs/HobI18-099794757323.png', '/content/outputs/HobI17-636884305743.png', '/content/outputs/HobI18-671727960719.png', '/content/outputs/HobI17-778814457598.png', '/content/outputs/HobI17-800973460562.png', '/content/outputs/HobI17-054128333834.png', '/content/outputs/HobI18-789815111269.png', '/content/outputs/HobI17-929050186119.png', '/content/outputs/HobI16-850322983160.png', '/content/outputs/HobI17-467062691081.png', '/content/outputs/HobI18-618697230393.png', '/content/outputs/HobI17-192632085422.png', '/content/outputs/HobI16-837889994938.png', '/content/outputs/HobI18-244929700327.png', '/content/outputs/HobI18-706116254954.png', '/content/outputs/HobI17-054246972264.png', '/content/outputs/HobI17-876230315187.png', '/content/outputs/HobI16-553454144783.png', '/content/outputs/HobI18-173605056616.png', '/content/outputs/HobI16-568713100973.png', '/content/outputs/HobI18-559324358086.png', '/content/outputs/HobI18-029873239450.png', '/content/outputs/HobI18-116874549628.png', '/content/outputs/HobI17-519774790910.png', '/content/outputs/HobI17-421574798660.png', '/content/outputs/HobI18-331819024579.png', '/content/outputs/HobI18-189221870743.png', '/content/outputs/HobI17-622270352572.png', '/content/outputs/HobI17-660006336651.png', '/content/outputs/HobI18-593216593303.png', '/content/outputs/HobI18-796881418672.png', '/content/outputs/HobI18-494717903184.png', '/content/outputs/HobI17-545903287930.png', '/content/outputs/HobI17-092737210733.png', '/content/outputs/HobI17-719990954481.png', '/content/outputs/HobI16-105105202254.png', '/content/outputs/HobI17-377050210278.png', '/content/outputs/HobI17-476054943119.png', '/content/outputs/HobI17-793253845164.png', '/content/outputs/HobI17-627940372723.png', '/content/outputs/HobI17-719246842170.png', '/content/outputs/HobI18-641230701381.png', '/content/outputs/HobI17-203923657811.png', '/content/outputs/HobI17-812250131208.png', '/content/outputs/HobI18-595961947225.png']\n"
          ],
          "name": "stdout"
        },
        {
          "output_type": "execute_result",
          "data": {
            "text/plain": [
              "<matplotlib.image.AxesImage at 0x7fa26719cd68>"
            ]
          },
          "metadata": {
            "tags": []
          },
          "execution_count": 78
        },
        {
          "output_type": "display_data",
          "data": {
            "image/png": "[encoded data removed]",
            "text/plain": [
              "<Figure size 432x288 with 1 Axes>"
            ]
          },
          "metadata": {
            "tags": [],
            "needs_background": "light"
          }
        }
      ]
    },
    {
      "cell_type": "markdown",
      "metadata": {
        "id": "skvtk-ZQdfeP",
        "colab_type": "text"
      },
      "source": [
        "### Aligning the dataframe with the resized pictures"
      ]
    },
    {
      "cell_type": "markdown",
      "metadata": {
        "id": "aGPs7MB5d3Fv",
        "colab_type": "text"
      },
      "source": [
        "This first part is an assertion to find out the number of images in the folder so that it matches with the target `DataFrame`."
      ]
    },
    {
      "cell_type": "code",
      "metadata": {
        "id": "m3uvf954dip8",
        "colab_type": "code",
        "colab": {
          "base_uri": "https://localhost:8080/",
          "height": 34
        },
        "outputId": "e6714b35-ef6b-415f-85e1-81f1d510e45a"
      },
      "source": [
        "full = []\n",
        "flattened_names = []\n",
        "\n",
        "for dir_contents in futures:\n",
        "    for dir_image in dir_contents:\n",
        "        full.append(dir_image)\n",
        "\n",
        "len(full)"
      ],
      "execution_count": null,
      "outputs": [
        {
          "output_type": "execute_result",
          "data": {
            "text/plain": [
              "130"
            ]
          },
          "metadata": {
            "tags": []
          },
          "execution_count": 50
        }
      ]
    },
    {
      "cell_type": "markdown",
      "metadata": {
        "id": "n0FrVlb5eDlJ",
        "colab_type": "text"
      },
      "source": [
        "*Now*, we can sort the images and filenames (in order) by zipping them and then add it to the dataframe"
      ]
    },
    {
      "cell_type": "code",
      "metadata": {
        "id": "_e6Io7QUeCsV",
        "colab_type": "code",
        "colab": {
          "base_uri": "https://localhost:8080/",
          "height": 204
        },
        "outputId": "3ad40ba9-3737-4d2d-b7d8-05cf5fed994f"
      },
      "source": [
        "import pandas as pd\n",
        "\n",
        "df = pd.read_csv('target.csv')\n",
        "\n",
        "df['slide'] = df['slide'].str.replace(\".svs\", \".jpg\")\n",
        "df = df.sort_values('slide') # just in case\n",
        "\n",
        "df.head()"
      ],
      "execution_count": null,
      "outputs": [
        {
          "output_type": "execute_result",
          "data": {
            "text/html": [
              "<div>\n",
              "<style scoped>\n",
              "    .dataframe tbody tr th:only-of-type {\n",
              "        vertical-align: middle;\n",
              "    }\n",
              "\n",
              "    .dataframe tbody tr th {\n",
              "        vertical-align: top;\n",
              "    }\n",
              "\n",
              "    .dataframe thead th {\n",
              "        text-align: right;\n",
              "    }\n",
              "</style>\n",
              "<table border=\"1\" class=\"dataframe\">\n",
              "  <thead>\n",
              "    <tr style=\"text-align: right;\">\n",
              "      <th></th>\n",
              "      <th>slide</th>\n",
              "      <th>target</th>\n",
              "    </tr>\n",
              "  </thead>\n",
              "  <tbody>\n",
              "    <tr>\n",
              "      <th>0</th>\n",
              "      <td>HobI16-053768896760.jpg</td>\n",
              "      <td>1</td>\n",
              "    </tr>\n",
              "    <tr>\n",
              "      <th>1</th>\n",
              "      <td>HobI16-072823783181.jpg</td>\n",
              "      <td>1</td>\n",
              "    </tr>\n",
              "    <tr>\n",
              "      <th>2</th>\n",
              "      <td>HobI16-105105202254.jpg</td>\n",
              "      <td>0</td>\n",
              "    </tr>\n",
              "    <tr>\n",
              "      <th>3</th>\n",
              "      <td>HobI16-303757967057.jpg</td>\n",
              "      <td>0</td>\n",
              "    </tr>\n",
              "    <tr>\n",
              "      <th>4</th>\n",
              "      <td>HobI16-334188031493.jpg</td>\n",
              "      <td>0</td>\n",
              "    </tr>\n",
              "  </tbody>\n",
              "</table>\n",
              "</div>"
            ],
            "text/plain": [
              "                     slide  target\n",
              "0  HobI16-053768896760.jpg       1\n",
              "1  HobI16-072823783181.jpg       1\n",
              "2  HobI16-105105202254.jpg       0\n",
              "3  HobI16-303757967057.jpg       0\n",
              "4  HobI16-334188031493.jpg       0"
            ]
          },
          "metadata": {
            "tags": []
          },
          "execution_count": 52
        }
      ]
    },
    {
      "cell_type": "markdown",
      "metadata": {
        "id": "l-W0yqOgWVEV",
        "colab_type": "text"
      },
      "source": [
        "Since I do not employ parallelism and I read the images in order, I do not need to sort the images for the dataframe. Thus, `df[slide]` are the names of the images and `bc_images` are the images (PILLOW)."
      ]
    },
    {
      "cell_type": "code",
      "metadata": {
        "id": "7vm2ZbcOg3W9",
        "colab_type": "code",
        "colab": {
          "base_uri": "https://localhost:8080/",
          "height": 54
        },
        "outputId": "23d5cb52-81ac-4c28-fb28-39259e887133"
      },
      "source": [
        "combined = list(zip(full, df['slide'].values))\n",
        "print(combined)\n",
        "\n",
        "\n",
        "df['imgs'] = sorted_imgs"
      ],
      "execution_count": null,
      "outputs": [
        {
          "output_type": "stream",
          "text": [
            "[(<PIL.Image.Image image mode=RGB size=256x256 at 0x7FA26752FCC0>, 'HobI16-053768896760.jpg'), (<PIL.Image.Image image mode=RGB size=256x256 at 0x7FA26752FD30>, 'HobI16-072823783181.jpg'), (<PIL.Image.Image image mode=RGB size=256x256 at 0x7FA26752FDA0>, 'HobI16-105105202254.jpg'), (<PIL.Image.Image image mode=RGB size=256x256 at 0x7FA26752FE10>, 'HobI16-303757967057.jpg'), (<PIL.Image.Image image mode=RGB size=256x256 at 0x7FA26752FE80>, 'HobI16-334188031493.jpg'), (<PIL.Image.Image image mode=RGB size=256x256 at 0x7FA26752FEF0>, 'HobI16-553454144783.jpg'), (<PIL.Image.Image image mode=RGB size=256x256 at 0x7FA26752FF60>, 'HobI16-568713100973.jpg'), (<PIL.Image.Image image mode=RGB size=256x256 at 0x7FA26752FFD0>, 'HobI16-673050001795.jpg'), (<PIL.Image.Image image mode=RGB size=256x256 at 0x7FA2675A4080>, 'HobI16-708082515907.jpg'), (<PIL.Image.Image image mode=RGB size=256x256 at 0x7FA2675A40F0>, 'HobI16-723628532151.jpg'), (<PIL.Image.Image image mode=RGB size=256x256 at 0x7FA2675A4160>, 'HobI16-732317408482.jpg'), (<PIL.Image.Image image mode=RGB size=256x256 at 0x7FA2675A41D0>, 'HobI16-800515347962.jpg'), (<PIL.Image.Image image mode=RGB size=256x256 at 0x7FA2675A4240>, 'HobI16-837889994938.jpg'), (<PIL.Image.Image image mode=RGB size=256x256 at 0x7FA2675A42B0>, 'HobI16-850322983160.jpg'), (<PIL.Image.Image image mode=RGB size=256x256 at 0x7FA2675A4320>, 'HobI17-014668898938.jpg'), (<PIL.Image.Image image mode=RGB size=256x256 at 0x7FA2675A4390>, 'HobI17-036398431404.jpg'), (<PIL.Image.Image image mode=RGB size=256x256 at 0x7FA2675A4400>, 'HobI17-054128333834.jpg'), (<PIL.Image.Image image mode=RGB size=256x256 at 0x7FA2675A4470>, 'HobI17-054246972264.jpg'), (<PIL.Image.Image image mode=RGB size=256x256 at 0x7FA2675A44E0>, 'HobI17-074732741064.jpg'), (<PIL.Image.Image image mode=RGB size=256x256 at 0x7FA2675A4550>, 'HobI17-085745661307.jpg'), (<PIL.Image.Image image mode=RGB size=256x256 at 0x7FA2675A45C0>, 'HobI17-092737210733.jpg'), (<PIL.Image.Image image mode=RGB size=256x256 at 0x7FA2675A4630>, 'HobI17-117814883069.jpg'), (<PIL.Image.Image image mode=RGB size=256x256 at 0x7FA2675A46A0>, 'HobI17-158487016760.jpg'), (<PIL.Image.Image image mode=RGB size=256x256 at 0x7FA2675A4710>, 'HobI17-176780238278.jpg'), (<PIL.Image.Image image mode=RGB size=256x256 at 0x7FA2675A4780>, 'HobI17-188975055458.jpg'), (<PIL.Image.Image image mode=RGB size=256x256 at 0x7FA2675A47F0>, 'HobI17-192632085422.jpg'), (<PIL.Image.Image image mode=RGB size=256x256 at 0x7FA2675A4860>, 'HobI17-203923657811.jpg'), (<PIL.Image.Image image mode=RGB size=256x256 at 0x7FA2675A48D0>, 'HobI17-213453116848.jpg'), (<PIL.Image.Image image mode=RGB size=256x256 at 0x7FA2675A4940>, 'HobI17-219470745199.jpg'), (<PIL.Image.Image image mode=RGB size=256x256 at 0x7FA2675A49B0>, 'HobI17-247547626174.jpg'), (<PIL.Image.Image image mode=RGB size=256x256 at 0x7FA2675A4A20>, 'HobI17-255403409805.jpg'), (<PIL.Image.Image image mode=RGB size=256x256 at 0x7FA2675A4A90>, 'HobI17-265070624026.jpg'), (<PIL.Image.Image image mode=RGB size=256x256 at 0x7FA2675A4B00>, 'HobI17-269154319884.jpg'), (<PIL.Image.Image image mode=RGB size=256x256 at 0x7FA2675A4B70>, 'HobI17-288509838143.jpg'), (<PIL.Image.Image image mode=RGB size=256x256 at 0x7FA2675A4BE0>, 'HobI17-313879325559.jpg'), (<PIL.Image.Image image mode=RGB size=256x256 at 0x7FA2675A4C50>, 'HobI17-324909994030.jpg'), (<PIL.Image.Image image mode=RGB size=256x256 at 0x7FA2675A4CC0>, 'HobI17-334708419649.jpg'), (<PIL.Image.Image image mode=RGB size=256x256 at 0x7FA2675A4D30>, 'HobI17-348600370849.jpg'), (<PIL.Image.Image image mode=RGB size=256x256 at 0x7FA2675A4DA0>, 'HobI17-377050210278.jpg'), (<PIL.Image.Image image mode=RGB size=256x256 at 0x7FA2675A4E10>, 'HobI17-421574798660.jpg'), (<PIL.Image.Image image mode=RGB size=256x256 at 0x7FA2675A4E80>, 'HobI17-425397955012.jpg'), (<PIL.Image.Image image mode=RGB size=256x256 at 0x7FA2675A4EF0>, 'HobI17-435966474961.jpg'), (<PIL.Image.Image image mode=RGB size=256x256 at 0x7FA2675A4F60>, 'HobI17-440719796933.jpg'), (<PIL.Image.Image image mode=RGB size=256x256 at 0x7FA2675A4FD0>, 'HobI17-447409697483.jpg'), (<PIL.Image.Image image mode=RGB size=256x256 at 0x7FA26753A080>, 'HobI17-458471686651.jpg'), (<PIL.Image.Image image mode=RGB size=256x256 at 0x7FA26753A0F0>, 'HobI17-467062691081.jpg'), (<PIL.Image.Image image mode=RGB size=256x256 at 0x7FA26753A160>, 'HobI17-476054943119.jpg'), (<PIL.Image.Image image mode=RGB size=256x256 at 0x7FA26753A1D0>, 'HobI17-485538505474.jpg'), (<PIL.Image.Image image mode=RGB size=256x256 at 0x7FA26753A240>, 'HobI17-495667251867.jpg'), (<PIL.Image.Image image mode=RGB size=256x256 at 0x7FA26753A2B0>, 'HobI17-519774790910.jpg'), (<PIL.Image.Image image mode=RGB size=256x256 at 0x7FA26753A320>, 'HobI17-545903287930.jpg'), (<PIL.Image.Image image mode=RGB size=256x256 at 0x7FA26753A390>, 'HobI17-553581330459.jpg'), (<PIL.Image.Image image mode=RGB size=256x256 at 0x7FA26753A400>, 'HobI17-558005179666.jpg'), (<PIL.Image.Image image mode=RGB size=256x256 at 0x7FA26753A470>, 'HobI17-593769981242.jpg'), (<PIL.Image.Image image mode=RGB size=256x256 at 0x7FA26753A4E0>, 'HobI17-622270352572.jpg'), (<PIL.Image.Image image mode=RGB size=256x256 at 0x7FA26753A550>, 'HobI17-627940372723.jpg'), (<PIL.Image.Image image mode=RGB size=256x256 at 0x7FA26753A5C0>, 'HobI17-636884305743.jpg'), (<PIL.Image.Image image mode=RGB size=256x256 at 0x7FA26753A630>, 'HobI17-640264021539.jpg'), (<PIL.Image.Image image mode=RGB size=256x256 at 0x7FA26753A6A0>, 'HobI17-648654794571.jpg'), (<PIL.Image.Image image mode=RGB size=256x256 at 0x7FA26753A710>, 'HobI17-655346198230.jpg'), (<PIL.Image.Image image mode=RGB size=256x256 at 0x7FA26753A780>, 'HobI17-659203035810.jpg'), (<PIL.Image.Image image mode=RGB size=256x256 at 0x7FA26753A7F0>, 'HobI17-660006336651.jpg'), (<PIL.Image.Image image mode=RGB size=256x256 at 0x7FA26753A860>, 'HobI17-677160798281.jpg'), (<PIL.Image.Image image mode=RGB size=256x256 at 0x7FA26753A8D0>, 'HobI17-681327099314.jpg'), (<PIL.Image.Image image mode=RGB size=256x256 at 0x7FA26753A940>, 'HobI17-688924862435.jpg'), (<PIL.Image.Image image mode=RGB size=256x256 at 0x7FA26753A9B0>, 'HobI17-719246842170.jpg'), (<PIL.Image.Image image mode=RGB size=256x256 at 0x7FA26753AA20>, 'HobI17-719990954481.jpg'), (<PIL.Image.Image image mode=RGB size=256x256 at 0x7FA26753AA90>, 'HobI17-743356791372.jpg'), (<PIL.Image.Image image mode=RGB size=256x256 at 0x7FA26753AB00>, 'HobI17-749048090290.jpg'), (<PIL.Image.Image image mode=RGB size=256x256 at 0x7FA26753AB70>, 'HobI17-750867388324.jpg'), (<PIL.Image.Image image mode=RGB size=256x256 at 0x7FA26753ABE0>, 'HobI17-778814457598.jpg'), (<PIL.Image.Image image mode=RGB size=256x256 at 0x7FA26753AC50>, 'HobI17-788882576662.jpg'), (<PIL.Image.Image image mode=RGB size=256x256 at 0x7FA26753ACC0>, 'HobI17-792063748170.jpg'), (<PIL.Image.Image image mode=RGB size=256x256 at 0x7FA26753AD30>, 'HobI17-793253845164.jpg'), (<PIL.Image.Image image mode=RGB size=256x256 at 0x7FA26753ADA0>, 'HobI17-796855272934.jpg'), (<PIL.Image.Image image mode=RGB size=256x256 at 0x7FA26753AE10>, 'HobI17-800973460562.jpg'), (<PIL.Image.Image image mode=RGB size=256x256 at 0x7FA26753AE80>, 'HobI17-804061080478.jpg'), (<PIL.Image.Image image mode=RGB size=256x256 at 0x7FA26753AEF0>, 'HobI17-812250131208.jpg'), (<PIL.Image.Image image mode=RGB size=256x256 at 0x7FA26753AF60>, 'HobI17-828077018053.jpg'), (<PIL.Image.Image image mode=RGB size=256x256 at 0x7FA26753AFD0>, 'HobI17-848084691666.jpg'), (<PIL.Image.Image image mode=RGB size=256x256 at 0x7FA26753E080>, 'HobI17-875559163472.jpg'), (<PIL.Image.Image image mode=RGB size=256x256 at 0x7FA26753E0F0>, 'HobI17-876230315187.jpg'), (<PIL.Image.Image image mode=RGB size=256x256 at 0x7FA26753E160>, 'HobI17-883321793262.jpg'), (<PIL.Image.Image image mode=RGB size=256x256 at 0x7FA26753E1D0>, 'HobI17-890038662634.jpg'), (<PIL.Image.Image image mode=RGB size=256x256 at 0x7FA26753E240>, 'HobI17-929050186119.jpg'), (<PIL.Image.Image image mode=RGB size=256x256 at 0x7FA26753E2B0>, 'HobI17-974235225863.jpg'), (<PIL.Image.Image image mode=RGB size=256x256 at 0x7FA26753E320>, 'HobI17-977643406918.jpg'), (<PIL.Image.Image image mode=RGB size=256x256 at 0x7FA26753E390>, 'HobI18-029043796428.jpg'), (<PIL.Image.Image image mode=RGB size=256x256 at 0x7FA26753E400>, 'HobI18-029873239450.jpg'), (<PIL.Image.Image image mode=RGB size=256x256 at 0x7FA26753E470>, 'HobI18-045092912528.jpg'), (<PIL.Image.Image image mode=RGB size=256x256 at 0x7FA26753E4E0>, 'HobI18-069937884593.jpg'), (<PIL.Image.Image image mode=RGB size=256x256 at 0x7FA26753E550>, 'HobI18-092641163539.jpg'), (<PIL.Image.Image image mode=RGB size=256x256 at 0x7FA26753E5C0>, 'HobI18-099794757323.jpg'), (<PIL.Image.Image image mode=RGB size=256x256 at 0x7FA26753E630>, 'HobI18-104537363663.jpg'), (<PIL.Image.Image image mode=RGB size=256x256 at 0x7FA26753E6A0>, 'HobI18-116874549628.jpg'), (<PIL.Image.Image image mode=RGB size=256x256 at 0x7FA26753E710>, 'HobI18-116913530563.jpg'), (<PIL.Image.Image image mode=RGB size=256x256 at 0x7FA26753E780>, 'HobI18-155976821520.jpg'), (<PIL.Image.Image image mode=RGB size=256x256 at 0x7FA26753E7F0>, 'HobI18-156692134456.jpg'), (<PIL.Image.Image image mode=RGB size=256x256 at 0x7FA26753E860>, 'HobI18-160344775131.jpg'), (<PIL.Image.Image image mode=RGB size=256x256 at 0x7FA26753E8D0>, 'HobI18-171355267698.jpg'), (<PIL.Image.Image image mode=RGB size=256x256 at 0x7FA26753E940>, 'HobI18-173605056616.jpg'), (<PIL.Image.Image image mode=RGB size=256x256 at 0x7FA26753E9B0>, 'HobI18-189221870743.jpg'), (<PIL.Image.Image image mode=RGB size=256x256 at 0x7FA26753EA20>, 'HobI18-244929700327.jpg'), (<PIL.Image.Image image mode=RGB size=256x256 at 0x7FA26753EA90>, 'HobI18-246204354838.jpg'), (<PIL.Image.Image image mode=RGB size=256x256 at 0x7FA26753EB00>, 'HobI18-264942777411.jpg'), (<PIL.Image.Image image mode=RGB size=256x256 at 0x7FA26753EB70>, 'HobI18-295854571047.jpg'), (<PIL.Image.Image image mode=RGB size=256x256 at 0x7FA26753EBE0>, 'HobI18-303776291914.jpg'), (<PIL.Image.Image image mode=RGB size=256x256 at 0x7FA26753EC50>, 'HobI18-323369624610.jpg'), (<PIL.Image.Image image mode=RGB size=256x256 at 0x7FA26753ECC0>, 'HobI18-331819024579.jpg'), (<PIL.Image.Image image mode=RGB size=256x256 at 0x7FA26753ED30>, 'HobI18-386778904831.jpg'), (<PIL.Image.Image image mode=RGB size=256x256 at 0x7FA26753EDA0>, 'HobI18-406340937735.jpg'), (<PIL.Image.Image image mode=RGB size=256x256 at 0x7FA26753EE10>, 'HobI18-423802432924.jpg'), (<PIL.Image.Image image mode=RGB size=256x256 at 0x7FA26753EE80>, 'HobI18-494717903184.jpg'), (<PIL.Image.Image image mode=RGB size=256x256 at 0x7FA26753EEF0>, 'HobI18-522858288490.jpg'), (<PIL.Image.Image image mode=RGB size=256x256 at 0x7FA26753EF60>, 'HobI18-559324358086.jpg'), (<PIL.Image.Image image mode=RGB size=256x256 at 0x7FA26753EFD0>, 'HobI18-585178062343.jpg'), (<PIL.Image.Image image mode=RGB size=256x256 at 0x7FA267543080>, 'HobI18-593216593303.jpg'), (<PIL.Image.Image image mode=RGB size=256x256 at 0x7FA2675430F0>, 'HobI18-595961947225.jpg'), (<PIL.Image.Image image mode=RGB size=256x256 at 0x7FA267543160>, 'HobI18-615488176850.jpg'), (<PIL.Image.Image image mode=RGB size=256x256 at 0x7FA2675431D0>, 'HobI18-618697230393.jpg'), (<PIL.Image.Image image mode=RGB size=256x256 at 0x7FA267543240>, 'HobI18-628416694544.jpg'), (<PIL.Image.Image image mode=RGB size=256x256 at 0x7FA2675432B0>, 'HobI18-641230701381.jpg'), (<PIL.Image.Image image mode=RGB size=256x256 at 0x7FA267543320>, 'HobI18-671727960719.jpg'), (<PIL.Image.Image image mode=RGB size=256x256 at 0x7FA267543390>, 'HobI18-685127433264.jpg'), (<PIL.Image.Image image mode=RGB size=256x256 at 0x7FA267543400>, 'HobI18-706116254954.jpg'), (<PIL.Image.Image image mode=RGB size=256x256 at 0x7FA267543470>, 'HobI18-711038761484.jpg'), (<PIL.Image.Image image mode=RGB size=256x256 at 0x7FA2675434E0>, 'HobI18-767451561893.jpg'), (<PIL.Image.Image image mode=RGB size=256x256 at 0x7FA267543550>, 'HobI18-789815111269.jpg'), (<PIL.Image.Image image mode=RGB size=256x256 at 0x7FA2675435C0>, 'HobI18-796881418672.jpg'), (<PIL.Image.Image image mode=RGB size=256x256 at 0x7FA267543630>, 'HobI18-987777882592.jpg')]\n"
          ],
          "name": "stdout"
        }
      ]
    },
    {
      "cell_type": "markdown",
      "metadata": {
        "id": "MefzACxveSzx",
        "colab_type": "text"
      },
      "source": [
        "Because this is in order, the dataframe now contains all of the images!!"
      ]
    },
    {
      "cell_type": "code",
      "metadata": {
        "id": "EdViLkgReV0_",
        "colab_type": "code",
        "colab": {
          "base_uri": "https://localhost:8080/",
          "height": 204
        },
        "outputId": "65c33897-32b7-4b53-84d8-5f76688075c7"
      },
      "source": [
        "df.head()"
      ],
      "execution_count": null,
      "outputs": [
        {
          "output_type": "execute_result",
          "data": {
            "text/html": [
              "<div>\n",
              "<style scoped>\n",
              "    .dataframe tbody tr th:only-of-type {\n",
              "        vertical-align: middle;\n",
              "    }\n",
              "\n",
              "    .dataframe tbody tr th {\n",
              "        vertical-align: top;\n",
              "    }\n",
              "\n",
              "    .dataframe thead th {\n",
              "        text-align: right;\n",
              "    }\n",
              "</style>\n",
              "<table border=\"1\" class=\"dataframe\">\n",
              "  <thead>\n",
              "    <tr style=\"text-align: right;\">\n",
              "      <th></th>\n",
              "      <th>slide</th>\n",
              "      <th>target</th>\n",
              "      <th>imgs</th>\n",
              "    </tr>\n",
              "  </thead>\n",
              "  <tbody>\n",
              "    <tr>\n",
              "      <th>0</th>\n",
              "      <td>HobI16-053768896760.jpg</td>\n",
              "      <td>1</td>\n",
              "      <td>&lt;PIL.Image.Image image mode=RGB size=256x256 a...</td>\n",
              "    </tr>\n",
              "    <tr>\n",
              "      <th>1</th>\n",
              "      <td>HobI16-072823783181.jpg</td>\n",
              "      <td>1</td>\n",
              "      <td>&lt;PIL.Image.Image image mode=RGB size=256x256 a...</td>\n",
              "    </tr>\n",
              "    <tr>\n",
              "      <th>2</th>\n",
              "      <td>HobI16-105105202254.jpg</td>\n",
              "      <td>0</td>\n",
              "      <td>&lt;PIL.Image.Image image mode=RGB size=256x256 a...</td>\n",
              "    </tr>\n",
              "    <tr>\n",
              "      <th>3</th>\n",
              "      <td>HobI16-303757967057.jpg</td>\n",
              "      <td>0</td>\n",
              "      <td>&lt;PIL.Image.Image image mode=RGB size=256x256 a...</td>\n",
              "    </tr>\n",
              "    <tr>\n",
              "      <th>4</th>\n",
              "      <td>HobI16-334188031493.jpg</td>\n",
              "      <td>0</td>\n",
              "      <td>&lt;PIL.Image.Image image mode=RGB size=256x256 a...</td>\n",
              "    </tr>\n",
              "  </tbody>\n",
              "</table>\n",
              "</div>"
            ],
            "text/plain": [
              "                     slide  ...                                               imgs\n",
              "0  HobI16-053768896760.jpg  ...  <PIL.Image.Image image mode=RGB size=256x256 a...\n",
              "1  HobI16-072823783181.jpg  ...  <PIL.Image.Image image mode=RGB size=256x256 a...\n",
              "2  HobI16-105105202254.jpg  ...  <PIL.Image.Image image mode=RGB size=256x256 a...\n",
              "3  HobI16-303757967057.jpg  ...  <PIL.Image.Image image mode=RGB size=256x256 a...\n",
              "4  HobI16-334188031493.jpg  ...  <PIL.Image.Image image mode=RGB size=256x256 a...\n",
              "\n",
              "[5 rows x 3 columns]"
            ]
          },
          "metadata": {
            "tags": []
          },
          "execution_count": 57
        }
      ]
    },
    {
      "cell_type": "markdown",
      "metadata": {
        "id": "h4EUPG3ZeeS_",
        "colab_type": "text"
      },
      "source": [
        "Tada, now we have all the images and labels sorted! \n",
        "\n",
        "We can now do any of the preprocessing we want with the sorted images!"
      ]
    },
    {
      "cell_type": "code",
      "metadata": {
        "id": "GsvP7p6uejnK",
        "colab_type": "code",
        "colab": {
          "base_uri": "https://localhost:8080/",
          "height": 286
        },
        "outputId": "c2dd4e13-81f3-47f9-ff2d-9afc7a94d23b"
      },
      "source": [
        "# Assertion\n",
        "plt.imshow(df['imgs'][0])"
      ],
      "execution_count": null,
      "outputs": [
        {
          "output_type": "execute_result",
          "data": {
            "text/plain": [
              "<matplotlib.image.AxesImage at 0x7fa26741b860>"
            ]
          },
          "metadata": {
            "tags": []
          },
          "execution_count": 58
        },
        {
          "output_type": "display_data",
          "data": {
            "image/png": "[encoded data removed]",
            "text/plain": [
              "<Figure size 432x288 with 1 Axes>"
            ]
          },
          "metadata": {
            "tags": [],
            "needs_background": "light"
          }
        }
      ]
    },
    {
      "cell_type": "markdown",
      "metadata": {
        "colab_type": "text",
        "id": "h6Jr8Kf6w8aB"
      },
      "source": [
        "## Examining Class Imbalance"
      ]
    },
    {
      "cell_type": "code",
      "metadata": {
        "colab_type": "code",
        "id": "1LxHBJOhVt23",
        "colab": {
          "base_uri": "https://localhost:8080/",
          "height": 282
        },
        "outputId": "6f039ee9-55e2-4a1b-e33b-0ab807a954cf"
      },
      "source": [
        "df['target'].hist()"
      ],
      "execution_count": null,
      "outputs": [
        {
          "output_type": "execute_result",
          "data": {
            "text/plain": [
              "<matplotlib.axes._subplots.AxesSubplot at 0x7fa2621ac7f0>"
            ]
          },
          "metadata": {
            "tags": []
          },
          "execution_count": 85
        },
        {
          "output_type": "display_data",
          "data": {
            "image/png": "[encoded data removed]",
            "text/plain": [
              "<Figure size 432x288 with 1 Axes>"
            ]
          },
          "metadata": {
            "tags": [],
            "needs_background": "light"
          }
        }
      ]
    },
    {
      "cell_type": "code",
      "metadata": {
        "colab_type": "code",
        "id": "PWhfCr9QCGVW",
        "colab": {
          "base_uri": "https://localhost:8080/",
          "height": 119
        },
        "outputId": "c7a1848c-a734-40c8-903b-d3b34e1e61de"
      },
      "source": [
        "benign = len(df['target'][df['target'] == 0]) # benign is 0\n",
        "malignant = len(df['target'][df['target'] == 1]) # malignant is 1\n",
        "total = benign + malignant\n",
        "\n",
        "print(f\"Benign Samples: {benign} ({round(benign / total, 3) * 100}% of total)\")\n",
        "print(f\"Malignant Samples: {malignant} ({round(malignant / total, 3) * 100}% of total)\")\n",
        "\n",
        "weight_benign = (1 / benign) * (total) / 2.0\n",
        "weight_malignant = (1 / malignant) * (total) / 2.0\n",
        "\n",
        "class_weights = {0: weight_benign, 1: weight_malignant}\n",
        "\n",
        "print()\n",
        "print(f\"Weight for class 0 [benign]: {round(weight_benign, 3)}\")\n",
        "print(f\"Weight for class 1 [malignant]: {round(weight_malignant, 3)}\")"
      ],
      "execution_count": null,
      "outputs": [
        {
          "output_type": "stream",
          "text": [
            "Benign Samples: 94 (72.3% of total)\n",
            "Malignant Samples: 36 (27.700000000000003% of total)\n",
            "\n",
            "Weight for class 0 [benign]: 0.691\n",
            "Weight for class 1 [malignant]: 1.806\n",
            "{0: 0.6914893617021276, 1: 1.8055555555555554}\n"
          ],
          "name": "stdout"
        }
      ]
    },
    {
      "cell_type": "markdown",
      "metadata": {
        "id": "pqMWYSoduPZQ",
        "colab_type": "text"
      },
      "source": [
        "Now, we can shuffle and split the data using `train_test_split` from scikit-learn"
      ]
    },
    {
      "cell_type": "code",
      "metadata": {
        "colab_type": "code",
        "id": "OmZE2FGZpU-9",
        "colab": {
          "base_uri": "https://localhost:8080/",
          "height": 238
        },
        "outputId": "ed544a6e-a548-4e83-ada4-068fd365296b"
      },
      "source": [
        "xi_train, xi_test, y_train, y_test = train_test_split(df['imgs'], \n",
        "                                                    df['target'], random_state=42, stratify=df['target'])\n",
        "\n",
        "print(xi_train.shape, xi_test.shape)\n",
        "\n",
        "print(xi_train.head())\n",
        "print(y_train.head())"
      ],
      "execution_count": null,
      "outputs": [
        {
          "output_type": "stream",
          "text": [
            "(97,) (33,)\n",
            "78    <PIL.Image.Image image mode=RGB size=256x256 a...\n",
            "21    <PIL.Image.Image image mode=RGB size=256x256 a...\n",
            "6     <PIL.Image.Image image mode=RGB size=256x256 a...\n",
            "36    <PIL.Image.Image image mode=RGB size=256x256 a...\n",
            "49    <PIL.Image.Image image mode=RGB size=256x256 a...\n",
            "Name: imgs, dtype: object\n",
            "78    1\n",
            "21    0\n",
            "6     0\n",
            "36    0\n",
            "49    0\n",
            "Name: target, dtype: int64\n"
          ],
          "name": "stdout"
        }
      ]
    },
    {
      "cell_type": "markdown",
      "metadata": {
        "colab_type": "text",
        "id": "a5-btGY8rpox"
      },
      "source": [
        "# Preprocessing the Data"
      ]
    },
    {
      "cell_type": "code",
      "metadata": {
        "colab_type": "code",
        "id": "iGyhmazLz6j2",
        "colab": {}
      },
      "source": [
        "def normalize_data(x_train, x_test):\n",
        "  \"\"\" Normalizes the data by dividing by subtracting the mean \n",
        "      and dividing by the standard deviation. Akin to scikit-learn's\n",
        "      StandardScaler.\"\"\"\n",
        "  mean_train, mean_test = np.mean(x_train), np.mean(x_test)\n",
        "  std_train, std_test = np.std(x_train), np.std(x_test)\n",
        "  return ((x_train - mean_train) / std_train, (x_test - mean_test) / std_test)\n",
        "  "
      ],
      "execution_count": null,
      "outputs": []
    },
    {
      "cell_type": "markdown",
      "metadata": {
        "id": "lifSC3EUvsWu",
        "colab_type": "text"
      },
      "source": [
        "Before we apply preprocessing to the data, we need to transform all of the PIL images into arrays of pixel intensities."
      ]
    },
    {
      "cell_type": "code",
      "metadata": {
        "id": "H6UFNqU9vyc5",
        "colab_type": "code",
        "colab": {
          "base_uri": "https://localhost:8080/",
          "height": 1000
        },
        "outputId": "6338bb2c-8dce-4695-88d2-b2127db0387b"
      },
      "source": [
        "x_train = xi_train.map(img_to_array).values\n",
        "x_test = xi_test.map(img_to_array).values\n",
        "\n",
        "print(f\"X TRAIN: {x_train[0]} \\n\\n\")\n",
        "print(f\"Y TRAIN: {x_test[0]}\")"
      ],
      "execution_count": null,
      "outputs": [
        {
          "output_type": "stream",
          "text": [
            "X TRAIN: [[[242. 242. 243.]\n",
            "  [242. 242. 243.]\n",
            "  [242. 242. 243.]\n",
            "  ...\n",
            "  [241. 240. 241.]\n",
            "  [241. 240. 241.]\n",
            "  [241. 240. 241.]]\n",
            "\n",
            " [[242. 242. 243.]\n",
            "  [242. 242. 243.]\n",
            "  [242. 242. 243.]\n",
            "  ...\n",
            "  [241. 240. 241.]\n",
            "  [241. 240. 241.]\n",
            "  [241. 240. 241.]]\n",
            "\n",
            " [[242. 242. 243.]\n",
            "  [242. 242. 243.]\n",
            "  [242. 242. 243.]\n",
            "  ...\n",
            "  [241. 240. 241.]\n",
            "  [241. 240. 241.]\n",
            "  [241. 240. 241.]]\n",
            "\n",
            " ...\n",
            "\n",
            " [[242. 242. 242.]\n",
            "  [242. 242. 242.]\n",
            "  [242. 242. 242.]\n",
            "  ...\n",
            "  [237. 237. 238.]\n",
            "  [237. 237. 238.]\n",
            "  [237. 237. 238.]]\n",
            "\n",
            " [[242. 242. 242.]\n",
            "  [242. 242. 242.]\n",
            "  [242. 242. 242.]\n",
            "  ...\n",
            "  [237. 237. 238.]\n",
            "  [237. 237. 238.]\n",
            "  [237. 237. 238.]]\n",
            "\n",
            " [[242. 242. 242.]\n",
            "  [242. 242. 242.]\n",
            "  [242. 242. 242.]\n",
            "  ...\n",
            "  [237. 237. 238.]\n",
            "  [237. 237. 238.]\n",
            "  [237. 237. 238.]]] \n",
            "\n",
            "\n",
            "Y TRAIN: [[[243. 243. 243.]\n",
            "  [243. 243. 243.]\n",
            "  [243. 243. 243.]\n",
            "  ...\n",
            "  [241. 241. 242.]\n",
            "  [241. 241. 242.]\n",
            "  [241. 241. 242.]]\n",
            "\n",
            " [[243. 243. 243.]\n",
            "  [243. 243. 243.]\n",
            "  [243. 243. 243.]\n",
            "  ...\n",
            "  [241. 241. 242.]\n",
            "  [241. 241. 242.]\n",
            "  [241. 241. 242.]]\n",
            "\n",
            " [[243. 243. 243.]\n",
            "  [243. 243. 243.]\n",
            "  [243. 243. 243.]\n",
            "  ...\n",
            "  [241. 241. 242.]\n",
            "  [241. 241. 242.]\n",
            "  [241. 241. 242.]]\n",
            "\n",
            " ...\n",
            "\n",
            " [[243. 243. 243.]\n",
            "  [243. 243. 243.]\n",
            "  [243. 243. 243.]\n",
            "  ...\n",
            "  [243. 242. 243.]\n",
            "  [243. 242. 243.]\n",
            "  [243. 242. 243.]]\n",
            "\n",
            " [[243. 243. 243.]\n",
            "  [243. 243. 243.]\n",
            "  [243. 243. 243.]\n",
            "  ...\n",
            "  [243. 242. 243.]\n",
            "  [243. 242. 243.]\n",
            "  [243. 242. 243.]]\n",
            "\n",
            " [[243. 243. 243.]\n",
            "  [243. 243. 243.]\n",
            "  [243. 243. 243.]\n",
            "  ...\n",
            "  [243. 242. 243.]\n",
            "  [243. 242. 243.]\n",
            "  [243. 242. 243.]]]\n"
          ],
          "name": "stdout"
        }
      ]
    },
    {
      "cell_type": "code",
      "metadata": {
        "id": "prVhssrHvrj-",
        "colab_type": "code",
        "colab": {}
      },
      "source": [
        ""
      ],
      "execution_count": null,
      "outputs": []
    },
    {
      "cell_type": "markdown",
      "metadata": {
        "colab_type": "text",
        "id": "lYkUvDWdihFI"
      },
      "source": [
        "And now, we prepare the data for preprocessing!"
      ]
    },
    {
      "cell_type": "code",
      "metadata": {
        "colab_type": "code",
        "id": "zWOYGbHqsnJz",
        "colab": {
          "base_uri": "https://localhost:8080/",
          "height": 1000
        },
        "outputId": "8e05bf1d-6350-4d26-c2dd-c6649d025d27"
      },
      "source": [
        "# ONLY FOR BREAST CANCER SLIDES\n",
        "NUM_CLASSES = 1\n",
        "BATCH_SIZE = 32\n",
        "\n",
        "x_train = x_train.astype(\"float32\")\n",
        "x_test = x_test.astype(\"float32\")\n",
        "# y_train = y_train.astype(\"int32\")\n",
        "# y_test = y_test.astype(\"int32\")\n",
        "x_train, x_test = normalize_data(x_train, x_test)\n",
        "\n",
        "# Preprocessing the image dataset by artificially increasing the training data size\n",
        "# via rescaling, shifting, flipping and rotating the dataset.\n",
        "data_gen = tf.keras.preprocessing.image.ImageDataGenerator(\n",
        "    featurewise_center=False,\n",
        "    samplewise_center=False,\n",
        "    rotation_range=180,\n",
        "    featurewise_std_normalization=False,\n",
        "    samplewise_std_normalization=False,\n",
        "    fill_mode=\"constant\",\n",
        "    width_shift_range=.5,\n",
        "    height_shift_range=.5,\n",
        "    horizontal_flip=True,\n",
        "    vertical_flip=True)\n",
        "\n",
        "data_gen.fit(x_train)"
      ],
      "execution_count": null,
      "outputs": [
        {
          "output_type": "stream",
          "text": [
            "[[[[ 0.21486971  0.24909402  0.6597859 ]\n",
            "   [ 0.24909402  0.24909402  0.6597859 ]\n",
            "   [ 0.21486971  0.24909402  0.6597859 ]\n",
            "   ...\n",
            "   [ 0.18064538  0.18064538  0.6597859 ]\n",
            "   [ 0.18064538  0.18064538  0.6597859 ]\n",
            "   [ 0.18064538  0.18064538  0.6597859 ]]\n",
            "\n",
            "  [[ 0.24909402  0.24909402  0.6597859 ]\n",
            "   [ 0.24909402  0.24909402  0.6597859 ]\n",
            "   [ 0.24909402  0.24909402  0.6597859 ]\n",
            "   ...\n",
            "   [ 0.21486971  0.21486971  0.6597859 ]\n",
            "   [ 0.21486971  0.21486971  0.6597859 ]\n",
            "   [ 0.18064538  0.18064538  0.6597859 ]]\n",
            "\n",
            "  [[ 0.24909402  0.24909402  0.6597859 ]\n",
            "   [ 0.24909402  0.24909402  0.6597859 ]\n",
            "   [ 0.28331834  0.24909402  0.6597859 ]\n",
            "   ...\n",
            "   [ 0.21486971  0.21486971  0.6597859 ]\n",
            "   [ 0.18064538  0.21486971  0.6597859 ]\n",
            "   [ 0.18064538  0.18064538  0.6597859 ]]\n",
            "\n",
            "  ...\n",
            "\n",
            "  [[ 0.24909402  0.21486971  0.6597859 ]\n",
            "   [ 0.24909402  0.21486971  0.6597859 ]\n",
            "   [ 0.21486971  0.21486971  0.6597859 ]\n",
            "   ...\n",
            "   [ 0.11219673  0.14642106  0.6597859 ]\n",
            "   [ 0.11219673  0.11219673  0.6597859 ]\n",
            "   [ 0.11219673  0.11219673  0.6597859 ]]\n",
            "\n",
            "  [[ 0.21486971  0.21486971  0.6597859 ]\n",
            "   [ 0.21486971  0.21486971  0.6597859 ]\n",
            "   [ 0.21486971  0.21486971  0.6597859 ]\n",
            "   ...\n",
            "   [ 0.14642106  0.14642106  0.6597859 ]\n",
            "   [ 0.14642106  0.14642106  0.6597859 ]\n",
            "   [ 0.0779724   0.11219673  0.6597859 ]]\n",
            "\n",
            "  [[ 0.21486971  0.21486971  0.6597859 ]\n",
            "   [ 0.21486971  0.21486971  0.6597859 ]\n",
            "   [ 0.21486971  0.21486971  0.6597859 ]\n",
            "   ...\n",
            "   [ 0.14642106  0.14642106  0.6597859 ]\n",
            "   [ 0.11219673  0.14642106  0.6597859 ]\n",
            "   [ 0.04374808  0.0779724   0.6597859 ]]]\n",
            "\n",
            "\n",
            " [[[ 0.24909402  0.24909402  0.6597859 ]\n",
            "   [ 0.21486971  0.21486971  0.6597859 ]\n",
            "   [ 0.24909402  0.24909402  0.6597859 ]\n",
            "   ...\n",
            "   [ 0.24909402  0.24909402  0.6597859 ]\n",
            "   [ 0.24909402  0.24909402  0.6597859 ]\n",
            "   [ 0.24909402  0.24909402  0.6597859 ]]\n",
            "\n",
            "  [[ 0.21486971  0.21486971  0.6597859 ]\n",
            "   [ 0.24909402  0.24909402  0.6597859 ]\n",
            "   [ 0.21486971  0.21486971  0.6597859 ]\n",
            "   ...\n",
            "   [ 0.24909402  0.24909402  0.6597859 ]\n",
            "   [ 0.24909402  0.24909402  0.6597859 ]\n",
            "   [ 0.24909402  0.24909402  0.6597859 ]]\n",
            "\n",
            "  [[ 0.24909402  0.24909402  0.6597859 ]\n",
            "   [ 0.24909402  0.24909402  0.6597859 ]\n",
            "   [ 0.24909402  0.24909402  0.6597859 ]\n",
            "   ...\n",
            "   [ 0.24909402  0.24909402  0.6597859 ]\n",
            "   [ 0.24909402  0.24909402  0.6597859 ]\n",
            "   [ 0.24909402  0.24909402  0.6597859 ]]\n",
            "\n",
            "  ...\n",
            "\n",
            "  [[ 0.18064538  0.18064538  0.6597859 ]\n",
            "   [ 0.18064538  0.18064538  0.6597859 ]\n",
            "   [ 0.18064538  0.18064538  0.6597859 ]\n",
            "   ...\n",
            "   [ 0.18064538  0.18064538  0.6597859 ]\n",
            "   [ 0.18064538  0.18064538  0.6597859 ]\n",
            "   [ 0.14642106  0.14642106  0.6597859 ]]\n",
            "\n",
            "  [[ 0.5228886   0.5228886   0.6597859 ]\n",
            "   [ 0.5228886   0.5228886   0.6597859 ]\n",
            "   [ 0.5228886   0.5228886   0.6597859 ]\n",
            "   ...\n",
            "   [ 0.59133726  0.55711293  0.6597859 ]\n",
            "   [ 0.55711293  0.55711293  0.6597859 ]\n",
            "   [ 0.38599133  0.351767    0.6597859 ]]\n",
            "\n",
            "  [[-2.1123843  -2.07816     0.6597859 ]\n",
            "   [-2.180833   -2.1466086   0.6597859 ]\n",
            "   [-2.2150574  -2.180833    0.6597859 ]\n",
            "   ...\n",
            "   [-3.1391141  -3.1048896   0.6597859 ]\n",
            "   [-3.1733384  -3.1391141   0.6597859 ]\n",
            "   [-3.1391141  -3.1048896   0.6597859 ]]]\n",
            "\n",
            "\n",
            " [[[ 0.28331834  0.28331834  0.6597859 ]\n",
            "   [ 0.28331834  0.28331834  0.6597859 ]\n",
            "   [ 0.28331834  0.28331834  0.6597859 ]\n",
            "   ...\n",
            "   [ 0.21486971  0.21486971  0.6597859 ]\n",
            "   [ 0.18064538  0.21486971  0.6597859 ]\n",
            "   [ 0.18064538  0.21486971  0.6597859 ]]\n",
            "\n",
            "  [[ 0.28331834  0.28331834  0.6597859 ]\n",
            "   [ 0.28331834  0.28331834  0.6597859 ]\n",
            "   [ 0.28331834  0.28331834  0.6597859 ]\n",
            "   ...\n",
            "   [ 0.24909402  0.24909402  0.6597859 ]\n",
            "   [ 0.24909402  0.24909402  0.6597859 ]\n",
            "   [ 0.21486971  0.24909402  0.6597859 ]]\n",
            "\n",
            "  [[ 0.28331834  0.28331834  0.6597859 ]\n",
            "   [ 0.28331834  0.28331834  0.6597859 ]\n",
            "   [ 0.31754267  0.31754267  0.6597859 ]\n",
            "   ...\n",
            "   [ 0.24909402  0.24909402  0.6597859 ]\n",
            "   [ 0.24909402  0.24909402  0.6597859 ]\n",
            "   [ 0.24909402  0.24909402  0.6597859 ]]\n",
            "\n",
            "  ...\n",
            "\n",
            "  [[ 0.28331834  0.28331834  0.6597859 ]\n",
            "   [ 0.28331834  0.24909402  0.6597859 ]\n",
            "   [ 0.24909402  0.24909402  0.6597859 ]\n",
            "   ...\n",
            "   [ 0.21486971  0.21486971  0.6597859 ]\n",
            "   [ 0.21486971  0.21486971  0.6597859 ]\n",
            "   [ 0.18064538  0.18064538  0.6597859 ]]\n",
            "\n",
            "  [[ 0.28331834  0.28331834  0.6597859 ]\n",
            "   [ 0.28331834  0.24909402  0.6597859 ]\n",
            "   [ 0.24909402  0.24909402  0.6597859 ]\n",
            "   ...\n",
            "   [ 0.21486971  0.21486971  0.6597859 ]\n",
            "   [ 0.21486971  0.21486971  0.6597859 ]\n",
            "   [ 0.14642106  0.14642106  0.6597859 ]]\n",
            "\n",
            "  [[ 0.24909402  0.24909402  0.6597859 ]\n",
            "   [ 0.24909402  0.24909402  0.6597859 ]\n",
            "   [ 0.24909402  0.24909402  0.6597859 ]\n",
            "   ...\n",
            "   [ 0.21486971  0.21486971  0.6597859 ]\n",
            "   [ 0.21486971  0.21486971  0.6597859 ]\n",
            "   [ 0.18064538  0.18064538  0.6597859 ]]]\n",
            "\n",
            "\n",
            " ...\n",
            "\n",
            "\n",
            " [[[ 0.24909402  0.24909402  0.6597859 ]\n",
            "   [ 0.24909402  0.24909402  0.6597859 ]\n",
            "   [ 0.24909402  0.24909402  0.6597859 ]\n",
            "   ...\n",
            "   [ 0.24909402  0.24909402  0.6597859 ]\n",
            "   [ 0.14642106  0.14642106  0.6597859 ]\n",
            "   [ 0.04374808  0.04374808  0.6597859 ]]\n",
            "\n",
            "  [[ 0.24909402  0.24909402  0.6597859 ]\n",
            "   [ 0.24909402  0.24909402  0.6597859 ]\n",
            "   [ 0.24909402  0.24909402  0.6597859 ]\n",
            "   ...\n",
            "   [ 0.24909402  0.24909402  0.6597859 ]\n",
            "   [ 0.18064538  0.18064538  0.6597859 ]\n",
            "   [ 0.24909402  0.24909402  0.6597859 ]]\n",
            "\n",
            "  [[ 0.24909402  0.24909402  0.6597859 ]\n",
            "   [ 0.24909402  0.24909402  0.6597859 ]\n",
            "   [ 0.24909402  0.24909402  0.6597859 ]\n",
            "   ...\n",
            "   [ 0.24909402  0.24909402  0.6597859 ]\n",
            "   [ 0.21486971  0.21486971  0.6597859 ]\n",
            "   [ 0.24909402  0.21486971  0.6597859 ]]\n",
            "\n",
            "  ...\n",
            "\n",
            "  [[ 0.24909402  0.24909402  0.6597859 ]\n",
            "   [ 0.28331834  0.28331834  0.6597859 ]\n",
            "   [ 0.28331834  0.28331834  0.6597859 ]\n",
            "   ...\n",
            "   [ 0.24909402  0.24909402  0.6597859 ]\n",
            "   [ 0.24909402  0.24909402  0.6597859 ]\n",
            "   [ 0.24909402  0.24909402  0.6597859 ]]\n",
            "\n",
            "  [[ 0.28331834  0.28331834  0.6597859 ]\n",
            "   [ 0.28331834  0.28331834  0.6597859 ]\n",
            "   [ 0.28331834  0.28331834  0.6597859 ]\n",
            "   ...\n",
            "   [ 0.24909402  0.24909402  0.6597859 ]\n",
            "   [ 0.24909402  0.24909402  0.6597859 ]\n",
            "   [ 0.24909402  0.24909402  0.6597859 ]]\n",
            "\n",
            "  [[ 0.28331834  0.28331834  0.6597859 ]\n",
            "   [ 0.24909402  0.24909402  0.6597859 ]\n",
            "   [ 0.28331834  0.28331834  0.6597859 ]\n",
            "   ...\n",
            "   [ 0.24909402  0.24909402  0.6597859 ]\n",
            "   [ 0.24909402  0.24909402  0.6597859 ]\n",
            "   [ 0.24909402  0.24909402  0.6597859 ]]]\n",
            "\n",
            "\n",
            " [[[ 0.28331834  0.24909402  0.6597859 ]\n",
            "   [ 0.28331834  0.24909402  0.6597859 ]\n",
            "   [ 0.28331834  0.24909402  0.6597859 ]\n",
            "   ...\n",
            "   [ 0.28331834  0.28331834  0.6597859 ]\n",
            "   [ 0.04374808  0.0779724   0.6597859 ]\n",
            "   [-0.12737353 -0.09314921  0.6597859 ]]\n",
            "\n",
            "  [[ 0.28331834  0.24909402  0.6597859 ]\n",
            "   [ 0.28331834  0.24909402  0.6597859 ]\n",
            "   [ 0.28331834  0.28331834  0.6597859 ]\n",
            "   ...\n",
            "   [ 0.28331834  0.28331834  0.6597859 ]\n",
            "   [ 0.0779724   0.11219673  0.6597859 ]\n",
            "   [-0.12737353 -0.12737353  0.6597859 ]]\n",
            "\n",
            "  [[ 0.28331834  0.28331834  0.6597859 ]\n",
            "   [ 0.28331834  0.28331834  0.6597859 ]\n",
            "   [ 0.28331834  0.28331834  0.6597859 ]\n",
            "   ...\n",
            "   [ 0.24909402  0.28331834  0.6597859 ]\n",
            "   [ 0.0779724   0.0779724   0.6597859 ]\n",
            "   [-0.12737353 -0.09314921  0.6597859 ]]\n",
            "\n",
            "  ...\n",
            "\n",
            "  [[ 0.28331834  0.28331834  0.6597859 ]\n",
            "   [ 0.28331834  0.28331834  0.6597859 ]\n",
            "   [ 0.28331834  0.28331834  0.6597859 ]\n",
            "   ...\n",
            "   [ 0.24909402  0.24909402  0.6597859 ]\n",
            "   [ 0.14642106  0.14642106  0.6597859 ]\n",
            "   [ 0.00952376  0.04374808  0.6597859 ]]\n",
            "\n",
            "  [[ 0.28331834  0.28331834  0.6597859 ]\n",
            "   [ 0.28331834  0.28331834  0.6597859 ]\n",
            "   [ 0.28331834  0.28331834  0.6597859 ]\n",
            "   ...\n",
            "   [ 0.24909402  0.24909402  0.6597859 ]\n",
            "   [ 0.14642106  0.14642106  0.6597859 ]\n",
            "   [ 0.00952376  0.00952376  0.6597859 ]]\n",
            "\n",
            "  [[ 0.28331834  0.28331834  0.6597859 ]\n",
            "   [ 0.28331834  0.28331834  0.6597859 ]\n",
            "   [ 0.28331834  0.28331834  0.6597859 ]\n",
            "   ...\n",
            "   [ 0.21486971  0.21486971  0.6597859 ]\n",
            "   [ 0.11219673  0.11219673  0.6597859 ]\n",
            "   [ 0.00952376  0.04374808  0.6597859 ]]]\n",
            "\n",
            "\n",
            " [[[ 0.28331834  0.28331834  0.6597859 ]\n",
            "   [ 0.28331834  0.28331834  0.6597859 ]\n",
            "   [ 0.28331834  0.28331834  0.6597859 ]\n",
            "   ...\n",
            "   [ 0.24909402  0.24909402  0.6597859 ]\n",
            "   [ 0.24909402  0.24909402  0.6597859 ]\n",
            "   [ 0.24909402  0.24909402  0.6597859 ]]\n",
            "\n",
            "  [[ 0.28331834  0.28331834  0.6597859 ]\n",
            "   [ 0.28331834  0.28331834  0.6597859 ]\n",
            "   [ 0.24909402  0.24909402  0.6597859 ]\n",
            "   ...\n",
            "   [ 0.24909402  0.24909402  0.6597859 ]\n",
            "   [ 0.24909402  0.24909402  0.6597859 ]\n",
            "   [ 0.24909402  0.24909402  0.6597859 ]]\n",
            "\n",
            "  [[ 0.28331834  0.28331834  0.6597859 ]\n",
            "   [ 0.28331834  0.28331834  0.6597859 ]\n",
            "   [ 0.24909402  0.24909402  0.6597859 ]\n",
            "   ...\n",
            "   [ 0.24909402  0.24909402  0.6597859 ]\n",
            "   [ 0.24909402  0.24909402  0.6597859 ]\n",
            "   [ 0.24909402  0.24909402  0.6597859 ]]\n",
            "\n",
            "  ...\n",
            "\n",
            "  [[ 0.28331834  0.28331834  0.6597859 ]\n",
            "   [ 0.28331834  0.28331834  0.6597859 ]\n",
            "   [ 0.28331834  0.28331834  0.6597859 ]\n",
            "   ...\n",
            "   [ 0.28331834  0.24909402  0.6597859 ]\n",
            "   [ 0.24909402  0.24909402  0.6597859 ]\n",
            "   [ 0.28331834  0.24909402  0.6597859 ]]\n",
            "\n",
            "  [[ 0.28331834  0.28331834  0.6597859 ]\n",
            "   [ 0.28331834  0.28331834  0.6597859 ]\n",
            "   [ 0.28331834  0.28331834  0.6597859 ]\n",
            "   ...\n",
            "   [ 0.28331834  0.24909402  0.6597859 ]\n",
            "   [ 0.28331834  0.24909402  0.6597859 ]\n",
            "   [ 0.24909402  0.24909402  0.6597859 ]]\n",
            "\n",
            "  [[ 0.28331834  0.28331834  0.6597859 ]\n",
            "   [ 0.28331834  0.28331834  0.6597859 ]\n",
            "   [ 0.28331834  0.28331834  0.6597859 ]\n",
            "   ...\n",
            "   [ 0.24909402  0.24909402  0.6597859 ]\n",
            "   [ 0.28331834  0.24909402  0.6597859 ]\n",
            "   [ 0.24909402  0.24909402  0.6597859 ]]]] (104, 32, 32, 3) 36     0\n",
            "39     1\n",
            "88     0\n",
            "56     0\n",
            "50     0\n",
            "      ..\n",
            "92     1\n",
            "2      0\n",
            "51     0\n",
            "72     0\n",
            "108    1\n",
            "Name: target, Length: 104, dtype: int32 (104,)\n"
          ],
          "name": "stdout"
        }
      ]
    },
    {
      "cell_type": "markdown",
      "metadata": {
        "colab_type": "text",
        "id": "0dAfCyApD7Ru"
      },
      "source": [
        "# Building The Model\n",
        "The models were built by using a combination of methods from the Inceptionv3 model and the VGGNet models that are on Github. The layers used are given in the imports in the first code cell."
      ]
    },
    {
      "cell_type": "code",
      "metadata": {
        "colab_type": "code",
        "id": "tv_WPpaHGCAM",
        "colab": {}
      },
      "source": [
        "def cancer_tunable(hp):\n",
        "    model = tf.keras.models.Sequential()\n",
        "\n",
        "    reg_factor = hp.Choice('regularization', [1e-5, 1e-6, 1e-7])\n",
        "    default_filter = 64\n",
        "    NUM_CLASSES = 1\n",
        "\n",
        "  if output_bias is not None:\n",
        "      output_bias = tf.keras.initializers.Constant(output_bias)\n",
        "      # Layer 1\n",
        "    model.add(tf.keras.layers.Conv2D(hp.Int(f'filter1', min_value=16, \n",
        "                                            max_value=256, step=16), (3, 3), \n",
        "                                      kernel_initializer=tf.keras.initializers.he_normal(), \n",
        "                                    input_shape=(32, 32, 3),\n",
        "    padding=\"same\", kernel_regularizer=tf.keras.regularizers.l2(reg_factor)))\n",
        "    model.add(tf.keras.layers.BatchNormalization())\n",
        "    model.add(tf.keras.layers.LeakyReLU())\n",
        "    model.add(tf.keras.layers.Conv2D(hp.Int(f'filter-2', min_value=16, \n",
        "                                            max_value=256, step=16), (1, 3), padding=\"same\", \n",
        "                                      kernel_regularizer=tf.keras.regularizers.l2(reg_factor)))\n",
        "    model.add(tf.keras.layers.BatchNormalization())\n",
        "    model.add(tf.keras.layers.LeakyReLU())\n",
        "    model.add(tf.keras.layers.MaxPooling2D(2, 2))\n",
        "\n",
        "      # Layer 2\n",
        "    model.add(tf.keras.layers.Conv2D(hp.Int(f'filter-3', min_value=16, \n",
        "                                            max_value=256, step=16), (3, 1), padding=\"same\", kernel_regularizer=tf.keras.regularizers.l2(reg_factor)))\n",
        "    model.add(tf.keras.layers.BatchNormalization())\n",
        "    model.add(tf.keras.layers.LeakyReLU())\n",
        "    model.add(tf.keras.layers.Conv2D(hp.Int(f'filter-4', min_value=16, \n",
        "                                            max_value=256, step=16), 1, padding=\"same\", kernel_regularizer=tf.keras.regularizers.l2(reg_factor)))\n",
        "    model.add(tf.keras.layers.BatchNormalization())\n",
        "    model.add(tf.keras.layers.LeakyReLU())\n",
        "\n",
        "\n",
        "    model.add(tf.keras.layers.Conv2D(hp.Int(f'filter-4b', min_value=16, \n",
        "                                            max_value=256, step=16), (1, 3), padding=\"same\", kernel_regularizer=tf.keras.regularizers.l2(reg_factor)))\n",
        "    model.add(tf.keras.layers.BatchNormalization())\n",
        "    model.add(tf.keras.layers.LeakyReLU())\n",
        "\n",
        "    model.add(tf.keras.layers.MaxPooling2D(2, 2))\n",
        "    model.add(tf.keras.layers.Dropout(hp.Float('dropout_val-1', min_value=0.2, max_value=0.45, step=0.05)))\n",
        "\n",
        "    # Layer 3\n",
        "    model.add(tf.keras.layers.Conv2D(hp.Int(f'filter-5', min_value=16, \n",
        "                                            max_value=256, step=16), (3, 1), padding=\"same\", kernel_regularizer=tf.keras.regularizers.l2(reg_factor)))\n",
        "    model.add(tf.keras.layers.BatchNormalization())\n",
        "    model.add(tf.keras.layers.LeakyReLU())\n",
        "    model.add(tf.keras.layers.Conv2D(hp.Int(f'filter-6', min_value=16, \n",
        "                                            max_value=256, step=16), (1, 3), padding=\"same\", kernel_regularizer=tf.keras.regularizers.l2(reg_factor)))\n",
        "    model.add(tf.keras.layers.BatchNormalization())\n",
        "    model.add(tf.keras.layers.LeakyReLU())\n",
        "\n",
        "    model.add(tf.keras.layers.MaxPooling2D(2, 2))\n",
        "\n",
        "    # Layer 4\n",
        "    model.add(tf.keras.layers.Conv2D(hp.Int(f'filter-7', min_value=16, \n",
        "                                            max_value=256, step=16), (3, 1), padding=\"same\", kernel_regularizer=tf.keras.regularizers.l2(reg_factor)))\n",
        "    model.add(tf.keras.layers.BatchNormalization())\n",
        "    model.add(tf.keras.layers.LeakyReLU())\n",
        "    model.add(tf.keras.layers.Conv2D(hp.Int(f'filter-8', min_value=16, \n",
        "                                            max_value=256, step=16), (1, 3), padding=\"same\", kernel_regularizer=tf.keras.regularizers.l2(reg_factor)))\n",
        "    model.add(tf.keras.layers.BatchNormalization())\n",
        "    model.add(tf.keras.layers.LeakyReLU())\n",
        "    model.add(tf.keras.layers.MaxPooling2D(2, 2))\n",
        "\n",
        "\n",
        "    # Layer 5\n",
        "    model.add(tf.keras.layers.Conv2D(hp.Int(f'filter-9', min_value=16, \n",
        "                                            max_value=256, step=16), (3, 1), padding=\"same\", kernel_regularizer=tf.keras.regularizers.l2(reg_factor)))\n",
        "    model.add(tf.keras.layers.BatchNormalization())\n",
        "    model.add(tf.keras.layers.LeakyReLU())\n",
        "\n",
        "    model.add(tf.keras.layers.Conv2D(hp.Int(f'filter-10', min_value=16, \n",
        "                                            max_value=256, step=16), (1, 3), padding=\"same\", kernel_regularizer=tf.keras.regularizers.l2(reg_factor)))\n",
        "    model.add(tf.keras.layers.BatchNormalization())\n",
        "    model.add(tf.keras.layers.LeakyReLU())\n",
        "\n",
        "\n",
        "    model.add(tf.keras.layers.MaxPooling2D(1, 1))\n",
        "    model.add(tf.keras.layers.Dropout(hp.Float('dropout_val-2', min_value=0.2, max_value=0.49, step=0.05)))\n",
        "\n",
        "\n",
        "    # END OF CONVOLUTIONS - HERE LIES DENSE FLATTENING!\n",
        "\n",
        "    model.add(tf.keras.layers.Flatten())\n",
        "    model.add(tf.keras.layers.Dense(hp.Int(f'dense-1', min_value=16, \n",
        "                                            max_value=256, step=16) * 24, kernel_regularizer=tf.keras.regularizers.l2(reg_factor)))\n",
        "    model.add(tf.keras.layers.LeakyReLU())\n",
        "    model.add(tf.keras.layers.BatchNormalization())\n",
        "\n",
        "    model.add(tf.keras.layers.Dense(hp.Int(f'dense-2', min_value=16, \n",
        "                                            max_value=256, step=16) * 24, kernel_regularizer=tf.keras.regularizers.l2(reg_factor)))\n",
        "    model.add(tf.keras.layers.LeakyReLU())\n",
        "    model.add(tf.keras.layers.BatchNormalization())\n",
        "\n",
        "    model.add(tf.keras.layers.Dropout(0.2))\n",
        "    model.add(tf.keras.layers.Dense(NUM_CLASSES, bias_initializer=output_bias))\n",
        "    model.add(tf.keras.layers.Activation('sigmoid'))\n",
        "\n",
        "    optimizer = SGD(lr=hp.Choice('lr', [1e-5, 1e-3, 5e-4]), momentum=0.9, nesterov=True)\n",
        "\n",
        "\n",
        "  # COMPILING THE MODEL!\n",
        "    model.compile(optimizer=optimizer,\n",
        "             loss='binary_crossentropy',\n",
        "             metrics='AUC')\n",
        "             #metrics=[tf.keras.metrics.Accuracy(), tf.keras.metrics.Precision(), tf.keras.metrics.Recall()])\n",
        "\n",
        "    return model"
      ],
      "execution_count": null,
      "outputs": []
    },
    {
      "cell_type": "code",
      "metadata": {
        "colab_type": "code",
        "id": "icHt9CTpIVDP",
        "colab": {}
      },
      "source": [
        "model.summary()"
      ],
      "execution_count": null,
      "outputs": []
    },
    {
      "cell_type": "markdown",
      "metadata": {
        "colab_type": "text",
        "id": "6ys0BJ8rF-xp"
      },
      "source": [
        "## Getting The Best Hyperparameters"
      ]
    },
    {
      "cell_type": "markdown",
      "metadata": {
        "colab_type": "text",
        "id": "KQ1JobVNKnHG"
      },
      "source": [
        "In this block, we are going to create a hyperparameter tuner with the help of **keras-tuner** to find the best hyperparameters for this problem. The second code block is how you can tune how often the tuner runs."
      ]
    },
    {
      "cell_type": "markdown",
      "metadata": {
        "colab_type": "text",
        "id": "-6CTzU2ULaxk"
      },
      "source": [
        "Why is there an output bias with a natural log factor? See [this](https://www.tensorflow.org/tutorials/structured_data/imbalanced_data#optional_set_the_correct_initial_bias) link for more info."
      ]
    },
    {
      "cell_type": "code",
      "metadata": {
        "colab_type": "code",
        "id": "UYEl_pFuGEyl",
        "colab": {}
      },
      "source": [
        "output_bias = np.log([len(yes) / len(no)])\n",
        "print(output_bias)\n",
        "\n",
        "hp = HyperParameters()\n",
        "model = cancer_tunable(hp, output_bias)"
      ],
      "execution_count": null,
      "outputs": []
    },
    {
      "cell_type": "code",
      "metadata": {
        "colab_type": "code",
        "id": "R3hcTGeIIl7p",
        "colab": {}
      },
      "source": [
        "tuner = RandomSearch(\n",
        "    cancer_tunable,\n",
        "    objective='val_auc',\n",
        "    max_trials=5,\n",
        "    executions_per_trial=3,\n",
        "    directory='test_dir'\n",
        ")\n",
        "tuner.search_space_summary()"
      ],
      "execution_count": null,
      "outputs": []
    },
    {
      "cell_type": "code",
      "metadata": {
        "colab_type": "code",
        "id": "Myt_NBc4IvYv",
        "colab": {}
      },
      "source": [
        "callbacks = []\n",
        "sample_path = os.path.join(os.getcwd(), \"kerastunercancer.hdf5\")\n",
        "\n",
        "callbacks.append(tf.keras.callbacks.EarlyStopping('val_auc', verbose=1, \n",
        "                                                  patience=50, \n",
        "                                                  restore_best_weights=\n",
        "                                                  True))\n",
        "callbacks.append(tf.keras.callbacks.ModelCheckpoint(sample_path, \n",
        "                                                    monitor='val_auc', \n",
        "                                                    save_weights_only=False,\n",
        "                                                    save_best_only=True, \n",
        "                                                    verbose=1, \n",
        "                                                    save_freq='epoch'))"
      ],
      "execution_count": null,
      "outputs": []
    },
    {
      "cell_type": "markdown",
      "metadata": {
        "colab_type": "text",
        "id": "5pqjFmKNKyo3"
      },
      "source": [
        "Above: Basic callbacks to monitor the progress. Not really needed.\n",
        "\n",
        "Below: The actual parameter tuning. It will take around 5 hours to tune the model for around 750 epochs. A **large batch size** is required because of the class imbalance so all classes are captured in the mini-batch."
      ]
    },
    {
      "cell_type": "code",
      "metadata": {
        "colab_type": "code",
        "id": "GiLHeH3lI9AQ",
        "colab": {}
      },
      "source": [
        "epochs = 50\n",
        "BATCH_SIZE = 200\n",
        "\n",
        "tuner.search(data_gen.flow(x_train, y_train, batch_size=BATCH_SIZE),\n",
        "                      epochs=EPOCHS,\n",
        "                      steps_per_epoch=(x_train.shape[0] // BATCH_SIZE),\n",
        "                      class_weight=class_weights, \n",
        "                      validation_data=(x_test, y_test), callbacks=callbacks)"
      ],
      "execution_count": null,
      "outputs": []
    },
    {
      "cell_type": "code",
      "metadata": {
        "colab_type": "code",
        "id": "R2t0Usu1JnKM",
        "colab": {}
      },
      "source": [
        "best_hps = tuner.get_best_hyperparameters(num_trials=3)[0]"
      ],
      "execution_count": null,
      "outputs": []
    },
    {
      "cell_type": "code",
      "metadata": {
        "colab_type": "code",
        "id": "k7XoTyjkKTg2",
        "colab": {}
      },
      "source": [
        "import pickle\n",
        "\n",
        "parameter_file = \"cancer-hyperparameters.p\"\n",
        "\n",
        "if os.path.exists(parameter_file):\n",
        "  with open(parameter_file, 'rb') as pk:\n",
        "    best_hps = pickle.load(pk)"
      ],
      "execution_count": null,
      "outputs": []
    },
    {
      "cell_type": "markdown",
      "metadata": {
        "colab_type": "text",
        "id": "oLWTqT9LLF2P"
      },
      "source": [
        "Hyperparameters obtained from the model:\n",
        "\n",
        "Saved via the *pickle* module."
      ]
    },
    {
      "cell_type": "code",
      "metadata": {
        "colab_type": "code",
        "id": "AxXNhKxQKElt",
        "colab": {}
      },
      "source": [
        "trainable = ('regularization', 'filter1', 'filter-2', 'filter-3', 'filter-4', 'filter-4b', 'filter-5', \n",
        "             'filter-6', 'filter-7', 'filter-8', 'filter-9', 'filter-10',\n",
        "             'dropout_val','dropout_val-1', 'dropout_val-2', 'dropout_val-3', 'lr', 'dense-1', 'dense-2')\n",
        "\n",
        "for search_space in trainable:\n",
        "  print(f\"The best value for the '{search_space}' variable was {best_hps.get(search_space)}\")"
      ],
      "execution_count": null,
      "outputs": []
    },
    {
      "cell_type": "code",
      "metadata": {
        "colab_type": "code",
        "id": "C659RZzoKPG8",
        "colab": {}
      },
      "source": [
        "import pickle\n",
        "\n",
        "with open(parameter_file, 'wb') as pk:\n",
        "  pickle.dump(best_hps, pk)"
      ],
      "execution_count": null,
      "outputs": []
    },
    {
      "cell_type": "markdown",
      "metadata": {
        "colab_type": "text",
        "id": "y3aRBjBUi12H"
      },
      "source": [
        "Now, we print the models to see their summary and number of parameters in each."
      ]
    },
    {
      "cell_type": "code",
      "metadata": {
        "colab_type": "code",
        "id": "JH1We1lv0yDL",
        "colab": {
          "base_uri": "https://localhost:8080/",
          "height": 1000
        },
        "outputId": "a5da6842-7821-4b5d-f9ae-fda4981f375b"
      },
      "source": [
        "model_path = 'drive/My Drive/Colab Notebooks/best-cancer-model.hdf5'\n",
        "\n",
        "tf.keras.utils.plot_model(model, 'cancer-vis.png', show_shapes=True)"
      ],
      "execution_count": null,
      "outputs": [
        {
          "output_type": "stream",
          "text": [
            "Model: \"sequential_1\"\n",
            "_________________________________________________________________\n",
            "Layer (type)                 Output Shape              Param #   \n",
            "=================================================================\n",
            "conv2d_6 (Conv2D)            (None, 32, 32, 8)         224       \n",
            "_________________________________________________________________\n",
            "activation_9 (Activation)    (None, 32, 32, 8)         0         \n",
            "_________________________________________________________________\n",
            "max_pooling2d_4 (MaxPooling2 (None, 16, 16, 8)         0         \n",
            "_________________________________________________________________\n",
            "conv2d_7 (Conv2D)            (None, 16, 16, 16)        400       \n",
            "_________________________________________________________________\n",
            "activation_10 (Activation)   (None, 16, 16, 16)        0         \n",
            "_________________________________________________________________\n",
            "max_pooling2d_5 (MaxPooling2 (None, 8, 8, 16)          0         \n",
            "_________________________________________________________________\n",
            "conv2d_8 (Conv2D)            (None, 8, 8, 16)          784       \n",
            "_________________________________________________________________\n",
            "batch_normalization_3 (Batch (None, 8, 8, 16)          64        \n",
            "_________________________________________________________________\n",
            "activation_11 (Activation)   (None, 8, 8, 16)          0         \n",
            "_________________________________________________________________\n",
            "dropout_4 (Dropout)          (None, 8, 8, 16)          0         \n",
            "_________________________________________________________________\n",
            "conv2d_9 (Conv2D)            (None, 8, 8, 32)          1568      \n",
            "_________________________________________________________________\n",
            "activation_12 (Activation)   (None, 8, 8, 32)          0         \n",
            "_________________________________________________________________\n",
            "max_pooling2d_6 (MaxPooling2 (None, 4, 4, 32)          0         \n",
            "_________________________________________________________________\n",
            "conv2d_10 (Conv2D)           (None, 4, 4, 32)          3104      \n",
            "_________________________________________________________________\n",
            "batch_normalization_4 (Batch (None, 4, 4, 32)          128       \n",
            "_________________________________________________________________\n",
            "activation_13 (Activation)   (None, 4, 4, 32)          0         \n",
            "_________________________________________________________________\n",
            "conv2d_11 (Conv2D)           (None, 4, 4, 32)          3104      \n",
            "_________________________________________________________________\n",
            "activation_14 (Activation)   (None, 4, 4, 32)          0         \n",
            "_________________________________________________________________\n",
            "dropout_5 (Dropout)          (None, 4, 4, 32)          0         \n",
            "_________________________________________________________________\n",
            "max_pooling2d_7 (MaxPooling2 (None, 2, 2, 32)          0         \n",
            "_________________________________________________________________\n",
            "flatten_2 (Flatten)          (None, 128)               0         \n",
            "_________________________________________________________________\n",
            "dense_3 (Dense)              (None, 128)               16512     \n",
            "_________________________________________________________________\n",
            "activation_15 (Activation)   (None, 128)               0         \n",
            "_________________________________________________________________\n",
            "batch_normalization_5 (Batch (None, 128)               512       \n",
            "_________________________________________________________________\n",
            "dropout_6 (Dropout)          (None, 128)               0         \n",
            "_________________________________________________________________\n",
            "dense_4 (Dense)              (None, 128)               16512     \n",
            "_________________________________________________________________\n",
            "activation_16 (Activation)   (None, 128)               0         \n",
            "_________________________________________________________________\n",
            "dropout_7 (Dropout)          (None, 128)               0         \n",
            "_________________________________________________________________\n",
            "flatten_3 (Flatten)          (None, 128)               0         \n",
            "_________________________________________________________________\n",
            "dense_5 (Dense)              (None, 1)                 129       \n",
            "_________________________________________________________________\n",
            "activation_17 (Activation)   (None, 1)                 0         \n",
            "=================================================================\n",
            "Total params: 43,041\n",
            "Trainable params: 42,689\n",
            "Non-trainable params: 352\n",
            "_________________________________________________________________\n",
            "\n"
          ],
          "name": "stdout"
        }
      ]
    },
    {
      "cell_type": "markdown",
      "metadata": {
        "colab_type": "text",
        "id": "WM3f-PcnR-YP"
      },
      "source": [
        "# Executing the Model\n",
        "Now, the model built above will be executed with the training set. If there are more than one GPUs on the computer this file is being called in, then it will parallelize the model between the GPUs, else it will execute on the one GPU and CPU. "
      ]
    },
    {
      "cell_type": "code",
      "metadata": {
        "colab_type": "code",
        "id": "ApLHVEugUVNu",
        "colab": {
          "base_uri": "https://localhost:8080/",
          "height": 68
        },
        "outputId": "a6b25ed0-1b61-439c-a063-99b737932a52"
      },
      "source": [
        "print(tf.keras.__version__)\n",
        "\n",
        "devices = device_lib.list_local_devices()\n",
        "gpus = [devices[i].device_type in devices for (i, device) in enumerate(devices) if \"GPU\" in devices[i].device_type]\n",
        "\n",
        "isParallel = any(gpus)\n",
        "print(f\"Are there any GPUs I can use? \" {isParallel})\n"
      ],
      "execution_count": null,
      "outputs": [
        {
          "output_type": "stream",
          "text": [
            "2.3.0-tf\n",
            "[False, False]\n",
            "25000\n"
          ],
          "name": "stdout"
        }
      ]
    },
    {
      "cell_type": "markdown",
      "metadata": {
        "colab_type": "text",
        "id": "mRsEaI-7bxq1"
      },
      "source": [
        "Setting up to tune the learning rate."
      ]
    },
    {
      "cell_type": "code",
      "metadata": {
        "colab_type": "code",
        "id": "Np2Oxa8qcFUk",
        "colab": {}
      },
      "source": [
        "%load_ext tensorboard\n",
        "import tensorflow.keras.backend as K\n",
        "from datetime import datetime\n",
        "from tensorflow.keras.models import load_model"
      ],
      "execution_count": null,
      "outputs": []
    },
    {
      "cell_type": "code",
      "metadata": {
        "colab_type": "code",
        "id": "i40UeQLbhInp",
        "colab": {}
      },
      "source": [
        "kcallbacks = []\n",
        "logdir = \"logs/scalars/\" + datetime.now().strftime(\"%m%d%y-%H%M%S\")\n",
        "model_path = 'drive/My Drive/Colab Notebooks/bestcancer-tunedmodel.hdf5'\n",
        "kcallbacks.append(tf.keras.callbacks.ModelCheckpoint(model_path, \n",
        "                                                    monitor='val_auc', \n",
        "                                                    save_weights_only=False,\n",
        "                                                    save_best_only=True, \n",
        "                                                    verbose=1, \n",
        "                                                    save_freq='epoch'))\n",
        "kcallbacks.append(tf.keras.callbacks.TensorBoard(\n",
        "    log_dir=logdir))\n",
        "\n",
        "print(model_path, \"\\n\", logdir)"
      ],
      "execution_count": null,
      "outputs": []
    },
    {
      "cell_type": "code",
      "metadata": {
        "colab_type": "code",
        "id": "1tyz6pbHbvz4",
        "colab": {}
      },
      "source": [
        "if os.path.exists(model_path):\n",
        "  model = load_model(model_path)\n",
        "  print(f'[INFO] Current Learning Rate of Model Is: {K.get_value(model.optimizer.lr)}')\n",
        "  print(f'[INFO] Changing LR to {K.get_value(model.optimizer.lr) / 10}')\n",
        "  K.set_value(model.optimizer.lr, K.get_value(model.optimizer.lr) / 10)\n",
        "  K.set_value(model.optimizer.lr, 5e-2)\n",
        "  print(f'[INFO] New Learning Rate Is: {K.get_value(model.optimizer.lr)}')\n",
        "else:\n",
        "  model = tuner.hypermodel.build(best_hps)\n",
        "  K.set_value(model.optimizer.lr, model.optimizer.lr * 10**2)\n",
        "  print(f'[INFO] Current Learning Rate of Model Is: {K.get_value(model.optimizer.lr)}')"
      ],
      "execution_count": null,
      "outputs": []
    },
    {
      "cell_type": "markdown",
      "metadata": {
        "colab_type": "text",
        "id": "R_H8znnCcQ2Y"
      },
      "source": [
        "Adding the constants and showing the TensorBoard to track progress. I will add a confusion matrix later to adjust any preprocessing I need to improve the model."
      ]
    },
    {
      "cell_type": "code",
      "metadata": {
        "colab_type": "code",
        "id": "2sHzIOBo1isB",
        "colab": {
          "base_uri": "https://localhost:8080/",
          "height": 34
        },
        "outputId": "35af594b-4429-470f-f97e-9e0c22ddb378"
      },
      "source": [
        "EPOCHS = 300\n",
        "BATCH_SIZE = 200\n",
        "\n",
        "history =\n",
        "print(y_train.shape)\n"
      ],
      "execution_count": null,
      "outputs": [
        {
          "output_type": "stream",
          "text": [
            "(50000, 1)\n"
          ],
          "name": "stdout"
        }
      ]
    },
    {
      "cell_type": "code",
      "metadata": {
        "colab_type": "code",
        "id": "mhZrwz6-cNAr",
        "colab": {}
      },
      "source": [
        "%tensorboard --logdir logs/scalars"
      ],
      "execution_count": null,
      "outputs": []
    },
    {
      "cell_type": "code",
      "metadata": {
        "colab_type": "code",
        "id": "FeJw5dvLcQHx",
        "colab": {}
      },
      "source": [
        "print(model.optimizer.lr)"
      ],
      "execution_count": null,
      "outputs": []
    },
    {
      "cell_type": "code",
      "metadata": {
        "colab_type": "code",
        "id": "01wmaqL7QAe4",
        "colab": {
          "base_uri": "https://localhost:8080/",
          "height": 249
        },
        "outputId": "a851bb27-7318-485c-a073-8793b6f637e3"
      },
      "source": [
        "if isParallel:\n",
        "  print('GPUs parallelized!')\n",
        "  model2 = tf.keras.utils.multi_gpu_model(model, 2)\n",
        "  history = model2.fit(data_gen.flow(x_train, y_train, batch_size=BATCH_SIZE),\n",
        "                      steps_per_epoch=(x_train.shape[0] // BATCH_SIZE), epochs=EPOCHS,\n",
        "                      validation_data=(x_test, y_test), class_weight=class_weights, \n",
        "                      callbacks=kcallbacks)\n",
        "else:\n",
        "  print('CPU Compilation')\n",
        "  history = model.fit(data_gen.flow(x_train, y_train, batch_size=BATCH_SIZE),\n",
        "                      epochs=EPOCHS,\n",
        "                      steps_per_epoch=(x_train.shape[0] // BATCH_SIZE),\n",
        "                      class_weight=class_weights, \n",
        "                      validation_data=(x_test, y_test), callbacks=kcallbacks)\n",
        "  model.save(model_path)"
      ],
      "execution_count": null,
      "outputs": [
        {
          "output_type": "stream",
          "text": [
            "CPU Compilation\n"
          ],
          "name": "stdout"
        },
        {
          "output_type": "error",
          "ename": "NameError",
          "evalue": "ignored",
          "traceback": [
            "\u001b[0;31m---------------------------------------------------------------------------\u001b[0m",
            "\u001b[0;31mNameError\u001b[0m                                 Traceback (most recent call last)",
            "\u001b[0;32m<ipython-input-22-d5e75e8948cb>\u001b[0m in \u001b[0;36m<module>\u001b[0;34m()\u001b[0m\n\u001b[1;32m     21\u001b[0m                       \u001b[0mepochs\u001b[0m\u001b[0;34m=\u001b[0m\u001b[0mEPOCHS\u001b[0m\u001b[0;34m,\u001b[0m\u001b[0;34m\u001b[0m\u001b[0;34m\u001b[0m\u001b[0m\n\u001b[1;32m     22\u001b[0m                       \u001b[0msteps_per_epoch\u001b[0m\u001b[0;34m=\u001b[0m\u001b[0;34m(\u001b[0m\u001b[0mx_train\u001b[0m\u001b[0;34m.\u001b[0m\u001b[0mshape\u001b[0m\u001b[0;34m[\u001b[0m\u001b[0;36m0\u001b[0m\u001b[0;34m]\u001b[0m \u001b[0;34m//\u001b[0m \u001b[0mBATCH_SIZE\u001b[0m\u001b[0;34m)\u001b[0m\u001b[0;34m,\u001b[0m\u001b[0;34m\u001b[0m\u001b[0;34m\u001b[0m\u001b[0m\n\u001b[0;32m---> 23\u001b[0;31m                       \u001b[0mclass_weight\u001b[0m\u001b[0;34m=\u001b[0m\u001b[0mclass_weights\u001b[0m\u001b[0;34m,\u001b[0m\u001b[0;34m\u001b[0m\u001b[0;34m\u001b[0m\u001b[0m\n\u001b[0m\u001b[1;32m     24\u001b[0m                       validation_data=(x_test, y_test), callbacks=callbacks)\n\u001b[1;32m     25\u001b[0m   \u001b[0mresults_to_file\u001b[0m\u001b[0;34m(\u001b[0m\u001b[0mhistory\u001b[0m\u001b[0;34m.\u001b[0m\u001b[0mhistory\u001b[0m\u001b[0;34m,\u001b[0m \u001b[0;34m'model2perfect.txt'\u001b[0m\u001b[0;34m)\u001b[0m\u001b[0;34m\u001b[0m\u001b[0;34m\u001b[0m\u001b[0m\n",
            "\u001b[0;31mNameError\u001b[0m: name 'class_weights' is not defined"
          ]
        }
      ]
    },
    {
      "cell_type": "markdown",
      "metadata": {
        "colab_type": "text",
        "id": "o7fsu-jRDxl1"
      },
      "source": [
        "# Analyzing Results\n",
        "Currently, the best results give a constant validation binary accuracy of .7564."
      ]
    },
    {
      "cell_type": "code",
      "metadata": {
        "colab_type": "code",
        "id": "BSiqsgjNBHJr",
        "colab": {
          "base_uri": "https://localhost:8080/",
          "height": 105
        },
        "outputId": "3733393b-1df5-4db3-ecd2-0e64c0d2f39d"
      },
      "source": [
        "main_results = model2.evaluate(x_test, y_test, batch_size=BATCH_SIZE, verbose=1)\n",
        "for metric, result in zip(model2.metrics_names, main_results):\n",
        "  print(metric, \" : \", result)"
      ],
      "execution_count": null,
      "outputs": [
        {
          "output_type": "stream",
          "text": [
            "1250/1250 [==============================] - 4s 3ms/step - loss: 5.3644e-07 - AUC: 0.5000 - accuracy: 0.1000\n",
            "loss  :  5.364418598219345e-07\n",
            "AUC  :  0.5\n",
            "accuracy  :  0.10000000149011612\n"
          ],
          "name": "stdout"
        }
      ]
    },
    {
      "cell_type": "code",
      "metadata": {
        "colab_type": "code",
        "id": "2502i9RbDLKh",
        "colab": {}
      },
      "source": [
        "def plot_curve(train_data, test_data, figname, title, ylabel):\n",
        "  plt.clf()\n",
        "  plt.plot(train_data)\n",
        "  plt.plot(test_data)\n",
        "  plt.xlabel('Epoch')\n",
        "  plt.ylabel(ylabel)\n",
        "  plt.title(title)\n",
        "  plt.legend(['train', 'test'], loc='upper left')\n",
        "  plt.show()\n",
        "  plt.savefig(figname)"
      ],
      "execution_count": null,
      "outputs": []
    },
    {
      "cell_type": "code",
      "metadata": {
        "colab_type": "code",
        "id": "nSipPRgaezRG",
        "colab": {}
      },
      "source": [
        "plot_curve(history.history['binary_acc'], \n",
        "           history.history['val_binary_acc'], 'model2acc.png', \n",
        "           'Model Accuracy vs Epoch', \n",
        "          'Accuracy')\n",
        "plot_curve(history.history['loss'], \n",
        "           history.history['val_loss'], 'model2loss.png',\n",
        "           'Model Loss vs Epoch', 'Loss')"
      ],
      "execution_count": null,
      "outputs": []
    },
    {
      "cell_type": "code",
      "metadata": {
        "colab_type": "code",
        "id": "xgN5P-8jMilv",
        "colab": {}
      },
      "source": [
        ""
      ],
      "execution_count": null,
      "outputs": []
    }
  ]
}