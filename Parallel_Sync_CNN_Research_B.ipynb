{
  "nbformat": 4,
  "nbformat_minor": 0,
  "metadata": {
    "colab": {
      "name": "Parallel_Sync_CNN_Research B.ipynb",
      "provenance": [],
      "collapsed_sections": [],
      "toc_visible": true,
      "include_colab_link": true
    },
    "kernelspec": {
      "name": "python3",
      "display_name": "Python 3"
    },
    "widgets": {
      "application/vnd.jupyter.widget-state+json": {
        "b57492dc1a7343e8aa02ac8c1672fcb2": {
          "model_module": "@jupyter-widgets/controls",
          "model_name": "HBoxModel",
          "state": {
            "_view_name": "HBoxView",
            "_dom_classes": [],
            "_model_name": "HBoxModel",
            "_view_module": "@jupyter-widgets/controls",
            "_model_module_version": "1.5.0",
            "_view_count": null,
            "_view_module_version": "1.5.0",
            "box_style": "",
            "layout": "IPY_MODEL_27d0832cc4e349748f998a9d7cd14fcd",
            "_model_module": "@jupyter-widgets/controls",
            "children": [
              "IPY_MODEL_5e2fd0287ac147ee87e59c89ee2b5290",
              "IPY_MODEL_7238730a827c4504b4ff27a040f93fd7"
            ]
          }
        },
        "27d0832cc4e349748f998a9d7cd14fcd": {
          "model_module": "@jupyter-widgets/base",
          "model_name": "LayoutModel",
          "state": {
            "_view_name": "LayoutView",
            "grid_template_rows": null,
            "right": null,
            "justify_content": null,
            "_view_module": "@jupyter-widgets/base",
            "overflow": null,
            "_model_module_version": "1.2.0",
            "_view_count": null,
            "flex_flow": null,
            "width": null,
            "min_width": null,
            "border": null,
            "align_items": null,
            "bottom": null,
            "_model_module": "@jupyter-widgets/base",
            "top": null,
            "grid_column": null,
            "overflow_y": null,
            "overflow_x": null,
            "grid_auto_flow": null,
            "grid_area": null,
            "grid_template_columns": null,
            "flex": null,
            "_model_name": "LayoutModel",
            "justify_items": null,
            "grid_row": null,
            "max_height": null,
            "align_content": null,
            "visibility": null,
            "align_self": null,
            "height": null,
            "min_height": null,
            "padding": null,
            "grid_auto_rows": null,
            "grid_gap": null,
            "max_width": null,
            "order": null,
            "_view_module_version": "1.2.0",
            "grid_template_areas": null,
            "object_position": null,
            "object_fit": null,
            "grid_auto_columns": null,
            "margin": null,
            "display": null,
            "left": null
          }
        },
        "5e2fd0287ac147ee87e59c89ee2b5290": {
          "model_module": "@jupyter-widgets/controls",
          "model_name": "FloatProgressModel",
          "state": {
            "_view_name": "ProgressView",
            "style": "IPY_MODEL_4acb3138d616475f9753c214a6aa7237",
            "_dom_classes": [],
            "description": "Dl Completed...:  50%",
            "_model_name": "FloatProgressModel",
            "bar_style": "info",
            "max": 1,
            "_view_module": "@jupyter-widgets/controls",
            "_model_module_version": "1.5.0",
            "value": 1,
            "_view_count": null,
            "_view_module_version": "1.5.0",
            "orientation": "horizontal",
            "min": 0,
            "description_tooltip": null,
            "_model_module": "@jupyter-widgets/controls",
            "layout": "IPY_MODEL_46d6f991f5a04ad4b30932b0ae2ec9ba"
          }
        },
        "7238730a827c4504b4ff27a040f93fd7": {
          "model_module": "@jupyter-widgets/controls",
          "model_name": "HTMLModel",
          "state": {
            "_view_name": "HTMLView",
            "style": "IPY_MODEL_9f4f7a8c48df4cf89ea2321925afb0f1",
            "_dom_classes": [],
            "description": "",
            "_model_name": "HTMLModel",
            "placeholder": "​",
            "_view_module": "@jupyter-widgets/controls",
            "_model_module_version": "1.5.0",
            "value": " 3/6 [00:52&lt;00:02,  1.13 url/s]",
            "_view_count": null,
            "_view_module_version": "1.5.0",
            "description_tooltip": null,
            "_model_module": "@jupyter-widgets/controls",
            "layout": "IPY_MODEL_093fa72049ff49c3aed3585842f6ae2d"
          }
        },
        "4acb3138d616475f9753c214a6aa7237": {
          "model_module": "@jupyter-widgets/controls",
          "model_name": "ProgressStyleModel",
          "state": {
            "_view_name": "StyleView",
            "_model_name": "ProgressStyleModel",
            "description_width": "initial",
            "_view_module": "@jupyter-widgets/base",
            "_model_module_version": "1.5.0",
            "_view_count": null,
            "_view_module_version": "1.2.0",
            "bar_color": null,
            "_model_module": "@jupyter-widgets/controls"
          }
        },
        "46d6f991f5a04ad4b30932b0ae2ec9ba": {
          "model_module": "@jupyter-widgets/base",
          "model_name": "LayoutModel",
          "state": {
            "_view_name": "LayoutView",
            "grid_template_rows": null,
            "right": null,
            "justify_content": null,
            "_view_module": "@jupyter-widgets/base",
            "overflow": null,
            "_model_module_version": "1.2.0",
            "_view_count": null,
            "flex_flow": null,
            "width": null,
            "min_width": null,
            "border": null,
            "align_items": null,
            "bottom": null,
            "_model_module": "@jupyter-widgets/base",
            "top": null,
            "grid_column": null,
            "overflow_y": null,
            "overflow_x": null,
            "grid_auto_flow": null,
            "grid_area": null,
            "grid_template_columns": null,
            "flex": null,
            "_model_name": "LayoutModel",
            "justify_items": null,
            "grid_row": null,
            "max_height": null,
            "align_content": null,
            "visibility": null,
            "align_self": null,
            "height": null,
            "min_height": null,
            "padding": null,
            "grid_auto_rows": null,
            "grid_gap": null,
            "max_width": null,
            "order": null,
            "_view_module_version": "1.2.0",
            "grid_template_areas": null,
            "object_position": null,
            "object_fit": null,
            "grid_auto_columns": null,
            "margin": null,
            "display": null,
            "left": null
          }
        },
        "9f4f7a8c48df4cf89ea2321925afb0f1": {
          "model_module": "@jupyter-widgets/controls",
          "model_name": "DescriptionStyleModel",
          "state": {
            "_view_name": "StyleView",
            "_model_name": "DescriptionStyleModel",
            "description_width": "",
            "_view_module": "@jupyter-widgets/base",
            "_model_module_version": "1.5.0",
            "_view_count": null,
            "_view_module_version": "1.2.0",
            "_model_module": "@jupyter-widgets/controls"
          }
        },
        "093fa72049ff49c3aed3585842f6ae2d": {
          "model_module": "@jupyter-widgets/base",
          "model_name": "LayoutModel",
          "state": {
            "_view_name": "LayoutView",
            "grid_template_rows": null,
            "right": null,
            "justify_content": null,
            "_view_module": "@jupyter-widgets/base",
            "overflow": null,
            "_model_module_version": "1.2.0",
            "_view_count": null,
            "flex_flow": null,
            "width": null,
            "min_width": null,
            "border": null,
            "align_items": null,
            "bottom": null,
            "_model_module": "@jupyter-widgets/base",
            "top": null,
            "grid_column": null,
            "overflow_y": null,
            "overflow_x": null,
            "grid_auto_flow": null,
            "grid_area": null,
            "grid_template_columns": null,
            "flex": null,
            "_model_name": "LayoutModel",
            "justify_items": null,
            "grid_row": null,
            "max_height": null,
            "align_content": null,
            "visibility": null,
            "align_self": null,
            "height": null,
            "min_height": null,
            "padding": null,
            "grid_auto_rows": null,
            "grid_gap": null,
            "max_width": null,
            "order": null,
            "_view_module_version": "1.2.0",
            "grid_template_areas": null,
            "object_position": null,
            "object_fit": null,
            "grid_auto_columns": null,
            "margin": null,
            "display": null,
            "left": null
          }
        },
        "0e46129da5784ff6a88160e143162d40": {
          "model_module": "@jupyter-widgets/controls",
          "model_name": "HBoxModel",
          "state": {
            "_view_name": "HBoxView",
            "_dom_classes": [],
            "_model_name": "HBoxModel",
            "_view_module": "@jupyter-widgets/controls",
            "_model_module_version": "1.5.0",
            "_view_count": null,
            "_view_module_version": "1.5.0",
            "box_style": "",
            "layout": "IPY_MODEL_ad1a00a87a264a82b828c3c88aa7cd99",
            "_model_module": "@jupyter-widgets/controls",
            "children": [
              "IPY_MODEL_b081ce23034d4d9f811cf25ebf794a30",
              "IPY_MODEL_9740a7f915a2484e8d44b804a80fe24d"
            ]
          }
        },
        "ad1a00a87a264a82b828c3c88aa7cd99": {
          "model_module": "@jupyter-widgets/base",
          "model_name": "LayoutModel",
          "state": {
            "_view_name": "LayoutView",
            "grid_template_rows": null,
            "right": null,
            "justify_content": null,
            "_view_module": "@jupyter-widgets/base",
            "overflow": null,
            "_model_module_version": "1.2.0",
            "_view_count": null,
            "flex_flow": null,
            "width": null,
            "min_width": null,
            "border": null,
            "align_items": null,
            "bottom": null,
            "_model_module": "@jupyter-widgets/base",
            "top": null,
            "grid_column": null,
            "overflow_y": null,
            "overflow_x": null,
            "grid_auto_flow": null,
            "grid_area": null,
            "grid_template_columns": null,
            "flex": null,
            "_model_name": "LayoutModel",
            "justify_items": null,
            "grid_row": null,
            "max_height": null,
            "align_content": null,
            "visibility": null,
            "align_self": null,
            "height": null,
            "min_height": null,
            "padding": null,
            "grid_auto_rows": null,
            "grid_gap": null,
            "max_width": null,
            "order": null,
            "_view_module_version": "1.2.0",
            "grid_template_areas": null,
            "object_position": null,
            "object_fit": null,
            "grid_auto_columns": null,
            "margin": null,
            "display": null,
            "left": null
          }
        },
        "b081ce23034d4d9f811cf25ebf794a30": {
          "model_module": "@jupyter-widgets/controls",
          "model_name": "FloatProgressModel",
          "state": {
            "_view_name": "ProgressView",
            "style": "IPY_MODEL_916f5358e6874dc481e94ee3aa013ee3",
            "_dom_classes": [],
            "description": "Dl Size...:  23%",
            "_model_name": "FloatProgressModel",
            "bar_style": "info",
            "max": 1,
            "_view_module": "@jupyter-widgets/controls",
            "_model_module_version": "1.5.0",
            "value": 1,
            "_view_count": null,
            "_view_module_version": "1.5.0",
            "orientation": "horizontal",
            "min": 0,
            "description_tooltip": null,
            "_model_module": "@jupyter-widgets/controls",
            "layout": "IPY_MODEL_51722efa13784dd593a7fc9f711cc508"
          }
        },
        "9740a7f915a2484e8d44b804a80fe24d": {
          "model_module": "@jupyter-widgets/controls",
          "model_name": "HTMLModel",
          "state": {
            "_view_name": "HTMLView",
            "style": "IPY_MODEL_66ece841e85a4e45a436c08103b1b854",
            "_dom_classes": [],
            "description": "",
            "_model_name": "HTMLModel",
            "placeholder": "​",
            "_view_module": "@jupyter-widgets/controls",
            "_model_module_version": "1.5.0",
            "value": " 1796/7654 [00:52&lt;02:58, 32.75 MiB/s]",
            "_view_count": null,
            "_view_module_version": "1.5.0",
            "description_tooltip": null,
            "_model_module": "@jupyter-widgets/controls",
            "layout": "IPY_MODEL_c4cd8072abb04eb7bf21aa6a08fef678"
          }
        },
        "916f5358e6874dc481e94ee3aa013ee3": {
          "model_module": "@jupyter-widgets/controls",
          "model_name": "ProgressStyleModel",
          "state": {
            "_view_name": "StyleView",
            "_model_name": "ProgressStyleModel",
            "description_width": "initial",
            "_view_module": "@jupyter-widgets/base",
            "_model_module_version": "1.5.0",
            "_view_count": null,
            "_view_module_version": "1.2.0",
            "bar_color": null,
            "_model_module": "@jupyter-widgets/controls"
          }
        },
        "51722efa13784dd593a7fc9f711cc508": {
          "model_module": "@jupyter-widgets/base",
          "model_name": "LayoutModel",
          "state": {
            "_view_name": "LayoutView",
            "grid_template_rows": null,
            "right": null,
            "justify_content": null,
            "_view_module": "@jupyter-widgets/base",
            "overflow": null,
            "_model_module_version": "1.2.0",
            "_view_count": null,
            "flex_flow": null,
            "width": null,
            "min_width": null,
            "border": null,
            "align_items": null,
            "bottom": null,
            "_model_module": "@jupyter-widgets/base",
            "top": null,
            "grid_column": null,
            "overflow_y": null,
            "overflow_x": null,
            "grid_auto_flow": null,
            "grid_area": null,
            "grid_template_columns": null,
            "flex": null,
            "_model_name": "LayoutModel",
            "justify_items": null,
            "grid_row": null,
            "max_height": null,
            "align_content": null,
            "visibility": null,
            "align_self": null,
            "height": null,
            "min_height": null,
            "padding": null,
            "grid_auto_rows": null,
            "grid_gap": null,
            "max_width": null,
            "order": null,
            "_view_module_version": "1.2.0",
            "grid_template_areas": null,
            "object_position": null,
            "object_fit": null,
            "grid_auto_columns": null,
            "margin": null,
            "display": null,
            "left": null
          }
        },
        "66ece841e85a4e45a436c08103b1b854": {
          "model_module": "@jupyter-widgets/controls",
          "model_name": "DescriptionStyleModel",
          "state": {
            "_view_name": "StyleView",
            "_model_name": "DescriptionStyleModel",
            "description_width": "",
            "_view_module": "@jupyter-widgets/base",
            "_model_module_version": "1.5.0",
            "_view_count": null,
            "_view_module_version": "1.2.0",
            "_model_module": "@jupyter-widgets/controls"
          }
        },
        "c4cd8072abb04eb7bf21aa6a08fef678": {
          "model_module": "@jupyter-widgets/base",
          "model_name": "LayoutModel",
          "state": {
            "_view_name": "LayoutView",
            "grid_template_rows": null,
            "right": null,
            "justify_content": null,
            "_view_module": "@jupyter-widgets/base",
            "overflow": null,
            "_model_module_version": "1.2.0",
            "_view_count": null,
            "flex_flow": null,
            "width": null,
            "min_width": null,
            "border": null,
            "align_items": null,
            "bottom": null,
            "_model_module": "@jupyter-widgets/base",
            "top": null,
            "grid_column": null,
            "overflow_y": null,
            "overflow_x": null,
            "grid_auto_flow": null,
            "grid_area": null,
            "grid_template_columns": null,
            "flex": null,
            "_model_name": "LayoutModel",
            "justify_items": null,
            "grid_row": null,
            "max_height": null,
            "align_content": null,
            "visibility": null,
            "align_self": null,
            "height": null,
            "min_height": null,
            "padding": null,
            "grid_auto_rows": null,
            "grid_gap": null,
            "max_width": null,
            "order": null,
            "_view_module_version": "1.2.0",
            "grid_template_areas": null,
            "object_position": null,
            "object_fit": null,
            "grid_auto_columns": null,
            "margin": null,
            "display": null,
            "left": null
          }
        },
        "ebf1593dac8547edafb6a6ae39324fcb": {
          "model_module": "@jupyter-widgets/controls",
          "model_name": "HBoxModel",
          "state": {
            "_view_name": "HBoxView",
            "_dom_classes": [],
            "_model_name": "HBoxModel",
            "_view_module": "@jupyter-widgets/controls",
            "_model_module_version": "1.5.0",
            "_view_count": null,
            "_view_module_version": "1.5.0",
            "box_style": "",
            "layout": "IPY_MODEL_b123f940239f4c78a8b8a9f1583f3436",
            "_model_module": "@jupyter-widgets/controls",
            "children": [
              "IPY_MODEL_a39718c6e5ce4521aac2f38672d43c9d",
              "IPY_MODEL_3f3f080953564b018175ebd7843a27df"
            ]
          }
        },
        "b123f940239f4c78a8b8a9f1583f3436": {
          "model_module": "@jupyter-widgets/base",
          "model_name": "LayoutModel",
          "state": {
            "_view_name": "LayoutView",
            "grid_template_rows": null,
            "right": null,
            "justify_content": null,
            "_view_module": "@jupyter-widgets/base",
            "overflow": null,
            "_model_module_version": "1.2.0",
            "_view_count": null,
            "flex_flow": null,
            "width": null,
            "min_width": null,
            "border": null,
            "align_items": null,
            "bottom": null,
            "_model_module": "@jupyter-widgets/base",
            "top": null,
            "grid_column": null,
            "overflow_y": null,
            "overflow_x": null,
            "grid_auto_flow": null,
            "grid_area": null,
            "grid_template_columns": null,
            "flex": null,
            "_model_name": "LayoutModel",
            "justify_items": null,
            "grid_row": null,
            "max_height": null,
            "align_content": null,
            "visibility": null,
            "align_self": null,
            "height": null,
            "min_height": null,
            "padding": null,
            "grid_auto_rows": null,
            "grid_gap": null,
            "max_width": null,
            "order": null,
            "_view_module_version": "1.2.0",
            "grid_template_areas": null,
            "object_position": null,
            "object_fit": null,
            "grid_auto_columns": null,
            "margin": null,
            "display": null,
            "left": null
          }
        },
        "a39718c6e5ce4521aac2f38672d43c9d": {
          "model_module": "@jupyter-widgets/controls",
          "model_name": "FloatProgressModel",
          "state": {
            "_view_name": "ProgressView",
            "style": "IPY_MODEL_d8d41f591ada4a5da69c9b86b35a6c82",
            "_dom_classes": [],
            "description": "Extraction completed...: 100%",
            "_model_name": "FloatProgressModel",
            "bar_style": "info",
            "max": 1,
            "_view_module": "@jupyter-widgets/controls",
            "_model_module_version": "1.5.0",
            "value": 1,
            "_view_count": null,
            "_view_module_version": "1.5.0",
            "orientation": "horizontal",
            "min": 0,
            "description_tooltip": null,
            "_model_module": "@jupyter-widgets/controls",
            "layout": "IPY_MODEL_81d4c73b89a44d98b8cb95f8b731c51d"
          }
        },
        "3f3f080953564b018175ebd7843a27df": {
          "model_module": "@jupyter-widgets/controls",
          "model_name": "HTMLModel",
          "state": {
            "_view_name": "HTMLView",
            "style": "IPY_MODEL_049fc4f14fbb4880b85861c32229cc13",
            "_dom_classes": [],
            "description": "",
            "_model_name": "HTMLModel",
            "placeholder": "​",
            "_view_module": "@jupyter-widgets/controls",
            "_model_module_version": "1.5.0",
            "value": " 3/3 [00:52&lt;00:00,  1.18 file/s]",
            "_view_count": null,
            "_view_module_version": "1.5.0",
            "description_tooltip": null,
            "_model_module": "@jupyter-widgets/controls",
            "layout": "IPY_MODEL_d935aef1591346aaac3817062f24c455"
          }
        },
        "d8d41f591ada4a5da69c9b86b35a6c82": {
          "model_module": "@jupyter-widgets/controls",
          "model_name": "ProgressStyleModel",
          "state": {
            "_view_name": "StyleView",
            "_model_name": "ProgressStyleModel",
            "description_width": "initial",
            "_view_module": "@jupyter-widgets/base",
            "_model_module_version": "1.5.0",
            "_view_count": null,
            "_view_module_version": "1.2.0",
            "bar_color": null,
            "_model_module": "@jupyter-widgets/controls"
          }
        },
        "81d4c73b89a44d98b8cb95f8b731c51d": {
          "model_module": "@jupyter-widgets/base",
          "model_name": "LayoutModel",
          "state": {
            "_view_name": "LayoutView",
            "grid_template_rows": null,
            "right": null,
            "justify_content": null,
            "_view_module": "@jupyter-widgets/base",
            "overflow": null,
            "_model_module_version": "1.2.0",
            "_view_count": null,
            "flex_flow": null,
            "width": null,
            "min_width": null,
            "border": null,
            "align_items": null,
            "bottom": null,
            "_model_module": "@jupyter-widgets/base",
            "top": null,
            "grid_column": null,
            "overflow_y": null,
            "overflow_x": null,
            "grid_auto_flow": null,
            "grid_area": null,
            "grid_template_columns": null,
            "flex": null,
            "_model_name": "LayoutModel",
            "justify_items": null,
            "grid_row": null,
            "max_height": null,
            "align_content": null,
            "visibility": null,
            "align_self": null,
            "height": null,
            "min_height": null,
            "padding": null,
            "grid_auto_rows": null,
            "grid_gap": null,
            "max_width": null,
            "order": null,
            "_view_module_version": "1.2.0",
            "grid_template_areas": null,
            "object_position": null,
            "object_fit": null,
            "grid_auto_columns": null,
            "margin": null,
            "display": null,
            "left": null
          }
        },
        "049fc4f14fbb4880b85861c32229cc13": {
          "model_module": "@jupyter-widgets/controls",
          "model_name": "DescriptionStyleModel",
          "state": {
            "_view_name": "StyleView",
            "_model_name": "DescriptionStyleModel",
            "description_width": "",
            "_view_module": "@jupyter-widgets/base",
            "_model_module_version": "1.5.0",
            "_view_count": null,
            "_view_module_version": "1.2.0",
            "_model_module": "@jupyter-widgets/controls"
          }
        },
        "d935aef1591346aaac3817062f24c455": {
          "model_module": "@jupyter-widgets/base",
          "model_name": "LayoutModel",
          "state": {
            "_view_name": "LayoutView",
            "grid_template_rows": null,
            "right": null,
            "justify_content": null,
            "_view_module": "@jupyter-widgets/base",
            "overflow": null,
            "_model_module_version": "1.2.0",
            "_view_count": null,
            "flex_flow": null,
            "width": null,
            "min_width": null,
            "border": null,
            "align_items": null,
            "bottom": null,
            "_model_module": "@jupyter-widgets/base",
            "top": null,
            "grid_column": null,
            "overflow_y": null,
            "overflow_x": null,
            "grid_auto_flow": null,
            "grid_area": null,
            "grid_template_columns": null,
            "flex": null,
            "_model_name": "LayoutModel",
            "justify_items": null,
            "grid_row": null,
            "max_height": null,
            "align_content": null,
            "visibility": null,
            "align_self": null,
            "height": null,
            "min_height": null,
            "padding": null,
            "grid_auto_rows": null,
            "grid_gap": null,
            "max_width": null,
            "order": null,
            "_view_module_version": "1.2.0",
            "grid_template_areas": null,
            "object_position": null,
            "object_fit": null,
            "grid_auto_columns": null,
            "margin": null,
            "display": null,
            "left": null
          }
        }
      }
    }
  },
  "cells": [
    {
      "cell_type": "markdown",
      "metadata": {
        "id": "view-in-github",
        "colab_type": "text"
      },
      "source": [
        "<a href=\"https://colab.research.google.com/github/AstroNoodles/Mini-Projects/blob/master/Parallel_Sync_CNN_Research_B.ipynb\" target=\"_parent\"><img src=\"https://colab.research.google.com/assets/colab-badge.svg\" alt=\"Open In Colab\"/></a>"
      ]
    },
    {
      "cell_type": "markdown",
      "metadata": {
        "colab_type": "text",
        "id": "pAGvK8NCk4eZ"
      },
      "source": [
        "# Parallel Synchronous Gradient Descent CNN Research\n",
        "In this notebook, I am led by graduate student Pengzhan Guo to create a synchronous CNN that can be parallelized between multiple supercomputers and is optimized by the best gradient descent networks (ADAM or RMSProp).\n",
        "\n",
        "A sample run of the CNN will be completed with the CIFAR10 dataset and that framework will be applied here as well. The network will be based on the <a href=\"https://github.com/geifmany/cifar-vgg/blob/master/cifar10vgg.py\" target=\"_blank\">VGG16 design</a> that was proposed by K. Simonyan and A. Zisserman. \n",
        "\n",
        "How else could you create a custom CNN?"
      ]
    },
    {
      "cell_type": "code",
      "metadata": {
        "colab_type": "code",
        "id": "y8wXX7t2IPR7",
        "colab": {
          "base_uri": "https://localhost:8080/",
          "height": 530
        },
        "outputId": "21401c7a-e98c-478d-c48c-284e7aaf191d"
      },
      "source": [
        "!pip3 install keras-tuner"
      ],
      "execution_count": 1,
      "outputs": [
        {
          "output_type": "stream",
          "text": [
            "Collecting keras-tuner\n",
            "\u001b[?25l  Downloading https://files.pythonhosted.org/packages/a7/f7/4b41b6832abf4c9bef71a664dc563adb25afc5812831667c6db572b1a261/keras-tuner-1.0.1.tar.gz (54kB)\n",
            "\r\u001b[K     |██████                          | 10kB 16.4MB/s eta 0:00:01\r\u001b[K     |████████████                    | 20kB 1.8MB/s eta 0:00:01\r\u001b[K     |██████████████████              | 30kB 2.3MB/s eta 0:00:01\r\u001b[K     |████████████████████████        | 40kB 2.6MB/s eta 0:00:01\r\u001b[K     |██████████████████████████████  | 51kB 2.0MB/s eta 0:00:01\r\u001b[K     |████████████████████████████████| 61kB 1.9MB/s \n",
            "\u001b[?25hRequirement already satisfied: future in /usr/local/lib/python3.6/dist-packages (from keras-tuner) (0.16.0)\n",
            "Requirement already satisfied: numpy in /usr/local/lib/python3.6/dist-packages (from keras-tuner) (1.18.5)\n",
            "Requirement already satisfied: tabulate in /usr/local/lib/python3.6/dist-packages (from keras-tuner) (0.8.7)\n",
            "Collecting terminaltables\n",
            "  Downloading https://files.pythonhosted.org/packages/9b/c4/4a21174f32f8a7e1104798c445dacdc1d4df86f2f26722767034e4de4bff/terminaltables-3.1.0.tar.gz\n",
            "Collecting colorama\n",
            "  Downloading https://files.pythonhosted.org/packages/c9/dc/45cdef1b4d119eb96316b3117e6d5708a08029992b2fee2c143c7a0a5cc5/colorama-0.4.3-py2.py3-none-any.whl\n",
            "Requirement already satisfied: tqdm in /usr/local/lib/python3.6/dist-packages (from keras-tuner) (4.41.1)\n",
            "Requirement already satisfied: requests in /usr/local/lib/python3.6/dist-packages (from keras-tuner) (2.23.0)\n",
            "Requirement already satisfied: scipy in /usr/local/lib/python3.6/dist-packages (from keras-tuner) (1.4.1)\n",
            "Requirement already satisfied: scikit-learn in /usr/local/lib/python3.6/dist-packages (from keras-tuner) (0.22.2.post1)\n",
            "Requirement already satisfied: chardet<4,>=3.0.2 in /usr/local/lib/python3.6/dist-packages (from requests->keras-tuner) (3.0.4)\n",
            "Requirement already satisfied: certifi>=2017.4.17 in /usr/local/lib/python3.6/dist-packages (from requests->keras-tuner) (2020.6.20)\n",
            "Requirement already satisfied: idna<3,>=2.5 in /usr/local/lib/python3.6/dist-packages (from requests->keras-tuner) (2.10)\n",
            "Requirement already satisfied: urllib3!=1.25.0,!=1.25.1,<1.26,>=1.21.1 in /usr/local/lib/python3.6/dist-packages (from requests->keras-tuner) (1.24.3)\n",
            "Requirement already satisfied: joblib>=0.11 in /usr/local/lib/python3.6/dist-packages (from scikit-learn->keras-tuner) (0.16.0)\n",
            "Building wheels for collected packages: keras-tuner, terminaltables\n",
            "  Building wheel for keras-tuner (setup.py) ... \u001b[?25l\u001b[?25hdone\n",
            "  Created wheel for keras-tuner: filename=keras_tuner-1.0.1-cp36-none-any.whl size=73200 sha256=98b2b037a52481948c37e3ddc1e76e4c2d12fe4ea96899150637fcbc1d31e01a\n",
            "  Stored in directory: /root/.cache/pip/wheels/b9/cc/62/52716b70dd90f3db12519233c3a93a5360bc672da1a10ded43\n",
            "  Building wheel for terminaltables (setup.py) ... \u001b[?25l\u001b[?25hdone\n",
            "  Created wheel for terminaltables: filename=terminaltables-3.1.0-cp36-none-any.whl size=15356 sha256=4855e2cb2789383e4f6546691887c58164502c49c9e424984cc7fe2293d04d8e\n",
            "  Stored in directory: /root/.cache/pip/wheels/30/6b/50/6c75775b681fb36cdfac7f19799888ef9d8813aff9e379663e\n",
            "Successfully built keras-tuner terminaltables\n",
            "Installing collected packages: terminaltables, colorama, keras-tuner\n",
            "Successfully installed colorama-0.4.3 keras-tuner-1.0.1 terminaltables-3.1.0\n"
          ],
          "name": "stdout"
        }
      ]
    },
    {
      "cell_type": "code",
      "metadata": {
        "colab_type": "code",
        "id": "MsNj0qWzsfGg",
        "colab": {}
      },
      "source": [
        "import numpy as np\n",
        "import pandas as pd\n",
        "from sklearn.model_selection import train_test_split\n",
        "import matplotlib.pyplot as plt\n",
        "from PIL import Image\n",
        "from PIL.Image import ANTIALIAS\n",
        "\n",
        "\n",
        "import tensorflow as tf\n",
        "import tensorflow.keras as keras\n",
        "from tensorflow.keras.preprocessing.image import load_img, img_to_array, ImageDataGenerator\n",
        "from tensorflow.python.client import device_lib\n",
        "from kerastuner.tuners import RandomSearch\n",
        "from kerastuner import HyperParameters\n",
        "from kerastuner import Objective\n",
        "\n",
        "import random\n",
        "import tarfile\n",
        "import zipfile\n",
        "import os\n",
        "import concurrent.futures\n",
        "\n",
        "from os.path import exists\n",
        "from warnings import simplefilter"
      ],
      "execution_count": 2,
      "outputs": []
    },
    {
      "cell_type": "markdown",
      "metadata": {
        "colab_type": "text",
        "id": "Zp_xTdqDmbny"
      },
      "source": [
        "Since Keras has not updated alongside Pandas to note this warning noting users to do this,\n",
        "```\n",
        "df[index] --> df.iloc[index]\n",
        "```\n",
        "there will be a bunch of warnings while training the CNN. Let's remove it.\n",
        "\n"
      ]
    },
    {
      "cell_type": "code",
      "metadata": {
        "colab_type": "code",
        "id": "PkMopvfmmHDf",
        "colab": {}
      },
      "source": [
        "simplefilter(action='ignore', category=FutureWarning)"
      ],
      "execution_count": 3,
      "outputs": []
    },
    {
      "cell_type": "markdown",
      "metadata": {
        "colab_type": "text",
        "id": "I2Q1Ikh1lW-a"
      },
      "source": [
        "# Setting Up Google Drive\n",
        "This will be used later to save the model before the runtime disconnects."
      ]
    },
    {
      "cell_type": "code",
      "metadata": {
        "colab_type": "code",
        "id": "GFjUpIDlldS2",
        "colab": {
          "base_uri": "https://localhost:8080/",
          "height": 122
        },
        "outputId": "aca513d2-5504-4214-8b90-cb8bc333a197"
      },
      "source": [
        "from google.colab import drive\n",
        "\n",
        "drive.mount('/content/drive')"
      ],
      "execution_count": 4,
      "outputs": [
        {
          "output_type": "stream",
          "text": [
            "Go to this URL in a browser: https://accounts.google.com/o/oauth2/auth?client_id=947318989803-6bn6qk8qdgf4n4g3pfee6491hc0brc4i.apps.googleusercontent.com&redirect_uri=urn%3aietf%3awg%3aoauth%3a2.0%3aoob&scope=email%20https%3a%2f%2fwww.googleapis.com%2fauth%2fdocs.test%20https%3a%2f%2fwww.googleapis.com%2fauth%2fdrive%20https%3a%2f%2fwww.googleapis.com%2fauth%2fdrive.photos.readonly%20https%3a%2f%2fwww.googleapis.com%2fauth%2fpeopleapi.readonly&response_type=code\n",
            "\n",
            "Enter your authorization code:\n",
            "··········\n",
            "Mounted at /content/drive\n"
          ],
          "name": "stdout"
        }
      ]
    },
    {
      "cell_type": "markdown",
      "metadata": {
        "colab_type": "text",
        "id": "mXEyw05F9nAX"
      },
      "source": [
        "# Retrieving the Datasets\n",
        "\n",
        "First, I am getting the version of `TF Keras`, TF 2.0 makes the creation of neural networks a lot easier. \n",
        "\n",
        "The devices variable will make finding all CPUs and GPUs in the computer easier."
      ]
    },
    {
      "cell_type": "code",
      "metadata": {
        "colab_type": "code",
        "id": "gz9vvJFs8WAa",
        "colab": {
          "base_uri": "https://localhost:8080/",
          "height": 34
        },
        "outputId": "f1e8047d-915a-4f88-d8c7-6b68f3ad0c9d"
      },
      "source": [
        "# DEBUG\n",
        "print(tf.keras.__version__)\n",
        "devices = device_lib.list_local_devices()"
      ],
      "execution_count": 5,
      "outputs": [
        {
          "output_type": "stream",
          "text": [
            "2.4.0\n"
          ],
          "name": "stdout"
        }
      ]
    },
    {
      "cell_type": "markdown",
      "metadata": {
        "id": "oWzX7umI6dTY",
        "colab_type": "text"
      },
      "source": [
        "## [Camelyon17 Dataset](https://camelyon17.grand-challenge.org/Data/)\n",
        "\n",
        "Title of Dataset: **PatchCamelyon** \n",
        "\n",
        "The following is a direct quotation from the *TensorFlow Datasets* [documentation](https://www.tensorflow.org/datasets/catalog/patch_camelyon) for the dataset.\n",
        "\n",
        "\n",
        "> \"The PatchCamelyon benchmark is a new and challenging image classification dataset. It consists of 327.680 color images (96 x 96px) extracted from histopathologic scans of lymph node sections. Each image is annoted with a binary label indicating presence of metastatic tissue. PCam provides a new benchmark for machine learning models: bigger than CIFAR10, smaller than Imagenet, trainable on a single GPU.\"\n",
        "\n",
        "Since my full deep learning benchmark with *CIFAR10* used only `numpy` arrays, we are going to load the entire dataset into one batch for consistancy via `tfds.load(batch_size=-1)`.\n",
        "\n",
        "Unfortunately, the dataset is so large it does not fit into memory. Using 20% of the examples (exactly 52,429 of the 327,680 examples) is enough to place the dataset into memory and load it as a `numpy` array. Then, we can append our additional examples to add more types of data for the classifier!\n",
        "\n",
        "Also note that the dataset is set to be in a 50/50 balance. Good job dataset creator!\n",
        "\n",
        "\n",
        "\n"
      ]
    },
    {
      "cell_type": "code",
      "metadata": {
        "id": "0mTk5dNm6b12",
        "colab_type": "code",
        "colab": {
          "base_uri": "https://localhost:8080/",
          "height": 354,
          "referenced_widgets": [
            "b57492dc1a7343e8aa02ac8c1672fcb2",
            "27d0832cc4e349748f998a9d7cd14fcd",
            "5e2fd0287ac147ee87e59c89ee2b5290",
            "7238730a827c4504b4ff27a040f93fd7",
            "4acb3138d616475f9753c214a6aa7237",
            "46d6f991f5a04ad4b30932b0ae2ec9ba",
            "9f4f7a8c48df4cf89ea2321925afb0f1",
            "093fa72049ff49c3aed3585842f6ae2d",
            "0e46129da5784ff6a88160e143162d40",
            "ad1a00a87a264a82b828c3c88aa7cd99",
            "b081ce23034d4d9f811cf25ebf794a30",
            "9740a7f915a2484e8d44b804a80fe24d",
            "916f5358e6874dc481e94ee3aa013ee3",
            "51722efa13784dd593a7fc9f711cc508",
            "66ece841e85a4e45a436c08103b1b854",
            "c4cd8072abb04eb7bf21aa6a08fef678",
            "ebf1593dac8547edafb6a6ae39324fcb",
            "b123f940239f4c78a8b8a9f1583f3436",
            "a39718c6e5ce4521aac2f38672d43c9d",
            "3f3f080953564b018175ebd7843a27df",
            "d8d41f591ada4a5da69c9b86b35a6c82",
            "81d4c73b89a44d98b8cb95f8b731c51d",
            "049fc4f14fbb4880b85861c32229cc13",
            "d935aef1591346aaac3817062f24c455"
          ]
        },
        "outputId": "981665ac-5349-44e8-9d57-928c25767425"
      },
      "source": [
        "import tensorflow_datasets as tfds\n",
        "\n",
        "# Load the data as a single batch\n",
        "(ds_train, ds_info) = tfds.load('patch_camelyon', split='train[:13%]', shuffle_files=True, with_info=True, batch_size=-1, as_supervised=True)\n",
        "ds_test = tfds.load('patch_camelyon', split='test[:13%]', shuffle_files=True, batch_size=-1, as_supervised=True)\n",
        "ds_train"
      ],
      "execution_count": null,
      "outputs": [
        {
          "output_type": "stream",
          "text": [
            "Downloading and preparing dataset patch_camelyon/2.0.0 (download: 7.48 GiB, generated: Unknown size, total: 7.48 GiB) to /root/tensorflow_datasets/patch_camelyon/2.0.0...\n"
          ],
          "name": "stdout"
        },
        {
          "output_type": "display_data",
          "data": {
            "application/vnd.jupyter.widget-view+json": {
              "model_id": "b57492dc1a7343e8aa02ac8c1672fcb2",
              "version_minor": 0,
              "version_major": 2
            },
            "text/plain": [
              "HBox(children=(FloatProgress(value=1.0, bar_style='info', description='Dl Completed...', max=1.0, style=Progre…"
            ]
          },
          "metadata": {
            "tags": []
          }
        },
        {
          "output_type": "display_data",
          "data": {
            "application/vnd.jupyter.widget-view+json": {
              "model_id": "0e46129da5784ff6a88160e143162d40",
              "version_minor": 0,
              "version_major": 2
            },
            "text/plain": [
              "HBox(children=(FloatProgress(value=1.0, bar_style='info', description='Dl Size...', max=1.0, style=ProgressSty…"
            ]
          },
          "metadata": {
            "tags": []
          }
        },
        {
          "output_type": "display_data",
          "data": {
            "application/vnd.jupyter.widget-view+json": {
              "model_id": "ebf1593dac8547edafb6a6ae39324fcb",
              "version_minor": 0,
              "version_major": 2
            },
            "text/plain": [
              "HBox(children=(FloatProgress(value=1.0, bar_style='info', description='Extraction completed...', max=1.0, styl…"
            ]
          },
          "metadata": {
            "tags": []
          }
        },
        {
          "output_type": "stream",
          "text": [
            "/usr/local/lib/python3.6/dist-packages/urllib3/connectionpool.py:847: InsecureRequestWarning: Unverified HTTPS request is being made. Adding certificate verification is strongly advised. See: https://urllib3.readthedocs.io/en/latest/advanced-usage.html#ssl-warnings\n",
            "  InsecureRequestWarning)\n",
            "/usr/local/lib/python3.6/dist-packages/urllib3/connectionpool.py:847: InsecureRequestWarning: Unverified HTTPS request is being made. Adding certificate verification is strongly advised. See: https://urllib3.readthedocs.io/en/latest/advanced-usage.html#ssl-warnings\n",
            "  InsecureRequestWarning)\n",
            "/usr/local/lib/python3.6/dist-packages/urllib3/connectionpool.py:847: InsecureRequestWarning: Unverified HTTPS request is being made. Adding certificate verification is strongly advised. See: https://urllib3.readthedocs.io/en/latest/advanced-usage.html#ssl-warnings\n",
            "  InsecureRequestWarning)\n",
            "/usr/local/lib/python3.6/dist-packages/urllib3/connectionpool.py:847: InsecureRequestWarning: Unverified HTTPS request is being made. Adding certificate verification is strongly advised. See: https://urllib3.readthedocs.io/en/latest/advanced-usage.html#ssl-warnings\n",
            "  InsecureRequestWarning)\n",
            "/usr/local/lib/python3.6/dist-packages/urllib3/connectionpool.py:847: InsecureRequestWarning: Unverified HTTPS request is being made. Adding certificate verification is strongly advised. See: https://urllib3.readthedocs.io/en/latest/advanced-usage.html#ssl-warnings\n",
            "  InsecureRequestWarning)\n",
            "/usr/local/lib/python3.6/dist-packages/urllib3/connectionpool.py:847: InsecureRequestWarning: Unverified HTTPS request is being made. Adding certificate verification is strongly advised. See: https://urllib3.readthedocs.io/en/latest/advanced-usage.html#ssl-warnings\n",
            "  InsecureRequestWarning)\n"
          ],
          "name": "stderr"
        }
      ]
    },
    {
      "cell_type": "markdown",
      "metadata": {
        "id": "kVWz3Lne8fcE",
        "colab_type": "text"
      },
      "source": [
        "The following is basic information about the dataset via its additional `DatasetInfo` object."
      ]
    },
    {
      "cell_type": "code",
      "metadata": {
        "id": "vn2IhN4P8cqM",
        "colab_type": "code",
        "colab": {}
      },
      "source": [
        "ds_info"
      ],
      "execution_count": null,
      "outputs": []
    },
    {
      "cell_type": "markdown",
      "metadata": {
        "id": "5lMxzLY98nRr",
        "colab_type": "text"
      },
      "source": [
        "If you load the dataset via its `as_supervised` parameter set to **True** and have it as an entire batch via `batch_size=-1`, then you can easily access the dataset as a tuple of `numpy` arrays.\n",
        "\n",
        "The **first** item of the tuple is the array of training images and the **second** item of the tuple are the labels of the images."
      ]
    },
    {
      "cell_type": "code",
      "metadata": {
        "id": "uy1mkxMu8oLM",
        "colab_type": "code",
        "colab": {}
      },
      "source": [
        "import matplotlib.pyplot as plt\n",
        "\n",
        "train_data = tfds.as_numpy(ds_train)\n",
        "test_data = tfds.as_numpy(ds_test)\n",
        "\n",
        "x_train_ds, y_train_ds = train_data\n",
        "x_test_ds, y_test_ds = test_data\n",
        "\n",
        "plt.imshow(x_train_ds[0])"
      ],
      "execution_count": null,
      "outputs": []
    },
    {
      "cell_type": "markdown",
      "metadata": {
        "id": "fEF_eBeJ_Sh3",
        "colab_type": "text"
      },
      "source": [
        "No need for shuffling since the data is already shuffled when it is loaded from the **TFDS** dataset."
      ]
    },
    {
      "cell_type": "markdown",
      "metadata": {
        "colab_type": "text",
        "id": "O2ncDtfGdOYH"
      },
      "source": [
        "## [Cancer Imaging Archive Dataset](https://wiki.cancerimagingarchive.net/display/Public/Breast+Metastases+to+Axillary+Lymph+Nodes)\n",
        "\n",
        "Title of Dataset: **Breast Metastases to Axillary Lymph Nodes**\n",
        "\n",
        "There are 130 SVS images of the effect of breast cancer on lymph nodes. The data is imbalanced with more instances showing benign carcinoma rather than metastatic carcinoma. The labels are already encoded with 0 indicating benign carcinoma and 1 indicating malignant carcinoma."
      ]
    },
    {
      "cell_type": "markdown",
      "metadata": {
        "colab_type": "text",
        "id": "QwhNTUqRksUk"
      },
      "source": [
        "**The strategy:**\n",
        "1. To identify breast cancer cells, you need to convert them from the slide data to standard jpeg images. It would also be a good idea to resize them to a reasonable size (96 x 96 for continuity with the appended dataset [see above] )\n",
        "2. In order to do this, you can read the zip file and align items with a `pd.DataFrame` so that the proper training and testing items are shuffled and split.\n",
        "3. Then, we can convert the PILLOW images from the directories and start some numerical preprocessing with the intensity arrays from the *PatchCamelyon* Dataset.\n",
        "\n",
        "Side Note: How do I save the images without using too much storage? (Many gigabytes and megabytes x 140)"
      ]
    },
    {
      "cell_type": "code",
      "metadata": {
        "colab_type": "code",
        "id": "cGaUIhrckzAg",
        "colab": {
          "base_uri": "https://localhost:8080/",
          "height": 136
        },
        "outputId": "c9c1e82a-57d9-46bc-f857-2c7939dc34f0"
      },
      "source": [
        "output_folders = []\n",
        "\n",
        "for folder in os.listdir(\".\"):\n",
        "    full_path: str = os.path.join(os.getcwd(), folder)  \n",
        "    if folder.endswith(\".zip\"):\n",
        "        with zipfile.ZipFile(full_path) as zf:\n",
        "            name = full_path.replace(\".zip\", \"\")\n",
        "            zf.extractall(name)\n",
        "    elif folder.endswith(\".tar.gz\"):\n",
        "        with tarfile.open(full_path) as tf:\n",
        "            name = full_path.replace(\".tar.gz\", \"\")\n",
        "            print(name)\n",
        "            output_folders.append(name)\n",
        "            tf.extractall(name)"
      ],
      "execution_count": null,
      "outputs": [
        {
          "output_type": "stream",
          "text": [
            "/content/Output6\n",
            "/content/Output5\n",
            "/content/Output2\n",
            "/content/Output1\n",
            "/content/Output3\n",
            "/content/Output4\n",
            "/content/Output7\n"
          ],
          "name": "stdout"
        }
      ]
    },
    {
      "cell_type": "code",
      "metadata": {
        "colab_type": "code",
        "id": "ulR_k8EVpc7p",
        "colab": {
          "base_uri": "https://localhost:8080/",
          "height": 1000
        },
        "outputId": "e19087ba-5f0b-4528-e22e-48de041604fc"
      },
      "source": [
        "import shutil\n",
        "\n",
        "# Total Number of Files: 150 (Sample)\n",
        "\n",
        "outputs_path = os.path.join(os.getcwd(), \"outputs\")\n",
        "\n",
        "if not os.path.exists(outputs_path):\n",
        "  # shutil.rmtree(outputs_path)\n",
        "  os.mkdir(outputs_path)\n",
        "\n",
        "pic_directory = []\n",
        "\n",
        "for subfolder in output_folders:\n",
        "  for pic_dir in os.listdir(subfolder):\n",
        "      pic_directory.append(os.path.join(subfolder, pic_dir))\n",
        "\n",
        "# print(pic_directory)\n",
        "# for output in pic_directory:\n",
        "#   print(len(os.listdir(output)))\n",
        "print(pic_directory)\n",
        "\n",
        "for output in pic_directory:\n",
        "  for file in os.listdir(output):\n",
        "    print(os.path.join(outputs_path, file))\n",
        "    shutil.move(os.path.join(output, file), os.path.join(outputs_path, file))\n"
      ],
      "execution_count": null,
      "outputs": [
        {
          "output_type": "stream",
          "text": [
            "['/content/Output6/Output', '/content/Output5/Output', '/content/Output2/Output', '/content/Output1/Output', '/content/Output3/Output', '/content/Output4/Output', '/content/Output7/Output']\n",
            "/content/outputs/HobI17-085745661307.png\n",
            "/content/outputs/HobI17-036398431404.png\n",
            "/content/outputs/HobI16-850322983160.png\n",
            "/content/outputs/HobI16-837889994938.png\n",
            "/content/outputs/HobI17-117814883069.png\n",
            "/content/outputs/HobI17-054246972264.png\n",
            "/content/outputs/HobI17-092737210733.png\n",
            "/content/outputs/HobI17-054128333834.png\n",
            "/content/outputs/HobI17-192632085422.png\n",
            "/content/outputs/HobI17-074732741064.png\n",
            "/content/outputs/HobI17-188975055458.png\n",
            "/content/outputs/HobI17-176780238278.png\n",
            "/content/outputs/HobI17-219470745199.png\n",
            "/content/outputs/HobI17-213453116848.png\n",
            "/content/outputs/HobI16-800515347962.png\n",
            "/content/outputs/HobI17-158487016760.png\n",
            "/content/outputs/HobI16-708082515907.png\n",
            "/content/outputs/HobI17-247547626174.png\n",
            "/content/outputs/HobI17-203923657811.png\n",
            "/content/outputs/HobI17-014668898938.png\n",
            "/content/outputs/HobI17-324909994030.png\n",
            "/content/outputs/HobI17-440719796933.png\n",
            "/content/outputs/HobI17-467062691081.png\n",
            "/content/outputs/HobI17-553581330459.png\n",
            "/content/outputs/HobI17-377050210278.png\n",
            "/content/outputs/HobI17-476054943119.png\n",
            "/content/outputs/HobI17-269154319884.png\n",
            "/content/outputs/HobI17-447409697483.png\n",
            "/content/outputs/HobI17-265070624026.png\n",
            "/content/outputs/HobI17-458471686651.png\n",
            "/content/outputs/HobI17-495667251867.png\n",
            "/content/outputs/HobI17-545903287930.png\n",
            "/content/outputs/HobI17-425397955012.png\n",
            "/content/outputs/HobI17-288509838143.png\n",
            "/content/outputs/HobI17-313879325559.png\n",
            "/content/outputs/HobI17-519774790910.png\n",
            "/content/outputs/HobI17-334708419649.png\n",
            "/content/outputs/HobI17-421574798660.png\n",
            "/content/outputs/HobI17-435966474961.png\n",
            "/content/outputs/HobI17-348600370849.png\n",
            "/content/outputs/HobI18-593216593303.png\n",
            "/content/outputs/HobI18-494717903184.png\n",
            "/content/outputs/HobI18-246204354838.png\n",
            "/content/outputs/HobI18-789815111269.png\n",
            "/content/outputs/HobI18-386778904831.png\n",
            "/content/outputs/HobI18-173605056616.png\n",
            "/content/outputs/HobI18-116874549628.png\n",
            "/content/outputs/HobI17-255403409805.png\n",
            "/content/outputs/HobI18-331819024579.png\n",
            "/content/outputs/HobI18-559324358086.png\n",
            "/content/outputs/HobI18-189221870743.png\n",
            "/content/outputs/HobI18-628416694544.png\n",
            "/content/outputs/HobI18-671727960719.png\n",
            "/content/outputs/HobI18-244929700327.png\n",
            "/content/outputs/HobI18-615488176850.png\n",
            "/content/outputs/HobI18-406340937735.png\n",
            "/content/outputs/HobI18-116913530563.png\n",
            "/content/outputs/HobI18-641230701381.png\n",
            "/content/outputs/HobI18-423802432924.png\n",
            "/content/outputs/HobI18-155976821520.png\n",
            "/content/outputs/HobI18-323369624610.png\n",
            "/content/outputs/HobI18-595961947225.png\n",
            "/content/outputs/HobI18-171355267698.png\n",
            "/content/outputs/HobI18-264942777411.png\n",
            "/content/outputs/HobI18-160344775131.png\n",
            "/content/outputs/HobI18-104537363663.png\n",
            "/content/outputs/HobI18-303776291914.png\n",
            "/content/outputs/HobI18-618697230393.png\n",
            "/content/outputs/HobI18-585178062343.png\n",
            "/content/outputs/HobI18-706116254954.png\n",
            "/content/outputs/HobI18-099794757323.png\n",
            "/content/outputs/HobI18-767451561893.png\n",
            "/content/outputs/HobI18-295854571047.png\n",
            "/content/outputs/HobI18-685127433264.png\n",
            "/content/outputs/HobI18-522858288490.png\n",
            "/content/outputs/HobI18-092641163539.png\n",
            "/content/outputs/HobI18-711038761484.png\n",
            "/content/outputs/HobI18-987777882592.png\n",
            "/content/outputs/HobI18-156692134456.png\n",
            "/content/outputs/HobI18-796881418672.png\n",
            "/content/outputs/HobI18-593216593303.png\n",
            "/content/outputs/HobI18-494717903184.png\n",
            "/content/outputs/HobI18-789815111269.png\n",
            "/content/outputs/HobI17-255403409805.png\n",
            "/content/outputs/HobI18-559324358086.png\n",
            "/content/outputs/HobI18-628416694544.png\n",
            "/content/outputs/HobI18-671727960719.png\n",
            "/content/outputs/HobI18-615488176850.png\n",
            "/content/outputs/HobI18-641230701381.png\n",
            "/content/outputs/HobI18-423802432924.png\n",
            "/content/outputs/HobI18-595961947225.png\n",
            "/content/outputs/HobI18-618697230393.png\n",
            "/content/outputs/HobI18-585178062343.png\n",
            "/content/outputs/HobI18-706116254954.png\n",
            "/content/outputs/HobI18-767451561893.png\n",
            "/content/outputs/HobI18-685127433264.png\n",
            "/content/outputs/HobI18-522858288490.png\n",
            "/content/outputs/HobI18-711038761484.png\n",
            "/content/outputs/HobI18-987777882592.png\n",
            "/content/outputs/HobI18-796881418672.png\n",
            "/content/outputs/HobI18-069937884593.png\n",
            "/content/outputs/HobI17-974235225863.png\n",
            "/content/outputs/HobI17-800973460562.png\n",
            "/content/outputs/HobI18-045092912528.png\n",
            "/content/outputs/HobI17-792063748170.png\n",
            "/content/outputs/HobI17-828077018053.png\n",
            "/content/outputs/HobI17-848084691666.png\n",
            "/content/outputs/HobI17-875559163472.png\n",
            "/content/outputs/HobI17-804061080478.png\n",
            "/content/outputs/HobI17-929050186119.png\n",
            "/content/outputs/HobI18-029873239450.png\n",
            "/content/outputs/HobI17-883321793262.png\n",
            "/content/outputs/HobI17-812250131208.png\n",
            "/content/outputs/HobI17-788882576662.png\n",
            "/content/outputs/HobI17-977643406918.png\n",
            "/content/outputs/HobI17-793253845164.png\n",
            "/content/outputs/HobI18-029043796428.png\n",
            "/content/outputs/HobI17-796855272934.png\n",
            "/content/outputs/HobI17-876230315187.png\n",
            "/content/outputs/HobI17-890038662634.png\n",
            "/content/outputs/HobI17-558005179666.png\n",
            "/content/outputs/HobI17-659203035810.png\n",
            "/content/outputs/HobI17-743356791372.png\n",
            "/content/outputs/HobI17-636884305743.png\n",
            "/content/outputs/HobI17-719990954481.png\n",
            "/content/outputs/HobI17-655346198230.png\n",
            "/content/outputs/HobI17-681327099314.png\n",
            "/content/outputs/HobI17-688924862435.png\n",
            "/content/outputs/HobI17-627940372723.png\n",
            "/content/outputs/HobI17-485538505474.png\n",
            "/content/outputs/HobI17-593769981242.png\n",
            "/content/outputs/HobI17-750867388324.png\n",
            "/content/outputs/HobI17-648654794571.png\n",
            "/content/outputs/HobI17-719246842170.png\n",
            "/content/outputs/HobI17-749048090290.png\n",
            "/content/outputs/HobI17-677160798281.png\n",
            "/content/outputs/HobI17-778814457598.png\n",
            "/content/outputs/HobI17-640264021539.png\n",
            "/content/outputs/HobI17-622270352572.png\n",
            "/content/outputs/HobI17-660006336651.png\n",
            "/content/outputs/HobI16-673050001795.png\n",
            "/content/outputs/HobI16-105105202254.png\n",
            "/content/outputs/HobI16-723628532151.png\n",
            "/content/outputs/HobI16-303757967057.png\n",
            "/content/outputs/HobI16-553454144783.png\n",
            "/content/outputs/HobI16-568713100973.png\n",
            "/content/outputs/HobI16-732317408482.png\n",
            "/content/outputs/HobI16-053768896760.png\n",
            "/content/outputs/HobI16-334188031493.png\n",
            "/content/outputs/HobI16-072823783181.png\n"
          ],
          "name": "stdout"
        }
      ]
    },
    {
      "cell_type": "markdown",
      "metadata": {
        "id": "zN-U8RFscIdh",
        "colab_type": "text"
      },
      "source": [
        "### Parallelzing the I/O for Reading Images!"
      ]
    },
    {
      "cell_type": "markdown",
      "metadata": {
        "id": "gekNJrKbcaJ5",
        "colab_type": "text"
      },
      "source": [
        "So now we are going to read the images and get each of their filenames. The images have already been transformed to JPEG images in the zip files so we just need to read them as `PIL` images and resize them to keep a common shape between all images in both directories."
      ]
    },
    {
      "cell_type": "code",
      "metadata": {
        "id": "7tjVFdQTcNSH",
        "colab_type": "code",
        "colab": {}
      },
      "source": [
        "# choose the best size\n",
        "size = (96, 96)\n",
        "\n",
        "def read_images(directory: str) -> np.ndarray:\n",
        "  # print(directory)\n",
        "  print([os.path.join(directory, img) for img in os.listdir(directory) \n",
        "  if img.endswith(\".png\") or img.endswith(\".jpg\")])\n",
        "\n",
        "  imgs = [load_img(os.path.join(directory, img)) for img in sorted(os.listdir(directory)) \n",
        "  if img.endswith(\".png\") or img.endswith(\".jpg\")]\n",
        "  # print(imgs)\n",
        "  thumbnails = [img.resize(size, ANTIALIAS) for img in imgs]\n",
        "\n",
        "  # FOR THUMBNAILS (LARGE IMAGES)\n",
        "  # [img.thumbnail(size, ANTIALIAS) for img in imgs]\n",
        "  # thumbnails = [img for img in imgs]\n",
        "  # print(thumbnails)\n",
        "\n",
        "  # PUT SOMEWHERE ELSE --> arrays = [img_to_array(img) for img in thumbnails]\n",
        "  return thumbnails"
      ],
      "execution_count": null,
      "outputs": []
    },
    {
      "cell_type": "markdown",
      "metadata": {
        "id": "zXizLIZBcnma",
        "colab_type": "text"
      },
      "source": [
        "Parallelizing I/O, here we go!"
      ]
    },
    {
      "cell_type": "code",
      "metadata": {
        "id": "TRvVoCsVcZiY",
        "colab_type": "code",
        "colab": {
          "base_uri": "https://localhost:8080/",
          "height": 322
        },
        "outputId": "8ae0d89e-3bdb-49c3-d392-c263ac0fc777"
      },
      "source": [
        "# read in fixed order\n",
        "bc_images = read_images(outputs_path)\n",
        "plt.imshow(bc_images[0])"
      ],
      "execution_count": null,
      "outputs": [
        {
          "output_type": "stream",
          "text": [
            "['/content/outputs/HobI18-593216593303.png', '/content/outputs/HobI16-673050001795.png', '/content/outputs/HobI18-494717903184.png', '/content/outputs/HobI18-246204354838.png', '/content/outputs/HobI18-789815111269.png', '/content/outputs/HobI17-085745661307.png', '/content/outputs/HobI17-324909994030.png', '/content/outputs/HobI17-036398431404.png', '/content/outputs/HobI16-105105202254.png', '/content/outputs/HobI16-850322983160.png', '/content/outputs/HobI17-440719796933.png', '/content/outputs/HobI18-386778904831.png', '/content/outputs/HobI18-069937884593.png', '/content/outputs/HobI18-173605056616.png', '/content/outputs/HobI17-974235225863.png', '/content/outputs/HobI17-558005179666.png', '/content/outputs/HobI17-800973460562.png', '/content/outputs/HobI17-659203035810.png', '/content/outputs/HobI18-116874549628.png', '/content/outputs/HobI18-045092912528.png', '/content/outputs/HobI17-255403409805.png', '/content/outputs/HobI18-331819024579.png', '/content/outputs/HobI18-559324358086.png', '/content/outputs/HobI17-467062691081.png', '/content/outputs/HobI17-792063748170.png', '/content/outputs/HobI18-189221870743.png', '/content/outputs/HobI18-628416694544.png', '/content/outputs/HobI17-828077018053.png', '/content/outputs/HobI17-848084691666.png', '/content/outputs/HobI18-671727960719.png', '/content/outputs/HobI17-553581330459.png', '/content/outputs/HobI18-244929700327.png', '/content/outputs/HobI18-615488176850.png', '/content/outputs/HobI17-743356791372.png', '/content/outputs/HobI16-837889994938.png', '/content/outputs/HobI17-117814883069.png', '/content/outputs/HobI17-054246972264.png', '/content/outputs/HobI16-723628532151.png', '/content/outputs/HobI17-377050210278.png', '/content/outputs/HobI17-875559163472.png', '/content/outputs/HobI16-303757967057.png', '/content/outputs/HobI18-406340937735.png', '/content/outputs/HobI17-636884305743.png', '/content/outputs/HobI17-719990954481.png', '/content/outputs/HobI17-476054943119.png', '/content/outputs/HobI16-553454144783.png', '/content/outputs/HobI17-092737210733.png', '/content/outputs/HobI18-116913530563.png', '/content/outputs/HobI17-655346198230.png', '/content/outputs/HobI17-269154319884.png', '/content/outputs/HobI17-054128333834.png', '/content/outputs/HobI17-804061080478.png', '/content/outputs/HobI17-681327099314.png', '/content/outputs/HobI17-447409697483.png', '/content/outputs/HobI17-265070624026.png', '/content/outputs/HobI17-192632085422.png', '/content/outputs/HobI17-074732741064.png', '/content/outputs/HobI17-688924862435.png', '/content/outputs/HobI17-929050186119.png', '/content/outputs/HobI17-458471686651.png', '/content/outputs/HobI18-641230701381.png', '/content/outputs/HobI17-188975055458.png', '/content/outputs/HobI17-495667251867.png', '/content/outputs/HobI18-423802432924.png', '/content/outputs/HobI16-568713100973.png', '/content/outputs/HobI17-176780238278.png', '/content/outputs/HobI18-155976821520.png', '/content/outputs/HobI18-323369624610.png', '/content/outputs/HobI18-029873239450.png', '/content/outputs/HobI17-545903287930.png', '/content/outputs/HobI17-219470745199.png', '/content/outputs/HobI17-213453116848.png', '/content/outputs/HobI17-627940372723.png', '/content/outputs/HobI18-595961947225.png', '/content/outputs/HobI17-425397955012.png', '/content/outputs/HobI17-288509838143.png', '/content/outputs/HobI18-171355267698.png', '/content/outputs/HobI17-883321793262.png', '/content/outputs/HobI17-812250131208.png', '/content/outputs/HobI16-732317408482.png', '/content/outputs/HobI16-800515347962.png', '/content/outputs/HobI17-485538505474.png', '/content/outputs/HobI18-264942777411.png', '/content/outputs/HobI17-593769981242.png', '/content/outputs/HobI18-160344775131.png', '/content/outputs/HobI18-104537363663.png', '/content/outputs/HobI18-303776291914.png', '/content/outputs/HobI17-313879325559.png', '/content/outputs/HobI18-618697230393.png', '/content/outputs/HobI17-158487016760.png', '/content/outputs/HobI17-750867388324.png', '/content/outputs/HobI16-708082515907.png', '/content/outputs/HobI18-585178062343.png', '/content/outputs/HobI16-053768896760.png', '/content/outputs/HobI17-519774790910.png', '/content/outputs/HobI17-334708419649.png', '/content/outputs/HobI17-247547626174.png', '/content/outputs/HobI17-788882576662.png', '/content/outputs/HobI17-977643406918.png', '/content/outputs/HobI18-706116254954.png', '/content/outputs/HobI18-099794757323.png', '/content/outputs/HobI18-767451561893.png', '/content/outputs/HobI18-295854571047.png', '/content/outputs/HobI17-793253845164.png', '/content/outputs/HobI16-334188031493.png', '/content/outputs/HobI18-685127433264.png', '/content/outputs/HobI17-648654794571.png', '/content/outputs/HobI18-522858288490.png', '/content/outputs/HobI17-421574798660.png', '/content/outputs/HobI18-092641163539.png', '/content/outputs/HobI17-203923657811.png', '/content/outputs/HobI17-014668898938.png', '/content/outputs/HobI18-029043796428.png', '/content/outputs/HobI17-796855272934.png', '/content/outputs/HobI18-711038761484.png', '/content/outputs/HobI17-719246842170.png', '/content/outputs/HobI17-749048090290.png', '/content/outputs/HobI17-876230315187.png', '/content/outputs/HobI17-677160798281.png', '/content/outputs/HobI18-987777882592.png', '/content/outputs/HobI17-778814457598.png', '/content/outputs/HobI18-156692134456.png', '/content/outputs/HobI17-435966474961.png', '/content/outputs/HobI16-072823783181.png', '/content/outputs/HobI17-640264021539.png', '/content/outputs/HobI17-890038662634.png', '/content/outputs/HobI17-622270352572.png', '/content/outputs/HobI17-660006336651.png', '/content/outputs/HobI17-348600370849.png', '/content/outputs/HobI18-796881418672.png']\n"
          ],
          "name": "stdout"
        },
        {
          "output_type": "execute_result",
          "data": {
            "text/plain": [
              "<matplotlib.image.AxesImage at 0x7f623314e9b0>"
            ]
          },
          "metadata": {
            "tags": []
          },
          "execution_count": 10
        },
        {
          "output_type": "display_data",
          "data": {
            "image/png": "[encoded data removed]",
            "text/plain": [
              "<Figure size 432x288 with 1 Axes>"
            ]
          },
          "metadata": {
            "tags": [],
            "needs_background": "light"
          }
        }
      ]
    },
    {
      "cell_type": "markdown",
      "metadata": {
        "id": "skvtk-ZQdfeP",
        "colab_type": "text"
      },
      "source": [
        "### Aligning the dataframe with the resized pictures"
      ]
    },
    {
      "cell_type": "markdown",
      "metadata": {
        "id": "aGPs7MB5d3Fv",
        "colab_type": "text"
      },
      "source": [
        "This first part is an assertion to find out the number of images in the folder so that it matches with the target `DataFrame`."
      ]
    },
    {
      "cell_type": "code",
      "metadata": {
        "id": "m3uvf954dip8",
        "colab_type": "code",
        "colab": {
          "base_uri": "https://localhost:8080/",
          "height": 34
        },
        "outputId": "d376a1de-f193-420e-f921-a942be745d5c"
      },
      "source": [
        "print(len(os.listdir(outputs_path)))"
      ],
      "execution_count": null,
      "outputs": [
        {
          "output_type": "stream",
          "text": [
            "130\n"
          ],
          "name": "stdout"
        }
      ]
    },
    {
      "cell_type": "markdown",
      "metadata": {
        "id": "n0FrVlb5eDlJ",
        "colab_type": "text"
      },
      "source": [
        "*Now*, we can sort the images and filenames (in order) by zipping them and then add it to the dataframe"
      ]
    },
    {
      "cell_type": "code",
      "metadata": {
        "id": "_e6Io7QUeCsV",
        "colab_type": "code",
        "colab": {
          "base_uri": "https://localhost:8080/",
          "height": 419
        },
        "outputId": "ad69b6bf-0ff1-4cc3-d73f-2ed16df0b202"
      },
      "source": [
        "import pandas as pd\n",
        "\n",
        "df = pd.read_csv('target.csv')\n",
        "\n",
        "df['slide'] = df['slide'].str.replace(\".svs\", \".jpg\")\n",
        "df = df.sort_values('slide') # just in case\n",
        "\n",
        "df"
      ],
      "execution_count": null,
      "outputs": [
        {
          "output_type": "execute_result",
          "data": {
            "text/html": [
              "<div>\n",
              "<style scoped>\n",
              "    .dataframe tbody tr th:only-of-type {\n",
              "        vertical-align: middle;\n",
              "    }\n",
              "\n",
              "    .dataframe tbody tr th {\n",
              "        vertical-align: top;\n",
              "    }\n",
              "\n",
              "    .dataframe thead th {\n",
              "        text-align: right;\n",
              "    }\n",
              "</style>\n",
              "<table border=\"1\" class=\"dataframe\">\n",
              "  <thead>\n",
              "    <tr style=\"text-align: right;\">\n",
              "      <th></th>\n",
              "      <th>slide</th>\n",
              "      <th>target</th>\n",
              "    </tr>\n",
              "  </thead>\n",
              "  <tbody>\n",
              "    <tr>\n",
              "      <th>0</th>\n",
              "      <td>HobI16-053768896760.jpg</td>\n",
              "      <td>1</td>\n",
              "    </tr>\n",
              "    <tr>\n",
              "      <th>1</th>\n",
              "      <td>HobI16-072823783181.jpg</td>\n",
              "      <td>1</td>\n",
              "    </tr>\n",
              "    <tr>\n",
              "      <th>2</th>\n",
              "      <td>HobI16-105105202254.jpg</td>\n",
              "      <td>0</td>\n",
              "    </tr>\n",
              "    <tr>\n",
              "      <th>3</th>\n",
              "      <td>HobI16-303757967057.jpg</td>\n",
              "      <td>0</td>\n",
              "    </tr>\n",
              "    <tr>\n",
              "      <th>4</th>\n",
              "      <td>HobI16-334188031493.jpg</td>\n",
              "      <td>0</td>\n",
              "    </tr>\n",
              "    <tr>\n",
              "      <th>...</th>\n",
              "      <td>...</td>\n",
              "      <td>...</td>\n",
              "    </tr>\n",
              "    <tr>\n",
              "      <th>125</th>\n",
              "      <td>HobI18-711038761484.jpg</td>\n",
              "      <td>0</td>\n",
              "    </tr>\n",
              "    <tr>\n",
              "      <th>126</th>\n",
              "      <td>HobI18-767451561893.jpg</td>\n",
              "      <td>0</td>\n",
              "    </tr>\n",
              "    <tr>\n",
              "      <th>127</th>\n",
              "      <td>HobI18-789815111269.jpg</td>\n",
              "      <td>1</td>\n",
              "    </tr>\n",
              "    <tr>\n",
              "      <th>128</th>\n",
              "      <td>HobI18-796881418672.jpg</td>\n",
              "      <td>0</td>\n",
              "    </tr>\n",
              "    <tr>\n",
              "      <th>129</th>\n",
              "      <td>HobI18-987777882592.jpg</td>\n",
              "      <td>0</td>\n",
              "    </tr>\n",
              "  </tbody>\n",
              "</table>\n",
              "<p>130 rows × 2 columns</p>\n",
              "</div>"
            ],
            "text/plain": [
              "                       slide  target\n",
              "0    HobI16-053768896760.jpg       1\n",
              "1    HobI16-072823783181.jpg       1\n",
              "2    HobI16-105105202254.jpg       0\n",
              "3    HobI16-303757967057.jpg       0\n",
              "4    HobI16-334188031493.jpg       0\n",
              "..                       ...     ...\n",
              "125  HobI18-711038761484.jpg       0\n",
              "126  HobI18-767451561893.jpg       0\n",
              "127  HobI18-789815111269.jpg       1\n",
              "128  HobI18-796881418672.jpg       0\n",
              "129  HobI18-987777882592.jpg       0\n",
              "\n",
              "[130 rows x 2 columns]"
            ]
          },
          "metadata": {
            "tags": []
          },
          "execution_count": 12
        }
      ]
    },
    {
      "cell_type": "markdown",
      "metadata": {
        "id": "l-W0yqOgWVEV",
        "colab_type": "text"
      },
      "source": [
        "Since I do not employ parallelism and I read the images in order, I do not need to sort the images for the dataframe. Thus, `df[slide]` are the names of the images and `bc_images` are the images (PILLOW)."
      ]
    },
    {
      "cell_type": "code",
      "metadata": {
        "id": "7vm2ZbcOg3W9",
        "colab_type": "code",
        "colab": {
          "base_uri": "https://localhost:8080/",
          "height": 54
        },
        "outputId": "48b1f7e7-da4a-40fa-8a5c-a1a062efc62a"
      },
      "source": [
        "combined = list(zip(bc_images, df['slide'].values))\n",
        "print(combined)\n",
        "\n",
        "sorted_images = [img_pair[0] for img_pair in combined]\n",
        "\n",
        "df['imgs'] = sorted_images"
      ],
      "execution_count": null,
      "outputs": [
        {
          "output_type": "stream",
          "text": [
            "[(<PIL.Image.Image image mode=RGB size=96x96 at 0x7F62331793C8>, 'HobI16-053768896760.jpg'), (<PIL.Image.Image image mode=RGB size=96x96 at 0x7F6233179438>, 'HobI16-072823783181.jpg'), (<PIL.Image.Image image mode=RGB size=96x96 at 0x7F62331794A8>, 'HobI16-105105202254.jpg'), (<PIL.Image.Image image mode=RGB size=96x96 at 0x7F6233179518>, 'HobI16-303757967057.jpg'), (<PIL.Image.Image image mode=RGB size=96x96 at 0x7F6233179588>, 'HobI16-334188031493.jpg'), (<PIL.Image.Image image mode=RGB size=96x96 at 0x7F62331795F8>, 'HobI16-553454144783.jpg'), (<PIL.Image.Image image mode=RGB size=96x96 at 0x7F6237EDDA58>, 'HobI16-568713100973.jpg'), (<PIL.Image.Image image mode=RGB size=96x96 at 0x7F6237F48BE0>, 'HobI16-673050001795.jpg'), (<PIL.Image.Image image mode=RGB size=96x96 at 0x7F6233179668>, 'HobI16-708082515907.jpg'), (<PIL.Image.Image image mode=RGB size=96x96 at 0x7F62331796D8>, 'HobI16-723628532151.jpg'), (<PIL.Image.Image image mode=RGB size=96x96 at 0x7F6233179748>, 'HobI16-732317408482.jpg'), (<PIL.Image.Image image mode=RGB size=96x96 at 0x7F62331797B8>, 'HobI16-800515347962.jpg'), (<PIL.Image.Image image mode=RGB size=96x96 at 0x7F6233179828>, 'HobI16-837889994938.jpg'), (<PIL.Image.Image image mode=RGB size=96x96 at 0x7F6233179898>, 'HobI16-850322983160.jpg'), (<PIL.Image.Image image mode=RGB size=96x96 at 0x7F6233179908>, 'HobI17-014668898938.jpg'), (<PIL.Image.Image image mode=RGB size=96x96 at 0x7F6233179978>, 'HobI17-036398431404.jpg'), (<PIL.Image.Image image mode=RGB size=96x96 at 0x7F62331799E8>, 'HobI17-054128333834.jpg'), (<PIL.Image.Image image mode=RGB size=96x96 at 0x7F6233179A58>, 'HobI17-054246972264.jpg'), (<PIL.Image.Image image mode=RGB size=96x96 at 0x7F6233179AC8>, 'HobI17-074732741064.jpg'), (<PIL.Image.Image image mode=RGB size=96x96 at 0x7F6233179B38>, 'HobI17-085745661307.jpg'), (<PIL.Image.Image image mode=RGB size=96x96 at 0x7F6233179BA8>, 'HobI17-092737210733.jpg'), (<PIL.Image.Image image mode=RGB size=96x96 at 0x7F6233179C18>, 'HobI17-117814883069.jpg'), (<PIL.Image.Image image mode=RGB size=96x96 at 0x7F6233179C88>, 'HobI17-158487016760.jpg'), (<PIL.Image.Image image mode=RGB size=96x96 at 0x7F6233179CF8>, 'HobI17-176780238278.jpg'), (<PIL.Image.Image image mode=RGB size=96x96 at 0x7F6233179D68>, 'HobI17-188975055458.jpg'), (<PIL.Image.Image image mode=RGB size=96x96 at 0x7F6233179DD8>, 'HobI17-192632085422.jpg'), (<PIL.Image.Image image mode=RGB size=96x96 at 0x7F6233179E48>, 'HobI17-203923657811.jpg'), (<PIL.Image.Image image mode=RGB size=96x96 at 0x7F6233179EB8>, 'HobI17-213453116848.jpg'), (<PIL.Image.Image image mode=RGB size=96x96 at 0x7F6233179F28>, 'HobI17-219470745199.jpg'), (<PIL.Image.Image image mode=RGB size=96x96 at 0x7F6233179F98>, 'HobI17-247547626174.jpg'), (<PIL.Image.Image image mode=RGB size=96x96 at 0x7F623317F048>, 'HobI17-255403409805.jpg'), (<PIL.Image.Image image mode=RGB size=96x96 at 0x7F623317F0B8>, 'HobI17-265070624026.jpg'), (<PIL.Image.Image image mode=RGB size=96x96 at 0x7F623317F128>, 'HobI17-269154319884.jpg'), (<PIL.Image.Image image mode=RGB size=96x96 at 0x7F623317F198>, 'HobI17-288509838143.jpg'), (<PIL.Image.Image image mode=RGB size=96x96 at 0x7F623317F208>, 'HobI17-313879325559.jpg'), (<PIL.Image.Image image mode=RGB size=96x96 at 0x7F623317F278>, 'HobI17-324909994030.jpg'), (<PIL.Image.Image image mode=RGB size=96x96 at 0x7F623317F2E8>, 'HobI17-334708419649.jpg'), (<PIL.Image.Image image mode=RGB size=96x96 at 0x7F623317F358>, 'HobI17-348600370849.jpg'), (<PIL.Image.Image image mode=RGB size=96x96 at 0x7F623317F3C8>, 'HobI17-377050210278.jpg'), (<PIL.Image.Image image mode=RGB size=96x96 at 0x7F623317F438>, 'HobI17-421574798660.jpg'), (<PIL.Image.Image image mode=RGB size=96x96 at 0x7F623317F4A8>, 'HobI17-425397955012.jpg'), (<PIL.Image.Image image mode=RGB size=96x96 at 0x7F623317F518>, 'HobI17-435966474961.jpg'), (<PIL.Image.Image image mode=RGB size=96x96 at 0x7F623317F588>, 'HobI17-440719796933.jpg'), (<PIL.Image.Image image mode=RGB size=96x96 at 0x7F623317F5F8>, 'HobI17-447409697483.jpg'), (<PIL.Image.Image image mode=RGB size=96x96 at 0x7F623317F668>, 'HobI17-458471686651.jpg'), (<PIL.Image.Image image mode=RGB size=96x96 at 0x7F623317F6D8>, 'HobI17-467062691081.jpg'), (<PIL.Image.Image image mode=RGB size=96x96 at 0x7F623317F748>, 'HobI17-476054943119.jpg'), (<PIL.Image.Image image mode=RGB size=96x96 at 0x7F623317F7B8>, 'HobI17-485538505474.jpg'), (<PIL.Image.Image image mode=RGB size=96x96 at 0x7F623317F828>, 'HobI17-495667251867.jpg'), (<PIL.Image.Image image mode=RGB size=96x96 at 0x7F623317F898>, 'HobI17-519774790910.jpg'), (<PIL.Image.Image image mode=RGB size=96x96 at 0x7F623317F908>, 'HobI17-545903287930.jpg'), (<PIL.Image.Image image mode=RGB size=96x96 at 0x7F623317F978>, 'HobI17-553581330459.jpg'), (<PIL.Image.Image image mode=RGB size=96x96 at 0x7F623317F9E8>, 'HobI17-558005179666.jpg'), (<PIL.Image.Image image mode=RGB size=96x96 at 0x7F623317FA58>, 'HobI17-593769981242.jpg'), (<PIL.Image.Image image mode=RGB size=96x96 at 0x7F623317FAC8>, 'HobI17-622270352572.jpg'), (<PIL.Image.Image image mode=RGB size=96x96 at 0x7F623317FB38>, 'HobI17-627940372723.jpg'), (<PIL.Image.Image image mode=RGB size=96x96 at 0x7F623317FBA8>, 'HobI17-636884305743.jpg'), (<PIL.Image.Image image mode=RGB size=96x96 at 0x7F623317FC18>, 'HobI17-640264021539.jpg'), (<PIL.Image.Image image mode=RGB size=96x96 at 0x7F623317FC88>, 'HobI17-648654794571.jpg'), (<PIL.Image.Image image mode=RGB size=96x96 at 0x7F623317FCF8>, 'HobI17-655346198230.jpg'), (<PIL.Image.Image image mode=RGB size=96x96 at 0x7F623317FD68>, 'HobI17-659203035810.jpg'), (<PIL.Image.Image image mode=RGB size=96x96 at 0x7F623317FDD8>, 'HobI17-660006336651.jpg'), (<PIL.Image.Image image mode=RGB size=96x96 at 0x7F623317FE48>, 'HobI17-677160798281.jpg'), (<PIL.Image.Image image mode=RGB size=96x96 at 0x7F623317FEB8>, 'HobI17-681327099314.jpg'), (<PIL.Image.Image image mode=RGB size=96x96 at 0x7F623317FF28>, 'HobI17-688924862435.jpg'), (<PIL.Image.Image image mode=RGB size=96x96 at 0x7F623317FF98>, 'HobI17-719246842170.jpg'), (<PIL.Image.Image image mode=RGB size=96x96 at 0x7F6233182048>, 'HobI17-719990954481.jpg'), (<PIL.Image.Image image mode=RGB size=96x96 at 0x7F62331820B8>, 'HobI17-743356791372.jpg'), (<PIL.Image.Image image mode=RGB size=96x96 at 0x7F6233182128>, 'HobI17-749048090290.jpg'), (<PIL.Image.Image image mode=RGB size=96x96 at 0x7F6233182198>, 'HobI17-750867388324.jpg'), (<PIL.Image.Image image mode=RGB size=96x96 at 0x7F6233182208>, 'HobI17-778814457598.jpg'), (<PIL.Image.Image image mode=RGB size=96x96 at 0x7F6233182278>, 'HobI17-788882576662.jpg'), (<PIL.Image.Image image mode=RGB size=96x96 at 0x7F62331822E8>, 'HobI17-792063748170.jpg'), (<PIL.Image.Image image mode=RGB size=96x96 at 0x7F6233182358>, 'HobI17-793253845164.jpg'), (<PIL.Image.Image image mode=RGB size=96x96 at 0x7F62331823C8>, 'HobI17-796855272934.jpg'), (<PIL.Image.Image image mode=RGB size=96x96 at 0x7F6233182438>, 'HobI17-800973460562.jpg'), (<PIL.Image.Image image mode=RGB size=96x96 at 0x7F62331824A8>, 'HobI17-804061080478.jpg'), (<PIL.Image.Image image mode=RGB size=96x96 at 0x7F6233182518>, 'HobI17-812250131208.jpg'), (<PIL.Image.Image image mode=RGB size=96x96 at 0x7F6233182588>, 'HobI17-828077018053.jpg'), (<PIL.Image.Image image mode=RGB size=96x96 at 0x7F62331825F8>, 'HobI17-848084691666.jpg'), (<PIL.Image.Image image mode=RGB size=96x96 at 0x7F6233182668>, 'HobI17-875559163472.jpg'), (<PIL.Image.Image image mode=RGB size=96x96 at 0x7F62331826D8>, 'HobI17-876230315187.jpg'), (<PIL.Image.Image image mode=RGB size=96x96 at 0x7F6233182748>, 'HobI17-883321793262.jpg'), (<PIL.Image.Image image mode=RGB size=96x96 at 0x7F62331827B8>, 'HobI17-890038662634.jpg'), (<PIL.Image.Image image mode=RGB size=96x96 at 0x7F6233182828>, 'HobI17-929050186119.jpg'), (<PIL.Image.Image image mode=RGB size=96x96 at 0x7F6233182898>, 'HobI17-974235225863.jpg'), (<PIL.Image.Image image mode=RGB size=96x96 at 0x7F6233182908>, 'HobI17-977643406918.jpg'), (<PIL.Image.Image image mode=RGB size=96x96 at 0x7F6233182978>, 'HobI18-029043796428.jpg'), (<PIL.Image.Image image mode=RGB size=96x96 at 0x7F62331829E8>, 'HobI18-029873239450.jpg'), (<PIL.Image.Image image mode=RGB size=96x96 at 0x7F6233182A58>, 'HobI18-045092912528.jpg'), (<PIL.Image.Image image mode=RGB size=96x96 at 0x7F6233182AC8>, 'HobI18-069937884593.jpg'), (<PIL.Image.Image image mode=RGB size=96x96 at 0x7F6233182B38>, 'HobI18-092641163539.jpg'), (<PIL.Image.Image image mode=RGB size=96x96 at 0x7F6233182BA8>, 'HobI18-099794757323.jpg'), (<PIL.Image.Image image mode=RGB size=96x96 at 0x7F6233182C18>, 'HobI18-104537363663.jpg'), (<PIL.Image.Image image mode=RGB size=96x96 at 0x7F6233182C88>, 'HobI18-116874549628.jpg'), (<PIL.Image.Image image mode=RGB size=96x96 at 0x7F6233182CF8>, 'HobI18-116913530563.jpg'), (<PIL.Image.Image image mode=RGB size=96x96 at 0x7F6233182D68>, 'HobI18-155976821520.jpg'), (<PIL.Image.Image image mode=RGB size=96x96 at 0x7F6233182DD8>, 'HobI18-156692134456.jpg'), (<PIL.Image.Image image mode=RGB size=96x96 at 0x7F6233182E48>, 'HobI18-160344775131.jpg'), (<PIL.Image.Image image mode=RGB size=96x96 at 0x7F6233182EB8>, 'HobI18-171355267698.jpg'), (<PIL.Image.Image image mode=RGB size=96x96 at 0x7F6233182F28>, 'HobI18-173605056616.jpg'), (<PIL.Image.Image image mode=RGB size=96x96 at 0x7F6233182F98>, 'HobI18-189221870743.jpg'), (<PIL.Image.Image image mode=RGB size=96x96 at 0x7F6233188048>, 'HobI18-244929700327.jpg'), (<PIL.Image.Image image mode=RGB size=96x96 at 0x7F62331880B8>, 'HobI18-246204354838.jpg'), (<PIL.Image.Image image mode=RGB size=96x96 at 0x7F6233188128>, 'HobI18-264942777411.jpg'), (<PIL.Image.Image image mode=RGB size=96x96 at 0x7F6233188198>, 'HobI18-295854571047.jpg'), (<PIL.Image.Image image mode=RGB size=96x96 at 0x7F6233188208>, 'HobI18-303776291914.jpg'), (<PIL.Image.Image image mode=RGB size=96x96 at 0x7F6233188278>, 'HobI18-323369624610.jpg'), (<PIL.Image.Image image mode=RGB size=96x96 at 0x7F62331882E8>, 'HobI18-331819024579.jpg'), (<PIL.Image.Image image mode=RGB size=96x96 at 0x7F6233188358>, 'HobI18-386778904831.jpg'), (<PIL.Image.Image image mode=RGB size=96x96 at 0x7F62331883C8>, 'HobI18-406340937735.jpg'), (<PIL.Image.Image image mode=RGB size=96x96 at 0x7F6233188438>, 'HobI18-423802432924.jpg'), (<PIL.Image.Image image mode=RGB size=96x96 at 0x7F62331884A8>, 'HobI18-494717903184.jpg'), (<PIL.Image.Image image mode=RGB size=96x96 at 0x7F6233188518>, 'HobI18-522858288490.jpg'), (<PIL.Image.Image image mode=RGB size=96x96 at 0x7F6233188588>, 'HobI18-559324358086.jpg'), (<PIL.Image.Image image mode=RGB size=96x96 at 0x7F62331885F8>, 'HobI18-585178062343.jpg'), (<PIL.Image.Image image mode=RGB size=96x96 at 0x7F6233188668>, 'HobI18-593216593303.jpg'), (<PIL.Image.Image image mode=RGB size=96x96 at 0x7F62331886D8>, 'HobI18-595961947225.jpg'), (<PIL.Image.Image image mode=RGB size=96x96 at 0x7F6233188748>, 'HobI18-615488176850.jpg'), (<PIL.Image.Image image mode=RGB size=96x96 at 0x7F62331887B8>, 'HobI18-618697230393.jpg'), (<PIL.Image.Image image mode=RGB size=96x96 at 0x7F6233188828>, 'HobI18-628416694544.jpg'), (<PIL.Image.Image image mode=RGB size=96x96 at 0x7F6233188898>, 'HobI18-641230701381.jpg'), (<PIL.Image.Image image mode=RGB size=96x96 at 0x7F6233188908>, 'HobI18-671727960719.jpg'), (<PIL.Image.Image image mode=RGB size=96x96 at 0x7F6233188978>, 'HobI18-685127433264.jpg'), (<PIL.Image.Image image mode=RGB size=96x96 at 0x7F62331889E8>, 'HobI18-706116254954.jpg'), (<PIL.Image.Image image mode=RGB size=96x96 at 0x7F6233188A58>, 'HobI18-711038761484.jpg'), (<PIL.Image.Image image mode=RGB size=96x96 at 0x7F6233188AC8>, 'HobI18-767451561893.jpg'), (<PIL.Image.Image image mode=RGB size=96x96 at 0x7F6233188B38>, 'HobI18-789815111269.jpg'), (<PIL.Image.Image image mode=RGB size=96x96 at 0x7F6233188BA8>, 'HobI18-796881418672.jpg'), (<PIL.Image.Image image mode=RGB size=96x96 at 0x7F6233188C18>, 'HobI18-987777882592.jpg')]\n"
          ],
          "name": "stdout"
        }
      ]
    },
    {
      "cell_type": "markdown",
      "metadata": {
        "id": "MefzACxveSzx",
        "colab_type": "text"
      },
      "source": [
        "Because this is in order, the dataframe now contains all of the images!!"
      ]
    },
    {
      "cell_type": "code",
      "metadata": {
        "id": "EdViLkgReV0_",
        "colab_type": "code",
        "colab": {
          "base_uri": "https://localhost:8080/",
          "height": 204
        },
        "outputId": "afd7fdab-f19e-4e2e-cf69-191b6070449f"
      },
      "source": [
        "df.head()"
      ],
      "execution_count": null,
      "outputs": [
        {
          "output_type": "execute_result",
          "data": {
            "text/html": [
              "<div>\n",
              "<style scoped>\n",
              "    .dataframe tbody tr th:only-of-type {\n",
              "        vertical-align: middle;\n",
              "    }\n",
              "\n",
              "    .dataframe tbody tr th {\n",
              "        vertical-align: top;\n",
              "    }\n",
              "\n",
              "    .dataframe thead th {\n",
              "        text-align: right;\n",
              "    }\n",
              "</style>\n",
              "<table border=\"1\" class=\"dataframe\">\n",
              "  <thead>\n",
              "    <tr style=\"text-align: right;\">\n",
              "      <th></th>\n",
              "      <th>slide</th>\n",
              "      <th>target</th>\n",
              "      <th>imgs</th>\n",
              "    </tr>\n",
              "  </thead>\n",
              "  <tbody>\n",
              "    <tr>\n",
              "      <th>0</th>\n",
              "      <td>HobI16-053768896760.jpg</td>\n",
              "      <td>1</td>\n",
              "      <td>&lt;PIL.Image.Image image mode=RGB size=96x96 at ...</td>\n",
              "    </tr>\n",
              "    <tr>\n",
              "      <th>1</th>\n",
              "      <td>HobI16-072823783181.jpg</td>\n",
              "      <td>1</td>\n",
              "      <td>&lt;PIL.Image.Image image mode=RGB size=96x96 at ...</td>\n",
              "    </tr>\n",
              "    <tr>\n",
              "      <th>2</th>\n",
              "      <td>HobI16-105105202254.jpg</td>\n",
              "      <td>0</td>\n",
              "      <td>&lt;PIL.Image.Image image mode=RGB size=96x96 at ...</td>\n",
              "    </tr>\n",
              "    <tr>\n",
              "      <th>3</th>\n",
              "      <td>HobI16-303757967057.jpg</td>\n",
              "      <td>0</td>\n",
              "      <td>&lt;PIL.Image.Image image mode=RGB size=96x96 at ...</td>\n",
              "    </tr>\n",
              "    <tr>\n",
              "      <th>4</th>\n",
              "      <td>HobI16-334188031493.jpg</td>\n",
              "      <td>0</td>\n",
              "      <td>&lt;PIL.Image.Image image mode=RGB size=96x96 at ...</td>\n",
              "    </tr>\n",
              "  </tbody>\n",
              "</table>\n",
              "</div>"
            ],
            "text/plain": [
              "                     slide  ...                                               imgs\n",
              "0  HobI16-053768896760.jpg  ...  <PIL.Image.Image image mode=RGB size=96x96 at ...\n",
              "1  HobI16-072823783181.jpg  ...  <PIL.Image.Image image mode=RGB size=96x96 at ...\n",
              "2  HobI16-105105202254.jpg  ...  <PIL.Image.Image image mode=RGB size=96x96 at ...\n",
              "3  HobI16-303757967057.jpg  ...  <PIL.Image.Image image mode=RGB size=96x96 at ...\n",
              "4  HobI16-334188031493.jpg  ...  <PIL.Image.Image image mode=RGB size=96x96 at ...\n",
              "\n",
              "[5 rows x 3 columns]"
            ]
          },
          "metadata": {
            "tags": []
          },
          "execution_count": 14
        }
      ]
    },
    {
      "cell_type": "markdown",
      "metadata": {
        "id": "h4EUPG3ZeeS_",
        "colab_type": "text"
      },
      "source": [
        "Tada, now we have all the images and labels sorted! \n",
        "\n",
        "We can now do any of the preprocessing we want with the sorted images!"
      ]
    },
    {
      "cell_type": "code",
      "metadata": {
        "id": "GsvP7p6uejnK",
        "colab_type": "code",
        "colab": {
          "base_uri": "https://localhost:8080/",
          "height": 285
        },
        "outputId": "6c6c6962-3c35-4b88-8279-502f5e325e75"
      },
      "source": [
        "# Assertion\n",
        "plt.imshow(df['imgs'][0])"
      ],
      "execution_count": null,
      "outputs": [
        {
          "output_type": "execute_result",
          "data": {
            "text/plain": [
              "<matplotlib.image.AxesImage at 0x7f6232c0dbe0>"
            ]
          },
          "metadata": {
            "tags": []
          },
          "execution_count": 15
        },
        {
          "output_type": "display_data",
          "data": {
            "image/png": "[encoded data removed]",
            "text/plain": [
              "<Figure size 432x288 with 1 Axes>"
            ]
          },
          "metadata": {
            "tags": [],
            "needs_background": "light"
          }
        }
      ]
    },
    {
      "cell_type": "markdown",
      "metadata": {
        "colab_type": "text",
        "id": "a5-btGY8rpox"
      },
      "source": [
        "# Preprocessing the Data"
      ]
    },
    {
      "cell_type": "code",
      "metadata": {
        "colab_type": "code",
        "id": "iGyhmazLz6j2",
        "colab": {}
      },
      "source": [
        "def normalize_train(train_vec: np.ndarray):\n",
        "  \"\"\" Normalizes the data by dividing by subtracting the mean \n",
        "      and dividing by the standard deviation. Akin to scikit-learn's\n",
        "      StandardScaler.\"\"\"\n",
        "  mean_train = np.mean(train_vec)\n",
        "  std_train = np.std(train_vec)\n",
        "  return (train_vec - mean_train) / std_train"
      ],
      "execution_count": null,
      "outputs": []
    },
    {
      "cell_type": "markdown",
      "metadata": {
        "id": "lifSC3EUvsWu",
        "colab_type": "text"
      },
      "source": [
        "Before we apply preprocessing to the data, we need to transform all of the PIL images into arrays of pixel intensities."
      ]
    },
    {
      "cell_type": "markdown",
      "metadata": {
        "id": "pqMWYSoduPZQ",
        "colab_type": "text"
      },
      "source": [
        "Now, we can shuffle and split the data using `train_test_split` from scikit-learn"
      ]
    },
    {
      "cell_type": "code",
      "metadata": {
        "colab_type": "code",
        "id": "OmZE2FGZpU-9",
        "colab": {
          "base_uri": "https://localhost:8080/",
          "height": 85
        },
        "outputId": "0d72246e-ecba-49f9-ac23-21e00a1e449f"
      },
      "source": [
        "xi_train, xi_test, y_train, y_test = train_test_split(df['imgs'], \n",
        "                                                    df['target'], random_state=42, stratify=df['target'])\n",
        "\n",
        "print(xi_train.shape)\n",
        "print(y_train.shape)\n",
        "print(xi_test.shape)\n",
        "print(y_test.shape)"
      ],
      "execution_count": null,
      "outputs": [
        {
          "output_type": "stream",
          "text": [
            "(97,)\n",
            "(97,)\n",
            "(33,)\n",
            "(33,)\n"
          ],
          "name": "stdout"
        }
      ]
    },
    {
      "cell_type": "markdown",
      "metadata": {
        "id": "gf_SAcqxArQt",
        "colab_type": "text"
      },
      "source": [
        "### Converting `PIL` image --> Intensity Array\n",
        "\n",
        "\n"
      ]
    },
    {
      "cell_type": "code",
      "metadata": {
        "id": "H6UFNqU9vyc5",
        "colab_type": "code",
        "colab": {
          "base_uri": "https://localhost:8080/",
          "height": 1000
        },
        "outputId": "1e4f453d-8cf2-46b7-91e3-596ed8abd681"
      },
      "source": [
        "xl_train = []\n",
        "for i in xi_train:\n",
        "  xl_train.append(img_to_array(i))\n",
        "\n",
        "xl_test = []\n",
        "for i in xi_test:\n",
        "  xl_test.append(img_to_array(i))\n",
        "\n",
        "x_train, x_test = np.array(xl_train), np.array(xl_test)\n",
        "\n",
        "\n",
        "print(f\"X TRAIN: {x_train[0]} \\n\\n\")\n",
        "print(f\"X TEST: {x_test[0]}\")\n",
        "\n",
        "print(f\"X TRAIN SHAPE: {x_train.shape}\")\n",
        "print(f\"X TEST SHAPE: {x_test.shape}\")\n",
        "print(f\"Y TRAIN SHAPE: {y_train.shape}\")\n",
        "print(f\"Y TEST SHAPE: {y_test.shape}\")"
      ],
      "execution_count": null,
      "outputs": [
        {
          "output_type": "stream",
          "text": [
            "X TRAIN: [[[242. 242. 243.]\n",
            "  [242. 242. 243.]\n",
            "  [242. 242. 243.]\n",
            "  ...\n",
            "  [241. 240. 241.]\n",
            "  [241. 240. 241.]\n",
            "  [241. 240. 241.]]\n",
            "\n",
            " [[242. 242. 243.]\n",
            "  [242. 242. 243.]\n",
            "  [242. 242. 243.]\n",
            "  ...\n",
            "  [241. 240. 241.]\n",
            "  [241. 240. 241.]\n",
            "  [241. 240. 241.]]\n",
            "\n",
            " [[242. 242. 243.]\n",
            "  [242. 242. 243.]\n",
            "  [242. 242. 243.]\n",
            "  ...\n",
            "  [241. 240. 241.]\n",
            "  [241. 240. 241.]\n",
            "  [241. 240. 241.]]\n",
            "\n",
            " ...\n",
            "\n",
            " [[242. 242. 242.]\n",
            "  [242. 242. 242.]\n",
            "  [242. 242. 242.]\n",
            "  ...\n",
            "  [238. 238. 239.]\n",
            "  [237. 237. 238.]\n",
            "  [237. 237. 238.]]\n",
            "\n",
            " [[242. 242. 242.]\n",
            "  [242. 242. 242.]\n",
            "  [242. 242. 242.]\n",
            "  ...\n",
            "  [237. 237. 239.]\n",
            "  [237. 237. 238.]\n",
            "  [237. 237. 238.]]\n",
            "\n",
            " [[242. 242. 242.]\n",
            "  [242. 242. 242.]\n",
            "  [242. 242. 242.]\n",
            "  ...\n",
            "  [237. 237. 239.]\n",
            "  [237. 237. 238.]\n",
            "  [237. 237. 238.]]] \n",
            "\n",
            "\n",
            "X TEST: [[[243. 243. 243.]\n",
            "  [243. 243. 243.]\n",
            "  [243. 242. 243.]\n",
            "  ...\n",
            "  [241. 241. 242.]\n",
            "  [241. 241. 242.]\n",
            "  [241. 241. 242.]]\n",
            "\n",
            " [[243. 243. 243.]\n",
            "  [243. 243. 243.]\n",
            "  [243. 242. 243.]\n",
            "  ...\n",
            "  [241. 241. 242.]\n",
            "  [241. 241. 242.]\n",
            "  [241. 241. 242.]]\n",
            "\n",
            " [[243. 243. 243.]\n",
            "  [243. 243. 243.]\n",
            "  [243. 242. 243.]\n",
            "  ...\n",
            "  [241. 240. 242.]\n",
            "  [241. 241. 242.]\n",
            "  [241. 241. 242.]]\n",
            "\n",
            " ...\n",
            "\n",
            " [[243. 243. 243.]\n",
            "  [243. 243. 243.]\n",
            "  [243. 243. 243.]\n",
            "  ...\n",
            "  [243. 242. 243.]\n",
            "  [243. 242. 243.]\n",
            "  [243. 242. 243.]]\n",
            "\n",
            " [[243. 243. 243.]\n",
            "  [243. 243. 243.]\n",
            "  [243. 243. 243.]\n",
            "  ...\n",
            "  [243. 242. 243.]\n",
            "  [243. 242. 243.]\n",
            "  [243. 242. 243.]]\n",
            "\n",
            " [[243. 243. 243.]\n",
            "  [243. 243. 243.]\n",
            "  [243. 243. 243.]\n",
            "  ...\n",
            "  [243. 242. 243.]\n",
            "  [243. 242. 243.]\n",
            "  [243. 242. 243.]]]\n",
            "X TRAIN SHAPE: (97, 96, 96, 3)\n",
            "X TEST SHAPE: (33, 96, 96, 3)\n",
            "Y TRAIN SHAPE: (97,)\n",
            "Y TEST SHAPE: (33,)\n"
          ],
          "name": "stdout"
        }
      ]
    },
    {
      "cell_type": "markdown",
      "metadata": {
        "id": "grMjjhWf-42I",
        "colab_type": "text"
      },
      "source": [
        "### Visualization of Class Imbalance"
      ]
    },
    {
      "cell_type": "markdown",
      "metadata": {
        "id": "P8SeVJ23Zp3q",
        "colab_type": "text"
      },
      "source": [
        "#### Class Weights!"
      ]
    },
    {
      "cell_type": "code",
      "metadata": {
        "id": "S_7a8EhTkuBO",
        "colab_type": "code",
        "colab": {}
      },
      "source": [
        "is_camelyon = False\n",
        "\n",
        "if is_camelyon:\n",
        "  total_labels = np.append(y_train_ds, y_test_ds)\n",
        "else:\n",
        "  total_labels = df['target']"
      ],
      "execution_count": null,
      "outputs": []
    },
    {
      "cell_type": "markdown",
      "metadata": {
        "id": "g9kFGtClkvPm",
        "colab_type": "text"
      },
      "source": [
        "Both datasets have different class balances. We cannot add them as it messes up the balance. The *Cancer Imaging Database* dataset has more imbalance than the 50/50 *PatchCamelyon* data."
      ]
    },
    {
      "cell_type": "code",
      "metadata": {
        "colab_type": "code",
        "id": "PWhfCr9QCGVW",
        "colab": {
          "base_uri": "https://localhost:8080/",
          "height": 119
        },
        "outputId": "05135272-5c33-4e68-dc7b-8b2932454e24"
      },
      "source": [
        "benign = len(total_labels[total_labels == 0]) # benign is 0\n",
        "malignant = len(total_labels[total_labels == 1]) # malignant is 1\n",
        "total = benign + malignant\n",
        "\n",
        "print(f\"Benign Samples: {benign} ({round(benign / total, 3) * 100}% of total)\")\n",
        "print(f\"Malignant Samples: {malignant} ({round(malignant / total, 3) * 100}% of total)\")\n",
        "print(f\"Total Samples: {total}\")\n",
        "\n",
        "weight_benign = (1 / benign) * (total) / 2.0\n",
        "weight_malignant = (1 / malignant) * (total) / 2.0\n",
        "\n",
        "class_weights = {0: weight_benign, 1: weight_malignant}\n",
        "\n",
        "print()\n",
        "print(f\"Weight for class 0 [benign]: {round(weight_benign, 3)}\")\n",
        "print(f\"Weight for class 1 [malignant]: {round(weight_malignant, 3)}\")"
      ],
      "execution_count": null,
      "outputs": [
        {
          "output_type": "stream",
          "text": [
            "Benign Samples: 94 (72.3% of total)\n",
            "Malignant Samples: 36 (27.700000000000003% of total)\n",
            "Total Samples: 130\n",
            "\n",
            "Weight for class 0 [benign]: 0.691\n",
            "Weight for class 1 [malignant]: 1.806\n"
          ],
          "name": "stdout"
        }
      ]
    },
    {
      "cell_type": "markdown",
      "metadata": {
        "id": "9OchE_SoZtku",
        "colab_type": "text"
      },
      "source": [
        "#### Visualization"
      ]
    },
    {
      "cell_type": "markdown",
      "metadata": {
        "id": "0xUuR_uQbkZT",
        "colab_type": "text"
      },
      "source": [
        "Could show this in two ways. The first will be through a standard **histogram** and then I will configure a **pie chart** for a prettier view!"
      ]
    },
    {
      "cell_type": "code",
      "metadata": {
        "id": "K7BGfBiPbvTI",
        "colab_type": "code",
        "colab": {
          "base_uri": "https://localhost:8080/",
          "height": 295
        },
        "outputId": "5d95f6e1-2ea3-48e9-99df-06797c963922"
      },
      "source": [
        "# Histogram\n",
        "plt.hist(total_labels, histtype='step', fill=True, color='#9575cd', linewidth=3)\n",
        "plt.title(\"Class Distribution\")\n",
        "plt.xlabel('Class')\n",
        "plt.ylabel('Frequency')\n",
        "plt.grid(True)"
      ],
      "execution_count": null,
      "outputs": [
        {
          "output_type": "display_data",
          "data": {
            "image/png": "[encoded data removed]",
            "text/plain": [
              "<Figure size 432x288 with 1 Axes>"
            ]
          },
          "metadata": {
            "tags": [],
            "needs_background": "light"
          }
        }
      ]
    },
    {
      "cell_type": "code",
      "metadata": {
        "colab_type": "code",
        "id": "1LxHBJOhVt23",
        "colab": {
          "base_uri": "https://localhost:8080/",
          "height": 373
        },
        "outputId": "3f23d962-b6c4-4254-92c9-0c572d658aea"
      },
      "source": [
        "explode = (0, 0.1)\n",
        "\n",
        "plt.pie([benign, malignant], labels=['Benign', 'Malignant'], \n",
        "        shadow=True, explode=explode, autopct='%1.1f%%')\n",
        "plt.title(\"Class Distribution\")\n",
        "\n",
        "fig = plt.gcf()\n",
        "fig.set_size_inches(6, 6)"
      ],
      "execution_count": null,
      "outputs": [
        {
          "output_type": "display_data",
          "data": {
            "image/png": "[encoded data removed]",
            "text/plain": [
              "<Figure size 432x432 with 1 Axes>"
            ]
          },
          "metadata": {
            "tags": []
          }
        }
      ]
    },
    {
      "cell_type": "markdown",
      "metadata": {
        "id": "c7EplLo9Y7Fa",
        "colab_type": "text"
      },
      "source": [
        "## Visualizing the Data\n",
        "\n",
        "I am going to look at a couple of the data points before normalization"
      ]
    },
    {
      "cell_type": "code",
      "metadata": {
        "id": "-5Tj31BUmQOw",
        "colab_type": "code",
        "colab": {
          "base_uri": "https://localhost:8080/",
          "height": 432
        },
        "outputId": "58f22d9d-ab6d-4e2c-c092-07117d22bd87"
      },
      "source": [
        "from random import choice\n",
        "\n",
        "def visualize_cifar(train_data):\n",
        "  \"\"\" Visualizes the cifar-10 dataset using matplotlib. This helps give a greater understanding\n",
        "      of the items that are in the dataset\"\"\"\n",
        "  plt.figure(figsize=(7, 7))\n",
        "  for i in range(1, 10):\n",
        "    plt.subplot(3, 3, i)\n",
        "    plt.imshow(choice(train_data) / 255)\n",
        "\n",
        "# if CIFAR\n",
        "visualize_cifar(x_train)"
      ],
      "execution_count": null,
      "outputs": [
        {
          "output_type": "display_data",
          "data": {
            "image/png": "[encoded data removed]",
            "text/plain": [
              "<Figure size 504x504 with 9 Axes>"
            ]
          },
          "metadata": {
            "tags": [],
            "needs_background": "light"
          }
        }
      ]
    },
    {
      "cell_type": "markdown",
      "metadata": {
        "id": "drNBuMocmZrO",
        "colab_type": "text"
      },
      "source": [
        "## Back to Preprocessing"
      ]
    },
    {
      "cell_type": "markdown",
      "metadata": {
        "colab_type": "text",
        "id": "lYkUvDWdihFI"
      },
      "source": [
        "And now, we prepare the data for preprocessing!\n",
        "\n",
        "*   As of the last code cell, the training vectors **X** are already converted to `ndarrays` and normalized by dividing by the mean and standard deviation (StandardScaler a la `scikit-learn`.\n",
        "* Now, we just need to add a data generator to increase the amount of train data we have\n",
        "\n"
      ]
    },
    {
      "cell_type": "code",
      "metadata": {
        "id": "PDDCc2YPY5Jg",
        "colab_type": "code",
        "colab": {
          "base_uri": "https://localhost:8080/",
          "height": 1000
        },
        "outputId": "4e854733-1112-40f8-9d2e-3a5c9d2808bd"
      },
      "source": [
        "x_train, x_test = normalize_train(x_train), normalize_train(x_test)\n",
        "\n",
        "print(f\"X TRAIN: {x_train[0]} \\n\\n\")\n",
        "print(f\"Y TRAIN: {x_test[0]}\")\n"
      ],
      "execution_count": null,
      "outputs": [
        {
          "output_type": "stream",
          "text": [
            "X TRAIN: [[[0.49160746 0.49160746 0.5189769 ]\n",
            "  [0.49160746 0.49160746 0.5189769 ]\n",
            "  [0.49160746 0.49160746 0.5189769 ]\n",
            "  ...\n",
            "  [0.46423805 0.4368686  0.46423805]\n",
            "  [0.46423805 0.4368686  0.46423805]\n",
            "  [0.46423805 0.4368686  0.46423805]]\n",
            "\n",
            " [[0.49160746 0.49160746 0.5189769 ]\n",
            "  [0.49160746 0.49160746 0.5189769 ]\n",
            "  [0.49160746 0.49160746 0.5189769 ]\n",
            "  ...\n",
            "  [0.46423805 0.4368686  0.46423805]\n",
            "  [0.46423805 0.4368686  0.46423805]\n",
            "  [0.46423805 0.4368686  0.46423805]]\n",
            "\n",
            " [[0.49160746 0.49160746 0.5189769 ]\n",
            "  [0.49160746 0.49160746 0.5189769 ]\n",
            "  [0.49160746 0.49160746 0.5189769 ]\n",
            "  ...\n",
            "  [0.46423805 0.4368686  0.46423805]\n",
            "  [0.46423805 0.4368686  0.46423805]\n",
            "  [0.46423805 0.4368686  0.46423805]]\n",
            "\n",
            " ...\n",
            "\n",
            " [[0.49160746 0.49160746 0.49160746]\n",
            "  [0.49160746 0.49160746 0.49160746]\n",
            "  [0.49160746 0.49160746 0.49160746]\n",
            "  ...\n",
            "  [0.38212973 0.38212973 0.40949917]\n",
            "  [0.3547603  0.3547603  0.38212973]\n",
            "  [0.3547603  0.3547603  0.38212973]]\n",
            "\n",
            " [[0.49160746 0.49160746 0.49160746]\n",
            "  [0.49160746 0.49160746 0.49160746]\n",
            "  [0.49160746 0.49160746 0.49160746]\n",
            "  ...\n",
            "  [0.3547603  0.3547603  0.40949917]\n",
            "  [0.3547603  0.3547603  0.38212973]\n",
            "  [0.3547603  0.3547603  0.38212973]]\n",
            "\n",
            " [[0.49160746 0.49160746 0.49160746]\n",
            "  [0.49160746 0.49160746 0.49160746]\n",
            "  [0.49160746 0.49160746 0.49160746]\n",
            "  ...\n",
            "  [0.3547603  0.3547603  0.40949917]\n",
            "  [0.3547603  0.3547603  0.38212973]\n",
            "  [0.3547603  0.3547603  0.38212973]]] \n",
            "\n",
            "\n",
            "Y TRAIN: [[[0.55552447 0.55552447 0.55552447]\n",
            "  [0.55552447 0.55552447 0.55552447]\n",
            "  [0.55552447 0.5301239  0.55552447]\n",
            "  ...\n",
            "  [0.5047233  0.5047233  0.5301239 ]\n",
            "  [0.5047233  0.5047233  0.5301239 ]\n",
            "  [0.5047233  0.5047233  0.5301239 ]]\n",
            "\n",
            " [[0.55552447 0.55552447 0.55552447]\n",
            "  [0.55552447 0.55552447 0.55552447]\n",
            "  [0.55552447 0.5301239  0.55552447]\n",
            "  ...\n",
            "  [0.5047233  0.5047233  0.5301239 ]\n",
            "  [0.5047233  0.5047233  0.5301239 ]\n",
            "  [0.5047233  0.5047233  0.5301239 ]]\n",
            "\n",
            " [[0.55552447 0.55552447 0.55552447]\n",
            "  [0.55552447 0.55552447 0.55552447]\n",
            "  [0.55552447 0.5301239  0.55552447]\n",
            "  ...\n",
            "  [0.5047233  0.47932273 0.5301239 ]\n",
            "  [0.5047233  0.5047233  0.5301239 ]\n",
            "  [0.5047233  0.5047233  0.5301239 ]]\n",
            "\n",
            " ...\n",
            "\n",
            " [[0.55552447 0.55552447 0.55552447]\n",
            "  [0.55552447 0.55552447 0.55552447]\n",
            "  [0.55552447 0.55552447 0.55552447]\n",
            "  ...\n",
            "  [0.55552447 0.5301239  0.55552447]\n",
            "  [0.55552447 0.5301239  0.55552447]\n",
            "  [0.55552447 0.5301239  0.55552447]]\n",
            "\n",
            " [[0.55552447 0.55552447 0.55552447]\n",
            "  [0.55552447 0.55552447 0.55552447]\n",
            "  [0.55552447 0.55552447 0.55552447]\n",
            "  ...\n",
            "  [0.55552447 0.5301239  0.55552447]\n",
            "  [0.55552447 0.5301239  0.55552447]\n",
            "  [0.55552447 0.5301239  0.55552447]]\n",
            "\n",
            " [[0.55552447 0.55552447 0.55552447]\n",
            "  [0.55552447 0.55552447 0.55552447]\n",
            "  [0.55552447 0.55552447 0.55552447]\n",
            "  ...\n",
            "  [0.55552447 0.5301239  0.55552447]\n",
            "  [0.55552447 0.5301239  0.55552447]\n",
            "  [0.55552447 0.5301239  0.55552447]]]\n"
          ],
          "name": "stdout"
        }
      ]
    },
    {
      "cell_type": "code",
      "metadata": {
        "colab_type": "code",
        "id": "zWOYGbHqsnJz",
        "colab": {
          "base_uri": "https://localhost:8080/",
          "height": 34
        },
        "outputId": "494315e7-b92f-4298-9530-cd5c71cf9a21"
      },
      "source": [
        "NUM_CLASSES = 1\n",
        "\n",
        "print(x_train.shape)\n",
        "# x_train = x_train.astype(\"float32\")\n",
        "# x_test = x_test.astype(\"float32\")\n",
        "\n",
        "# Preprocessing the image dataset by artificially increasing the training data size\n",
        "# via rescaling, shifting, flipping and rotating the dataset.\n",
        "data_gen = ImageDataGenerator(\n",
        "        width_shift_range=0.1,\n",
        "        # randomly shift images vertically (fraction of total height)\n",
        "        height_shift_range=0.1,\n",
        "        fill_mode='nearest',\n",
        "        cval=0.,  # value used for fill_mode = \"constant\"\n",
        "        horizontal_flip=True,  # randomly flip images\n",
        "        vertical_flip=False,  # randomly flip images\n",
        "        # fraction of images reserved for validation (strictly between 0 and 1)\n",
        "        validation_split=0.0)\n",
        "\n",
        "data_gen.fit(x_train)"
      ],
      "execution_count": null,
      "outputs": [
        {
          "output_type": "stream",
          "text": [
            "(97, 96, 96, 3)\n"
          ],
          "name": "stdout"
        }
      ]
    },
    {
      "cell_type": "markdown",
      "metadata": {
        "colab_type": "text",
        "id": "0dAfCyApD7Ru"
      },
      "source": [
        "# Building The Model\n",
        "The models were built by using a combination of methods from the Inceptionv3 model and the VGGNet models that are on Github. The layers used are given in the imports in the first code cell."
      ]
    },
    {
      "cell_type": "code",
      "metadata": {
        "id": "1bTOjcAAmzUF",
        "colab_type": "code",
        "colab": {}
      },
      "source": [
        "import tensorflow as tf\n",
        "\n",
        "def cancer_tunable(hp, output_bias=None):\n",
        "    model = tf.keras.models.Sequential()\n",
        "\n",
        "    reg_factor = hp.Choice('regularization', [1e-5, 1e-6, 1e-7])\n",
        "    default_filter = 64\n",
        "\n",
        "    if output_bias is not None:\n",
        "      output_bias = tf.keras.initializers.Constant(output_bias)\n",
        "    \n",
        "    # Layer 1\n",
        "    model.add(tf.keras.layers.Conv2D(hp.Int(f'filter1', min_value=16, \n",
        "                                            max_value=256, step=16), (3, 3), \n",
        "                                      kernel_initializer=tf.keras.initializers.he_normal(), \n",
        "                                    input_shape=(96, 96, 3),\n",
        "    padding=\"same\", kernel_regularizer=tf.keras.regularizers.l2(reg_factor)))\n",
        "    model.add(tf.keras.layers.BatchNormalization())\n",
        "    model.add(tf.keras.layers.LeakyReLU())\n",
        "    model.add(tf.keras.layers.Conv2D(hp.Int(f'filter-2', min_value=16, \n",
        "                                            max_value=256, step=16), (1, 3), padding=\"same\", \n",
        "                                      kernel_regularizer=tf.keras.regularizers.l2(reg_factor)))\n",
        "    model.add(tf.keras.layers.BatchNormalization())\n",
        "    model.add(tf.keras.layers.LeakyReLU())\n",
        "    model.add(tf.keras.layers.MaxPooling2D(2, 2))\n",
        "\n",
        "      # Layer 2\n",
        "    model.add(tf.keras.layers.Conv2D(hp.Int(f'filter-3', min_value=16, \n",
        "                                            max_value=256, step=16), (3, 1), padding=\"same\", kernel_regularizer=tf.keras.regularizers.l2(reg_factor)))\n",
        "    model.add(tf.keras.layers.BatchNormalization())\n",
        "    model.add(tf.keras.layers.LeakyReLU())\n",
        "    model.add(tf.keras.layers.Conv2D(hp.Int(f'filter-4', min_value=16, \n",
        "                                            max_value=256, step=16), 1, padding=\"same\", kernel_regularizer=tf.keras.regularizers.l2(reg_factor)))\n",
        "    model.add(tf.keras.layers.BatchNormalization())\n",
        "    model.add(tf.keras.layers.LeakyReLU())\n",
        "\n",
        "\n",
        "    model.add(tf.keras.layers.Conv2D(hp.Int(f'filter-4b', min_value=16, \n",
        "                                            max_value=256, step=16), (1, 3), padding=\"same\", kernel_regularizer=tf.keras.regularizers.l2(reg_factor)))\n",
        "    model.add(tf.keras.layers.BatchNormalization())\n",
        "    model.add(tf.keras.layers.LeakyReLU())\n",
        "\n",
        "    model.add(tf.keras.layers.MaxPooling2D(2, 2))\n",
        "    model.add(tf.keras.layers.Dropout(hp.Float('dropout_val-1', min_value=0.2, max_value=0.45, step=0.05)))\n",
        "\n",
        "    # Layer 3\n",
        "    model.add(tf.keras.layers.Conv2D(hp.Int(f'filter-5', min_value=16, \n",
        "                                            max_value=256, step=16), (3, 1), padding=\"same\", kernel_regularizer=tf.keras.regularizers.l2(reg_factor)))\n",
        "    model.add(tf.keras.layers.BatchNormalization())\n",
        "    model.add(tf.keras.layers.LeakyReLU())\n",
        "    model.add(tf.keras.layers.Conv2D(hp.Int(f'filter-6', min_value=16, \n",
        "                                            max_value=256, step=16), (1, 3), padding=\"same\", kernel_regularizer=tf.keras.regularizers.l2(reg_factor)))\n",
        "    model.add(tf.keras.layers.BatchNormalization())\n",
        "    model.add(tf.keras.layers.LeakyReLU())\n",
        "\n",
        "    model.add(tf.keras.layers.MaxPooling2D(2, 2))\n",
        "\n",
        "    # Layer 4\n",
        "    model.add(tf.keras.layers.Conv2D(hp.Int(f'filter-7', min_value=16, \n",
        "                                            max_value=256, step=16), (3, 1), padding=\"same\", kernel_regularizer=tf.keras.regularizers.l2(reg_factor)))\n",
        "    model.add(tf.keras.layers.BatchNormalization())\n",
        "    model.add(tf.keras.layers.LeakyReLU())\n",
        "    model.add(tf.keras.layers.Conv2D(hp.Int(f'filter-8', min_value=16, \n",
        "                                            max_value=256, step=16), (1, 3), padding=\"same\", kernel_regularizer=tf.keras.regularizers.l2(reg_factor)))\n",
        "    model.add(tf.keras.layers.BatchNormalization())\n",
        "    model.add(tf.keras.layers.LeakyReLU())\n",
        "    model.add(tf.keras.layers.MaxPooling2D(2, 2))\n",
        "\n",
        "\n",
        "    # Layer 5\n",
        "    model.add(tf.keras.layers.Conv2D(hp.Int(f'filter-9', min_value=16, \n",
        "                                            max_value=256, step=16), (3, 1), padding=\"same\", kernel_regularizer=tf.keras.regularizers.l2(reg_factor)))\n",
        "    model.add(tf.keras.layers.BatchNormalization())\n",
        "    model.add(tf.keras.layers.LeakyReLU())\n",
        "\n",
        "    model.add(tf.keras.layers.Conv2D(hp.Int(f'filter-10', min_value=16, \n",
        "                                            max_value=256, step=16), (1, 3), padding=\"same\", kernel_regularizer=tf.keras.regularizers.l2(reg_factor)))\n",
        "    model.add(tf.keras.layers.BatchNormalization())\n",
        "    model.add(tf.keras.layers.LeakyReLU())\n",
        "\n",
        "\n",
        "    model.add(tf.keras.layers.MaxPooling2D(1, 1))\n",
        "    model.add(tf.keras.layers.Dropout(hp.Float('dropout_val-2', min_value=0.2, max_value=0.49, step=0.05)))\n",
        "\n",
        "\n",
        "    # END OF CONVOLUTIONS - HERE LIES DENSE FLATTENING!\n",
        "\n",
        "    model.add(tf.keras.layers.Flatten())\n",
        "    model.add(tf.keras.layers.Dense(hp.Int('dense-1', min_value=16, max_value=90, step=8) * 64, kernel_regularizer=tf.keras.regularizers.l2(reg_factor)))\n",
        "    model.add(tf.keras.layers.LeakyReLU())\n",
        "    model.add(tf.keras.layers.BatchNormalization())\n",
        "\n",
        "    model.add(tf.keras.layers.Dense(hp.Int('dense-2', min_value=16, max_value=90, step=8) * 64, kernel_regularizer=tf.keras.regularizers.l2(reg_factor)))\n",
        "    model.add(tf.keras.layers.LeakyReLU())\n",
        "    model.add(tf.keras.layers.BatchNormalization())\n",
        "\n",
        "    model.add(tf.keras.layers.Dropout(0.2))\n",
        "    model.add(tf.keras.layers.Dense(NUM_CLASSES, bias_initializer=output_bias))\n",
        "    model.add(tf.keras.layers.Activation('sigmoid'))\n",
        "\n",
        "    optimizer = tf.keras.optimizers.SGD(lr=hp.Choice('lr', [1e-5, 1e-3, 5e-4]), momentum=0.9, nesterov=True)\n",
        "\n",
        "\n",
        "  # COMPILING THE MODEL!\n",
        "    model.compile(optimizer=optimizer,\n",
        "             loss='binary_crossentropy',\n",
        "             metrics=[tf.keras.metrics.Accuracy(), tf.keras.metrics.AUC()])\n",
        "\n",
        "    return model"
      ],
      "execution_count": null,
      "outputs": []
    },
    {
      "cell_type": "markdown",
      "metadata": {
        "id": "yBa_T5q8nmWV",
        "colab_type": "text"
      },
      "source": [
        "In addition to the model above, we need to initialize a smaller model to work for smaller datasets.\n",
        "\n",
        "The Python file containing the model function will be saved in **Google Drive**. All we need to do is copy the file from drive and import the `cancer_net` method to override the previous declaration.\n",
        "\n",
        "This may be commented out when necessary."
      ]
    },
    {
      "cell_type": "markdown",
      "metadata": {
        "id": "np_3nDGDoEhu",
        "colab_type": "text"
      },
      "source": [
        "#### Importing Smaller Models\n"
      ]
    },
    {
      "cell_type": "code",
      "metadata": {
        "id": "yc4OV12unmlm",
        "colab_type": "code",
        "colab": {
          "base_uri": "https://localhost:8080/",
          "height": 442
        },
        "outputId": "1c093c83-1eca-4b3e-cb43-1a450cdf8d05"
      },
      "source": [
        "!cp '/content/drive/My Drive/Colab Notebooks/res/cancernet1.py' .\n",
        "!cp '/content/drive/My Drive/Colab Notebooks/res/cancernet2.py' .\n",
        "!cp '/content/drive/My Drive/Colab Notebooks/res/cancernet3.py' .\n",
        "\n",
        "print('Start of Cancer Net 1 Program', '\\n')\n",
        "!head '/content/drive/My Drive/Colab Notebooks/res/cancernet1.py'\n",
        "print('\\n', 'Start of Cancer 2 Program', '\\n')\n",
        "!head '/content/drive/My Drive/Colab Notebooks/res/cancernet2.py'"
      ],
      "execution_count": 14,
      "outputs": [
        {
          "output_type": "stream",
          "text": [
            "Start of Cancer Net 1 Program \n",
            "\n",
            "'''\n",
            "Cancer Net Model building function with 1 Layers\n",
            "\n",
            "'''\n",
            "\n",
            "import tensorflow as tf\n",
            "from kerastuner import HyperParameters\n",
            "\n",
            "def cancer_tunable(hp, output_bias=None):\n",
            "    model = tf.keras.models.Sequential()\n",
            "\n",
            " Start of Cancer 2 Program \n",
            "\n",
            "'''\n",
            "Cancer Net Model building function with 2 Layers\n",
            "\n",
            "'''\n",
            "\n",
            "import tensorflow as tf\n",
            "from kerastuner import HyperParameters\n",
            "\n",
            "def cancer_tunable(hp, output_bias=None):\n",
            "    model = tf.keras.models.Sequential()\n"
          ],
          "name": "stdout"
        }
      ]
    },
    {
      "cell_type": "code",
      "metadata": {
        "id": "C6IyjGiXspeV",
        "colab_type": "code",
        "colab": {}
      },
      "source": [
        "# Initialize the hyperparameters for the hyperparameters in each file.\n",
        "\n",
        "trainable_3 = ('regularization', 'filter1', 'filter-2', 'filter-3', 'filter-4', 'filter-4b', 'filter-5', \n",
        "             'filter-6', 'filter-7', 'filter-8', 'filter-9', 'filter-10',\n",
        "             'dropout_val','dropout_val-1', 'dropout_val-2', 'dropout_val-3', 'lr', 'dense-1', 'dense-2')\n",
        "\n",
        "trainable_2 = ('regularization', 'filter1', 'filter-2', 'filter-3', 'filter-4', 'filter-4b', 'filter-5', \n",
        "             'filter-6', 'filter-7', 'filter-8', 'filter-9', 'filter-10',\n",
        "             'dropout_val','dropout_val-1', 'dropout_val-2', 'dropout_val-3', 'lr', 'dense-1', 'dense-2')\n",
        "\n",
        "trainable_1 = ('regularization', 'filter1', 'filter-2', 'filter-3', 'filter-4', 'filter-4b', 'filter-5', \n",
        "             'filter-6', 'filter-7', 'filter-8', 'filter-9', 'filter-10',\n",
        "             'dropout_val','dropout_val-1', 'dropout_val-2', 'dropout_val-3', 'lr', 'dense-1', 'dense-2')"
      ],
      "execution_count": null,
      "outputs": []
    },
    {
      "cell_type": "markdown",
      "metadata": {
        "colab_type": "text",
        "id": "6ys0BJ8rF-xp"
      },
      "source": [
        "## Getting The Best Hyperparameters"
      ]
    },
    {
      "cell_type": "markdown",
      "metadata": {
        "colab_type": "text",
        "id": "KQ1JobVNKnHG"
      },
      "source": [
        "In this block, we are going to create a hyperparameter tuner with the help of **keras-tuner** to find the best hyperparameters for this problem. The second code block is how you can tune how often the tuner runs."
      ]
    },
    {
      "cell_type": "markdown",
      "metadata": {
        "colab_type": "text",
        "id": "-6CTzU2ULaxk"
      },
      "source": [
        "**Why is there an output bias with a natural log factor? See [this](https://www.tensorflow.org/tutorials/structured_data/imbalanced_data#optional_set_the_correct_initial_bias) link for more info.**\n",
        "\n",
        "Essentially setting the bias correctly will speed up convergence and eliminate “hockey stick” loss curves where in the first few iteration your network is basically just learning the bias. (Paraphrased from [Andrej Karpathy Blog](http://karpathy.github.io/2019/04/25/recipe/#2-set-up-the-end-to-end-trainingevaluation-skeleton--get-dumb-baselines) )\n",
        "\n",
        "\n",
        "---\n",
        "\n",
        "\n",
        "\n",
        "\n",
        "The correct bias has the formula$\\ b_0 = \\log(\\frac{p}{n})$ where$\\ b_0$ is the last output layer's bias,$\\ p$ is the quantity of the smaller class and$\\ n$ is the quantity of the larger class.\n",
        "\n",
        "The default bias without output bias initialization is$\\ \\log(2) \\approx 0.69314$."
      ]
    },
    {
      "cell_type": "code",
      "metadata": {
        "colab_type": "code",
        "id": "UYEl_pFuGEyl",
        "colab": {
          "base_uri": "https://localhost:8080/",
          "height": 34
        },
        "outputId": "803f8e83-5c34-43b5-bf15-89b3b12e8e5c"
      },
      "source": [
        "output_bias = np.log([malignant / benign])\n",
        "print(output_bias)"
      ],
      "execution_count": null,
      "outputs": [
        {
          "output_type": "stream",
          "text": [
            "[-0.95977584]\n"
          ],
          "name": "stdout"
        }
      ]
    },
    {
      "cell_type": "markdown",
      "metadata": {
        "id": "mT_6rCwKvyjB",
        "colab_type": "text"
      },
      "source": [
        "Now, I am going to set up the auto-tuned hyperparameters for the model."
      ]
    },
    {
      "cell_type": "code",
      "metadata": {
        "id": "95QRgnF3vur5",
        "colab_type": "code",
        "colab": {
          "base_uri": "https://localhost:8080/",
          "height": 1000
        },
        "outputId": "9d3dda37-5e24-473e-d471-c261b25f4898"
      },
      "source": [
        "hp = HyperParameters()\n",
        "model = cancer_tunable(hp, output_bias)\n",
        "\n",
        "tf.keras.utils.plot_model(model, 'cancer-vis.png', show_shapes=True)\n",
        "model.summary()"
      ],
      "execution_count": null,
      "outputs": [
        {
          "output_type": "stream",
          "text": [
            "Model: \"sequential_2\"\n",
            "_________________________________________________________________\n",
            "Layer (type)                 Output Shape              Param #   \n",
            "=================================================================\n",
            "conv2d_22 (Conv2D)           (None, 96, 96, 16)        448       \n",
            "_________________________________________________________________\n",
            "batch_normalization_26 (Batc (None, 96, 96, 16)        64        \n",
            "_________________________________________________________________\n",
            "leaky_re_lu_26 (LeakyReLU)   (None, 96, 96, 16)        0         \n",
            "_________________________________________________________________\n",
            "conv2d_23 (Conv2D)           (None, 96, 96, 16)        784       \n",
            "_________________________________________________________________\n",
            "batch_normalization_27 (Batc (None, 96, 96, 16)        64        \n",
            "_________________________________________________________________\n",
            "leaky_re_lu_27 (LeakyReLU)   (None, 96, 96, 16)        0         \n",
            "_________________________________________________________________\n",
            "max_pooling2d_10 (MaxPooling (None, 48, 48, 16)        0         \n",
            "_________________________________________________________________\n",
            "conv2d_24 (Conv2D)           (None, 48, 48, 16)        784       \n",
            "_________________________________________________________________\n",
            "batch_normalization_28 (Batc (None, 48, 48, 16)        64        \n",
            "_________________________________________________________________\n",
            "leaky_re_lu_28 (LeakyReLU)   (None, 48, 48, 16)        0         \n",
            "_________________________________________________________________\n",
            "conv2d_25 (Conv2D)           (None, 48, 48, 16)        272       \n",
            "_________________________________________________________________\n",
            "batch_normalization_29 (Batc (None, 48, 48, 16)        64        \n",
            "_________________________________________________________________\n",
            "leaky_re_lu_29 (LeakyReLU)   (None, 48, 48, 16)        0         \n",
            "_________________________________________________________________\n",
            "conv2d_26 (Conv2D)           (None, 48, 48, 16)        784       \n",
            "_________________________________________________________________\n",
            "batch_normalization_30 (Batc (None, 48, 48, 16)        64        \n",
            "_________________________________________________________________\n",
            "leaky_re_lu_30 (LeakyReLU)   (None, 48, 48, 16)        0         \n",
            "_________________________________________________________________\n",
            "max_pooling2d_11 (MaxPooling (None, 24, 24, 16)        0         \n",
            "_________________________________________________________________\n",
            "dropout_6 (Dropout)          (None, 24, 24, 16)        0         \n",
            "_________________________________________________________________\n",
            "conv2d_27 (Conv2D)           (None, 24, 24, 16)        784       \n",
            "_________________________________________________________________\n",
            "batch_normalization_31 (Batc (None, 24, 24, 16)        64        \n",
            "_________________________________________________________________\n",
            "leaky_re_lu_31 (LeakyReLU)   (None, 24, 24, 16)        0         \n",
            "_________________________________________________________________\n",
            "conv2d_28 (Conv2D)           (None, 24, 24, 16)        784       \n",
            "_________________________________________________________________\n",
            "batch_normalization_32 (Batc (None, 24, 24, 16)        64        \n",
            "_________________________________________________________________\n",
            "leaky_re_lu_32 (LeakyReLU)   (None, 24, 24, 16)        0         \n",
            "_________________________________________________________________\n",
            "max_pooling2d_12 (MaxPooling (None, 12, 12, 16)        0         \n",
            "_________________________________________________________________\n",
            "conv2d_29 (Conv2D)           (None, 12, 12, 16)        784       \n",
            "_________________________________________________________________\n",
            "batch_normalization_33 (Batc (None, 12, 12, 16)        64        \n",
            "_________________________________________________________________\n",
            "leaky_re_lu_33 (LeakyReLU)   (None, 12, 12, 16)        0         \n",
            "_________________________________________________________________\n",
            "conv2d_30 (Conv2D)           (None, 12, 12, 16)        784       \n",
            "_________________________________________________________________\n",
            "batch_normalization_34 (Batc (None, 12, 12, 16)        64        \n",
            "_________________________________________________________________\n",
            "leaky_re_lu_34 (LeakyReLU)   (None, 12, 12, 16)        0         \n",
            "_________________________________________________________________\n",
            "max_pooling2d_13 (MaxPooling (None, 6, 6, 16)          0         \n",
            "_________________________________________________________________\n",
            "conv2d_31 (Conv2D)           (None, 6, 6, 16)          784       \n",
            "_________________________________________________________________\n",
            "batch_normalization_35 (Batc (None, 6, 6, 16)          64        \n",
            "_________________________________________________________________\n",
            "leaky_re_lu_35 (LeakyReLU)   (None, 6, 6, 16)          0         \n",
            "_________________________________________________________________\n",
            "conv2d_32 (Conv2D)           (None, 6, 6, 16)          784       \n",
            "_________________________________________________________________\n",
            "batch_normalization_36 (Batc (None, 6, 6, 16)          64        \n",
            "_________________________________________________________________\n",
            "leaky_re_lu_36 (LeakyReLU)   (None, 6, 6, 16)          0         \n",
            "_________________________________________________________________\n",
            "max_pooling2d_14 (MaxPooling (None, 6, 6, 16)          0         \n",
            "_________________________________________________________________\n",
            "dropout_7 (Dropout)          (None, 6, 6, 16)          0         \n",
            "_________________________________________________________________\n",
            "flatten_2 (Flatten)          (None, 576)               0         \n",
            "_________________________________________________________________\n",
            "dense_6 (Dense)              (None, 1024)              590848    \n",
            "_________________________________________________________________\n",
            "leaky_re_lu_37 (LeakyReLU)   (None, 1024)              0         \n",
            "_________________________________________________________________\n",
            "batch_normalization_37 (Batc (None, 1024)              4096      \n",
            "_________________________________________________________________\n",
            "dense_7 (Dense)              (None, 1024)              1049600   \n",
            "_________________________________________________________________\n",
            "leaky_re_lu_38 (LeakyReLU)   (None, 1024)              0         \n",
            "_________________________________________________________________\n",
            "batch_normalization_38 (Batc (None, 1024)              4096      \n",
            "_________________________________________________________________\n",
            "dropout_8 (Dropout)          (None, 1024)              0         \n",
            "_________________________________________________________________\n",
            "dense_8 (Dense)              (None, 1)                 1025      \n",
            "_________________________________________________________________\n",
            "activation_2 (Activation)    (None, 1)                 0         \n",
            "=================================================================\n",
            "Total params: 1,658,145\n",
            "Trainable params: 1,653,697\n",
            "Non-trainable params: 4,448\n",
            "_________________________________________________________________\n"
          ],
          "name": "stdout"
        }
      ]
    },
    {
      "cell_type": "code",
      "metadata": {
        "colab_type": "code",
        "id": "R3hcTGeIIl7p",
        "colab": {
          "base_uri": "https://localhost:8080/",
          "height": 1000
        },
        "outputId": "3eb01223-9f37-4a90-c0e8-a1448f29eaaf"
      },
      "source": [
        "tuner = RandomSearch(\n",
        "    cancer_tunable,\n",
        "    objective=Objective(\"auc\", \"max\"),\n",
        "    max_trials=5,\n",
        "    executions_per_trial=3,\n",
        "    directory='test_dir'\n",
        ")\n",
        "tuner.search_space_summary()"
      ],
      "execution_count": null,
      "outputs": [
        {
          "output_type": "stream",
          "text": [
            "INFO:tensorflow:Reloading Oracle from existing project test_dir/untitled_project/oracle.json\n"
          ],
          "name": "stdout"
        },
        {
          "output_type": "display_data",
          "data": {
            "text/html": [
              "<span style=\"color:#4527A0\"><h1 style=\"font-size:18px\">Search space summary</h1></span>"
            ],
            "text/plain": [
              "<IPython.core.display.HTML object>"
            ]
          },
          "metadata": {
            "tags": []
          }
        },
        {
          "output_type": "display_data",
          "data": {
            "text/html": [
              "<span style=\"color:cyan\"> |-Default search space size: 17</span>"
            ],
            "text/plain": [
              "<IPython.core.display.HTML object>"
            ]
          },
          "metadata": {
            "tags": []
          }
        },
        {
          "output_type": "display_data",
          "data": {
            "text/html": [
              "<span style=\"color:#7E57C2\"><h2 style=\"font-size:16px\">regularization (Choice)</h2></span>"
            ],
            "text/plain": [
              "<IPython.core.display.HTML object>"
            ]
          },
          "metadata": {
            "tags": []
          }
        },
        {
          "output_type": "display_data",
          "data": {
            "text/html": [
              "<span style=\"color:cyan\"> |-default: 1e-05</span>"
            ],
            "text/plain": [
              "<IPython.core.display.HTML object>"
            ]
          },
          "metadata": {
            "tags": []
          }
        },
        {
          "output_type": "display_data",
          "data": {
            "text/html": [
              "<span style=\"color:blue\"> |-ordered: True</span>"
            ],
            "text/plain": [
              "<IPython.core.display.HTML object>"
            ]
          },
          "metadata": {
            "tags": []
          }
        },
        {
          "output_type": "display_data",
          "data": {
            "text/html": [
              "<span style=\"color:cyan\"> |-values: [1e-05, 1e-06, 1e-07]</span>"
            ],
            "text/plain": [
              "<IPython.core.display.HTML object>"
            ]
          },
          "metadata": {
            "tags": []
          }
        },
        {
          "output_type": "display_data",
          "data": {
            "text/html": [
              "<span style=\"color:#7E57C2\"><h2 style=\"font-size:16px\">filter1 (Int)</h2></span>"
            ],
            "text/plain": [
              "<IPython.core.display.HTML object>"
            ]
          },
          "metadata": {
            "tags": []
          }
        },
        {
          "output_type": "display_data",
          "data": {
            "text/html": [
              "<span style=\"color:cyan\"> |-default: None</span>"
            ],
            "text/plain": [
              "<IPython.core.display.HTML object>"
            ]
          },
          "metadata": {
            "tags": []
          }
        },
        {
          "output_type": "display_data",
          "data": {
            "text/html": [
              "<span style=\"color:blue\"> |-max_value: 256</span>"
            ],
            "text/plain": [
              "<IPython.core.display.HTML object>"
            ]
          },
          "metadata": {
            "tags": []
          }
        },
        {
          "output_type": "display_data",
          "data": {
            "text/html": [
              "<span style=\"color:cyan\"> |-min_value: 16</span>"
            ],
            "text/plain": [
              "<IPython.core.display.HTML object>"
            ]
          },
          "metadata": {
            "tags": []
          }
        },
        {
          "output_type": "display_data",
          "data": {
            "text/html": [
              "<span style=\"color:blue\"> |-sampling: None</span>"
            ],
            "text/plain": [
              "<IPython.core.display.HTML object>"
            ]
          },
          "metadata": {
            "tags": []
          }
        },
        {
          "output_type": "display_data",
          "data": {
            "text/html": [
              "<span style=\"color:cyan\"> |-step: 16</span>"
            ],
            "text/plain": [
              "<IPython.core.display.HTML object>"
            ]
          },
          "metadata": {
            "tags": []
          }
        },
        {
          "output_type": "display_data",
          "data": {
            "text/html": [
              "<span style=\"color:#7E57C2\"><h2 style=\"font-size:16px\">filter-2 (Int)</h2></span>"
            ],
            "text/plain": [
              "<IPython.core.display.HTML object>"
            ]
          },
          "metadata": {
            "tags": []
          }
        },
        {
          "output_type": "display_data",
          "data": {
            "text/html": [
              "<span style=\"color:cyan\"> |-default: None</span>"
            ],
            "text/plain": [
              "<IPython.core.display.HTML object>"
            ]
          },
          "metadata": {
            "tags": []
          }
        },
        {
          "output_type": "display_data",
          "data": {
            "text/html": [
              "<span style=\"color:blue\"> |-max_value: 256</span>"
            ],
            "text/plain": [
              "<IPython.core.display.HTML object>"
            ]
          },
          "metadata": {
            "tags": []
          }
        },
        {
          "output_type": "display_data",
          "data": {
            "text/html": [
              "<span style=\"color:cyan\"> |-min_value: 16</span>"
            ],
            "text/plain": [
              "<IPython.core.display.HTML object>"
            ]
          },
          "metadata": {
            "tags": []
          }
        },
        {
          "output_type": "display_data",
          "data": {
            "text/html": [
              "<span style=\"color:blue\"> |-sampling: None</span>"
            ],
            "text/plain": [
              "<IPython.core.display.HTML object>"
            ]
          },
          "metadata": {
            "tags": []
          }
        },
        {
          "output_type": "display_data",
          "data": {
            "text/html": [
              "<span style=\"color:cyan\"> |-step: 16</span>"
            ],
            "text/plain": [
              "<IPython.core.display.HTML object>"
            ]
          },
          "metadata": {
            "tags": []
          }
        },
        {
          "output_type": "display_data",
          "data": {
            "text/html": [
              "<span style=\"color:#7E57C2\"><h2 style=\"font-size:16px\">filter-3 (Int)</h2></span>"
            ],
            "text/plain": [
              "<IPython.core.display.HTML object>"
            ]
          },
          "metadata": {
            "tags": []
          }
        },
        {
          "output_type": "display_data",
          "data": {
            "text/html": [
              "<span style=\"color:cyan\"> |-default: None</span>"
            ],
            "text/plain": [
              "<IPython.core.display.HTML object>"
            ]
          },
          "metadata": {
            "tags": []
          }
        },
        {
          "output_type": "display_data",
          "data": {
            "text/html": [
              "<span style=\"color:blue\"> |-max_value: 256</span>"
            ],
            "text/plain": [
              "<IPython.core.display.HTML object>"
            ]
          },
          "metadata": {
            "tags": []
          }
        },
        {
          "output_type": "display_data",
          "data": {
            "text/html": [
              "<span style=\"color:cyan\"> |-min_value: 16</span>"
            ],
            "text/plain": [
              "<IPython.core.display.HTML object>"
            ]
          },
          "metadata": {
            "tags": []
          }
        },
        {
          "output_type": "display_data",
          "data": {
            "text/html": [
              "<span style=\"color:blue\"> |-sampling: None</span>"
            ],
            "text/plain": [
              "<IPython.core.display.HTML object>"
            ]
          },
          "metadata": {
            "tags": []
          }
        },
        {
          "output_type": "display_data",
          "data": {
            "text/html": [
              "<span style=\"color:cyan\"> |-step: 16</span>"
            ],
            "text/plain": [
              "<IPython.core.display.HTML object>"
            ]
          },
          "metadata": {
            "tags": []
          }
        },
        {
          "output_type": "display_data",
          "data": {
            "text/html": [
              "<span style=\"color:#7E57C2\"><h2 style=\"font-size:16px\">filter-4 (Int)</h2></span>"
            ],
            "text/plain": [
              "<IPython.core.display.HTML object>"
            ]
          },
          "metadata": {
            "tags": []
          }
        },
        {
          "output_type": "display_data",
          "data": {
            "text/html": [
              "<span style=\"color:cyan\"> |-default: None</span>"
            ],
            "text/plain": [
              "<IPython.core.display.HTML object>"
            ]
          },
          "metadata": {
            "tags": []
          }
        },
        {
          "output_type": "display_data",
          "data": {
            "text/html": [
              "<span style=\"color:blue\"> |-max_value: 256</span>"
            ],
            "text/plain": [
              "<IPython.core.display.HTML object>"
            ]
          },
          "metadata": {
            "tags": []
          }
        },
        {
          "output_type": "display_data",
          "data": {
            "text/html": [
              "<span style=\"color:cyan\"> |-min_value: 16</span>"
            ],
            "text/plain": [
              "<IPython.core.display.HTML object>"
            ]
          },
          "metadata": {
            "tags": []
          }
        },
        {
          "output_type": "display_data",
          "data": {
            "text/html": [
              "<span style=\"color:blue\"> |-sampling: None</span>"
            ],
            "text/plain": [
              "<IPython.core.display.HTML object>"
            ]
          },
          "metadata": {
            "tags": []
          }
        },
        {
          "output_type": "display_data",
          "data": {
            "text/html": [
              "<span style=\"color:cyan\"> |-step: 16</span>"
            ],
            "text/plain": [
              "<IPython.core.display.HTML object>"
            ]
          },
          "metadata": {
            "tags": []
          }
        },
        {
          "output_type": "display_data",
          "data": {
            "text/html": [
              "<span style=\"color:#7E57C2\"><h2 style=\"font-size:16px\">filter-4b (Int)</h2></span>"
            ],
            "text/plain": [
              "<IPython.core.display.HTML object>"
            ]
          },
          "metadata": {
            "tags": []
          }
        },
        {
          "output_type": "display_data",
          "data": {
            "text/html": [
              "<span style=\"color:cyan\"> |-default: None</span>"
            ],
            "text/plain": [
              "<IPython.core.display.HTML object>"
            ]
          },
          "metadata": {
            "tags": []
          }
        },
        {
          "output_type": "display_data",
          "data": {
            "text/html": [
              "<span style=\"color:blue\"> |-max_value: 256</span>"
            ],
            "text/plain": [
              "<IPython.core.display.HTML object>"
            ]
          },
          "metadata": {
            "tags": []
          }
        },
        {
          "output_type": "display_data",
          "data": {
            "text/html": [
              "<span style=\"color:cyan\"> |-min_value: 16</span>"
            ],
            "text/plain": [
              "<IPython.core.display.HTML object>"
            ]
          },
          "metadata": {
            "tags": []
          }
        },
        {
          "output_type": "display_data",
          "data": {
            "text/html": [
              "<span style=\"color:blue\"> |-sampling: None</span>"
            ],
            "text/plain": [
              "<IPython.core.display.HTML object>"
            ]
          },
          "metadata": {
            "tags": []
          }
        },
        {
          "output_type": "display_data",
          "data": {
            "text/html": [
              "<span style=\"color:cyan\"> |-step: 16</span>"
            ],
            "text/plain": [
              "<IPython.core.display.HTML object>"
            ]
          },
          "metadata": {
            "tags": []
          }
        },
        {
          "output_type": "display_data",
          "data": {
            "text/html": [
              "<span style=\"color:#7E57C2\"><h2 style=\"font-size:16px\">dropout_val-1 (Float)</h2></span>"
            ],
            "text/plain": [
              "<IPython.core.display.HTML object>"
            ]
          },
          "metadata": {
            "tags": []
          }
        },
        {
          "output_type": "display_data",
          "data": {
            "text/html": [
              "<span style=\"color:cyan\"> |-default: 0.2</span>"
            ],
            "text/plain": [
              "<IPython.core.display.HTML object>"
            ]
          },
          "metadata": {
            "tags": []
          }
        },
        {
          "output_type": "display_data",
          "data": {
            "text/html": [
              "<span style=\"color:blue\"> |-max_value: 0.45</span>"
            ],
            "text/plain": [
              "<IPython.core.display.HTML object>"
            ]
          },
          "metadata": {
            "tags": []
          }
        },
        {
          "output_type": "display_data",
          "data": {
            "text/html": [
              "<span style=\"color:cyan\"> |-min_value: 0.2</span>"
            ],
            "text/plain": [
              "<IPython.core.display.HTML object>"
            ]
          },
          "metadata": {
            "tags": []
          }
        },
        {
          "output_type": "display_data",
          "data": {
            "text/html": [
              "<span style=\"color:blue\"> |-sampling: None</span>"
            ],
            "text/plain": [
              "<IPython.core.display.HTML object>"
            ]
          },
          "metadata": {
            "tags": []
          }
        },
        {
          "output_type": "display_data",
          "data": {
            "text/html": [
              "<span style=\"color:cyan\"> |-step: 0.05</span>"
            ],
            "text/plain": [
              "<IPython.core.display.HTML object>"
            ]
          },
          "metadata": {
            "tags": []
          }
        },
        {
          "output_type": "display_data",
          "data": {
            "text/html": [
              "<span style=\"color:#7E57C2\"><h2 style=\"font-size:16px\">filter-5 (Int)</h2></span>"
            ],
            "text/plain": [
              "<IPython.core.display.HTML object>"
            ]
          },
          "metadata": {
            "tags": []
          }
        },
        {
          "output_type": "display_data",
          "data": {
            "text/html": [
              "<span style=\"color:cyan\"> |-default: None</span>"
            ],
            "text/plain": [
              "<IPython.core.display.HTML object>"
            ]
          },
          "metadata": {
            "tags": []
          }
        },
        {
          "output_type": "display_data",
          "data": {
            "text/html": [
              "<span style=\"color:blue\"> |-max_value: 256</span>"
            ],
            "text/plain": [
              "<IPython.core.display.HTML object>"
            ]
          },
          "metadata": {
            "tags": []
          }
        },
        {
          "output_type": "display_data",
          "data": {
            "text/html": [
              "<span style=\"color:cyan\"> |-min_value: 16</span>"
            ],
            "text/plain": [
              "<IPython.core.display.HTML object>"
            ]
          },
          "metadata": {
            "tags": []
          }
        },
        {
          "output_type": "display_data",
          "data": {
            "text/html": [
              "<span style=\"color:blue\"> |-sampling: None</span>"
            ],
            "text/plain": [
              "<IPython.core.display.HTML object>"
            ]
          },
          "metadata": {
            "tags": []
          }
        },
        {
          "output_type": "display_data",
          "data": {
            "text/html": [
              "<span style=\"color:cyan\"> |-step: 16</span>"
            ],
            "text/plain": [
              "<IPython.core.display.HTML object>"
            ]
          },
          "metadata": {
            "tags": []
          }
        },
        {
          "output_type": "display_data",
          "data": {
            "text/html": [
              "<span style=\"color:#7E57C2\"><h2 style=\"font-size:16px\">filter-6 (Int)</h2></span>"
            ],
            "text/plain": [
              "<IPython.core.display.HTML object>"
            ]
          },
          "metadata": {
            "tags": []
          }
        },
        {
          "output_type": "display_data",
          "data": {
            "text/html": [
              "<span style=\"color:cyan\"> |-default: None</span>"
            ],
            "text/plain": [
              "<IPython.core.display.HTML object>"
            ]
          },
          "metadata": {
            "tags": []
          }
        },
        {
          "output_type": "display_data",
          "data": {
            "text/html": [
              "<span style=\"color:blue\"> |-max_value: 256</span>"
            ],
            "text/plain": [
              "<IPython.core.display.HTML object>"
            ]
          },
          "metadata": {
            "tags": []
          }
        },
        {
          "output_type": "display_data",
          "data": {
            "text/html": [
              "<span style=\"color:cyan\"> |-min_value: 16</span>"
            ],
            "text/plain": [
              "<IPython.core.display.HTML object>"
            ]
          },
          "metadata": {
            "tags": []
          }
        },
        {
          "output_type": "display_data",
          "data": {
            "text/html": [
              "<span style=\"color:blue\"> |-sampling: None</span>"
            ],
            "text/plain": [
              "<IPython.core.display.HTML object>"
            ]
          },
          "metadata": {
            "tags": []
          }
        },
        {
          "output_type": "display_data",
          "data": {
            "text/html": [
              "<span style=\"color:cyan\"> |-step: 16</span>"
            ],
            "text/plain": [
              "<IPython.core.display.HTML object>"
            ]
          },
          "metadata": {
            "tags": []
          }
        },
        {
          "output_type": "display_data",
          "data": {
            "text/html": [
              "<span style=\"color:#7E57C2\"><h2 style=\"font-size:16px\">filter-7 (Int)</h2></span>"
            ],
            "text/plain": [
              "<IPython.core.display.HTML object>"
            ]
          },
          "metadata": {
            "tags": []
          }
        },
        {
          "output_type": "display_data",
          "data": {
            "text/html": [
              "<span style=\"color:cyan\"> |-default: None</span>"
            ],
            "text/plain": [
              "<IPython.core.display.HTML object>"
            ]
          },
          "metadata": {
            "tags": []
          }
        },
        {
          "output_type": "display_data",
          "data": {
            "text/html": [
              "<span style=\"color:blue\"> |-max_value: 256</span>"
            ],
            "text/plain": [
              "<IPython.core.display.HTML object>"
            ]
          },
          "metadata": {
            "tags": []
          }
        },
        {
          "output_type": "display_data",
          "data": {
            "text/html": [
              "<span style=\"color:cyan\"> |-min_value: 16</span>"
            ],
            "text/plain": [
              "<IPython.core.display.HTML object>"
            ]
          },
          "metadata": {
            "tags": []
          }
        },
        {
          "output_type": "display_data",
          "data": {
            "text/html": [
              "<span style=\"color:blue\"> |-sampling: None</span>"
            ],
            "text/plain": [
              "<IPython.core.display.HTML object>"
            ]
          },
          "metadata": {
            "tags": []
          }
        },
        {
          "output_type": "display_data",
          "data": {
            "text/html": [
              "<span style=\"color:cyan\"> |-step: 16</span>"
            ],
            "text/plain": [
              "<IPython.core.display.HTML object>"
            ]
          },
          "metadata": {
            "tags": []
          }
        },
        {
          "output_type": "display_data",
          "data": {
            "text/html": [
              "<span style=\"color:#7E57C2\"><h2 style=\"font-size:16px\">filter-8 (Int)</h2></span>"
            ],
            "text/plain": [
              "<IPython.core.display.HTML object>"
            ]
          },
          "metadata": {
            "tags": []
          }
        },
        {
          "output_type": "display_data",
          "data": {
            "text/html": [
              "<span style=\"color:cyan\"> |-default: None</span>"
            ],
            "text/plain": [
              "<IPython.core.display.HTML object>"
            ]
          },
          "metadata": {
            "tags": []
          }
        },
        {
          "output_type": "display_data",
          "data": {
            "text/html": [
              "<span style=\"color:blue\"> |-max_value: 256</span>"
            ],
            "text/plain": [
              "<IPython.core.display.HTML object>"
            ]
          },
          "metadata": {
            "tags": []
          }
        },
        {
          "output_type": "display_data",
          "data": {
            "text/html": [
              "<span style=\"color:cyan\"> |-min_value: 16</span>"
            ],
            "text/plain": [
              "<IPython.core.display.HTML object>"
            ]
          },
          "metadata": {
            "tags": []
          }
        },
        {
          "output_type": "display_data",
          "data": {
            "text/html": [
              "<span style=\"color:blue\"> |-sampling: None</span>"
            ],
            "text/plain": [
              "<IPython.core.display.HTML object>"
            ]
          },
          "metadata": {
            "tags": []
          }
        },
        {
          "output_type": "display_data",
          "data": {
            "text/html": [
              "<span style=\"color:cyan\"> |-step: 16</span>"
            ],
            "text/plain": [
              "<IPython.core.display.HTML object>"
            ]
          },
          "metadata": {
            "tags": []
          }
        },
        {
          "output_type": "display_data",
          "data": {
            "text/html": [
              "<span style=\"color:#7E57C2\"><h2 style=\"font-size:16px\">filter-9 (Int)</h2></span>"
            ],
            "text/plain": [
              "<IPython.core.display.HTML object>"
            ]
          },
          "metadata": {
            "tags": []
          }
        },
        {
          "output_type": "display_data",
          "data": {
            "text/html": [
              "<span style=\"color:cyan\"> |-default: None</span>"
            ],
            "text/plain": [
              "<IPython.core.display.HTML object>"
            ]
          },
          "metadata": {
            "tags": []
          }
        },
        {
          "output_type": "display_data",
          "data": {
            "text/html": [
              "<span style=\"color:blue\"> |-max_value: 256</span>"
            ],
            "text/plain": [
              "<IPython.core.display.HTML object>"
            ]
          },
          "metadata": {
            "tags": []
          }
        },
        {
          "output_type": "display_data",
          "data": {
            "text/html": [
              "<span style=\"color:cyan\"> |-min_value: 16</span>"
            ],
            "text/plain": [
              "<IPython.core.display.HTML object>"
            ]
          },
          "metadata": {
            "tags": []
          }
        },
        {
          "output_type": "display_data",
          "data": {
            "text/html": [
              "<span style=\"color:blue\"> |-sampling: None</span>"
            ],
            "text/plain": [
              "<IPython.core.display.HTML object>"
            ]
          },
          "metadata": {
            "tags": []
          }
        },
        {
          "output_type": "display_data",
          "data": {
            "text/html": [
              "<span style=\"color:cyan\"> |-step: 16</span>"
            ],
            "text/plain": [
              "<IPython.core.display.HTML object>"
            ]
          },
          "metadata": {
            "tags": []
          }
        },
        {
          "output_type": "display_data",
          "data": {
            "text/html": [
              "<span style=\"color:#7E57C2\"><h2 style=\"font-size:16px\">filter-10 (Int)</h2></span>"
            ],
            "text/plain": [
              "<IPython.core.display.HTML object>"
            ]
          },
          "metadata": {
            "tags": []
          }
        },
        {
          "output_type": "display_data",
          "data": {
            "text/html": [
              "<span style=\"color:cyan\"> |-default: None</span>"
            ],
            "text/plain": [
              "<IPython.core.display.HTML object>"
            ]
          },
          "metadata": {
            "tags": []
          }
        },
        {
          "output_type": "display_data",
          "data": {
            "text/html": [
              "<span style=\"color:blue\"> |-max_value: 256</span>"
            ],
            "text/plain": [
              "<IPython.core.display.HTML object>"
            ]
          },
          "metadata": {
            "tags": []
          }
        },
        {
          "output_type": "display_data",
          "data": {
            "text/html": [
              "<span style=\"color:cyan\"> |-min_value: 16</span>"
            ],
            "text/plain": [
              "<IPython.core.display.HTML object>"
            ]
          },
          "metadata": {
            "tags": []
          }
        },
        {
          "output_type": "display_data",
          "data": {
            "text/html": [
              "<span style=\"color:blue\"> |-sampling: None</span>"
            ],
            "text/plain": [
              "<IPython.core.display.HTML object>"
            ]
          },
          "metadata": {
            "tags": []
          }
        },
        {
          "output_type": "display_data",
          "data": {
            "text/html": [
              "<span style=\"color:cyan\"> |-step: 16</span>"
            ],
            "text/plain": [
              "<IPython.core.display.HTML object>"
            ]
          },
          "metadata": {
            "tags": []
          }
        },
        {
          "output_type": "display_data",
          "data": {
            "text/html": [
              "<span style=\"color:#7E57C2\"><h2 style=\"font-size:16px\">dropout_val-2 (Float)</h2></span>"
            ],
            "text/plain": [
              "<IPython.core.display.HTML object>"
            ]
          },
          "metadata": {
            "tags": []
          }
        },
        {
          "output_type": "display_data",
          "data": {
            "text/html": [
              "<span style=\"color:cyan\"> |-default: 0.2</span>"
            ],
            "text/plain": [
              "<IPython.core.display.HTML object>"
            ]
          },
          "metadata": {
            "tags": []
          }
        },
        {
          "output_type": "display_data",
          "data": {
            "text/html": [
              "<span style=\"color:blue\"> |-max_value: 0.49</span>"
            ],
            "text/plain": [
              "<IPython.core.display.HTML object>"
            ]
          },
          "metadata": {
            "tags": []
          }
        },
        {
          "output_type": "display_data",
          "data": {
            "text/html": [
              "<span style=\"color:cyan\"> |-min_value: 0.2</span>"
            ],
            "text/plain": [
              "<IPython.core.display.HTML object>"
            ]
          },
          "metadata": {
            "tags": []
          }
        },
        {
          "output_type": "display_data",
          "data": {
            "text/html": [
              "<span style=\"color:blue\"> |-sampling: None</span>"
            ],
            "text/plain": [
              "<IPython.core.display.HTML object>"
            ]
          },
          "metadata": {
            "tags": []
          }
        },
        {
          "output_type": "display_data",
          "data": {
            "text/html": [
              "<span style=\"color:cyan\"> |-step: 0.05</span>"
            ],
            "text/plain": [
              "<IPython.core.display.HTML object>"
            ]
          },
          "metadata": {
            "tags": []
          }
        },
        {
          "output_type": "display_data",
          "data": {
            "text/html": [
              "<span style=\"color:#7E57C2\"><h2 style=\"font-size:16px\">dense-1 (Int)</h2></span>"
            ],
            "text/plain": [
              "<IPython.core.display.HTML object>"
            ]
          },
          "metadata": {
            "tags": []
          }
        },
        {
          "output_type": "display_data",
          "data": {
            "text/html": [
              "<span style=\"color:cyan\"> |-default: None</span>"
            ],
            "text/plain": [
              "<IPython.core.display.HTML object>"
            ]
          },
          "metadata": {
            "tags": []
          }
        },
        {
          "output_type": "display_data",
          "data": {
            "text/html": [
              "<span style=\"color:blue\"> |-max_value: 90</span>"
            ],
            "text/plain": [
              "<IPython.core.display.HTML object>"
            ]
          },
          "metadata": {
            "tags": []
          }
        },
        {
          "output_type": "display_data",
          "data": {
            "text/html": [
              "<span style=\"color:cyan\"> |-min_value: 16</span>"
            ],
            "text/plain": [
              "<IPython.core.display.HTML object>"
            ]
          },
          "metadata": {
            "tags": []
          }
        },
        {
          "output_type": "display_data",
          "data": {
            "text/html": [
              "<span style=\"color:blue\"> |-sampling: None</span>"
            ],
            "text/plain": [
              "<IPython.core.display.HTML object>"
            ]
          },
          "metadata": {
            "tags": []
          }
        },
        {
          "output_type": "display_data",
          "data": {
            "text/html": [
              "<span style=\"color:cyan\"> |-step: 8</span>"
            ],
            "text/plain": [
              "<IPython.core.display.HTML object>"
            ]
          },
          "metadata": {
            "tags": []
          }
        },
        {
          "output_type": "display_data",
          "data": {
            "text/html": [
              "<span style=\"color:#7E57C2\"><h2 style=\"font-size:16px\">dense-2 (Int)</h2></span>"
            ],
            "text/plain": [
              "<IPython.core.display.HTML object>"
            ]
          },
          "metadata": {
            "tags": []
          }
        },
        {
          "output_type": "display_data",
          "data": {
            "text/html": [
              "<span style=\"color:cyan\"> |-default: None</span>"
            ],
            "text/plain": [
              "<IPython.core.display.HTML object>"
            ]
          },
          "metadata": {
            "tags": []
          }
        },
        {
          "output_type": "display_data",
          "data": {
            "text/html": [
              "<span style=\"color:blue\"> |-max_value: 90</span>"
            ],
            "text/plain": [
              "<IPython.core.display.HTML object>"
            ]
          },
          "metadata": {
            "tags": []
          }
        },
        {
          "output_type": "display_data",
          "data": {
            "text/html": [
              "<span style=\"color:cyan\"> |-min_value: 16</span>"
            ],
            "text/plain": [
              "<IPython.core.display.HTML object>"
            ]
          },
          "metadata": {
            "tags": []
          }
        },
        {
          "output_type": "display_data",
          "data": {
            "text/html": [
              "<span style=\"color:blue\"> |-sampling: None</span>"
            ],
            "text/plain": [
              "<IPython.core.display.HTML object>"
            ]
          },
          "metadata": {
            "tags": []
          }
        },
        {
          "output_type": "display_data",
          "data": {
            "text/html": [
              "<span style=\"color:cyan\"> |-step: 8</span>"
            ],
            "text/plain": [
              "<IPython.core.display.HTML object>"
            ]
          },
          "metadata": {
            "tags": []
          }
        },
        {
          "output_type": "display_data",
          "data": {
            "text/html": [
              "<span style=\"color:#7E57C2\"><h2 style=\"font-size:16px\">lr (Choice)</h2></span>"
            ],
            "text/plain": [
              "<IPython.core.display.HTML object>"
            ]
          },
          "metadata": {
            "tags": []
          }
        },
        {
          "output_type": "display_data",
          "data": {
            "text/html": [
              "<span style=\"color:cyan\"> |-default: 1e-05</span>"
            ],
            "text/plain": [
              "<IPython.core.display.HTML object>"
            ]
          },
          "metadata": {
            "tags": []
          }
        },
        {
          "output_type": "display_data",
          "data": {
            "text/html": [
              "<span style=\"color:blue\"> |-ordered: True</span>"
            ],
            "text/plain": [
              "<IPython.core.display.HTML object>"
            ]
          },
          "metadata": {
            "tags": []
          }
        },
        {
          "output_type": "display_data",
          "data": {
            "text/html": [
              "<span style=\"color:cyan\"> |-values: [1e-05, 0.001, 0.0005]</span>"
            ],
            "text/plain": [
              "<IPython.core.display.HTML object>"
            ]
          },
          "metadata": {
            "tags": []
          }
        }
      ]
    },
    {
      "cell_type": "code",
      "metadata": {
        "colab_type": "code",
        "id": "Myt_NBc4IvYv",
        "colab": {}
      },
      "source": [
        "# CID - Cancer Imaging Database\n",
        "\n",
        "callbacks = []\n",
        "sample_path = os.path.join(os.getcwd(), \"kerastuner-cid.hdf5\")\n",
        "\n",
        "callbacks.append(tf.keras.callbacks.EarlyStopping('val_auc', verbose=1, \n",
        "                                                  patience=50, \n",
        "                                                  restore_best_weights=\n",
        "                                                  True))\n",
        "callbacks.append(tf.keras.callbacks.ModelCheckpoint(sample_path, \n",
        "                                                    monitor='val_auc', \n",
        "                                                    save_weights_only=False,\n",
        "                                                    save_best_only=True, \n",
        "                                                    verbose=1, \n",
        "                                                    save_freq='epoch'))"
      ],
      "execution_count": null,
      "outputs": []
    },
    {
      "cell_type": "markdown",
      "metadata": {
        "colab_type": "text",
        "id": "5pqjFmKNKyo3"
      },
      "source": [
        "Above: Basic callbacks to monitor the progress. Not really needed.\n",
        "\n",
        "Below: The actual parameter tuning. It will take around 5 hours to tune the model for around 750 epochs. A **large batch size** is required because of the class imbalance so all classes are captured in the mini-batch."
      ]
    },
    {
      "cell_type": "markdown",
      "metadata": {
        "id": "oDLpkpUzEHL3",
        "colab_type": "text"
      },
      "source": [
        "However, if the `UnboundLocalError` occurs, then lower the batch size!!!"
      ]
    },
    {
      "cell_type": "code",
      "metadata": {
        "colab_type": "code",
        "id": "GiLHeH3lI9AQ",
        "colab": {
          "base_uri": "https://localhost:8080/",
          "height": 734
        },
        "outputId": "c3a4b3a1-a763-4173-8c4e-e09a6277cec4"
      },
      "source": [
        "EPOCHS = 50\n",
        "BATCH_SIZE = 2 # for small data only\n",
        "\n",
        "tuner.search(data_gen.flow(x_train, y_train, batch_size=BATCH_SIZE),\n",
        "                      epochs=EPOCHS,\n",
        "                      steps_per_epoch=(len(x_train) // BATCH_SIZE),\n",
        "                      class_weight=class_weights, \n",
        "                      validation_data=(x_test, y_test), callbacks=callbacks)"
      ],
      "execution_count": null,
      "outputs": [
        {
          "output_type": "stream",
          "text": [
            "Epoch 1/50\n",
            "48/48 [==============================] - ETA: 0s - loss: 7.5580 - accuracy: 0.2842 - auc: 0.5000\n",
            "Epoch 00001: val_auc improved from inf to 0.50000, saving model to /content/kerastuner-cid.hdf5\n",
            "48/48 [==============================] - 55s 1s/step - loss: 7.5580 - accuracy: 0.2842 - auc: 0.5000 - val_loss: 11.1006 - val_accuracy: 0.2727 - val_auc: 0.5000\n",
            "Epoch 2/50\n",
            "48/48 [==============================] - ETA: 0s - loss: 7.6690 - accuracy: 0.2737 - auc: 0.5000\n",
            "Epoch 00002: val_auc did not improve from 0.50000\n",
            "48/48 [==============================] - 54s 1s/step - loss: 7.6690 - accuracy: 0.2737 - auc: 0.5000 - val_loss: 11.1006 - val_accuracy: 0.2727 - val_auc: 0.5000\n",
            "Epoch 3/50\n",
            "48/48 [==============================] - ETA: 0s - loss: 7.5580 - accuracy: 0.2842 - auc: 0.5000\n",
            "Epoch 00003: val_auc did not improve from 0.50000\n",
            "48/48 [==============================] - 55s 1s/step - loss: 7.5580 - accuracy: 0.2842 - auc: 0.5000 - val_loss: 11.1006 - val_accuracy: 0.2727 - val_auc: 0.5000\n",
            "Epoch 4/50\n",
            "48/48 [==============================] - ETA: 0s - loss: 7.6690 - accuracy: 0.2737 - auc: 0.5000\n",
            "Epoch 00004: val_auc did not improve from 0.50000\n",
            "48/48 [==============================] - 55s 1s/step - loss: 7.6690 - accuracy: 0.2737 - auc: 0.5000 - val_loss: 11.1006 - val_accuracy: 0.2727 - val_auc: 0.5000\n",
            "Epoch 5/50\n",
            "48/48 [==============================] - ETA: 0s - loss: 7.5580 - accuracy: 0.2842 - auc: 0.5000\n",
            "Epoch 00005: val_auc did not improve from 0.50000\n",
            "48/48 [==============================] - 53s 1s/step - loss: 7.5580 - accuracy: 0.2842 - auc: 0.5000 - val_loss: 11.1006 - val_accuracy: 0.2727 - val_auc: 0.5000\n",
            "Epoch 6/50\n",
            "48/48 [==============================] - ETA: 0s - loss: 7.5580 - accuracy: 0.2842 - auc: 0.5000\n",
            "Epoch 00006: val_auc did not improve from 0.50000\n",
            "48/48 [==============================] - 54s 1s/step - loss: 7.5580 - accuracy: 0.2842 - auc: 0.5000 - val_loss: 11.1006 - val_accuracy: 0.2727 - val_auc: 0.5000\n",
            "Epoch 7/50\n",
            "48/48 [==============================] - ETA: 0s - loss: 7.6690 - accuracy: 0.2737 - auc: 0.5000\n",
            "Epoch 00007: val_auc did not improve from 0.50000\n",
            "48/48 [==============================] - 53s 1s/step - loss: 7.6690 - accuracy: 0.2737 - auc: 0.5000 - val_loss: 11.1006 - val_accuracy: 0.2727 - val_auc: 0.5000\n",
            "Epoch 8/50\n",
            "48/48 [==============================] - ETA: 0s - loss: 7.5580 - accuracy: 0.2842 - auc: 0.5000\n",
            "Epoch 00008: val_auc did not improve from 0.50000\n",
            "48/48 [==============================] - 51s 1s/step - loss: 7.5580 - accuracy: 0.2842 - auc: 0.5000 - val_loss: 11.1006 - val_accuracy: 0.2727 - val_auc: 0.5000\n",
            "Epoch 9/50\n",
            "48/48 [==============================] - ETA: 0s - loss: 7.6690 - accuracy: 0.2737 - auc: 0.5000\n",
            "Epoch 00009: val_auc did not improve from 0.50000\n",
            "48/48 [==============================] - 50s 1s/step - loss: 7.6690 - accuracy: 0.2737 - auc: 0.5000 - val_loss: 11.1006 - val_accuracy: 0.2727 - val_auc: 0.5000\n",
            "Epoch 10/50\n",
            "48/48 [==============================] - ETA: 0s - loss: 7.5580 - accuracy: 0.2842 - auc: 0.5000\n",
            "Epoch 00010: val_auc did not improve from 0.50000\n",
            "48/48 [==============================] - 50s 1s/step - loss: 7.5580 - accuracy: 0.2842 - auc: 0.5000 - val_loss: 11.1006 - val_accuracy: 0.2727 - val_auc: 0.5000\n",
            "Epoch 11/50\n",
            "46/48 [===========================>..] - ETA: 2s - loss: 7.6580 - accuracy: 0.2747 - auc: 0.5000"
          ],
          "name": "stdout"
        }
      ]
    },
    {
      "cell_type": "code",
      "metadata": {
        "colab_type": "code",
        "id": "R2t0Usu1JnKM",
        "colab": {}
      },
      "source": [
        "best_hps = tuner.get_best_hyperparameters(num_trials=3)[0]"
      ],
      "execution_count": null,
      "outputs": []
    },
    {
      "cell_type": "markdown",
      "metadata": {
        "id": "P2jx1SQ_Y1Fz",
        "colab_type": "text"
      },
      "source": [
        "If no hyperparameters saved, load it from the pickle file."
      ]
    },
    {
      "cell_type": "code",
      "metadata": {
        "colab_type": "code",
        "id": "k7XoTyjkKTg2",
        "colab": {}
      },
      "source": [
        "import pickle\n",
        "\n",
        "parameter_file = \"/content/cancer-hyperparameters.p\"\n",
        "\n",
        "if os.path.exists(parameter_file):\n",
        "  with open(parameter_file, 'rb') as pk:\n",
        "    best_hps = pickle.load(pk)"
      ],
      "execution_count": null,
      "outputs": []
    },
    {
      "cell_type": "markdown",
      "metadata": {
        "colab_type": "text",
        "id": "oLWTqT9LLF2P"
      },
      "source": [
        "Hyperparameters obtained from the model:\n",
        "\n",
        "Saved via the *pickle* module."
      ]
    },
    {
      "cell_type": "code",
      "metadata": {
        "colab_type": "code",
        "id": "AxXNhKxQKElt",
        "colab": {}
      },
      "source": [
        "trainable = ('regularization', 'filter1', 'filter-2', 'filter-3', 'filter-4', 'filter-4b', 'filter-5', \n",
        "             'filter-6', 'filter-7', 'filter-8', 'filter-9', 'filter-10',\n",
        "             'dropout_val','dropout_val-1', 'dropout_val-2', 'dropout_val-3', 'lr', 'dense-1', 'dense-2')\n",
        "\n",
        "for search_space in trainable:\n",
        "  print(f\"The best value for the '{search_space}' variable was {best_hps.get(search_space)}\")"
      ],
      "execution_count": null,
      "outputs": []
    },
    {
      "cell_type": "code",
      "metadata": {
        "colab_type": "code",
        "id": "C659RZzoKPG8",
        "colab": {}
      },
      "source": [
        "import pickle\n",
        "\n",
        "with open(parameter_file, 'wb') as pk:\n",
        "  pickle.dump(best_hps, pk)"
      ],
      "execution_count": null,
      "outputs": []
    },
    {
      "cell_type": "markdown",
      "metadata": {
        "colab_type": "text",
        "id": "y3aRBjBUi12H"
      },
      "source": [
        "Now, we print the models to see their summary and number of parameters in each."
      ]
    },
    {
      "cell_type": "code",
      "metadata": {
        "colab_type": "code",
        "id": "JH1We1lv0yDL",
        "colab": {
          "base_uri": "https://localhost:8080/",
          "height": 1000
        },
        "outputId": "a5da6842-7821-4b5d-f9ae-fda4981f375b"
      },
      "source": [
        "model_path = 'drive/My Drive/Colab Notebooks/best-cancer-model.hdf5'\n",
        "\n",
        "tf.keras.utils.plot_model(model, 'cancer-vis.png', show_shapes=True)"
      ],
      "execution_count": null,
      "outputs": [
        {
          "output_type": "stream",
          "text": [
            "Model: \"sequential_1\"\n",
            "_________________________________________________________________\n",
            "Layer (type)                 Output Shape              Param #   \n",
            "=================================================================\n",
            "conv2d_6 (Conv2D)            (None, 32, 32, 8)         224       \n",
            "_________________________________________________________________\n",
            "activation_9 (Activation)    (None, 32, 32, 8)         0         \n",
            "_________________________________________________________________\n",
            "max_pooling2d_4 (MaxPooling2 (None, 16, 16, 8)         0         \n",
            "_________________________________________________________________\n",
            "conv2d_7 (Conv2D)            (None, 16, 16, 16)        400       \n",
            "_________________________________________________________________\n",
            "activation_10 (Activation)   (None, 16, 16, 16)        0         \n",
            "_________________________________________________________________\n",
            "max_pooling2d_5 (MaxPooling2 (None, 8, 8, 16)          0         \n",
            "_________________________________________________________________\n",
            "conv2d_8 (Conv2D)            (None, 8, 8, 16)          784       \n",
            "_________________________________________________________________\n",
            "batch_normalization_3 (Batch (None, 8, 8, 16)          64        \n",
            "_________________________________________________________________\n",
            "activation_11 (Activation)   (None, 8, 8, 16)          0         \n",
            "_________________________________________________________________\n",
            "dropout_4 (Dropout)          (None, 8, 8, 16)          0         \n",
            "_________________________________________________________________\n",
            "conv2d_9 (Conv2D)            (None, 8, 8, 32)          1568      \n",
            "_________________________________________________________________\n",
            "activation_12 (Activation)   (None, 8, 8, 32)          0         \n",
            "_________________________________________________________________\n",
            "max_pooling2d_6 (MaxPooling2 (None, 4, 4, 32)          0         \n",
            "_________________________________________________________________\n",
            "conv2d_10 (Conv2D)           (None, 4, 4, 32)          3104      \n",
            "_________________________________________________________________\n",
            "batch_normalization_4 (Batch (None, 4, 4, 32)          128       \n",
            "_________________________________________________________________\n",
            "activation_13 (Activation)   (None, 4, 4, 32)          0         \n",
            "_________________________________________________________________\n",
            "conv2d_11 (Conv2D)           (None, 4, 4, 32)          3104      \n",
            "_________________________________________________________________\n",
            "activation_14 (Activation)   (None, 4, 4, 32)          0         \n",
            "_________________________________________________________________\n",
            "dropout_5 (Dropout)          (None, 4, 4, 32)          0         \n",
            "_________________________________________________________________\n",
            "max_pooling2d_7 (MaxPooling2 (None, 2, 2, 32)          0         \n",
            "_________________________________________________________________\n",
            "flatten_2 (Flatten)          (None, 128)               0         \n",
            "_________________________________________________________________\n",
            "dense_3 (Dense)              (None, 128)               16512     \n",
            "_________________________________________________________________\n",
            "activation_15 (Activation)   (None, 128)               0         \n",
            "_________________________________________________________________\n",
            "batch_normalization_5 (Batch (None, 128)               512       \n",
            "_________________________________________________________________\n",
            "dropout_6 (Dropout)          (None, 128)               0         \n",
            "_________________________________________________________________\n",
            "dense_4 (Dense)              (None, 128)               16512     \n",
            "_________________________________________________________________\n",
            "activation_16 (Activation)   (None, 128)               0         \n",
            "_________________________________________________________________\n",
            "dropout_7 (Dropout)          (None, 128)               0         \n",
            "_________________________________________________________________\n",
            "flatten_3 (Flatten)          (None, 128)               0         \n",
            "_________________________________________________________________\n",
            "dense_5 (Dense)              (None, 1)                 129       \n",
            "_________________________________________________________________\n",
            "activation_17 (Activation)   (None, 1)                 0         \n",
            "=================================================================\n",
            "Total params: 43,041\n",
            "Trainable params: 42,689\n",
            "Non-trainable params: 352\n",
            "_________________________________________________________________\n",
            "\n"
          ],
          "name": "stdout"
        }
      ]
    },
    {
      "cell_type": "markdown",
      "metadata": {
        "colab_type": "text",
        "id": "WM3f-PcnR-YP"
      },
      "source": [
        "# Executing the Model\n",
        "Now, the model built above will be executed with the training set. If there are more than one GPUs on the computer this file is being called in, then it will parallelize the model between the GPUs, else it will execute on the one GPU and CPU. "
      ]
    },
    {
      "cell_type": "code",
      "metadata": {
        "colab_type": "code",
        "id": "ApLHVEugUVNu",
        "colab": {
          "base_uri": "https://localhost:8080/",
          "height": 68
        },
        "outputId": "a6b25ed0-1b61-439c-a063-99b737932a52"
      },
      "source": [
        "print(tf.keras.__version__)\n",
        "\n",
        "devices = device_lib.list_local_devices()\n",
        "gpus = [devices[i].device_type in devices for (i, device) in enumerate(devices) if \"GPU\" in devices[i].device_type]\n",
        "\n",
        "isParallel = any(gpus)\n",
        "print(f\"Are there any GPUs I can use? \" {isParallel})\n"
      ],
      "execution_count": null,
      "outputs": [
        {
          "output_type": "stream",
          "text": [
            "2.3.0-tf\n",
            "[False, False]\n",
            "25000\n"
          ],
          "name": "stdout"
        }
      ]
    },
    {
      "cell_type": "markdown",
      "metadata": {
        "colab_type": "text",
        "id": "mRsEaI-7bxq1"
      },
      "source": [
        "Setting up to tune the learning rate."
      ]
    },
    {
      "cell_type": "code",
      "metadata": {
        "colab_type": "code",
        "id": "Np2Oxa8qcFUk",
        "colab": {}
      },
      "source": [
        "%load_ext tensorboard\n",
        "import tensorflow.keras.backend as K\n",
        "from datetime import datetime\n",
        "from tensorflow.keras.models import load_model"
      ],
      "execution_count": null,
      "outputs": []
    },
    {
      "cell_type": "code",
      "metadata": {
        "colab_type": "code",
        "id": "i40UeQLbhInp",
        "colab": {}
      },
      "source": [
        "kcallbacks = []\n",
        "logdir = \"logs/scalars/\" + datetime.now().strftime(\"%m%d%y-%H%M%S\")\n",
        "model_path = 'drive/My Drive/Colab Notebooks/bestcancer-tunedmodel.hdf5'\n",
        "kcallbacks.append(tf.keras.callbacks.ModelCheckpoint(model_path, \n",
        "                                                    monitor='val_auc', \n",
        "                                                    save_weights_only=False,\n",
        "                                                    save_best_only=True, \n",
        "                                                    verbose=1, \n",
        "                                                    save_freq='epoch'))\n",
        "kcallbacks.append(tf.keras.callbacks.TensorBoard(\n",
        "    log_dir=logdir))\n",
        "\n",
        "print(model_path, \"\\n\", logdir)"
      ],
      "execution_count": null,
      "outputs": []
    },
    {
      "cell_type": "code",
      "metadata": {
        "colab_type": "code",
        "id": "1tyz6pbHbvz4",
        "colab": {}
      },
      "source": [
        "if os.path.exists(model_path):\n",
        "  model = load_model(model_path)\n",
        "  print(f'[INFO] Current Learning Rate of Model Is: {K.get_value(model.optimizer.lr)}')\n",
        "  print(f'[INFO] Changing LR to {K.get_value(model.optimizer.lr) / 10}')\n",
        "  K.set_value(model.optimizer.lr, K.get_value(model.optimizer.lr) / 10)\n",
        "  K.set_value(model.optimizer.lr, 5e-2)\n",
        "  print(f'[INFO] New Learning Rate Is: {K.get_value(model.optimizer.lr)}')\n",
        "else:\n",
        "  model = tuner.hypermodel.build(best_hps)\n",
        "  K.set_value(model.optimizer.lr, model.optimizer.lr * 10**2)\n",
        "  print(f'[INFO] Current Learning Rate of Model Is: {K.get_value(model.optimizer.lr)}')"
      ],
      "execution_count": null,
      "outputs": []
    },
    {
      "cell_type": "markdown",
      "metadata": {
        "colab_type": "text",
        "id": "R_H8znnCcQ2Y"
      },
      "source": [
        "Adding the constants and showing the TensorBoard to track progress. I will add a confusion matrix later to adjust any preprocessing I need to improve the model."
      ]
    },
    {
      "cell_type": "code",
      "metadata": {
        "colab_type": "code",
        "id": "2sHzIOBo1isB",
        "colab": {
          "base_uri": "https://localhost:8080/",
          "height": 34
        },
        "outputId": "35af594b-4429-470f-f97e-9e0c22ddb378"
      },
      "source": [
        "EPOCHS = 300\n",
        "BATCH_SIZE = 200\n",
        "\n",
        "history =\n",
        "print(y_train.shape)\n"
      ],
      "execution_count": null,
      "outputs": [
        {
          "output_type": "stream",
          "text": [
            "(50000, 1)\n"
          ],
          "name": "stdout"
        }
      ]
    },
    {
      "cell_type": "code",
      "metadata": {
        "colab_type": "code",
        "id": "mhZrwz6-cNAr",
        "colab": {}
      },
      "source": [
        "%tensorboard --logdir logs/scalars"
      ],
      "execution_count": null,
      "outputs": []
    },
    {
      "cell_type": "code",
      "metadata": {
        "colab_type": "code",
        "id": "FeJw5dvLcQHx",
        "colab": {}
      },
      "source": [
        "print(model.optimizer.lr)"
      ],
      "execution_count": null,
      "outputs": []
    },
    {
      "cell_type": "code",
      "metadata": {
        "colab_type": "code",
        "id": "01wmaqL7QAe4",
        "colab": {
          "base_uri": "https://localhost:8080/",
          "height": 249
        },
        "outputId": "a851bb27-7318-485c-a073-8793b6f637e3"
      },
      "source": [
        "if isParallel:\n",
        "  print('GPUs parallelized!')\n",
        "  model2 = tf.keras.utils.multi_gpu_model(model, 2)\n",
        "  history = model2.fit(data_gen.flow(x_train, y_train, batch_size=BATCH_SIZE),\n",
        "                      steps_per_epoch=(x_train.shape[0] // BATCH_SIZE), epochs=EPOCHS,\n",
        "                      validation_data=(x_test, y_test), class_weight=class_weights, \n",
        "                      callbacks=kcallbacks)\n",
        "else:\n",
        "  print('CPU Compilation')\n",
        "  history = model.fit(data_gen.flow(x_train, y_train, batch_size=BATCH_SIZE),\n",
        "                      epochs=EPOCHS,\n",
        "                      steps_per_epoch=(x_train.shape[0] // BATCH_SIZE),\n",
        "                      class_weight=class_weights, \n",
        "                      validation_data=(x_test, y_test), callbacks=kcallbacks)\n",
        "  model.save(model_path)"
      ],
      "execution_count": null,
      "outputs": [
        {
          "output_type": "stream",
          "text": [
            "CPU Compilation\n"
          ],
          "name": "stdout"
        },
        {
          "output_type": "error",
          "ename": "NameError",
          "evalue": "ignored",
          "traceback": [
            "\u001b[0;31m---------------------------------------------------------------------------\u001b[0m",
            "\u001b[0;31mNameError\u001b[0m                                 Traceback (most recent call last)",
            "\u001b[0;32m<ipython-input-22-d5e75e8948cb>\u001b[0m in \u001b[0;36m<module>\u001b[0;34m()\u001b[0m\n\u001b[1;32m     21\u001b[0m                       \u001b[0mepochs\u001b[0m\u001b[0;34m=\u001b[0m\u001b[0mEPOCHS\u001b[0m\u001b[0;34m,\u001b[0m\u001b[0;34m\u001b[0m\u001b[0;34m\u001b[0m\u001b[0m\n\u001b[1;32m     22\u001b[0m                       \u001b[0msteps_per_epoch\u001b[0m\u001b[0;34m=\u001b[0m\u001b[0;34m(\u001b[0m\u001b[0mx_train\u001b[0m\u001b[0;34m.\u001b[0m\u001b[0mshape\u001b[0m\u001b[0;34m[\u001b[0m\u001b[0;36m0\u001b[0m\u001b[0;34m]\u001b[0m \u001b[0;34m//\u001b[0m \u001b[0mBATCH_SIZE\u001b[0m\u001b[0;34m)\u001b[0m\u001b[0;34m,\u001b[0m\u001b[0;34m\u001b[0m\u001b[0;34m\u001b[0m\u001b[0m\n\u001b[0;32m---> 23\u001b[0;31m                       \u001b[0mclass_weight\u001b[0m\u001b[0;34m=\u001b[0m\u001b[0mclass_weights\u001b[0m\u001b[0;34m,\u001b[0m\u001b[0;34m\u001b[0m\u001b[0;34m\u001b[0m\u001b[0m\n\u001b[0m\u001b[1;32m     24\u001b[0m                       validation_data=(x_test, y_test), callbacks=callbacks)\n\u001b[1;32m     25\u001b[0m   \u001b[0mresults_to_file\u001b[0m\u001b[0;34m(\u001b[0m\u001b[0mhistory\u001b[0m\u001b[0;34m.\u001b[0m\u001b[0mhistory\u001b[0m\u001b[0;34m,\u001b[0m \u001b[0;34m'model2perfect.txt'\u001b[0m\u001b[0;34m)\u001b[0m\u001b[0;34m\u001b[0m\u001b[0;34m\u001b[0m\u001b[0m\n",
            "\u001b[0;31mNameError\u001b[0m: name 'class_weights' is not defined"
          ]
        }
      ]
    },
    {
      "cell_type": "markdown",
      "metadata": {
        "colab_type": "text",
        "id": "o7fsu-jRDxl1"
      },
      "source": [
        "# Analyzing Results\n",
        "Currently, the best results give a constant validation binary accuracy of .7564."
      ]
    },
    {
      "cell_type": "code",
      "metadata": {
        "colab_type": "code",
        "id": "BSiqsgjNBHJr",
        "colab": {
          "base_uri": "https://localhost:8080/",
          "height": 105
        },
        "outputId": "3733393b-1df5-4db3-ecd2-0e64c0d2f39d"
      },
      "source": [
        "main_results = model2.evaluate(x_test, y_test, batch_size=BATCH_SIZE, verbose=1)\n",
        "for metric, result in zip(model2.metrics_names, main_results):\n",
        "  print(metric, \" : \", result)"
      ],
      "execution_count": null,
      "outputs": [
        {
          "output_type": "stream",
          "text": [
            "1250/1250 [==============================] - 4s 3ms/step - loss: 5.3644e-07 - AUC: 0.5000 - accuracy: 0.1000\n",
            "loss  :  5.364418598219345e-07\n",
            "AUC  :  0.5\n",
            "accuracy  :  0.10000000149011612\n"
          ],
          "name": "stdout"
        }
      ]
    },
    {
      "cell_type": "code",
      "metadata": {
        "colab_type": "code",
        "id": "2502i9RbDLKh",
        "colab": {}
      },
      "source": [
        "def plot_curve(train_data, test_data, figname, title, ylabel):\n",
        "  plt.clf()\n",
        "  plt.plot(train_data)\n",
        "  plt.plot(test_data)\n",
        "  plt.xlabel('Epoch')\n",
        "  plt.ylabel(ylabel)\n",
        "  plt.title(title)\n",
        "  plt.legend(['train', 'test'], loc='upper left')\n",
        "  plt.show()\n",
        "  plt.savefig(figname)"
      ],
      "execution_count": null,
      "outputs": []
    },
    {
      "cell_type": "code",
      "metadata": {
        "colab_type": "code",
        "id": "nSipPRgaezRG",
        "colab": {}
      },
      "source": [
        "plot_curve(history.history['binary_acc'], \n",
        "           history.history['val_binary_acc'], 'model2acc.png', \n",
        "           'Model Accuracy vs Epoch', \n",
        "          'Accuracy')\n",
        "plot_curve(history.history['loss'], \n",
        "           history.history['val_loss'], 'model2loss.png',\n",
        "           'Model Loss vs Epoch', 'Loss')"
      ],
      "execution_count": null,
      "outputs": []
    },
    {
      "cell_type": "code",
      "metadata": {
        "colab_type": "code",
        "id": "xgN5P-8jMilv",
        "colab": {}
      },
      "source": [
        ""
      ],
      "execution_count": null,
      "outputs": []
    }
  ]
}