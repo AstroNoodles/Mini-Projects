{
  "nbformat": 4,
  "nbformat_minor": 0,
  "metadata": {
    "colab": {
      "name": "DiabetesRegression.ipynb",
      "version": "0.3.2",
      "provenance": [],
      "collapsed_sections": [],
      "include_colab_link": true
    },
    "kernelspec": {
      "name": "python3",
      "display_name": "Python 3"
    }
  },
  "cells": [
    {
      "cell_type": "markdown",
      "metadata": {
        "id": "view-in-github",
        "colab_type": "text"
      },
      "source": [
        "<a href=\"https://colab.research.google.com/github/AstroNoodles/Mini-Projects/blob/master/DiabetesRegression.ipynb\" target=\"_parent\"><img src=\"https://colab.research.google.com/assets/colab-badge.svg\" alt=\"Open In Colab\"/></a>"
      ]
    },
    {
      "metadata": {
        "id": "5j6rxMSYgQuT",
        "colab_type": "text"
      },
      "cell_type": "markdown",
      "source": [
        "# Diabetes Linear Regression\n",
        "\n",
        "This Jupyter notebook will be used to test my skills on linear regression based on the [diabetes dataset](https://www4.stat.ncsu.edu/~boos/var.select/diabetes.html), readily available in the Sci-kit Learn Python library.\n",
        "\n",
        "To first bring some context to the data, it was collected by Bradley Efron, Trevor Hastie, Iain Johnston and Robert Tishiranie in 2004 as an analysis of their new 'Least Angle Regression' (LARS) algorithm designed to outcompete previous linear regression methods (such as Lasso regression). \n",
        "\n",
        "The outline of this notebook will be as follows\"\n",
        "* Receiving the data from Scikit-Learn\n",
        "* Doing introductory preprocessing and visualization\n",
        "* Testing out various regression methods (LARS, Lasso, Linear, Polynomial, SVR)\n",
        "* Finding their accuracy using RMSE [Root Mean Squared Error] \n",
        "* Use of grid search to increase accuracy and deep learning (Tensorflow) to decrease the loss over time...\n",
        "\n"
      ]
    },
    {
      "metadata": {
        "id": "XZGar1NmgM6I",
        "colab_type": "code",
        "colab": {}
      },
      "cell_type": "code",
      "source": [
        "import numpy as np\n",
        "import matplotlib.pyplot as plt\n",
        "from math import ceil\n",
        "import seaborn as sns\n",
        "from sklearn.datasets import load_diabetes\n",
        "from sklearn.svm import SVR\n",
        "from sklearn.metrics import mean_squared_error\n",
        "from sklearn.linear_model import LinearRegression, LassoCV, LassoLarsCV, Ridge\n",
        "from sklearn.model_selection import cross_val_score\n",
        "from sklearn.feature_selection import SelectKBest\n",
        "from sklearn.feature_selection import f_regression\n",
        "\n",
        "\n",
        "%matplotlib inline"
      ],
      "execution_count": 0,
      "outputs": []
    },
    {
      "metadata": {
        "id": "_bwxWrsvlCYV",
        "colab_type": "text"
      },
      "cell_type": "markdown",
      "source": [
        "# Preprocessing\n",
        "\n",
        "According to the source page, there is a sample size of 442 individuals in the data with 10 features and 1 target value. In the numpy array that will be downloaded, these features are \n",
        "* Age\n",
        "* Sex\n",
        "* BMI\n",
        "* Average Blood Pressure\n",
        "* Six Blood Serum measurements\n",
        "* A quantitative measure of disease progression after the baseline\n",
        "\n",
        "According to [Scikit-learn](https://scikit-learn.org/stable/datasets/index.html#diabetes-dataset), the downloaded data has already been scaled for us with a centered mean and with the standard deviation * 442. Therefore, we don't have to scale the data and can proceed to explore it and use it for modelling!"
      ]
    },
    {
      "metadata": {
        "id": "dDbqU6O2rT_2",
        "colab_type": "code",
        "outputId": "5565177c-69ea-49cf-f673-70a2fb48bd1b",
        "colab": {
          "base_uri": "https://localhost:8080/",
          "height": 306
        }
      },
      "cell_type": "code",
      "source": [
        "db_data = load_diabetes()\n",
        "print(f\"Diabetes Features: {db_data.feature_names} \\n\")\n",
        "print(f\"Diabetes Data: \\n {db_data.data[:5]} \\n\")\n",
        "print(f\"Diabetes Target: \\n {db_data.target[:5]} \\n\")"
      ],
      "execution_count": 20,
      "outputs": [
        {
          "output_type": "stream",
          "text": [
            "Diabetes Features: ['age', 'sex', 'bmi', 'bp', 's1', 's2', 's3', 's4', 's5', 's6'] \n",
            "\n",
            "Diabetes Data: \n",
            " [[ 0.03807591  0.05068012  0.06169621  0.02187235 -0.0442235  -0.03482076\n",
            "  -0.04340085 -0.00259226  0.01990842 -0.01764613]\n",
            " [-0.00188202 -0.04464164 -0.05147406 -0.02632783 -0.00844872 -0.01916334\n",
            "   0.07441156 -0.03949338 -0.06832974 -0.09220405]\n",
            " [ 0.08529891  0.05068012  0.04445121 -0.00567061 -0.04559945 -0.03419447\n",
            "  -0.03235593 -0.00259226  0.00286377 -0.02593034]\n",
            " [-0.08906294 -0.04464164 -0.01159501 -0.03665645  0.01219057  0.02499059\n",
            "  -0.03603757  0.03430886  0.02269202 -0.00936191]\n",
            " [ 0.00538306 -0.04464164 -0.03638469  0.02187235  0.00393485  0.01559614\n",
            "   0.00814208 -0.00259226 -0.03199144 -0.04664087]] \n",
            "\n",
            "Diabetes Target: \n",
            " [151.  75. 141. 206. 135.] \n",
            "\n"
          ],
          "name": "stdout"
        }
      ]
    },
    {
      "metadata": {
        "id": "hDUWa_z8rbH8",
        "colab_type": "code",
        "outputId": "76793787-1224-4b6c-fb93-5692aff03e71",
        "colab": {
          "base_uri": "https://localhost:8080/",
          "height": 578
        }
      },
      "cell_type": "code",
      "source": [
        "# Let's get a sample of the data (80%) so we can visualize it and do some preprocessing on it\n",
        "# I will be using cross-validation so I won't have access to a proper training set\n",
        "diabetes_len = len(db_data.data)\n",
        "X = db_data.data[:int(ceil(diabetes_len*.8))]\n",
        "y = db_data.target[:int(ceil(diabetes_len*.8))]\n",
        "np.random.seed(42)\n",
        "np.random.shuffle(X)\n",
        "np.random.shuffle(y)\n",
        "\n",
        "print(\"Training Data Sample: \")\n",
        "print(X[:5])\n",
        "print()\n",
        "\n",
        "\n",
        "print(\"Correlation Matrix: \")\n",
        "corr = np.corrcoef(X, rowvar=False)\n",
        "print(corr)"
      ],
      "execution_count": 21,
      "outputs": [
        {
          "output_type": "stream",
          "text": [
            "Training Data Sample: \n",
            "[[ 0.02354575  0.05068012 -0.03961813 -0.00567061 -0.04835136 -0.03325502\n",
            "   0.01182372 -0.03949338 -0.10164355 -0.06735141]\n",
            " [-0.06000263  0.05068012 -0.0105172  -0.0148516  -0.04972731 -0.02354742\n",
            "  -0.0581274   0.0158583  -0.00991896 -0.03421455]\n",
            " [-0.0382074  -0.04464164 -0.0547075  -0.0779709  -0.03321588 -0.08649026\n",
            "   0.14068104 -0.0763945  -0.01919705 -0.0052198 ]\n",
            " [ 0.04897352 -0.04464164 -0.04285156 -0.0538708   0.04521344  0.05004247\n",
            "   0.03391355 -0.00259226 -0.02595242 -0.0632093 ]\n",
            " [-0.04183994 -0.04464164  0.04121778 -0.02632783 -0.03183992 -0.03043668\n",
            "  -0.03603757  0.00294291  0.03365681 -0.01764613]]\n",
            "\n",
            "Correlation Matrix: \n",
            "[[ 1.          0.17455991  0.20179956  0.31649285  0.27685043  0.23276066\n",
            "  -0.04131083  0.18811178  0.2578946   0.28764571]\n",
            " [ 0.17455991  1.          0.07951261  0.21744559 -0.00105342  0.12150539\n",
            "  -0.37846636  0.31450944  0.10028456  0.23149279]\n",
            " [ 0.20179956  0.07951261  1.          0.39568054  0.28726412  0.30720414\n",
            "  -0.36593669  0.44733965  0.45814507  0.39895601]\n",
            " [ 0.31649285  0.21744559  0.39568054  1.          0.26818845  0.21156241\n",
            "  -0.15533654  0.2581106   0.38547487  0.3936175 ]\n",
            " [ 0.27685043 -0.00105342  0.28726412  0.26818845  1.          0.89240326\n",
            "   0.05489474  0.52976943  0.52056261  0.34906601]\n",
            " [ 0.23276066  0.12150539  0.30720414  0.21156241  0.89240326  1.\n",
            "  -0.21386386  0.65762384  0.32575126  0.31385587]\n",
            " [-0.04131083 -0.37846636 -0.36593669 -0.15533654  0.05489474 -0.21386386\n",
            "   1.         -0.74451005 -0.37938913 -0.28723506]\n",
            " [ 0.18811178  0.31450944  0.44733965  0.2581106   0.52976943  0.65762384\n",
            "  -0.74451005  1.          0.61417298  0.44986128]\n",
            " [ 0.2578946   0.10028456  0.45814507  0.38547487  0.52056261  0.32575126\n",
            "  -0.37938913  0.61417298  1.          0.49534678]\n",
            " [ 0.28764571  0.23149279  0.39895601  0.3936175   0.34906601  0.31385587\n",
            "  -0.28723506  0.44986128  0.49534678  1.        ]]\n"
          ],
          "name": "stdout"
        }
      ]
    },
    {
      "metadata": {
        "id": "4eZP_nWgtE3Q",
        "colab_type": "code",
        "outputId": "9cbe6f01-69ba-4c34-e42e-987de5ed08bb",
        "colab": {
          "base_uri": "https://localhost:8080/",
          "height": 311
        }
      },
      "cell_type": "code",
      "source": [
        "sns.heatmap(corr, xticklabels=db_data.feature_names, yticklabels=db_data.feature_names)\n",
        "plt.xlabel(\"Diabetes Features\")\n",
        "plt.ylabel(\"Diabetes Features\")\n",
        "plt.title(\"Correlation Matrix on Diabetes Dataset\")"
      ],
      "execution_count": 22,
      "outputs": [
        {
          "output_type": "execute_result",
          "data": {
            "text/plain": [
              "Text(0.5, 1.0, 'Correlation Matrix on Diabetes Dataset')"
            ]
          },
          "metadata": {
            "tags": []
          },
          "execution_count": 22
        },
        {
          "output_type": "display_data",
          "data": {
            "image/png": "[encoded data removed]",
            "text/plain": [
              "<Figure size 432x288 with 2 Axes>"
            ]
          },
          "metadata": {
            "tags": []
          }
        }
      ]
    },
    {
      "metadata": {
        "id": "g6icTvDcVdFL",
        "colab_type": "text"
      },
      "cell_type": "markdown",
      "source": [
        "According to the heat map above, none of the variabes seem directly correlated together except for the first and second serum measurements. Therefore, it is hard to combine them manually.\n",
        "\n",
        "In an attempt to visualize this data for multivariate linear regression, we need to combine the most correlated parameters via a different means, this will be done via SelectKBest and the linear regression scoring method (1). From this, we can create a regression plot.\n",
        "\n"
      ]
    },
    {
      "metadata": {
        "id": "-8_Rv121bPV5",
        "colab_type": "code",
        "colab": {
          "base_uri": "https://localhost:8080/",
          "height": 345
        },
        "outputId": "baed7926-4adf-4764-c500-b3af3ef75a63"
      },
      "cell_type": "code",
      "source": [
        "# Original Shapes of the Data\n",
        "print(X.shape, y.shape)\n",
        "\n",
        "# With the most correlated item of the dataset, match the shapes of the samples\n",
        "X_st = SelectKBest(f_regression, k=1).fit_transform(X, y)\n",
        "print(X_st.shape, y.shape)\n",
        "\n",
        "sns.regplot(X_st, y)\n",
        "plt.xlabel(\"Serum measurements\")\n",
        "plt.ylabel(\"Diabetes Prediction Measurement\")\n",
        "plt.title(\"Serum measurement on the prediction of diabetes\")"
      ],
      "execution_count": 28,
      "outputs": [
        {
          "output_type": "stream",
          "text": [
            "(354, 10) (354,)\n",
            "(354, 1) (354,)\n"
          ],
          "name": "stdout"
        },
        {
          "output_type": "execute_result",
          "data": {
            "text/plain": [
              "Text(0.5, 1.0, 'Serum measurement on the prediction of diabetes')"
            ]
          },
          "metadata": {
            "tags": []
          },
          "execution_count": 28
        },
        {
          "output_type": "display_data",
          "data": {
            "image/png": "[encoded data removed]",
            "text/plain": [
              "<Figure size 432x288 with 1 Axes>"
            ]
          },
          "metadata": {
            "tags": []
          }
        }
      ]
    },
    {
      "metadata": {
        "id": "r2OKzxyafL8t",
        "colab_type": "text"
      },
      "cell_type": "markdown",
      "source": [
        "With this regression plot as a starting point, we can try to improve upon this score using linear regression algorithms and check whether the slope of the line matches the slope found by the algorithms in the noisy data or too much data was lost (1) in the data visualization and a better slope can be found\n",
        "\n",
        "# Model Development\n",
        "\n",
        "Let's gather some models to predict the likelihood of diabetes given the serum measurements and most important features."
      ]
    },
    {
      "metadata": {
        "id": "8-1JqFdng2XE",
        "colab_type": "code",
        "colab": {}
      },
      "cell_type": "code",
      "source": [
        "models = [LinearRegression(n_jobs=-1)]\n",
        "\n",
        "for model in models:\n",
        "  cross_val_scores = cross_val_score(model, db_data.data, db_data.target, cv=5)\n",
        "  \n",
        "  model_name = type(model).__name__\n",
        "  print(f\"Accuracy of {model_name}: {cross_val_scores.mean():.2f} +/- {[cross_val_scores.std()*2]:.2f}\")"
      ],
      "execution_count": 0,
      "outputs": []
    },
    {
      "metadata": {
        "id": "PY9oA7MGZQ5V",
        "colab_type": "text"
      },
      "cell_type": "markdown",
      "source": [
        "# Notes and References:\n",
        "\n",
        "\n",
        "\n",
        "1.   There are errors that can made through attempting to reduce the dimensionality for visualization (Kaski and Peltonen, 2011), which is measured by calculating the precision and recall for the parameters left out of the visualization, so tests may have to be performed multiple times.\n",
        "2.   List item\n",
        "\n",
        "\n",
        "\n",
        "1.   Kaski S and Peltonen J (2011). Dimensionality Reduction for Data Visualization. IEEE Signal Processing Magazine 28(2):101-104. doi: https://doi.org/10.1109/MSP.2010.940003\n",
        "2.   List item\n",
        "\n"
      ]
    },
    {
      "metadata": {
        "id": "D7Ej23Jbuj1O",
        "colab_type": "code",
        "colab": {
          "base_uri": "https://localhost:8080/",
          "height": 1026
        },
        "outputId": "33737f3d-a845-4baf-a55a-8f0888910d00"
      },
      "cell_type": "code",
      "source": [
        "# The original shapes\n",
        "print(X.shape, y.shape)\n",
        "\n"
      ],
      "execution_count": 16,
      "outputs": [
        {
          "output_type": "error",
          "ename": "ValueError",
          "evalue": "ignored",
          "traceback": [
            "\u001b[0;31m---------------------------------------------------------------------------\u001b[0m",
            "\u001b[0;31mValueError\u001b[0m                                Traceback (most recent call last)",
            "\u001b[0;32m<ipython-input-16-6d52fc4e316d>\u001b[0m in \u001b[0;36m<module>\u001b[0;34m()\u001b[0m\n\u001b[0;32m----> 1\u001b[0;31m \u001b[0msns\u001b[0m\u001b[0;34m.\u001b[0m\u001b[0mregplot\u001b[0m\u001b[0;34m(\u001b[0m\u001b[0mX\u001b[0m\u001b[0;34m,\u001b[0m \u001b[0my\u001b[0m\u001b[0;34m)\u001b[0m\u001b[0;34m\u001b[0m\u001b[0;34m\u001b[0m\u001b[0m\n\u001b[0m",
            "\u001b[0;32m/usr/local/lib/python3.6/dist-packages/seaborn/linearmodels.py\u001b[0m in \u001b[0;36mregplot\u001b[0;34m(x, y, data, x_estimator, x_bins, x_ci, scatter, fit_reg, ci, n_boot, units, order, logistic, lowess, robust, logx, x_partial, y_partial, truncate, dropna, x_jitter, y_jitter, label, color, marker, scatter_kws, line_kws, ax)\u001b[0m\n\u001b[1;32m    777\u001b[0m     \u001b[0mscatter_kws\u001b[0m\u001b[0;34m[\u001b[0m\u001b[0;34m\"marker\"\u001b[0m\u001b[0;34m]\u001b[0m \u001b[0;34m=\u001b[0m \u001b[0mmarker\u001b[0m\u001b[0;34m\u001b[0m\u001b[0;34m\u001b[0m\u001b[0m\n\u001b[1;32m    778\u001b[0m     \u001b[0mline_kws\u001b[0m \u001b[0;34m=\u001b[0m \u001b[0;34m{\u001b[0m\u001b[0;34m}\u001b[0m \u001b[0;32mif\u001b[0m \u001b[0mline_kws\u001b[0m \u001b[0;32mis\u001b[0m \u001b[0;32mNone\u001b[0m \u001b[0;32melse\u001b[0m \u001b[0mcopy\u001b[0m\u001b[0;34m.\u001b[0m\u001b[0mcopy\u001b[0m\u001b[0;34m(\u001b[0m\u001b[0mline_kws\u001b[0m\u001b[0;34m)\u001b[0m\u001b[0;34m\u001b[0m\u001b[0;34m\u001b[0m\u001b[0m\n\u001b[0;32m--> 779\u001b[0;31m     \u001b[0mplotter\u001b[0m\u001b[0;34m.\u001b[0m\u001b[0mplot\u001b[0m\u001b[0;34m(\u001b[0m\u001b[0max\u001b[0m\u001b[0;34m,\u001b[0m \u001b[0mscatter_kws\u001b[0m\u001b[0;34m,\u001b[0m \u001b[0mline_kws\u001b[0m\u001b[0;34m)\u001b[0m\u001b[0;34m\u001b[0m\u001b[0;34m\u001b[0m\u001b[0m\n\u001b[0m\u001b[1;32m    780\u001b[0m     \u001b[0;32mreturn\u001b[0m \u001b[0max\u001b[0m\u001b[0;34m\u001b[0m\u001b[0;34m\u001b[0m\u001b[0m\n\u001b[1;32m    781\u001b[0m \u001b[0;34m\u001b[0m\u001b[0m\n",
            "\u001b[0;32m/usr/local/lib/python3.6/dist-packages/seaborn/linearmodels.py\u001b[0m in \u001b[0;36mplot\u001b[0;34m(self, ax, scatter_kws, line_kws)\u001b[0m\n\u001b[1;32m    328\u001b[0m         \u001b[0;31m# Draw the constituent plots\u001b[0m\u001b[0;34m\u001b[0m\u001b[0;34m\u001b[0m\u001b[0;34m\u001b[0m\u001b[0m\n\u001b[1;32m    329\u001b[0m         \u001b[0;32mif\u001b[0m \u001b[0mself\u001b[0m\u001b[0;34m.\u001b[0m\u001b[0mscatter\u001b[0m\u001b[0;34m:\u001b[0m\u001b[0;34m\u001b[0m\u001b[0;34m\u001b[0m\u001b[0m\n\u001b[0;32m--> 330\u001b[0;31m             \u001b[0mself\u001b[0m\u001b[0;34m.\u001b[0m\u001b[0mscatterplot\u001b[0m\u001b[0;34m(\u001b[0m\u001b[0max\u001b[0m\u001b[0;34m,\u001b[0m \u001b[0mscatter_kws\u001b[0m\u001b[0;34m)\u001b[0m\u001b[0;34m\u001b[0m\u001b[0;34m\u001b[0m\u001b[0m\n\u001b[0m\u001b[1;32m    331\u001b[0m         \u001b[0;32mif\u001b[0m \u001b[0mself\u001b[0m\u001b[0;34m.\u001b[0m\u001b[0mfit_reg\u001b[0m\u001b[0;34m:\u001b[0m\u001b[0;34m\u001b[0m\u001b[0;34m\u001b[0m\u001b[0m\n\u001b[1;32m    332\u001b[0m             \u001b[0mself\u001b[0m\u001b[0;34m.\u001b[0m\u001b[0mlineplot\u001b[0m\u001b[0;34m(\u001b[0m\u001b[0max\u001b[0m\u001b[0;34m,\u001b[0m \u001b[0mline_kws\u001b[0m\u001b[0;34m)\u001b[0m\u001b[0;34m\u001b[0m\u001b[0;34m\u001b[0m\u001b[0m\n",
            "\u001b[0;32m/usr/local/lib/python3.6/dist-packages/seaborn/linearmodels.py\u001b[0m in \u001b[0;36mscatterplot\u001b[0;34m(self, ax, kws)\u001b[0m\n\u001b[1;32m    357\u001b[0m \u001b[0;34m\u001b[0m\u001b[0m\n\u001b[1;32m    358\u001b[0m             \u001b[0mx\u001b[0m\u001b[0;34m,\u001b[0m \u001b[0my\u001b[0m \u001b[0;34m=\u001b[0m \u001b[0mself\u001b[0m\u001b[0;34m.\u001b[0m\u001b[0mscatter_data\u001b[0m\u001b[0;34m\u001b[0m\u001b[0;34m\u001b[0m\u001b[0m\n\u001b[0;32m--> 359\u001b[0;31m             \u001b[0max\u001b[0m\u001b[0;34m.\u001b[0m\u001b[0mscatter\u001b[0m\u001b[0;34m(\u001b[0m\u001b[0mx\u001b[0m\u001b[0;34m,\u001b[0m \u001b[0my\u001b[0m\u001b[0;34m,\u001b[0m \u001b[0;34m**\u001b[0m\u001b[0mkws\u001b[0m\u001b[0;34m)\u001b[0m\u001b[0;34m\u001b[0m\u001b[0;34m\u001b[0m\u001b[0m\n\u001b[0m\u001b[1;32m    360\u001b[0m         \u001b[0;32melse\u001b[0m\u001b[0;34m:\u001b[0m\u001b[0;34m\u001b[0m\u001b[0;34m\u001b[0m\u001b[0m\n\u001b[1;32m    361\u001b[0m             \u001b[0;31m# TODO abstraction\u001b[0m\u001b[0;34m\u001b[0m\u001b[0;34m\u001b[0m\u001b[0;34m\u001b[0m\u001b[0m\n",
            "\u001b[0;32m/usr/local/lib/python3.6/dist-packages/matplotlib/__init__.py\u001b[0m in \u001b[0;36minner\u001b[0;34m(ax, data, *args, **kwargs)\u001b[0m\n\u001b[1;32m   1808\u001b[0m                         \u001b[0;34m\"the Matplotlib list!)\"\u001b[0m \u001b[0;34m%\u001b[0m \u001b[0;34m(\u001b[0m\u001b[0mlabel_namer\u001b[0m\u001b[0;34m,\u001b[0m \u001b[0mfunc\u001b[0m\u001b[0;34m.\u001b[0m\u001b[0m__name__\u001b[0m\u001b[0;34m)\u001b[0m\u001b[0;34m,\u001b[0m\u001b[0;34m\u001b[0m\u001b[0;34m\u001b[0m\u001b[0m\n\u001b[1;32m   1809\u001b[0m                         RuntimeWarning, stacklevel=2)\n\u001b[0;32m-> 1810\u001b[0;31m             \u001b[0;32mreturn\u001b[0m \u001b[0mfunc\u001b[0m\u001b[0;34m(\u001b[0m\u001b[0max\u001b[0m\u001b[0;34m,\u001b[0m \u001b[0;34m*\u001b[0m\u001b[0margs\u001b[0m\u001b[0;34m,\u001b[0m \u001b[0;34m**\u001b[0m\u001b[0mkwargs\u001b[0m\u001b[0;34m)\u001b[0m\u001b[0;34m\u001b[0m\u001b[0;34m\u001b[0m\u001b[0m\n\u001b[0m\u001b[1;32m   1811\u001b[0m \u001b[0;34m\u001b[0m\u001b[0m\n\u001b[1;32m   1812\u001b[0m         inner.__doc__ = _add_data_doc(inner.__doc__,\n",
            "\u001b[0;32m/usr/local/lib/python3.6/dist-packages/matplotlib/axes/_axes.py\u001b[0m in \u001b[0;36mscatter\u001b[0;34m(self, x, y, s, c, marker, cmap, norm, vmin, vmax, alpha, linewidths, verts, edgecolors, **kwargs)\u001b[0m\n\u001b[1;32m   4180\u001b[0m         \u001b[0my\u001b[0m \u001b[0;34m=\u001b[0m \u001b[0mnp\u001b[0m\u001b[0;34m.\u001b[0m\u001b[0mma\u001b[0m\u001b[0;34m.\u001b[0m\u001b[0mravel\u001b[0m\u001b[0;34m(\u001b[0m\u001b[0my\u001b[0m\u001b[0;34m)\u001b[0m\u001b[0;34m\u001b[0m\u001b[0;34m\u001b[0m\u001b[0m\n\u001b[1;32m   4181\u001b[0m         \u001b[0;32mif\u001b[0m \u001b[0mx\u001b[0m\u001b[0;34m.\u001b[0m\u001b[0msize\u001b[0m \u001b[0;34m!=\u001b[0m \u001b[0my\u001b[0m\u001b[0;34m.\u001b[0m\u001b[0msize\u001b[0m\u001b[0;34m:\u001b[0m\u001b[0;34m\u001b[0m\u001b[0;34m\u001b[0m\u001b[0m\n\u001b[0;32m-> 4182\u001b[0;31m             \u001b[0;32mraise\u001b[0m \u001b[0mValueError\u001b[0m\u001b[0;34m(\u001b[0m\u001b[0;34m\"x and y must be the same size\"\u001b[0m\u001b[0;34m)\u001b[0m\u001b[0;34m\u001b[0m\u001b[0;34m\u001b[0m\u001b[0m\n\u001b[0m\u001b[1;32m   4183\u001b[0m \u001b[0;34m\u001b[0m\u001b[0m\n\u001b[1;32m   4184\u001b[0m         \u001b[0;32mif\u001b[0m \u001b[0ms\u001b[0m \u001b[0;32mis\u001b[0m \u001b[0;32mNone\u001b[0m\u001b[0;34m:\u001b[0m\u001b[0;34m\u001b[0m\u001b[0;34m\u001b[0m\u001b[0m\n",
            "\u001b[0;31mValueError\u001b[0m: x and y must be the same size"
          ]
        },
        {
          "output_type": "display_data",
          "data": {
            "image/png": "[encoded data removed]",
            "text/plain": [
              "<Figure size 432x288 with 1 Axes>"
            ]
          },
          "metadata": {
            "tags": []
          }
        }
      ]
    },
    {
      "metadata": {
        "id": "sjQpM7ymq8u_",
        "colab_type": "text"
      },
      "cell_type": "markdown",
      "source": [
        "Differences between the Different Regression algorithms: [see here](https://www.analyticsvidhya.com/blog/2017/06/a-comprehensive-guide-for-linear-ridge-and-lasso-regression/). Also, can use the SelectBest scikit learn algorithm to get rid of some of the dimensions of the data. LASSO gets rid of the coefficients that don't matter to 0. Ridge is faster and easier to compute.\n"
      ]
    }
  ]
}