{
  "nbformat": 4,
  "nbformat_minor": 0,
  "metadata": {
    "colab": {
      "name": "DiabetesRegression.ipynb",
      "version": "0.3.2",
      "provenance": [],
      "include_colab_link": true
    },
    "kernelspec": {
      "name": "python3",
      "display_name": "Python 3"
    }
  },
  "cells": [
    {
      "cell_type": "markdown",
      "metadata": {
        "id": "view-in-github",
        "colab_type": "text"
      },
      "source": [
        "<a href=\"https://colab.research.google.com/github/AstroNoodles/Mini-Projects/blob/master/DiabetesRegression.ipynb\" target=\"_parent\"><img src=\"https://colab.research.google.com/assets/colab-badge.svg\" alt=\"Open In Colab\"/></a>"
      ]
    },
    {
      "metadata": {
        "id": "5j6rxMSYgQuT",
        "colab_type": "text"
      },
      "cell_type": "markdown",
      "source": [
        "# Diabetes Linear Regression\n",
        "\n",
        "This Jupyter notebook will be used to test my skills on linear regression based on the [diabetes dataset](https://www4.stat.ncsu.edu/~boos/var.select/diabetes.html), readily available in the Sci-kit Learn Python library.\n",
        "\n",
        "To first bring some context to the data, it was collected by Bradley Efron, Trevor Hastie, Iain Johnston and Robert Tishiranie in 2004 as an analysis of their new 'Least Angle Regression' (LARS) algorithm designed to outcompete previous linear regression methods (such as Lasso regression). \n",
        "\n",
        "The outline of this notebook will be as follows\"\n",
        "* Receiving the data from Scikit-Learn\n",
        "* Doing introductory preprocessing and visualization\n",
        "* Testing out various regression methods (LARS, Lasso, Linear, Polynomial, SVR)\n",
        "* Finding their accuracy using RMSE [Root Mean Squared Error] \n",
        "* Use of grid search to increase accuracy and deep learning (Tensorflow) to decrease the loss over time...\n",
        "\n"
      ]
    },
    {
      "metadata": {
        "id": "XZGar1NmgM6I",
        "colab_type": "code",
        "colab": {}
      },
      "cell_type": "code",
      "source": [
        "import numpy as np\n",
        "import matplotlib.pyplot as plt\n",
        "import seaborn as sns\n",
        "from sklearn.datasets import load_diabetes\n",
        "from sklearn.svm import SVR\n",
        "from sklearn.metrics import mean_squared_error\n",
        "from sklearn.linear_model import LinearRegression, LassoCV, LassoLarsCV, Ridge\n",
        "from sklearn.model_selection import train_test_split\n",
        "\n",
        "\n",
        "%matplotlib inline"
      ],
      "execution_count": 0,
      "outputs": []
    },
    {
      "metadata": {
        "id": "_bwxWrsvlCYV",
        "colab_type": "text"
      },
      "cell_type": "markdown",
      "source": [
        "# Preprocessing\n",
        "\n",
        "According to the source page, there is a sample size of 442 individuals in the data with 10 features and 1 target value. In the numpy array that will be downloaded, these features are \n",
        "* Age\n",
        "* Sex\n",
        "* BMI\n",
        "* Average Blood Pressure\n",
        "* Six Blood Serum measurements\n",
        "* A quantitative measure of disease progression after the baseline\n",
        "\n",
        "According to [Scikit-learn](https://scikit-learn.org/stable/datasets/index.html#diabetes-dataset), the downloaded data has already been scaled for us with a centered mean and with the standard deviation * 442. Therefore, we don't have to scale the data and can proceed to explore it and use it for modelling!"
      ]
    },
    {
      "metadata": {
        "id": "dDbqU6O2rT_2",
        "colab_type": "code",
        "outputId": "b504923c-f3fd-4544-b4e7-ec23b9b89420",
        "colab": {
          "base_uri": "https://localhost:8080/",
          "height": 306
        }
      },
      "cell_type": "code",
      "source": [
        "db_data = load_diabetes()\n",
        "print(f\"Diabetes Features: {db_data.feature_names} \\n\")\n",
        "print(f\"Diabetes Data: \\n {db_data.data[:5]} \\n\")\n",
        "print(f\"Diabetes Target: \\n {db_data.target[:5]} \\n\")"
      ],
      "execution_count": 0,
      "outputs": [
        {
          "output_type": "stream",
          "text": [
            "Diabetes Features: ['age', 'sex', 'bmi', 'bp', 's1', 's2', 's3', 's4', 's5', 's6'] \n",
            "\n",
            "Diabetes Data: \n",
            " [[ 0.03807591  0.05068012  0.06169621  0.02187235 -0.0442235  -0.03482076\n",
            "  -0.04340085 -0.00259226  0.01990842 -0.01764613]\n",
            " [-0.00188202 -0.04464164 -0.05147406 -0.02632783 -0.00844872 -0.01916334\n",
            "   0.07441156 -0.03949338 -0.06832974 -0.09220405]\n",
            " [ 0.08529891  0.05068012  0.04445121 -0.00567061 -0.04559945 -0.03419447\n",
            "  -0.03235593 -0.00259226  0.00286377 -0.02593034]\n",
            " [-0.08906294 -0.04464164 -0.01159501 -0.03665645  0.01219057  0.02499059\n",
            "  -0.03603757  0.03430886  0.02269202 -0.00936191]\n",
            " [ 0.00538306 -0.04464164 -0.03638469  0.02187235  0.00393485  0.01559614\n",
            "   0.00814208 -0.00259226 -0.03199144 -0.04664087]] \n",
            "\n",
            "Diabetes Target: \n",
            " [151.  75. 141. 206. 135.] \n",
            "\n"
          ],
          "name": "stdout"
        }
      ]
    },
    {
      "metadata": {
        "id": "hDUWa_z8rbH8",
        "colab_type": "code",
        "outputId": "65fcae80-e26d-4471-a172-63d9ffd1f906",
        "colab": {
          "base_uri": "https://localhost:8080/",
          "height": 2057
        }
      },
      "cell_type": "code",
      "source": [
        "# Let's split the data now and shuffle it\n",
        "X_train, X_test, y_train, y_test = train_test_split(db_data.data, db_data.target, random_state=42)\n",
        "print(X_train[:20])\n",
        "\n",
        "# Let's do a correlation visualization using a sample of the training data\n",
        "l = np.corrcoef(X_train[:20])\n",
        "l"
      ],
      "execution_count": 0,
      "outputs": [
        {
          "output_type": "stream",
          "text": [
            "[[-0.00551455 -0.04464164  0.04229559  0.04941532  0.02457414 -0.02386057\n",
            "   0.07441156 -0.03949338  0.05228     0.02791705]\n",
            " [ 0.06350368 -0.04464164 -0.05039625  0.10794412  0.03145391  0.01935392\n",
            "  -0.01762938  0.02360753  0.05803913  0.04034337]\n",
            " [ 0.0090156  -0.04464164  0.05522933 -0.00567061  0.05759701  0.04471895\n",
            "  -0.00290283  0.02323852  0.05568355  0.10661708]\n",
            " [ 0.01628068  0.05068012  0.01427248  0.00121513  0.00118295 -0.02135538\n",
            "  -0.03235593  0.03430886  0.07496834  0.04034337]\n",
            " [-0.08906294 -0.04464164 -0.01159501 -0.03665645  0.01219057  0.02499059\n",
            "  -0.03603757  0.03430886  0.02269202 -0.00936191]\n",
            " [-0.0382074  -0.04464164 -0.0105172  -0.03665645 -0.03734373 -0.01947649\n",
            "  -0.02867429 -0.00259226 -0.01811827 -0.01764613]\n",
            " [-0.07453279  0.05068012 -0.00943939  0.01498661 -0.03734373 -0.02166853\n",
            "  -0.01394774 -0.00259226 -0.03324879  0.01134862]\n",
            " [-0.07090025 -0.04464164 -0.00405033 -0.04009932 -0.06623874 -0.07866155\n",
            "   0.05232174 -0.0763945  -0.05140054 -0.03421455]\n",
            " [ 0.01264814 -0.04464164  0.01535029 -0.03321358  0.04108558  0.03219301\n",
            "  -0.00290283 -0.00259226  0.04506617 -0.06735141]\n",
            " [-0.00551455 -0.04464164  0.02397278  0.00810087 -0.03459183 -0.03889169\n",
            "   0.02286863 -0.03949338 -0.01599827 -0.01350402]\n",
            " [-0.03457486 -0.04464164 -0.0374625  -0.06075654  0.02044629  0.04346635\n",
            "  -0.01394774 -0.00259226 -0.03075121 -0.07149352]\n",
            " [ 0.04170844  0.05068012 -0.03207344 -0.02288496 -0.04972731 -0.04014429\n",
            "   0.03023191 -0.03949338 -0.12609739  0.01549073]\n",
            " [ 0.0090156   0.05068012  0.01858372  0.03908671  0.01769438  0.01058576\n",
            "   0.019187   -0.00259226  0.01630495 -0.01764613]\n",
            " [ 0.04170844  0.05068012 -0.01590626  0.01728186 -0.03734373 -0.01383982\n",
            "  -0.02499266 -0.01107952 -0.04687948  0.01549073]\n",
            " [ 0.06713621  0.05068012 -0.00620595  0.0631868  -0.04284755 -0.09588471\n",
            "   0.05232174 -0.0763945   0.0594238   0.05276969]\n",
            " [-0.00551455 -0.04464164  0.00888341 -0.05042793  0.0259501   0.04722413\n",
            "  -0.04340085  0.07120998  0.01482271  0.00306441]\n",
            " [ 0.02354575  0.05068012 -0.0374625  -0.04698506 -0.0910059  -0.07553006\n",
            "  -0.03235593 -0.03949338 -0.03075121 -0.01350402]\n",
            " [ 0.03444337  0.05068012 -0.00943939  0.05974393 -0.03596778 -0.00757685\n",
            "  -0.07653559  0.07120998  0.0110081  -0.02178823]\n",
            " [-0.10722563 -0.04464164 -0.07734155 -0.02632783 -0.08962994 -0.09619786\n",
            "   0.02655027 -0.0763945  -0.0425721  -0.0052198 ]\n",
            " [ 0.06350368  0.05068012 -0.00189471  0.06662967  0.09061988  0.10891438\n",
            "   0.02286863  0.01770335 -0.03581673  0.00306441]]\n"
          ],
          "name": "stdout"
        },
        {
          "output_type": "execute_result",
          "data": {
            "text/plain": [
              "array([[ 1.        ,  0.1849393 ,  0.27395446, -0.21866944, -0.07803362,\n",
              "         0.00364391, -0.19229924,  0.68496863,  0.11363032,  0.80022591,\n",
              "        -0.28623317, -0.24469628, -0.00763716, -0.48743326,  0.4680535 ,\n",
              "        -0.4099333 , -0.31531307, -0.59010308,  0.56990591, -0.39296481],\n",
              "       [ 0.1849393 ,  1.        ,  0.15995061,  0.06874954, -0.04055478,\n",
              "        -0.13884852, -0.33675423, -0.43314416,  0.02034285, -0.01320061,\n",
              "        -0.15679048, -0.29351755, -0.17974083,  0.01858431,  0.21101902,\n",
              "         0.01571569, -0.22347876,  0.3166539 , -0.04740039,  0.15562371],\n",
              "       [ 0.27395446,  0.15995061,  1.        ,  0.1401092 ,  0.51704947,\n",
              "         0.55990084, -0.29435224, -0.13130396,  0.16187208,  0.02913434,\n",
              "         0.04843049, -0.45729365, -0.78094447, -0.4792904 , -0.24002355,\n",
              "         0.5422139 , -0.47457095, -0.40518456, -0.07378371, -0.28417978],\n",
              "       [-0.21866944,  0.06874954,  0.1401092 ,  1.        ,  0.14098219,\n",
              "         0.1519748 ,  0.20495818, -0.33982492, -0.15869445, -0.33715152,\n",
              "        -0.47277823, -0.28544021, -0.04669614,  0.13240844,  0.3058305 ,\n",
              "         0.11127901,  0.47955479,  0.4827881 , -0.03133053, -0.61298534],\n",
              "       [-0.07803362, -0.04055478,  0.51704947,  0.14098219,  1.        ,\n",
              "         0.67530963,  0.08027655, -0.27366788,  0.36713494, -0.41524571,\n",
              "         0.51191749, -0.76028598, -0.34960964, -0.72609412, -0.70424223,\n",
              "         0.74001042, -0.67393375, -0.08429399, -0.11735748, -0.15435694],\n",
              "       [ 0.00364391, -0.13884852,  0.55990084,  0.1519748 ,  0.67530963,\n",
              "         1.        , -0.04233723, -0.01305101,  0.16181075,  0.05720058,\n",
              "         0.14772326, -0.47980436, -0.65026417, -0.48742019, -0.4845654 ,\n",
              "         0.69961987, -0.34324683, -0.01027897, -0.05511479, -0.52192999],\n",
              "       [-0.19229924, -0.33675423, -0.29435224,  0.20495818,  0.08027655,\n",
              "        -0.04233723,  1.        ,  0.21467855, -0.7235403 , -0.15875116,\n",
              "        -0.38716005,  0.25754941,  0.38790175,  0.33959055,  0.09250786,\n",
              "        -0.35691499,  0.27480591,  0.25424249,  0.48763332, -0.11302105],\n",
              "       [ 0.68496863, -0.43314416, -0.13130396, -0.33982492, -0.27366788,\n",
              "        -0.01305101,  0.21467855,  1.        , -0.22320808,  0.76350127,\n",
              "        -0.30093157,  0.29605381,  0.15679856, -0.1614707 ,  0.42883721,\n",
              "        -0.585256  ,  0.0863411 , -0.60501245,  0.75350147, -0.39437568],\n",
              "       [ 0.11363032,  0.02034285,  0.16187208, -0.15869445,  0.36713494,\n",
              "         0.16181075, -0.7235403 , -0.22320808,  1.        , -0.05555399,\n",
              "         0.71149962, -0.64042834, -0.02291152, -0.68667156, -0.43316589,\n",
              "         0.49180449, -0.53017736, -0.22939426, -0.55523896,  0.11516907],\n",
              "       [ 0.80022591, -0.01320061,  0.02913434, -0.33715152, -0.41524571,\n",
              "         0.05720058, -0.15875116,  0.76350127, -0.05555399,  1.        ,\n",
              "        -0.42983373,  0.12280132,  0.03596559, -0.11081123,  0.49367344,\n",
              "        -0.49227271, -0.01268888, -0.37308026,  0.42987591, -0.36385353],\n",
              "       [-0.28623317, -0.15679048,  0.04843049, -0.47277823,  0.51191749,\n",
              "         0.14772326, -0.38716005, -0.30093157,  0.71149962, -0.42983373,\n",
              "         1.        , -0.31697243, -0.095177  , -0.51491738, -0.81756762,\n",
              "         0.60779402, -0.61556807, -0.26167132, -0.49255053,  0.52754168],\n",
              "       [-0.24469628, -0.29351755, -0.45729365, -0.28544021, -0.76028598,\n",
              "        -0.47980436,  0.25754941,  0.29605381, -0.64042834,  0.12280132,\n",
              "        -0.31697243,  1.        ,  0.13847006,  0.78218969,  0.33731485,\n",
              "        -0.53116176,  0.62450676, -0.02282662,  0.21652279,  0.28105099],\n",
              "       [-0.00763716, -0.17974083, -0.78094447, -0.04669614, -0.34960964,\n",
              "        -0.65026417,  0.38790175,  0.15679856, -0.02291152,  0.03596559,\n",
              "        -0.095177  ,  0.13847006,  1.        ,  0.25384889,  0.27644241,\n",
              "        -0.63527966,  0.24394232,  0.24924029,  0.06414504,  0.25753949],\n",
              "       [-0.48743326,  0.01858431, -0.4792904 ,  0.13240844, -0.72609412,\n",
              "        -0.48742019,  0.33959055, -0.1614707 , -0.68667156, -0.11081123,\n",
              "        -0.51491738,  0.78218969,  0.25384889,  1.        ,  0.39973718,\n",
              "        -0.45695977,  0.77299108,  0.51653281, -0.04137152,  0.25880149],\n",
              "       [ 0.4680535 ,  0.21101902, -0.24002355,  0.3058305 , -0.70424223,\n",
              "        -0.4845654 ,  0.09250786,  0.42883721, -0.43316589,  0.49367344,\n",
              "        -0.81756762,  0.33731485,  0.27644241,  0.39973718,  1.        ,\n",
              "        -0.81204114,  0.63090257,  0.00381581,  0.55459299, -0.39966529],\n",
              "       [-0.4099333 ,  0.01571569,  0.5422139 ,  0.11127901,  0.74001042,\n",
              "         0.69961987, -0.35691499, -0.585256  ,  0.49180449, -0.49227271,\n",
              "         0.60779402, -0.53116176, -0.63527966, -0.45695977, -0.81204114,\n",
              "         1.        , -0.48463291,  0.08487903, -0.60054545,  0.012364  ],\n",
              "       [-0.31531307, -0.22347876, -0.47457095,  0.47955479, -0.67393375,\n",
              "        -0.34324683,  0.27480591,  0.0863411 , -0.53017736, -0.01268888,\n",
              "        -0.61556807,  0.62450676,  0.24394232,  0.77299108,  0.63090257,\n",
              "        -0.48463291,  1.        ,  0.37362929,  0.15451938, -0.26589142],\n",
              "       [-0.59010308,  0.3166539 , -0.40518456,  0.4827881 , -0.08429399,\n",
              "        -0.01027897,  0.25424249, -0.60501245, -0.22939426, -0.37308026,\n",
              "        -0.26167132, -0.02282662,  0.24924029,  0.51653281,  0.00381581,\n",
              "         0.08487903,  0.37362929,  1.        , -0.3622246 ,  0.04166685],\n",
              "       [ 0.56990591, -0.04740039, -0.07378371, -0.03133053, -0.11735748,\n",
              "        -0.05511479,  0.48763332,  0.75350147, -0.55523896,  0.42987591,\n",
              "        -0.49255053,  0.21652279,  0.06414504, -0.04137152,  0.55459299,\n",
              "        -0.60054545,  0.15451938, -0.3622246 ,  1.        , -0.4388066 ],\n",
              "       [-0.39296481,  0.15562371, -0.28417978, -0.61298534, -0.15435694,\n",
              "        -0.52192999, -0.11302105, -0.39437568,  0.11516907, -0.36385353,\n",
              "         0.52754168,  0.28105099,  0.25753949,  0.25880149, -0.39966529,\n",
              "         0.012364  , -0.26589142,  0.04166685, -0.4388066 ,  1.        ]])"
            ]
          },
          "metadata": {
            "tags": []
          },
          "execution_count": 36
        }
      ]
    },
    {
      "metadata": {
        "id": "4eZP_nWgtE3Q",
        "colab_type": "code",
        "outputId": "e4299099-ef12-4635-d64b-01017b69ae10",
        "colab": {
          "base_uri": "https://localhost:8080/",
          "height": 311
        }
      },
      "cell_type": "code",
      "source": [
        "sns.heatmap(l, xticklabels=db_data.feature_names, yticklabels=db_data.feature_names)\n",
        "plt.xlabel(\"Diabetes Features\")\n",
        "plt.ylabel(\"Diabetes Features\")\n",
        "plt.title(\"Correlation Matrix on Diabetes Dataset\")"
      ],
      "execution_count": 0,
      "outputs": [
        {
          "output_type": "execute_result",
          "data": {
            "text/plain": [
              "Text(0.5, 1.0, 'Correlation Matrix on Diabetes Dataset')"
            ]
          },
          "metadata": {
            "tags": []
          },
          "execution_count": 34
        },
        {
          "output_type": "display_data",
          "data": {
            "image/png": "[encoded data removed]",
            "text/plain": [
              "<Figure size 432x288 with 2 Axes>"
            ]
          },
          "metadata": {
            "tags": []
          }
        }
      ]
    },
    {
      "metadata": {
        "id": "D7Ej23Jbuj1O",
        "colab_type": "code",
        "colab": {}
      },
      "cell_type": "code",
      "source": [
        ""
      ],
      "execution_count": 0,
      "outputs": []
    }
  ]
}