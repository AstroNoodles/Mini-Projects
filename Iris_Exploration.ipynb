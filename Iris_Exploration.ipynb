{
  "nbformat": 4,
  "nbformat_minor": 0,
  "metadata": {
    "colab": {
      "name": "Iris Exploration.ipynb",
      "version": "0.3.2",
      "provenance": [],
      "toc_visible": true
    },
    "kernelspec": {
      "name": "python3",
      "display_name": "Python 3"
    }
  },
  "cells": [
    {
      "metadata": {
        "id": "mu3z0eLsA6SL",
        "colab_type": "text"
      },
      "cell_type": "markdown",
      "source": [
        "<h1>The Iris Dataset </h1>\n",
        " The Iris dataset, which can be found <a href=\"https://archive.ics.uci.edu/ml/datasets/iris\">here</a> is one of the most famous and introductory datasets in machine learning and data science. Modeled after <a href=\"https://rdcu.be/biTg0\"> Fisher's experiment </a> done in 1936, it was collected to model the differences in the sepal length and width and pedal length and width of three different Iris species: <i> Iris setosa, Iris Virginica </i> and <i> Iris Versicolor. </i> \n",
        " Various machine learning projects use this as a way to teach beginners about simple algorithms and how to use their data science skills efficiently. \n",
        "\n",
        "---\n",
        "\n",
        "The goal of this Collaboratory is to attempt to use my current skills of data exploration, wrangling and machine learning to predict the given flower species given the attributes. Therefore, this is a <b> classification </b> problem, rather than a regression or clustering one. <br>\n",
        "\n",
        "---\n",
        "<h2> Pictures </h2>\n",
        "<br>\n",
        "\n",
        "<figure>\n",
        "  <img src=\"http://mirlab.org/jang/books/dcpr/image/iris.gif\" alt=\"Picture of the Petal and Sepal\" height=\"200\" width=\"200\">\n",
        "  <figcaption> Picture of the Petal and Sepal </figcaption>\n",
        "</figure>\n",
        "\n",
        "  <figure>\n",
        "    <img src=\"http://mirlab.org/jang/books/dcpr/image/Iris-setosa-10_1.jpg\" alt=\"Iris Setosa\" height=\"100\" width=\"100\">\n",
        "      <figcaption> <i> Iris Setosa </i> </figcaption>\n",
        "  </figure>\n",
        "  <figure>\n",
        "  <img src=\"http://mirlab.org/jang/books/dcpr/image/Iris-versicolor-21_1.jpg\" alt=\"Iris Virginica\" height=\"100\" width=\"100\">\n",
        "  <figcaption> <i> Iris Virginica </i> </figcaption>\n",
        "  </figure>\n",
        "  <figure>\n",
        "  <img src=\"http://mirlab.org/jang/books/dcpr/image/Iris-virginica-3_1.jpg\" alt=\"Iris Versicolor\" height=\"100\" width=\"100\">\n",
        "    <figcaption> <i> Iris Versicolor </i> </figcaption>\n",
        "  </figure>\n",
        "\n"
      ]
    },
    {
      "metadata": {
        "id": "vhLAf8ydA3Wo",
        "colab_type": "code",
        "outputId": "0fbd8fc0-936a-4f13-8b1b-3694defcf215",
        "colab": {
          "base_uri": "https://localhost:8080/",
          "height": 34
        }
      },
      "cell_type": "code",
      "source": [
        "import numpy as np\n",
        "import matplotlib.pyplot as plt\n",
        "from sklearn.datasets import load_iris\n",
        "from sklearn.model_selection import train_test_split\n",
        "from sklearn.model_selection import RandomizedSearchCV\n",
        "from sklearn.metrics import classification_report\n",
        "from scipy.stats import randint\n",
        "\n",
        "# Models\n",
        "from sklearn.svm import SVC # Support Vector Classifier\n",
        "from sklearn.ensemble import RandomForestClassifier # Random Forest\n",
        "from sklearn.tree import DecisionTreeClassifier # Decision Tree\n",
        "from sklearn.naive_bayes import GaussianNB # Naive Bayes\n",
        "from sklearn.linear_model import LogisticRegression # Logistic Regression (NOT FOR REGRESSION)\n",
        "from sklearn.neural_network import MLPClassifier # Perceptron\n",
        "\n",
        "import os.path\n",
        "import os\n",
        "\n",
        "%matplotlib inline\n",
        "\n",
        "print(\"All set up!\")"
      ],
      "execution_count": 10,
      "outputs": [
        {
          "output_type": "stream",
          "text": [
            "All set up!\n"
          ],
          "name": "stdout"
        }
      ]
    },
    {
      "metadata": {
        "id": "nDcCXTbqGa6n",
        "colab_type": "code",
        "outputId": "d7e8177d-0376-4083-c069-314bf63b30df",
        "colab": {
          "base_uri": "https://localhost:8080/",
          "height": 51
        }
      },
      "cell_type": "code",
      "source": [
        "data = load_iris()\n",
        "print(f\"Feature Names: {data.feature_names}.\")\n",
        "print(f\"Target Names: {data.target_names}.\")"
      ],
      "execution_count": 11,
      "outputs": [
        {
          "output_type": "stream",
          "text": [
            "Feature Names: ['sepal length (cm)', 'sepal width (cm)', 'petal length (cm)', 'petal width (cm)'].\n",
            "Target Names: ['setosa' 'versicolor' 'virginica'].\n"
          ],
          "name": "stdout"
        }
      ]
    },
    {
      "metadata": {
        "id": "rD5PDzzIGgI6",
        "colab_type": "code",
        "outputId": "d9a20ca2-e879-469a-fe3b-041fde01d632",
        "colab": {
          "base_uri": "https://localhost:8080/",
          "height": 34
        }
      },
      "cell_type": "code",
      "source": [
        "len(data.data)"
      ],
      "execution_count": 12,
      "outputs": [
        {
          "output_type": "execute_result",
          "data": {
            "text/plain": [
              "150"
            ]
          },
          "metadata": {
            "tags": []
          },
          "execution_count": 12
        }
      ]
    },
    {
      "metadata": {
        "id": "nFkpqoOXHGhJ",
        "colab_type": "code",
        "outputId": "afa364b7-a067-4f57-f0d9-9f4f5aa6d061",
        "colab": {
          "base_uri": "https://localhost:8080/",
          "height": 153
        }
      },
      "cell_type": "code",
      "source": [
        "print(\"Data: \")\n",
        "print(data.data[:5])\n",
        "print(\"Target: \")\n",
        "print(data.target[:5])"
      ],
      "execution_count": 13,
      "outputs": [
        {
          "output_type": "stream",
          "text": [
            "Data: \n",
            "[[5.1 3.5 1.4 0.2]\n",
            " [4.9 3.  1.4 0.2]\n",
            " [4.7 3.2 1.3 0.2]\n",
            " [4.6 3.1 1.5 0.2]\n",
            " [5.  3.6 1.4 0.2]]\n",
            "Target: \n",
            "[0 0 0 0 0]\n"
          ],
          "name": "stdout"
        }
      ]
    },
    {
      "metadata": {
        "id": "V6T5S7e1NylC",
        "colab_type": "code",
        "outputId": "71eb2480-d484-4524-a230-8b8e1497a764",
        "colab": {
          "base_uri": "https://localhost:8080/",
          "height": 1244
        }
      },
      "cell_type": "code",
      "source": [
        "train_x, test_x, train_y, test_y = train_test_split(data.data, data.target, test_size=.2, random_state=4)\n",
        "models = (SVC(gamma='auto'), \n",
        "          RandomForestClassifier(n_estimators=1000), \n",
        "          MLPClassifier(), \n",
        "          DecisionTreeClassifier(), \n",
        "          GaussianNB(), \n",
        "          LogisticRegression(solver='lbfgs', multi_class='auto'))\n",
        "\n",
        "if not os.path.exists(\"reports\"):\n",
        "  os.mkdir('reports')\n",
        "\n",
        "for model in models:\n",
        "  model_name = type(model).__name__\n",
        "  model.fit(train_x, train_y)\n",
        "  predict_y = model.predict(test_x)\n",
        "  report = classification_report(test_y, predict_y, target_names=data.target_names)\n",
        "  \n",
        "  print(model_name)\n",
        "  print(report)\n",
        "  \n",
        "  with open(os.path.join('reports', f\"{model_name}_iris.txt\"), 'w') as f:\n",
        "    f.write(report)\n",
        "    \n",
        "print('All reports written to file!')\n"
      ],
      "execution_count": 14,
      "outputs": [
        {
          "output_type": "stream",
          "text": [
            "SVC\n",
            "              precision    recall  f1-score   support\n",
            "\n",
            "      setosa       1.00      1.00      1.00        16\n",
            "  versicolor       1.00      0.80      0.89         5\n",
            "   virginica       0.90      1.00      0.95         9\n",
            "\n",
            "   micro avg       0.97      0.97      0.97        30\n",
            "   macro avg       0.97      0.93      0.95        30\n",
            "weighted avg       0.97      0.97      0.97        30\n",
            "\n",
            "RandomForestClassifier\n",
            "              precision    recall  f1-score   support\n",
            "\n",
            "      setosa       1.00      1.00      1.00        16\n",
            "  versicolor       1.00      0.80      0.89         5\n",
            "   virginica       0.90      1.00      0.95         9\n",
            "\n",
            "   micro avg       0.97      0.97      0.97        30\n",
            "   macro avg       0.97      0.93      0.95        30\n",
            "weighted avg       0.97      0.97      0.97        30\n",
            "\n",
            "MLPClassifier\n",
            "              precision    recall  f1-score   support\n",
            "\n",
            "      setosa       1.00      1.00      1.00        16\n",
            "  versicolor       1.00      0.80      0.89         5\n",
            "   virginica       0.90      1.00      0.95         9\n",
            "\n",
            "   micro avg       0.97      0.97      0.97        30\n",
            "   macro avg       0.97      0.93      0.95        30\n",
            "weighted avg       0.97      0.97      0.97        30\n",
            "\n",
            "DecisionTreeClassifier\n",
            "              precision    recall  f1-score   support\n",
            "\n",
            "      setosa       1.00      1.00      1.00        16\n",
            "  versicolor       1.00      0.80      0.89         5\n",
            "   virginica       0.90      1.00      0.95         9\n",
            "\n",
            "   micro avg       0.97      0.97      0.97        30\n",
            "   macro avg       0.97      0.93      0.95        30\n",
            "weighted avg       0.97      0.97      0.97        30\n",
            "\n",
            "GaussianNB\n",
            "              precision    recall  f1-score   support\n",
            "\n",
            "      setosa       1.00      1.00      1.00        16\n",
            "  versicolor       0.83      1.00      0.91         5\n",
            "   virginica       1.00      0.89      0.94         9\n",
            "\n",
            "   micro avg       0.97      0.97      0.97        30\n",
            "   macro avg       0.94      0.96      0.95        30\n",
            "weighted avg       0.97      0.97      0.97        30\n",
            "\n",
            "LogisticRegression\n",
            "              precision    recall  f1-score   support\n",
            "\n",
            "      setosa       1.00      1.00      1.00        16\n",
            "  versicolor       1.00      0.80      0.89         5\n",
            "   virginica       0.90      1.00      0.95         9\n",
            "\n",
            "   micro avg       0.97      0.97      0.97        30\n",
            "   macro avg       0.97      0.93      0.95        30\n",
            "weighted avg       0.97      0.97      0.97        30\n",
            "\n",
            "All reports written to file!\n"
          ],
          "name": "stdout"
        },
        {
          "output_type": "stream",
          "text": [
            "/usr/local/lib/python3.6/dist-packages/sklearn/neural_network/multilayer_perceptron.py:562: ConvergenceWarning: Stochastic Optimizer: Maximum iterations (200) reached and the optimization hasn't converged yet.\n",
            "  % self.max_iter, ConvergenceWarning)\n",
            "/usr/local/lib/python3.6/dist-packages/sklearn/linear_model/logistic.py:758: ConvergenceWarning: lbfgs failed to converge. Increase the number of iterations.\n",
            "  \"of iterations.\", ConvergenceWarning)\n"
          ],
          "name": "stderr"
        }
      ]
    },
    {
      "metadata": {
        "id": "aT6zTzW-VqLy",
        "colab_type": "text"
      },
      "cell_type": "markdown",
      "source": [
        "# Preliminary Results \n",
        "\n",
        "From the dataset, we can see the results in the text files for the best classical models that can model the Iris dataset. Though grid search was not done to find optimal parameters, the best models that seemed to work for Iris prediction were:\n",
        "\n",
        "\n",
        "*   Decision Trees (97%)\n",
        "*   Logistic Regression (97%)\n",
        "*   SVC (97%)\n",
        "*   Random Forest (97%)\n",
        "\n",
        "Suprisingly, the multi layer perceptron and naive bayes were not particularly strong with this dataset. Perhaps, the learning rate and solver should be adjusted to deal with this problem as well as checking the correlation between the variables (naive bayes assumes the data is independent)\n",
        "\n",
        "However, this does not mean that the MLP and Naive Bayes are the worst classical machine learning algorithms to deal with this classification problem. Instead, grid search should be done to find better parameters to see what triggers it to work well and reach 97% accuracy like the others.\n",
        "\n",
        "\n",
        "\n",
        "\n"
      ]
    },
    {
      "metadata": {
        "id": "vLo0CS4Kc5ci",
        "colab_type": "text"
      },
      "cell_type": "markdown",
      "source": [
        "# Grid Search"
      ]
    },
    {
      "metadata": {
        "id": "P05gou57m5rt",
        "colab_type": "text"
      },
      "cell_type": "markdown",
      "source": [
        "Let's try it first with the MLP to see if we can get any performance improvements compared to its default performance."
      ]
    },
    {
      "metadata": {
        "id": "A2JZUS8Hc-YZ",
        "colab_type": "code",
        "colab": {
          "base_uri": "https://localhost:8080/",
          "height": 2247
        },
        "outputId": "537ad2aa-7f07-479e-8644-09caeaaa3bf8"
      },
      "cell_type": "code",
      "source": [
        "mlp_classifier = MLPClassifier()\n",
        "print(mlp_classifier)\n",
        "\n",
        "# To do randomized grid search, we need the kwargs for the search to look through.\n",
        "# See https://bit.ly/2CjDug7 for all the kwargs\n",
        "mlp_params = {\"activation\": ['identity', 'logistic', 'tanh', 'relu'],\n",
        "              \"solver\" : [\"lbfgs\", \"sgd\", \"adam\"],\n",
        "              \"learning_rate\": [\"constant\", \"invscaling\", \"adaptive\"],\n",
        "              \"max_iter\" : randint(100, 400),\n",
        "              \"shuffle\": [True, False]}\n",
        "\n",
        "random_search = RandomizedSearchCV(mlp_classifier, mlp_params, n_iter=20, \n",
        "                                   scoring=\"accuracy\", cv=5, verbose=0)\n",
        "random_search.fit(train_x, train_y)\n",
        "\n",
        "# Select the best params and update them to the MLP.\n",
        "best_mlp_params = random_search.best_params_\n",
        "mlp_classifier.__dict__.update(best_mlp_params)\n",
        "print(mlp_classifier)\n"
      ],
      "execution_count": 18,
      "outputs": [
        {
          "output_type": "stream",
          "text": [
            "MLPClassifier(activation='relu', alpha=0.0001, batch_size='auto', beta_1=0.9,\n",
            "       beta_2=0.999, early_stopping=False, epsilon=1e-08,\n",
            "       hidden_layer_sizes=(100,), learning_rate='constant',\n",
            "       learning_rate_init=0.001, max_iter=200, momentum=0.9,\n",
            "       n_iter_no_change=10, nesterovs_momentum=True, power_t=0.5,\n",
            "       random_state=None, shuffle=True, solver='adam', tol=0.0001,\n",
            "       validation_fraction=0.1, verbose=False, warm_start=False)\n"
          ],
          "name": "stdout"
        },
        {
          "output_type": "stream",
          "text": [
            "/usr/local/lib/python3.6/dist-packages/sklearn/neural_network/multilayer_perceptron.py:562: ConvergenceWarning: Stochastic Optimizer: Maximum iterations (207) reached and the optimization hasn't converged yet.\n",
            "  % self.max_iter, ConvergenceWarning)\n",
            "/usr/local/lib/python3.6/dist-packages/sklearn/neural_network/multilayer_perceptron.py:562: ConvergenceWarning: Stochastic Optimizer: Maximum iterations (207) reached and the optimization hasn't converged yet.\n",
            "  % self.max_iter, ConvergenceWarning)\n",
            "/usr/local/lib/python3.6/dist-packages/sklearn/neural_network/multilayer_perceptron.py:562: ConvergenceWarning: Stochastic Optimizer: Maximum iterations (207) reached and the optimization hasn't converged yet.\n",
            "  % self.max_iter, ConvergenceWarning)\n",
            "/usr/local/lib/python3.6/dist-packages/sklearn/neural_network/multilayer_perceptron.py:562: ConvergenceWarning: Stochastic Optimizer: Maximum iterations (207) reached and the optimization hasn't converged yet.\n",
            "  % self.max_iter, ConvergenceWarning)\n",
            "/usr/local/lib/python3.6/dist-packages/sklearn/neural_network/multilayer_perceptron.py:562: ConvergenceWarning: Stochastic Optimizer: Maximum iterations (207) reached and the optimization hasn't converged yet.\n",
            "  % self.max_iter, ConvergenceWarning)\n",
            "/usr/local/lib/python3.6/dist-packages/sklearn/neural_network/multilayer_perceptron.py:562: ConvergenceWarning: Stochastic Optimizer: Maximum iterations (144) reached and the optimization hasn't converged yet.\n",
            "  % self.max_iter, ConvergenceWarning)\n",
            "/usr/local/lib/python3.6/dist-packages/sklearn/neural_network/multilayer_perceptron.py:562: ConvergenceWarning: Stochastic Optimizer: Maximum iterations (144) reached and the optimization hasn't converged yet.\n",
            "  % self.max_iter, ConvergenceWarning)\n",
            "/usr/local/lib/python3.6/dist-packages/sklearn/neural_network/multilayer_perceptron.py:562: ConvergenceWarning: Stochastic Optimizer: Maximum iterations (144) reached and the optimization hasn't converged yet.\n",
            "  % self.max_iter, ConvergenceWarning)\n",
            "/usr/local/lib/python3.6/dist-packages/sklearn/neural_network/multilayer_perceptron.py:562: ConvergenceWarning: Stochastic Optimizer: Maximum iterations (144) reached and the optimization hasn't converged yet.\n",
            "  % self.max_iter, ConvergenceWarning)\n",
            "/usr/local/lib/python3.6/dist-packages/sklearn/neural_network/multilayer_perceptron.py:562: ConvergenceWarning: Stochastic Optimizer: Maximum iterations (144) reached and the optimization hasn't converged yet.\n",
            "  % self.max_iter, ConvergenceWarning)\n",
            "/usr/local/lib/python3.6/dist-packages/sklearn/neural_network/multilayer_perceptron.py:562: ConvergenceWarning: Stochastic Optimizer: Maximum iterations (277) reached and the optimization hasn't converged yet.\n",
            "  % self.max_iter, ConvergenceWarning)\n",
            "/usr/local/lib/python3.6/dist-packages/sklearn/neural_network/multilayer_perceptron.py:562: ConvergenceWarning: Stochastic Optimizer: Maximum iterations (277) reached and the optimization hasn't converged yet.\n",
            "  % self.max_iter, ConvergenceWarning)\n",
            "/usr/local/lib/python3.6/dist-packages/sklearn/neural_network/multilayer_perceptron.py:562: ConvergenceWarning: Stochastic Optimizer: Maximum iterations (277) reached and the optimization hasn't converged yet.\n",
            "  % self.max_iter, ConvergenceWarning)\n",
            "/usr/local/lib/python3.6/dist-packages/sklearn/neural_network/multilayer_perceptron.py:562: ConvergenceWarning: Stochastic Optimizer: Maximum iterations (277) reached and the optimization hasn't converged yet.\n",
            "  % self.max_iter, ConvergenceWarning)\n",
            "/usr/local/lib/python3.6/dist-packages/sklearn/neural_network/multilayer_perceptron.py:562: ConvergenceWarning: Stochastic Optimizer: Maximum iterations (277) reached and the optimization hasn't converged yet.\n",
            "  % self.max_iter, ConvergenceWarning)\n",
            "/usr/local/lib/python3.6/dist-packages/sklearn/neural_network/multilayer_perceptron.py:562: ConvergenceWarning: Stochastic Optimizer: Maximum iterations (185) reached and the optimization hasn't converged yet.\n",
            "  % self.max_iter, ConvergenceWarning)\n",
            "/usr/local/lib/python3.6/dist-packages/sklearn/neural_network/multilayer_perceptron.py:562: ConvergenceWarning: Stochastic Optimizer: Maximum iterations (185) reached and the optimization hasn't converged yet.\n",
            "  % self.max_iter, ConvergenceWarning)\n",
            "/usr/local/lib/python3.6/dist-packages/sklearn/neural_network/multilayer_perceptron.py:562: ConvergenceWarning: Stochastic Optimizer: Maximum iterations (185) reached and the optimization hasn't converged yet.\n",
            "  % self.max_iter, ConvergenceWarning)\n",
            "/usr/local/lib/python3.6/dist-packages/sklearn/neural_network/multilayer_perceptron.py:562: ConvergenceWarning: Stochastic Optimizer: Maximum iterations (185) reached and the optimization hasn't converged yet.\n",
            "  % self.max_iter, ConvergenceWarning)\n",
            "/usr/local/lib/python3.6/dist-packages/sklearn/neural_network/multilayer_perceptron.py:562: ConvergenceWarning: Stochastic Optimizer: Maximum iterations (185) reached and the optimization hasn't converged yet.\n",
            "  % self.max_iter, ConvergenceWarning)\n",
            "/usr/local/lib/python3.6/dist-packages/sklearn/neural_network/multilayer_perceptron.py:562: ConvergenceWarning: Stochastic Optimizer: Maximum iterations (387) reached and the optimization hasn't converged yet.\n",
            "  % self.max_iter, ConvergenceWarning)\n",
            "/usr/local/lib/python3.6/dist-packages/sklearn/neural_network/multilayer_perceptron.py:562: ConvergenceWarning: Stochastic Optimizer: Maximum iterations (126) reached and the optimization hasn't converged yet.\n",
            "  % self.max_iter, ConvergenceWarning)\n",
            "/usr/local/lib/python3.6/dist-packages/sklearn/neural_network/multilayer_perceptron.py:562: ConvergenceWarning: Stochastic Optimizer: Maximum iterations (126) reached and the optimization hasn't converged yet.\n",
            "  % self.max_iter, ConvergenceWarning)\n",
            "/usr/local/lib/python3.6/dist-packages/sklearn/neural_network/multilayer_perceptron.py:562: ConvergenceWarning: Stochastic Optimizer: Maximum iterations (126) reached and the optimization hasn't converged yet.\n",
            "  % self.max_iter, ConvergenceWarning)\n",
            "/usr/local/lib/python3.6/dist-packages/sklearn/neural_network/multilayer_perceptron.py:562: ConvergenceWarning: Stochastic Optimizer: Maximum iterations (126) reached and the optimization hasn't converged yet.\n",
            "  % self.max_iter, ConvergenceWarning)\n",
            "/usr/local/lib/python3.6/dist-packages/sklearn/neural_network/multilayer_perceptron.py:562: ConvergenceWarning: Stochastic Optimizer: Maximum iterations (126) reached and the optimization hasn't converged yet.\n",
            "  % self.max_iter, ConvergenceWarning)\n",
            "/usr/local/lib/python3.6/dist-packages/sklearn/neural_network/multilayer_perceptron.py:562: ConvergenceWarning: Stochastic Optimizer: Maximum iterations (125) reached and the optimization hasn't converged yet.\n",
            "  % self.max_iter, ConvergenceWarning)\n",
            "/usr/local/lib/python3.6/dist-packages/sklearn/neural_network/multilayer_perceptron.py:562: ConvergenceWarning: Stochastic Optimizer: Maximum iterations (125) reached and the optimization hasn't converged yet.\n",
            "  % self.max_iter, ConvergenceWarning)\n",
            "/usr/local/lib/python3.6/dist-packages/sklearn/neural_network/multilayer_perceptron.py:562: ConvergenceWarning: Stochastic Optimizer: Maximum iterations (125) reached and the optimization hasn't converged yet.\n",
            "  % self.max_iter, ConvergenceWarning)\n",
            "/usr/local/lib/python3.6/dist-packages/sklearn/neural_network/multilayer_perceptron.py:562: ConvergenceWarning: Stochastic Optimizer: Maximum iterations (125) reached and the optimization hasn't converged yet.\n",
            "  % self.max_iter, ConvergenceWarning)\n",
            "/usr/local/lib/python3.6/dist-packages/sklearn/neural_network/multilayer_perceptron.py:562: ConvergenceWarning: Stochastic Optimizer: Maximum iterations (125) reached and the optimization hasn't converged yet.\n",
            "  % self.max_iter, ConvergenceWarning)\n",
            "/usr/local/lib/python3.6/dist-packages/sklearn/neural_network/multilayer_perceptron.py:562: ConvergenceWarning: Stochastic Optimizer: Maximum iterations (375) reached and the optimization hasn't converged yet.\n",
            "  % self.max_iter, ConvergenceWarning)\n",
            "/usr/local/lib/python3.6/dist-packages/sklearn/neural_network/multilayer_perceptron.py:562: ConvergenceWarning: Stochastic Optimizer: Maximum iterations (375) reached and the optimization hasn't converged yet.\n",
            "  % self.max_iter, ConvergenceWarning)\n",
            "/usr/local/lib/python3.6/dist-packages/sklearn/neural_network/multilayer_perceptron.py:562: ConvergenceWarning: Stochastic Optimizer: Maximum iterations (375) reached and the optimization hasn't converged yet.\n",
            "  % self.max_iter, ConvergenceWarning)\n",
            "/usr/local/lib/python3.6/dist-packages/sklearn/neural_network/multilayer_perceptron.py:562: ConvergenceWarning: Stochastic Optimizer: Maximum iterations (375) reached and the optimization hasn't converged yet.\n",
            "  % self.max_iter, ConvergenceWarning)\n",
            "/usr/local/lib/python3.6/dist-packages/sklearn/neural_network/multilayer_perceptron.py:562: ConvergenceWarning: Stochastic Optimizer: Maximum iterations (375) reached and the optimization hasn't converged yet.\n",
            "  % self.max_iter, ConvergenceWarning)\n",
            "/usr/local/lib/python3.6/dist-packages/sklearn/neural_network/multilayer_perceptron.py:562: ConvergenceWarning: Stochastic Optimizer: Maximum iterations (297) reached and the optimization hasn't converged yet.\n",
            "  % self.max_iter, ConvergenceWarning)\n",
            "/usr/local/lib/python3.6/dist-packages/sklearn/neural_network/multilayer_perceptron.py:562: ConvergenceWarning: Stochastic Optimizer: Maximum iterations (201) reached and the optimization hasn't converged yet.\n",
            "  % self.max_iter, ConvergenceWarning)\n",
            "/usr/local/lib/python3.6/dist-packages/sklearn/neural_network/multilayer_perceptron.py:562: ConvergenceWarning: Stochastic Optimizer: Maximum iterations (201) reached and the optimization hasn't converged yet.\n",
            "  % self.max_iter, ConvergenceWarning)\n",
            "/usr/local/lib/python3.6/dist-packages/sklearn/neural_network/multilayer_perceptron.py:562: ConvergenceWarning: Stochastic Optimizer: Maximum iterations (201) reached and the optimization hasn't converged yet.\n",
            "  % self.max_iter, ConvergenceWarning)\n",
            "/usr/local/lib/python3.6/dist-packages/sklearn/neural_network/multilayer_perceptron.py:562: ConvergenceWarning: Stochastic Optimizer: Maximum iterations (201) reached and the optimization hasn't converged yet.\n",
            "  % self.max_iter, ConvergenceWarning)\n",
            "/usr/local/lib/python3.6/dist-packages/sklearn/neural_network/multilayer_perceptron.py:562: ConvergenceWarning: Stochastic Optimizer: Maximum iterations (201) reached and the optimization hasn't converged yet.\n",
            "  % self.max_iter, ConvergenceWarning)\n",
            "/usr/local/lib/python3.6/dist-packages/sklearn/neural_network/multilayer_perceptron.py:562: ConvergenceWarning: Stochastic Optimizer: Maximum iterations (164) reached and the optimization hasn't converged yet.\n",
            "  % self.max_iter, ConvergenceWarning)\n",
            "/usr/local/lib/python3.6/dist-packages/sklearn/neural_network/multilayer_perceptron.py:562: ConvergenceWarning: Stochastic Optimizer: Maximum iterations (164) reached and the optimization hasn't converged yet.\n",
            "  % self.max_iter, ConvergenceWarning)\n",
            "/usr/local/lib/python3.6/dist-packages/sklearn/neural_network/multilayer_perceptron.py:562: ConvergenceWarning: Stochastic Optimizer: Maximum iterations (164) reached and the optimization hasn't converged yet.\n",
            "  % self.max_iter, ConvergenceWarning)\n",
            "/usr/local/lib/python3.6/dist-packages/sklearn/neural_network/multilayer_perceptron.py:562: ConvergenceWarning: Stochastic Optimizer: Maximum iterations (164) reached and the optimization hasn't converged yet.\n",
            "  % self.max_iter, ConvergenceWarning)\n",
            "/usr/local/lib/python3.6/dist-packages/sklearn/neural_network/multilayer_perceptron.py:562: ConvergenceWarning: Stochastic Optimizer: Maximum iterations (164) reached and the optimization hasn't converged yet.\n",
            "  % self.max_iter, ConvergenceWarning)\n",
            "/usr/local/lib/python3.6/dist-packages/sklearn/neural_network/multilayer_perceptron.py:562: ConvergenceWarning: Stochastic Optimizer: Maximum iterations (397) reached and the optimization hasn't converged yet.\n",
            "  % self.max_iter, ConvergenceWarning)\n",
            "/usr/local/lib/python3.6/dist-packages/sklearn/neural_network/multilayer_perceptron.py:562: ConvergenceWarning: Stochastic Optimizer: Maximum iterations (397) reached and the optimization hasn't converged yet.\n",
            "  % self.max_iter, ConvergenceWarning)\n",
            "/usr/local/lib/python3.6/dist-packages/sklearn/neural_network/multilayer_perceptron.py:562: ConvergenceWarning: Stochastic Optimizer: Maximum iterations (397) reached and the optimization hasn't converged yet.\n",
            "  % self.max_iter, ConvergenceWarning)\n",
            "/usr/local/lib/python3.6/dist-packages/sklearn/neural_network/multilayer_perceptron.py:562: ConvergenceWarning: Stochastic Optimizer: Maximum iterations (397) reached and the optimization hasn't converged yet.\n",
            "  % self.max_iter, ConvergenceWarning)\n",
            "/usr/local/lib/python3.6/dist-packages/sklearn/neural_network/multilayer_perceptron.py:562: ConvergenceWarning: Stochastic Optimizer: Maximum iterations (397) reached and the optimization hasn't converged yet.\n",
            "  % self.max_iter, ConvergenceWarning)\n",
            "/usr/local/lib/python3.6/dist-packages/sklearn/neural_network/multilayer_perceptron.py:562: ConvergenceWarning: Stochastic Optimizer: Maximum iterations (250) reached and the optimization hasn't converged yet.\n",
            "  % self.max_iter, ConvergenceWarning)\n",
            "/usr/local/lib/python3.6/dist-packages/sklearn/neural_network/multilayer_perceptron.py:562: ConvergenceWarning: Stochastic Optimizer: Maximum iterations (250) reached and the optimization hasn't converged yet.\n",
            "  % self.max_iter, ConvergenceWarning)\n",
            "/usr/local/lib/python3.6/dist-packages/sklearn/neural_network/multilayer_perceptron.py:562: ConvergenceWarning: Stochastic Optimizer: Maximum iterations (250) reached and the optimization hasn't converged yet.\n",
            "  % self.max_iter, ConvergenceWarning)\n",
            "/usr/local/lib/python3.6/dist-packages/sklearn/neural_network/multilayer_perceptron.py:562: ConvergenceWarning: Stochastic Optimizer: Maximum iterations (250) reached and the optimization hasn't converged yet.\n",
            "  % self.max_iter, ConvergenceWarning)\n",
            "/usr/local/lib/python3.6/dist-packages/sklearn/neural_network/multilayer_perceptron.py:562: ConvergenceWarning: Stochastic Optimizer: Maximum iterations (250) reached and the optimization hasn't converged yet.\n",
            "  % self.max_iter, ConvergenceWarning)\n"
          ],
          "name": "stderr"
        },
        {
          "output_type": "stream",
          "text": [
            "MLPClassifier(activation='relu', alpha=0.0001, batch_size='auto', beta_1=0.9,\n",
            "       beta_2=0.999, early_stopping=False, epsilon=1e-08,\n",
            "       hidden_layer_sizes=(100,), learning_rate='constant',\n",
            "       learning_rate_init=0.001, max_iter=166, momentum=0.9,\n",
            "       n_iter_no_change=10, nesterovs_momentum=True, power_t=0.5,\n",
            "       random_state=None, shuffle=True, solver='lbfgs', tol=0.0001,\n",
            "       validation_fraction=0.1, verbose=False, warm_start=False)\n"
          ],
          "name": "stdout"
        },
        {
          "output_type": "stream",
          "text": [
            "/usr/local/lib/python3.6/dist-packages/sklearn/model_selection/_search.py:841: DeprecationWarning: The default of the `iid` parameter will change from True to False in version 0.22 and will be removed in 0.24. This will change numeric results when test-set sizes are unequal.\n",
            "  DeprecationWarning)\n"
          ],
          "name": "stderr"
        }
      ]
    },
    {
      "metadata": {
        "id": "DU0aCAYd7RHi",
        "colab_type": "code",
        "colab": {
          "base_uri": "https://localhost:8080/",
          "height": 187
        },
        "outputId": "a67eb5f7-51e8-4bad-9c08-5832412cdbed"
      },
      "cell_type": "code",
      "source": [
        "# Trying out the newly grid searched MLP with specially chosen params\n",
        "mlp_classifier.fit(train_x, train_y)\n",
        "predict_y = model.predict(test_x)\n",
        "report = classification_report(test_y, predict_y, target_names=data.target_names)\n",
        "\n",
        "print(report)"
      ],
      "execution_count": 19,
      "outputs": [
        {
          "output_type": "stream",
          "text": [
            "              precision    recall  f1-score   support\n",
            "\n",
            "      setosa       1.00      1.00      1.00        16\n",
            "  versicolor       1.00      0.80      0.89         5\n",
            "   virginica       0.90      1.00      0.95         9\n",
            "\n",
            "   micro avg       0.97      0.97      0.97        30\n",
            "   macro avg       0.97      0.93      0.95        30\n",
            "weighted avg       0.97      0.97      0.97        30\n",
            "\n"
          ],
          "name": "stdout"
        }
      ]
    },
    {
      "metadata": {
        "id": "1UUeC-dRl9Wm",
        "colab_type": "text"
      },
      "cell_type": "markdown",
      "source": [
        "Though it didn't make much of a difference, let's do a correlation test to see if there are dependent variables in the data that ruin Naive Bayes."
      ]
    },
    {
      "metadata": {
        "id": "kvOjsNHYnZwU",
        "colab_type": "code",
        "colab": {
          "base_uri": "https://localhost:8080/",
          "height": 187
        },
        "outputId": "ef495db6-cae3-470d-8f4e-d9167339deb6"
      },
      "cell_type": "code",
      "source": [
        "print(data.feature_names) # Print the features\n",
        "\n",
        "# np.corrcoef prints a correlation matrix of a numpy array, \n",
        "# rowvar=False tells numpy that each column is a feature rather than the row!\n",
        "\n",
        "print(np.corrcoef(train_x, rowvar=False)) \n",
        "print()\n",
        "print(np.corrcoef(train_x, rowvar=False))"
      ],
      "execution_count": 28,
      "outputs": [
        {
          "output_type": "stream",
          "text": [
            "['sepal length (cm)', 'sepal width (cm)', 'petal length (cm)', 'petal width (cm)']\n",
            "[[ 1.         -0.09663434  0.86953201  0.81095724]\n",
            " [-0.09663434  1.         -0.39701304 -0.3198639 ]\n",
            " [ 0.86953201 -0.39701304  1.          0.95807717]\n",
            " [ 0.81095724 -0.3198639   0.95807717  1.        ]]\n",
            "\n",
            "[[ 1.         -0.09663434  0.86953201  0.81095724]\n",
            " [-0.09663434  1.         -0.39701304 -0.3198639 ]\n",
            " [ 0.86953201 -0.39701304  1.          0.95807717]\n",
            " [ 0.81095724 -0.3198639   0.95807717  1.        ]]\n"
          ],
          "name": "stdout"
        }
      ]
    },
    {
      "metadata": {
        "id": "7RwlyI37o6Uz",
        "colab_type": "text"
      },
      "cell_type": "markdown",
      "source": [
        "As we can see from numpy's correlation matrix on the train and test data, there may be some correlation between the petal and sepal lengths from their close *R* values, so this might explain why Naive Bayes performs suboptimally. \n",
        "\n",
        "\n",
        "\n"
      ]
    },
    {
      "metadata": {
        "id": "kRG2mi1DMnez",
        "colab_type": "text"
      },
      "cell_type": "markdown",
      "source": [
        "# Visualization of the Dataset:"
      ]
    },
    {
      "metadata": {
        "id": "HcER09ZUHKjx",
        "colab_type": "code",
        "outputId": "6a36cb19-f29c-4d15-dde4-4a4e5eb4cf4e",
        "colab": {
          "base_uri": "https://localhost:8080/",
          "height": 311
        }
      },
      "cell_type": "code",
      "source": [
        "fig, ax = plt.subplots(1, 2, figsize=(8, 4))\n",
        "ax1, ax2 = ax\n",
        "\n",
        "ax1.scatter(data.data[:, 0], data.data[:, 1], c='#c297e5', marker='^')\n",
        "ax1.set_title(\"Sepal Length vs. Sepal Width [WHOLE DATASET]\")\n",
        "ax1.set_xlabel(\"Sepal Length (cm)\")\n",
        "ax1.set_ylabel(\"Sepal Width (cm)\")\n",
        "\n",
        "ax2.scatter(data.data[:, 2], data.data[:, 3], c='#6e1daf', marker='^')\n",
        "ax2.set_title(\"Petal Length vs. Petal Width [WHOLE DATASET]\")\n",
        "ax2.set_xlabel(\"Petal Length (cm)\")\n",
        "ax2.set_ylabel(\"Petal Width (cm)\")"
      ],
      "execution_count": 39,
      "outputs": [
        {
          "output_type": "execute_result",
          "data": {
            "text/plain": [
              "Text(0, 0.5, 'Petal Width (cm)')"
            ]
          },
          "metadata": {
            "tags": []
          },
          "execution_count": 39
        },
        {
          "output_type": "display_data",
          "data": {
            "image/png": "[encoded data removed]",
            "text/plain": [
              "<Figure size 576x288 with 2 Axes>"
            ]
          },
          "metadata": {
            "tags": []
          }
        }
      ]
    },
    {
      "metadata": {
        "id": "wmyH1bqMHhJ6",
        "colab_type": "code",
        "colab": {
          "base_uri": "https://localhost:8080/",
          "height": 345
        },
        "outputId": "3beb15d8-0aaa-4992-f6ac-4004831729e9"
      },
      "cell_type": "code",
      "source": [
        "fig, axis = plt.subplots(1, 2, figsize=(12, 4))\n",
        "ax1, ax2 = axis\n",
        "\n",
        "for i, species in enumerate(data.target):\n",
        "  if species == 0:\n",
        "    ax1.plot(data.data[i, 0], data.data[i, 1], 'r^', label='setosa')\n",
        "    \n",
        "  elif species == 1:\n",
        "    ax1.plot(data.data[i, 0], data.data[i, 1], 'b^', label='versicolor')\n",
        "  else:\n",
        "    ax1.plot(data.data[i, 0], data.data[i, 1], 'g^', label='virginica')\n",
        "ax1.set_xlabel('Sepal Length (cm)')\n",
        "ax1.set_ylabel('Sepal Width (cm)')\n",
        "ax1.set_title('Sepal Length vs. Sepal Width Among Iris Species')\n",
        "\n",
        "for i, species in enumerate(data.target):\n",
        "  if species == 0:\n",
        "    ax2.plot(data.data[i, 2], data.data[i, 3], 'r^', label='setosa')\n",
        "    \n",
        "  elif species == 1:\n",
        "    ax2.plot(data.data[i, 2], data.data[i, 3], 'b^', label='versicolor')\n",
        "  else:\n",
        "    ax2.plot(data.data[i, 2], data.data[i, 3], 'g^', label='virginica')\n",
        "ax2.set_xlabel('Petal Length (cm)')\n",
        "ax2.set_ylabel('Petal Width (cm)')\n",
        "ax2.set_title('Petal Length vs. Petal Width Among Iris Species')\n",
        "\n",
        "# TODO - fix so the legend works\n",
        "print('RED - Iris Setosa')\n",
        "print('BLUE - Iris Versicolor')\n",
        "print('GREEN - Iris Virginica')"
      ],
      "execution_count": 50,
      "outputs": [
        {
          "output_type": "stream",
          "text": [
            "RED - Iris Setosa\n",
            "BLUE - Iris Versicolor\n",
            "GREEN - Iris Virginica\n"
          ],
          "name": "stdout"
        },
        {
          "output_type": "display_data",
          "data": {
            "image/png": "[encoded data removed]",
            "text/plain": [
              "<Figure size 864x288 with 2 Axes>"
            ]
          },
          "metadata": {
            "tags": []
          }
        }
      ]
    },
    {
      "metadata": {
        "id": "MavjXln-u6Av",
        "colab_type": "code",
        "colab": {}
      },
      "cell_type": "code",
      "source": [
        ""
      ],
      "execution_count": 0,
      "outputs": []
    }
  ]
}