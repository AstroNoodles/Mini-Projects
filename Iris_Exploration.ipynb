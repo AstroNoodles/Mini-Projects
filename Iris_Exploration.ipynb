{
  "nbformat": 4,
  "nbformat_minor": 0,
  "metadata": {
    "colab": {
      "name": "Iris Exploration.ipynb",
      "version": "0.3.2",
      "provenance": [],
      "collapsed_sections": [],
      "toc_visible": true,
      "include_colab_link": true
    },
    "kernelspec": {
      "name": "python3",
      "display_name": "Python 3"
    }
  },
  "cells": [
    {
      "cell_type": "markdown",
      "metadata": {
        "id": "view-in-github",
        "colab_type": "text"
      },
      "source": [
        "<a href=\"https://colab.research.google.com/github/AstroNoodles/Mini-Projects/blob/master/Iris_Exploration.ipynb\" target=\"_parent\"><img src=\"https://colab.research.google.com/assets/colab-badge.svg\" alt=\"Open In Colab\"/></a>"
      ]
    },
    {
      "metadata": {
        "id": "mu3z0eLsA6SL",
        "colab_type": "text"
      },
      "cell_type": "markdown",
      "source": [
        "<h1>The Iris Dataset </h1>\n",
        " The Iris dataset, which can be found <a href=\"https://archive.ics.uci.edu/ml/datasets/iris\">here</a> is one of the most famous and introductory datasets in machine learning and data science. Modeled after <a href=\"https://rdcu.be/biTg0\"> Fisher's experiment </a> done in 1936, it was collected to model the differences in the sepal length and width and pedal length and width of three different Iris species: <i> Iris setosa, Iris Virginica </i> and <i> Iris Versicolor. </i> \n",
        " Various machine learning projects use this as a way to teach beginners about simple algorithms and how to use their data science skills efficiently. \n",
        "\n",
        "---\n",
        "\n",
        "The goal of this Collaboratory is to attempt to use my current skills of data exploration, wrangling and machine learning to predict the given flower species given the sepal length, petal length, sepal width and petal width in cm for each species.. Therefore, this is a <b> classification </b> problem, rather than a regression or clustering one. \n",
        "\n",
        "\n",
        "* We will measure the accuracy of the machine learning models using scikit-learn's classification report to get the **precision, recall and F1 scores** since it is classification to see which models perform the best in the dataset.\n",
        "\n",
        "<br>\n",
        "\n",
        "---\n",
        "# Pictures\n",
        "\n",
        "![Picture of the Petal and Sepal](http://mirlab.org/jang/books/dcpr/image/iris.gif =200x200)\n",
        "<br>\n",
        "Picture of the Petal and Sepal\n",
        "\n",
        "![Iris Setosa](http://mirlab.org/jang/books/dcpr/image/Iris-setosa-10_1.jpg =200x200)\n",
        "<br>\n",
        "*Iris Setosa*\n",
        "\n",
        "![Iris Virignica](http://mirlab.org/jang/books/dcpr/image/Iris-versicolor-21_1.jpg =200x200)\n",
        "<br>\n",
        "*Iris Virginica*\n",
        "\n",
        "![Iris Versicolor](http://mirlab.org/jang/books/dcpr/image/Iris-virginica-3_1.jpg =200x200)\n",
        "<br>\n",
        "*Iris Versicolor*\n",
        "\n"
      ]
    },
    {
      "metadata": {
        "id": "ociPnooWIlIe",
        "colab_type": "text"
      },
      "cell_type": "markdown",
      "source": [
        "First, we need to import the modules from scikit-learn and then we can grab our data and start the data preprocessing!"
      ]
    },
    {
      "metadata": {
        "id": "vhLAf8ydA3Wo",
        "colab_type": "code",
        "outputId": "96717d7f-b318-4e0e-f832-cea5485d7401",
        "colab": {
          "base_uri": "https://localhost:8080/",
          "height": 34
        }
      },
      "cell_type": "code",
      "source": [
        "import numpy as np\n",
        "import matplotlib.pyplot as plt\n",
        "from sklearn.datasets import load_iris\n",
        "from sklearn.model_selection import train_test_split\n",
        "from sklearn.model_selection import RandomizedSearchCV\n",
        "from sklearn.metrics import classification_report\n",
        "from scipy.stats import randint\n",
        "\n",
        "# Models\n",
        "from sklearn.svm import SVC # Support Vector Classifier\n",
        "from sklearn.ensemble import RandomForestClassifier # Random Forest\n",
        "from sklearn.tree import DecisionTreeClassifier # Decision Tree\n",
        "from sklearn.naive_bayes import GaussianNB # Naive Bayes\n",
        "from sklearn.linear_model import LogisticRegression # Logistic Regression (NOT FOR REGRESSION)\n",
        "from sklearn.neural_network import MLPClassifier # Perceptron\n",
        "\n",
        "import os.path\n",
        "import os\n",
        "\n",
        "%matplotlib inline\n",
        "\n",
        "print(\"All set up!\")"
      ],
      "execution_count": 22,
      "outputs": [
        {
          "output_type": "stream",
          "text": [
            "All set up!\n"
          ],
          "name": "stdout"
        }
      ]
    },
    {
      "metadata": {
        "id": "nDcCXTbqGa6n",
        "colab_type": "code",
        "outputId": "ee4f8d9b-ae64-47fa-e535-ecf1736af314",
        "colab": {
          "base_uri": "https://localhost:8080/",
          "height": 51
        }
      },
      "cell_type": "code",
      "source": [
        "data = load_iris()\n",
        "print(f\"Feature Names: {data.feature_names}.\")\n",
        "print(f\"Target Names: {data.target_names}.\")"
      ],
      "execution_count": 23,
      "outputs": [
        {
          "output_type": "stream",
          "text": [
            "Feature Names: ['sepal length (cm)', 'sepal width (cm)', 'petal length (cm)', 'petal width (cm)'].\n",
            "Target Names: ['setosa' 'versicolor' 'virginica'].\n"
          ],
          "name": "stdout"
        }
      ]
    },
    {
      "metadata": {
        "id": "rD5PDzzIGgI6",
        "colab_type": "code",
        "outputId": "3de9fbe6-1508-49b5-a6de-6f55fc542821",
        "colab": {
          "base_uri": "https://localhost:8080/",
          "height": 34
        }
      },
      "cell_type": "code",
      "source": [
        "len(data.data)"
      ],
      "execution_count": 24,
      "outputs": [
        {
          "output_type": "execute_result",
          "data": {
            "text/plain": [
              "150"
            ]
          },
          "metadata": {
            "tags": []
          },
          "execution_count": 24
        }
      ]
    },
    {
      "metadata": {
        "id": "nFkpqoOXHGhJ",
        "colab_type": "code",
        "outputId": "7c41290f-aac5-4fff-810a-a52178fd0152",
        "colab": {
          "base_uri": "https://localhost:8080/",
          "height": 153
        }
      },
      "cell_type": "code",
      "source": [
        "print(\"Data: \")\n",
        "print(data.data[:5])\n",
        "print(\"Target: \")\n",
        "print(data.target[:5])\n"
      ],
      "execution_count": 25,
      "outputs": [
        {
          "output_type": "stream",
          "text": [
            "Data: \n",
            "[[5.1 3.5 1.4 0.2]\n",
            " [4.9 3.  1.4 0.2]\n",
            " [4.7 3.2 1.3 0.2]\n",
            " [4.6 3.1 1.5 0.2]\n",
            " [5.  3.6 1.4 0.2]]\n",
            "Target: \n",
            "[0 0 0 0 0]\n"
          ],
          "name": "stdout"
        }
      ]
    },
    {
      "metadata": {
        "id": "onBtIrbFI0DE",
        "colab_type": "text"
      },
      "cell_type": "markdown",
      "source": [
        "With no data preprocessing needed, we can test some random classification models to see which do the best and send them to some files to record for later."
      ]
    },
    {
      "metadata": {
        "id": "V6T5S7e1NylC",
        "colab_type": "code",
        "outputId": "0a4651b6-147c-4e18-8777-22e2a9f71de1",
        "colab": {
          "base_uri": "https://localhost:8080/",
          "height": 1244
        }
      },
      "cell_type": "code",
      "source": [
        "train_x, test_x, train_y, test_y = train_test_split(data.data, data.target, test_size=.2, random_state=4)\n",
        "models = [SVC(gamma='auto'), \n",
        "          RandomForestClassifier(n_estimators=1000), \n",
        "          MLPClassifier(), \n",
        "          DecisionTreeClassifier(), \n",
        "          GaussianNB(), \n",
        "          LogisticRegression(solver='lbfgs', multi_class='auto')]\n",
        "\n",
        "if not os.path.exists(\"reports\"):\n",
        "  os.mkdir('reports')\n",
        "\n",
        "for model in models:\n",
        "  model_name = type(model).__name__\n",
        "  model.fit(train_x, train_y)\n",
        "  predict_y = model.predict(test_x)\n",
        "  report = classification_report(test_y, predict_y, target_names=data.target_names)\n",
        "  \n",
        "  print(model_name)\n",
        "  print(report)\n",
        "  \n",
        "  with open(os.path.join('reports', f\"{model_name}_iris.txt\"), 'w') as f:\n",
        "    f.write(report)\n",
        "    \n",
        "print('All reports written to file!')\n"
      ],
      "execution_count": 26,
      "outputs": [
        {
          "output_type": "stream",
          "text": [
            "SVC\n",
            "              precision    recall  f1-score   support\n",
            "\n",
            "      setosa       1.00      1.00      1.00        16\n",
            "  versicolor       1.00      0.80      0.89         5\n",
            "   virginica       0.90      1.00      0.95         9\n",
            "\n",
            "   micro avg       0.97      0.97      0.97        30\n",
            "   macro avg       0.97      0.93      0.95        30\n",
            "weighted avg       0.97      0.97      0.97        30\n",
            "\n",
            "RandomForestClassifier\n",
            "              precision    recall  f1-score   support\n",
            "\n",
            "      setosa       1.00      1.00      1.00        16\n",
            "  versicolor       1.00      0.80      0.89         5\n",
            "   virginica       0.90      1.00      0.95         9\n",
            "\n",
            "   micro avg       0.97      0.97      0.97        30\n",
            "   macro avg       0.97      0.93      0.95        30\n",
            "weighted avg       0.97      0.97      0.97        30\n",
            "\n",
            "MLPClassifier\n",
            "              precision    recall  f1-score   support\n",
            "\n",
            "      setosa       1.00      1.00      1.00        16\n",
            "  versicolor       1.00      0.80      0.89         5\n",
            "   virginica       0.90      1.00      0.95         9\n",
            "\n",
            "   micro avg       0.97      0.97      0.97        30\n",
            "   macro avg       0.97      0.93      0.95        30\n",
            "weighted avg       0.97      0.97      0.97        30\n",
            "\n",
            "DecisionTreeClassifier\n",
            "              precision    recall  f1-score   support\n",
            "\n",
            "      setosa       1.00      1.00      1.00        16\n",
            "  versicolor       1.00      0.80      0.89         5\n",
            "   virginica       0.90      1.00      0.95         9\n",
            "\n",
            "   micro avg       0.97      0.97      0.97        30\n",
            "   macro avg       0.97      0.93      0.95        30\n",
            "weighted avg       0.97      0.97      0.97        30\n",
            "\n",
            "GaussianNB\n",
            "              precision    recall  f1-score   support\n",
            "\n",
            "      setosa       1.00      1.00      1.00        16\n",
            "  versicolor       0.83      1.00      0.91         5\n",
            "   virginica       1.00      0.89      0.94         9\n",
            "\n",
            "   micro avg       0.97      0.97      0.97        30\n",
            "   macro avg       0.94      0.96      0.95        30\n",
            "weighted avg       0.97      0.97      0.97        30\n",
            "\n",
            "LogisticRegression\n",
            "              precision    recall  f1-score   support\n",
            "\n",
            "      setosa       1.00      1.00      1.00        16\n",
            "  versicolor       1.00      0.80      0.89         5\n",
            "   virginica       0.90      1.00      0.95         9\n",
            "\n",
            "   micro avg       0.97      0.97      0.97        30\n",
            "   macro avg       0.97      0.93      0.95        30\n",
            "weighted avg       0.97      0.97      0.97        30\n",
            "\n",
            "All reports written to file!\n"
          ],
          "name": "stdout"
        },
        {
          "output_type": "stream",
          "text": [
            "/usr/local/lib/python3.6/dist-packages/sklearn/neural_network/multilayer_perceptron.py:562: ConvergenceWarning: Stochastic Optimizer: Maximum iterations (200) reached and the optimization hasn't converged yet.\n",
            "  % self.max_iter, ConvergenceWarning)\n",
            "/usr/local/lib/python3.6/dist-packages/sklearn/linear_model/logistic.py:758: ConvergenceWarning: lbfgs failed to converge. Increase the number of iterations.\n",
            "  \"of iterations.\", ConvergenceWarning)\n"
          ],
          "name": "stderr"
        }
      ]
    },
    {
      "metadata": {
        "id": "aT6zTzW-VqLy",
        "colab_type": "text"
      },
      "cell_type": "markdown",
      "source": [
        "# Preliminary Results \n",
        "\n",
        "From the dataset, we can see the results in the text files for the best classical models that can model the Iris dataset. Though grid search was not done to find optimal parameters, the best models that seemed to work for Iris prediction were:\n",
        "\n",
        "\n",
        "*   Decision Trees (97%)\n",
        "*   Logistic Regression (97%)\n",
        "*   SVC (97%)\n",
        "*   Random Forest (97%)\n",
        "\n",
        "Suprisingly, the multi layer perceptron and naive bayes were not particularly strong with this dataset. Perhaps, the learning rate and solver should be adjusted to deal with this problem as well as checking the correlation between the variables (naive bayes assumes the data is independent)\n",
        "\n",
        "However, this does not mean that the MLP and Naive Bayes are the worst classical machine learning algorithms to deal with this classification problem. Instead, grid search should be done to find better parameters to see what triggers it to work well and reach 97% accuracy like the others.\n",
        "\n",
        "\n",
        "\n",
        "\n"
      ]
    },
    {
      "metadata": {
        "id": "vLo0CS4Kc5ci",
        "colab_type": "text"
      },
      "cell_type": "markdown",
      "source": [
        "# Optimization"
      ]
    },
    {
      "metadata": {
        "id": "A6LS_lP-ihKf",
        "colab_type": "text"
      },
      "cell_type": "markdown",
      "source": [
        "## Grid Search"
      ]
    },
    {
      "metadata": {
        "id": "P05gou57m5rt",
        "colab_type": "text"
      },
      "cell_type": "markdown",
      "source": [
        "Let's try to optimize with randomized grid search first with the MLP to see if we can get any performance improvements compared to its default performance."
      ]
    },
    {
      "metadata": {
        "id": "A2JZUS8Hc-YZ",
        "colab_type": "code",
        "outputId": "38d57a9f-173e-4109-a870-28ee88f1c49e",
        "colab": {
          "base_uri": "https://localhost:8080/",
          "height": 2043
        }
      },
      "cell_type": "code",
      "source": [
        "mlp_classifier = MLPClassifier()\n",
        "print(mlp_classifier)\n",
        "\n",
        "# To do randomized grid search, we need the kwargs for the search to look through.\n",
        "# See https://bit.ly/2CjDug7 for all the kwargs\n",
        "mlp_params = {\"activation\": ['identity', 'logistic', 'tanh', 'relu'],\n",
        "              \"solver\" : [\"lbfgs\", \"sgd\", \"adam\"],\n",
        "              \"learning_rate\": [\"constant\", \"invscaling\", \"adaptive\"],\n",
        "              \"max_iter\" : randint(100, 400),\n",
        "              \"shuffle\": [True, False]}\n",
        "\n",
        "random_search = RandomizedSearchCV(mlp_classifier, mlp_params, n_iter=20, \n",
        "                                   scoring=\"accuracy\", cv=5, verbose=0)\n",
        "random_search.fit(train_x, train_y)\n",
        "\n",
        "# Select the best params and update them to the MLP.\n",
        "best_mlp_params = random_search.best_params_\n",
        "mlp_classifier.__dict__.update(best_mlp_params)\n",
        "print(mlp_classifier)\n"
      ],
      "execution_count": 27,
      "outputs": [
        {
          "output_type": "stream",
          "text": [
            "MLPClassifier(activation='relu', alpha=0.0001, batch_size='auto', beta_1=0.9,\n",
            "       beta_2=0.999, early_stopping=False, epsilon=1e-08,\n",
            "       hidden_layer_sizes=(100,), learning_rate='constant',\n",
            "       learning_rate_init=0.001, max_iter=200, momentum=0.9,\n",
            "       n_iter_no_change=10, nesterovs_momentum=True, power_t=0.5,\n",
            "       random_state=None, shuffle=True, solver='adam', tol=0.0001,\n",
            "       validation_fraction=0.1, verbose=False, warm_start=False)\n"
          ],
          "name": "stdout"
        },
        {
          "output_type": "stream",
          "text": [
            "/usr/local/lib/python3.6/dist-packages/sklearn/neural_network/multilayer_perceptron.py:562: ConvergenceWarning: Stochastic Optimizer: Maximum iterations (215) reached and the optimization hasn't converged yet.\n",
            "  % self.max_iter, ConvergenceWarning)\n",
            "/usr/local/lib/python3.6/dist-packages/sklearn/neural_network/multilayer_perceptron.py:562: ConvergenceWarning: Stochastic Optimizer: Maximum iterations (215) reached and the optimization hasn't converged yet.\n",
            "  % self.max_iter, ConvergenceWarning)\n",
            "/usr/local/lib/python3.6/dist-packages/sklearn/neural_network/multilayer_perceptron.py:562: ConvergenceWarning: Stochastic Optimizer: Maximum iterations (215) reached and the optimization hasn't converged yet.\n",
            "  % self.max_iter, ConvergenceWarning)\n",
            "/usr/local/lib/python3.6/dist-packages/sklearn/neural_network/multilayer_perceptron.py:562: ConvergenceWarning: Stochastic Optimizer: Maximum iterations (215) reached and the optimization hasn't converged yet.\n",
            "  % self.max_iter, ConvergenceWarning)\n",
            "/usr/local/lib/python3.6/dist-packages/sklearn/neural_network/multilayer_perceptron.py:562: ConvergenceWarning: Stochastic Optimizer: Maximum iterations (215) reached and the optimization hasn't converged yet.\n",
            "  % self.max_iter, ConvergenceWarning)\n",
            "/usr/local/lib/python3.6/dist-packages/sklearn/neural_network/multilayer_perceptron.py:562: ConvergenceWarning: Stochastic Optimizer: Maximum iterations (275) reached and the optimization hasn't converged yet.\n",
            "  % self.max_iter, ConvergenceWarning)\n",
            "/usr/local/lib/python3.6/dist-packages/sklearn/neural_network/multilayer_perceptron.py:562: ConvergenceWarning: Stochastic Optimizer: Maximum iterations (275) reached and the optimization hasn't converged yet.\n",
            "  % self.max_iter, ConvergenceWarning)\n",
            "/usr/local/lib/python3.6/dist-packages/sklearn/neural_network/multilayer_perceptron.py:562: ConvergenceWarning: Stochastic Optimizer: Maximum iterations (275) reached and the optimization hasn't converged yet.\n",
            "  % self.max_iter, ConvergenceWarning)\n",
            "/usr/local/lib/python3.6/dist-packages/sklearn/neural_network/multilayer_perceptron.py:562: ConvergenceWarning: Stochastic Optimizer: Maximum iterations (275) reached and the optimization hasn't converged yet.\n",
            "  % self.max_iter, ConvergenceWarning)\n",
            "/usr/local/lib/python3.6/dist-packages/sklearn/neural_network/multilayer_perceptron.py:562: ConvergenceWarning: Stochastic Optimizer: Maximum iterations (275) reached and the optimization hasn't converged yet.\n",
            "  % self.max_iter, ConvergenceWarning)\n",
            "/usr/local/lib/python3.6/dist-packages/sklearn/neural_network/multilayer_perceptron.py:562: ConvergenceWarning: Stochastic Optimizer: Maximum iterations (206) reached and the optimization hasn't converged yet.\n",
            "  % self.max_iter, ConvergenceWarning)\n",
            "/usr/local/lib/python3.6/dist-packages/sklearn/neural_network/multilayer_perceptron.py:562: ConvergenceWarning: Stochastic Optimizer: Maximum iterations (206) reached and the optimization hasn't converged yet.\n",
            "  % self.max_iter, ConvergenceWarning)\n",
            "/usr/local/lib/python3.6/dist-packages/sklearn/neural_network/multilayer_perceptron.py:562: ConvergenceWarning: Stochastic Optimizer: Maximum iterations (206) reached and the optimization hasn't converged yet.\n",
            "  % self.max_iter, ConvergenceWarning)\n",
            "/usr/local/lib/python3.6/dist-packages/sklearn/neural_network/multilayer_perceptron.py:562: ConvergenceWarning: Stochastic Optimizer: Maximum iterations (206) reached and the optimization hasn't converged yet.\n",
            "  % self.max_iter, ConvergenceWarning)\n",
            "/usr/local/lib/python3.6/dist-packages/sklearn/neural_network/multilayer_perceptron.py:562: ConvergenceWarning: Stochastic Optimizer: Maximum iterations (206) reached and the optimization hasn't converged yet.\n",
            "  % self.max_iter, ConvergenceWarning)\n",
            "/usr/local/lib/python3.6/dist-packages/sklearn/neural_network/multilayer_perceptron.py:562: ConvergenceWarning: Stochastic Optimizer: Maximum iterations (386) reached and the optimization hasn't converged yet.\n",
            "  % self.max_iter, ConvergenceWarning)\n",
            "/usr/local/lib/python3.6/dist-packages/sklearn/neural_network/multilayer_perceptron.py:562: ConvergenceWarning: Stochastic Optimizer: Maximum iterations (386) reached and the optimization hasn't converged yet.\n",
            "  % self.max_iter, ConvergenceWarning)\n",
            "/usr/local/lib/python3.6/dist-packages/sklearn/neural_network/multilayer_perceptron.py:562: ConvergenceWarning: Stochastic Optimizer: Maximum iterations (386) reached and the optimization hasn't converged yet.\n",
            "  % self.max_iter, ConvergenceWarning)\n",
            "/usr/local/lib/python3.6/dist-packages/sklearn/neural_network/multilayer_perceptron.py:562: ConvergenceWarning: Stochastic Optimizer: Maximum iterations (386) reached and the optimization hasn't converged yet.\n",
            "  % self.max_iter, ConvergenceWarning)\n",
            "/usr/local/lib/python3.6/dist-packages/sklearn/neural_network/multilayer_perceptron.py:562: ConvergenceWarning: Stochastic Optimizer: Maximum iterations (386) reached and the optimization hasn't converged yet.\n",
            "  % self.max_iter, ConvergenceWarning)\n",
            "/usr/local/lib/python3.6/dist-packages/sklearn/neural_network/multilayer_perceptron.py:562: ConvergenceWarning: Stochastic Optimizer: Maximum iterations (345) reached and the optimization hasn't converged yet.\n",
            "  % self.max_iter, ConvergenceWarning)\n",
            "/usr/local/lib/python3.6/dist-packages/sklearn/neural_network/multilayer_perceptron.py:562: ConvergenceWarning: Stochastic Optimizer: Maximum iterations (345) reached and the optimization hasn't converged yet.\n",
            "  % self.max_iter, ConvergenceWarning)\n",
            "/usr/local/lib/python3.6/dist-packages/sklearn/neural_network/multilayer_perceptron.py:562: ConvergenceWarning: Stochastic Optimizer: Maximum iterations (345) reached and the optimization hasn't converged yet.\n",
            "  % self.max_iter, ConvergenceWarning)\n",
            "/usr/local/lib/python3.6/dist-packages/sklearn/neural_network/multilayer_perceptron.py:562: ConvergenceWarning: Stochastic Optimizer: Maximum iterations (345) reached and the optimization hasn't converged yet.\n",
            "  % self.max_iter, ConvergenceWarning)\n",
            "/usr/local/lib/python3.6/dist-packages/sklearn/neural_network/multilayer_perceptron.py:562: ConvergenceWarning: Stochastic Optimizer: Maximum iterations (345) reached and the optimization hasn't converged yet.\n",
            "  % self.max_iter, ConvergenceWarning)\n",
            "/usr/local/lib/python3.6/dist-packages/sklearn/neural_network/multilayer_perceptron.py:562: ConvergenceWarning: Stochastic Optimizer: Maximum iterations (253) reached and the optimization hasn't converged yet.\n",
            "  % self.max_iter, ConvergenceWarning)\n",
            "/usr/local/lib/python3.6/dist-packages/sklearn/neural_network/multilayer_perceptron.py:562: ConvergenceWarning: Stochastic Optimizer: Maximum iterations (253) reached and the optimization hasn't converged yet.\n",
            "  % self.max_iter, ConvergenceWarning)\n",
            "/usr/local/lib/python3.6/dist-packages/sklearn/neural_network/multilayer_perceptron.py:562: ConvergenceWarning: Stochastic Optimizer: Maximum iterations (253) reached and the optimization hasn't converged yet.\n",
            "  % self.max_iter, ConvergenceWarning)\n",
            "/usr/local/lib/python3.6/dist-packages/sklearn/neural_network/multilayer_perceptron.py:562: ConvergenceWarning: Stochastic Optimizer: Maximum iterations (253) reached and the optimization hasn't converged yet.\n",
            "  % self.max_iter, ConvergenceWarning)\n",
            "/usr/local/lib/python3.6/dist-packages/sklearn/neural_network/multilayer_perceptron.py:562: ConvergenceWarning: Stochastic Optimizer: Maximum iterations (253) reached and the optimization hasn't converged yet.\n",
            "  % self.max_iter, ConvergenceWarning)\n",
            "/usr/local/lib/python3.6/dist-packages/sklearn/neural_network/multilayer_perceptron.py:562: ConvergenceWarning: Stochastic Optimizer: Maximum iterations (279) reached and the optimization hasn't converged yet.\n",
            "  % self.max_iter, ConvergenceWarning)\n",
            "/usr/local/lib/python3.6/dist-packages/sklearn/neural_network/multilayer_perceptron.py:562: ConvergenceWarning: Stochastic Optimizer: Maximum iterations (279) reached and the optimization hasn't converged yet.\n",
            "  % self.max_iter, ConvergenceWarning)\n",
            "/usr/local/lib/python3.6/dist-packages/sklearn/neural_network/multilayer_perceptron.py:562: ConvergenceWarning: Stochastic Optimizer: Maximum iterations (279) reached and the optimization hasn't converged yet.\n",
            "  % self.max_iter, ConvergenceWarning)\n",
            "/usr/local/lib/python3.6/dist-packages/sklearn/neural_network/multilayer_perceptron.py:562: ConvergenceWarning: Stochastic Optimizer: Maximum iterations (279) reached and the optimization hasn't converged yet.\n",
            "  % self.max_iter, ConvergenceWarning)\n",
            "/usr/local/lib/python3.6/dist-packages/sklearn/neural_network/multilayer_perceptron.py:562: ConvergenceWarning: Stochastic Optimizer: Maximum iterations (279) reached and the optimization hasn't converged yet.\n",
            "  % self.max_iter, ConvergenceWarning)\n",
            "/usr/local/lib/python3.6/dist-packages/sklearn/neural_network/multilayer_perceptron.py:562: ConvergenceWarning: Stochastic Optimizer: Maximum iterations (185) reached and the optimization hasn't converged yet.\n",
            "  % self.max_iter, ConvergenceWarning)\n",
            "/usr/local/lib/python3.6/dist-packages/sklearn/neural_network/multilayer_perceptron.py:562: ConvergenceWarning: Stochastic Optimizer: Maximum iterations (185) reached and the optimization hasn't converged yet.\n",
            "  % self.max_iter, ConvergenceWarning)\n",
            "/usr/local/lib/python3.6/dist-packages/sklearn/neural_network/multilayer_perceptron.py:562: ConvergenceWarning: Stochastic Optimizer: Maximum iterations (185) reached and the optimization hasn't converged yet.\n",
            "  % self.max_iter, ConvergenceWarning)\n",
            "/usr/local/lib/python3.6/dist-packages/sklearn/neural_network/multilayer_perceptron.py:562: ConvergenceWarning: Stochastic Optimizer: Maximum iterations (185) reached and the optimization hasn't converged yet.\n",
            "  % self.max_iter, ConvergenceWarning)\n",
            "/usr/local/lib/python3.6/dist-packages/sklearn/neural_network/multilayer_perceptron.py:562: ConvergenceWarning: Stochastic Optimizer: Maximum iterations (185) reached and the optimization hasn't converged yet.\n",
            "  % self.max_iter, ConvergenceWarning)\n",
            "/usr/local/lib/python3.6/dist-packages/sklearn/neural_network/multilayer_perceptron.py:562: ConvergenceWarning: Stochastic Optimizer: Maximum iterations (180) reached and the optimization hasn't converged yet.\n",
            "  % self.max_iter, ConvergenceWarning)\n",
            "/usr/local/lib/python3.6/dist-packages/sklearn/neural_network/multilayer_perceptron.py:562: ConvergenceWarning: Stochastic Optimizer: Maximum iterations (180) reached and the optimization hasn't converged yet.\n",
            "  % self.max_iter, ConvergenceWarning)\n",
            "/usr/local/lib/python3.6/dist-packages/sklearn/neural_network/multilayer_perceptron.py:562: ConvergenceWarning: Stochastic Optimizer: Maximum iterations (180) reached and the optimization hasn't converged yet.\n",
            "  % self.max_iter, ConvergenceWarning)\n",
            "/usr/local/lib/python3.6/dist-packages/sklearn/neural_network/multilayer_perceptron.py:562: ConvergenceWarning: Stochastic Optimizer: Maximum iterations (180) reached and the optimization hasn't converged yet.\n",
            "  % self.max_iter, ConvergenceWarning)\n",
            "/usr/local/lib/python3.6/dist-packages/sklearn/neural_network/multilayer_perceptron.py:562: ConvergenceWarning: Stochastic Optimizer: Maximum iterations (180) reached and the optimization hasn't converged yet.\n",
            "  % self.max_iter, ConvergenceWarning)\n",
            "/usr/local/lib/python3.6/dist-packages/sklearn/neural_network/multilayer_perceptron.py:562: ConvergenceWarning: Stochastic Optimizer: Maximum iterations (171) reached and the optimization hasn't converged yet.\n",
            "  % self.max_iter, ConvergenceWarning)\n",
            "/usr/local/lib/python3.6/dist-packages/sklearn/neural_network/multilayer_perceptron.py:562: ConvergenceWarning: Stochastic Optimizer: Maximum iterations (171) reached and the optimization hasn't converged yet.\n",
            "  % self.max_iter, ConvergenceWarning)\n",
            "/usr/local/lib/python3.6/dist-packages/sklearn/neural_network/multilayer_perceptron.py:562: ConvergenceWarning: Stochastic Optimizer: Maximum iterations (171) reached and the optimization hasn't converged yet.\n",
            "  % self.max_iter, ConvergenceWarning)\n",
            "/usr/local/lib/python3.6/dist-packages/sklearn/neural_network/multilayer_perceptron.py:562: ConvergenceWarning: Stochastic Optimizer: Maximum iterations (171) reached and the optimization hasn't converged yet.\n",
            "  % self.max_iter, ConvergenceWarning)\n",
            "/usr/local/lib/python3.6/dist-packages/sklearn/neural_network/multilayer_perceptron.py:562: ConvergenceWarning: Stochastic Optimizer: Maximum iterations (171) reached and the optimization hasn't converged yet.\n",
            "  % self.max_iter, ConvergenceWarning)\n",
            "/usr/local/lib/python3.6/dist-packages/sklearn/model_selection/_search.py:841: DeprecationWarning: The default of the `iid` parameter will change from True to False in version 0.22 and will be removed in 0.24. This will change numeric results when test-set sizes are unequal.\n",
            "  DeprecationWarning)\n"
          ],
          "name": "stderr"
        },
        {
          "output_type": "stream",
          "text": [
            "MLPClassifier(activation='tanh', alpha=0.0001, batch_size='auto', beta_1=0.9,\n",
            "       beta_2=0.999, early_stopping=False, epsilon=1e-08,\n",
            "       hidden_layer_sizes=(100,), learning_rate='adaptive',\n",
            "       learning_rate_init=0.001, max_iter=275, momentum=0.9,\n",
            "       n_iter_no_change=10, nesterovs_momentum=True, power_t=0.5,\n",
            "       random_state=None, shuffle=False, solver='adam', tol=0.0001,\n",
            "       validation_fraction=0.1, verbose=False, warm_start=False)\n"
          ],
          "name": "stdout"
        },
        {
          "output_type": "stream",
          "text": [
            "/usr/local/lib/python3.6/dist-packages/sklearn/neural_network/multilayer_perceptron.py:562: ConvergenceWarning: Stochastic Optimizer: Maximum iterations (275) reached and the optimization hasn't converged yet.\n",
            "  % self.max_iter, ConvergenceWarning)\n"
          ],
          "name": "stderr"
        }
      ]
    },
    {
      "metadata": {
        "id": "DU0aCAYd7RHi",
        "colab_type": "code",
        "outputId": "46aaed59-8245-470f-f21a-496b3dd4b63b",
        "colab": {
          "base_uri": "https://localhost:8080/",
          "height": 241
        }
      },
      "cell_type": "code",
      "source": [
        "# Trying out the newly grid searched MLP with specially chosen params\n",
        "mlp_classifier.fit(train_x, train_y)\n",
        "predict_y = model.predict(test_x)\n",
        "report = classification_report(test_y, predict_y, target_names=data.target_names)\n",
        "\n",
        "print(report)"
      ],
      "execution_count": 28,
      "outputs": [
        {
          "output_type": "stream",
          "text": [
            "              precision    recall  f1-score   support\n",
            "\n",
            "      setosa       1.00      1.00      1.00        16\n",
            "  versicolor       1.00      0.80      0.89         5\n",
            "   virginica       0.90      1.00      0.95         9\n",
            "\n",
            "   micro avg       0.97      0.97      0.97        30\n",
            "   macro avg       0.97      0.93      0.95        30\n",
            "weighted avg       0.97      0.97      0.97        30\n",
            "\n"
          ],
          "name": "stdout"
        },
        {
          "output_type": "stream",
          "text": [
            "/usr/local/lib/python3.6/dist-packages/sklearn/neural_network/multilayer_perceptron.py:562: ConvergenceWarning: Stochastic Optimizer: Maximum iterations (275) reached and the optimization hasn't converged yet.\n",
            "  % self.max_iter, ConvergenceWarning)\n"
          ],
          "name": "stderr"
        }
      ]
    },
    {
      "metadata": {
        "id": "1UUeC-dRl9Wm",
        "colab_type": "text"
      },
      "cell_type": "markdown",
      "source": [
        "Though it didn't make much of a difference, let's do a correlation test to see if there are dependent variables in the data that ruin Naive Bayes."
      ]
    },
    {
      "metadata": {
        "id": "kvOjsNHYnZwU",
        "colab_type": "code",
        "outputId": "f54dc5e9-1dfe-4b9c-eb09-a36c25a8e2a3",
        "colab": {
          "base_uri": "https://localhost:8080/",
          "height": 187
        }
      },
      "cell_type": "code",
      "source": [
        "print(data.feature_names) # Print the features\n",
        "\n",
        "# np.corrcoef prints a correlation matrix of a numpy array, \n",
        "# rowvar=False tells numpy that each column is a feature rather than the row!\n",
        "\n",
        "print(np.corrcoef(train_x, rowvar=False)) \n",
        "print()\n",
        "print(np.corrcoef(train_x, rowvar=False))\n"
      ],
      "execution_count": 29,
      "outputs": [
        {
          "output_type": "stream",
          "text": [
            "['sepal length (cm)', 'sepal width (cm)', 'petal length (cm)', 'petal width (cm)']\n",
            "[[ 1.         -0.09663434  0.86953201  0.81095724]\n",
            " [-0.09663434  1.         -0.39701304 -0.3198639 ]\n",
            " [ 0.86953201 -0.39701304  1.          0.95807717]\n",
            " [ 0.81095724 -0.3198639   0.95807717  1.        ]]\n",
            "\n",
            "[[ 1.         -0.09663434  0.86953201  0.81095724]\n",
            " [-0.09663434  1.         -0.39701304 -0.3198639 ]\n",
            " [ 0.86953201 -0.39701304  1.          0.95807717]\n",
            " [ 0.81095724 -0.3198639   0.95807717  1.        ]]\n"
          ],
          "name": "stdout"
        }
      ]
    },
    {
      "metadata": {
        "id": "7RwlyI37o6Uz",
        "colab_type": "text"
      },
      "cell_type": "markdown",
      "source": [
        "As we can see from numpy's correlation matrix on the train and test data, there may be some correlation between the petal and sepal lengths from their close *R* values, so this might explain why Naive Bayes performs suboptimally. \n",
        "\n",
        "\n",
        "\n"
      ]
    },
    {
      "metadata": {
        "id": "SpTV2MIbiRsl",
        "colab_type": "text"
      },
      "cell_type": "markdown",
      "source": [
        "## Cross-validation\n",
        "\n",
        "To ensure that our classification scores are valid from our classification reports via the testing and training sets, I can also employ cross-validation in order to risk overfitting on the testing set. This might be best when I have sparser data or when the classification report really shows overfitting, but let's see if it has an effect or not.\n",
        "\n",
        "Here's a visual of the procedure:\n",
        "\n",
        "![Cross-Validation from sk-learn](https://scikit-learn.org/stable/_images/grid_search_cross_validation.png =350x300)"
      ]
    },
    {
      "metadata": {
        "id": "X2usmXkziRYd",
        "colab_type": "code",
        "colab": {
          "base_uri": "https://localhost:8080/",
          "height": 289
        },
        "outputId": "93789012-c6ca-4bc4-b059-b7eddd7a0ff4"
      },
      "cell_type": "code",
      "source": [
        "from sklearn.model_selection import cross_val_score\n",
        "\n",
        "# First, let's insert the new MLP perceptron into the models list I had previously\n",
        "models.append(mlp_classifier)\n",
        "\n",
        "for model in models:\n",
        "  model_name = type(model).__name__\n",
        "  \n",
        "  cross_val_scores = cross_val_score(model, data.data, data.target, cv=5, n_jobs=-1)\n",
        "  accuracy_str = f\"{model_name}: {cross_val_scores.mean():.2f} (+/- {(cross_val_scores.std() * 2):.2f})\"\n",
        "  desc_str = \"Scores are given in terms of the mean and twice the standard deviation\"\n",
        "  \n",
        "  print(accuracy_str)\n",
        "  print(desc_str)\n",
        "  \n",
        "  with open(os.path.join('reports', f\"{model_name}_iris.txt\"), 'a') as f:\n",
        "    f.write(accuracy_str)\n",
        "    f.write(desc_str)"
      ],
      "execution_count": 38,
      "outputs": [
        {
          "output_type": "stream",
          "text": [
            "Cross-Validation Report:\n",
            "Model Name \t Mean Score \t 2SD\n",
            "\n",
            "SVC: 0.98 (+/- 0.03)\n",
            "RandomForestClassifier: 0.97 (+/- 0.04)\n",
            "MLPClassifier: 0.97 (+/- 0.07)\n",
            "DecisionTreeClassifier: 0.96 (+/- 0.07)\n",
            "GaussianNB: 0.95 (+/- 0.05)\n",
            "LogisticRegression: 0.97 (+/- 0.05)\n",
            "MLPClassifier: 0.99 (+/- 0.03)\n",
            "MLPClassifier: 0.98 (+/- 0.05)\n",
            "MLPClassifier: 0.98 (+/- 0.05)\n",
            "MLPClassifier: 0.98 (+/- 0.05)\n",
            "MLPClassifier: 0.98 (+/- 0.05)\n",
            "MLPClassifier: 0.98 (+/- 0.05)\n",
            "MLPClassifier: 0.98 (+/- 0.05)\n"
          ],
          "name": "stdout"
        }
      ]
    },
    {
      "metadata": {
        "id": "wnBG6IKH7UIw",
        "colab_type": "text"
      },
      "cell_type": "markdown",
      "source": [
        "Overall, the cross-validation showed that the MLP Perceptron with 5 validation sets and the SVC performed the best with the Iris data. With the assumptions of the data that the lengths are correlated as the flowers grow, this would likely make sense.\n",
        "\n",
        "With further adjustment and grid search of the values that work well for the SVC and MLP Classifier (not forgetting to include the 97% validation accuracies of Logistic Regression and Random Forest), a model might be able to get a 99% accuracy on the Iris dataset.\n",
        "\n",
        "For now, though 98% is a resounding success!"
      ]
    },
    {
      "metadata": {
        "id": "kRG2mi1DMnez",
        "colab_type": "text"
      },
      "cell_type": "markdown",
      "source": [
        "# Visualization of the Dataset:"
      ]
    },
    {
      "metadata": {
        "id": "HcER09ZUHKjx",
        "colab_type": "code",
        "outputId": "29ab16be-80c4-49f8-950f-b78537c2aaa8",
        "colab": {
          "base_uri": "https://localhost:8080/",
          "height": 311
        }
      },
      "cell_type": "code",
      "source": [
        "fig, ax = plt.subplots(1, 2, figsize=(8, 4))\n",
        "ax1, ax2 = ax\n",
        "\n",
        "ax1.scatter(data.data[:, 0], data.data[:, 1], c='#c297e5', marker='^')\n",
        "ax1.set_title(\"Sepal Length vs. Sepal Width [WHOLE DATASET]\")\n",
        "ax1.set_xlabel(\"Sepal Length (cm)\")\n",
        "ax1.set_ylabel(\"Sepal Width (cm)\")\n",
        "\n",
        "ax2.scatter(data.data[:, 2], data.data[:, 3], c='#6e1daf', marker='^')\n",
        "ax2.set_title(\"Petal Length vs. Petal Width [WHOLE DATASET]\")\n",
        "ax2.set_xlabel(\"Petal Length (cm)\")\n",
        "ax2.set_ylabel(\"Petal Width (cm)\")"
      ],
      "execution_count": 31,
      "outputs": [
        {
          "output_type": "execute_result",
          "data": {
            "text/plain": [
              "Text(0, 0.5, 'Petal Width (cm)')"
            ]
          },
          "metadata": {
            "tags": []
          },
          "execution_count": 31
        },
        {
          "output_type": "display_data",
          "data": {
            "image/png": "[encoded data removed]",
            "text/plain": [
              "<Figure size 576x288 with 2 Axes>"
            ]
          },
          "metadata": {
            "tags": []
          }
        }
      ]
    },
    {
      "metadata": {
        "id": "VlV5Z_ktQO3F",
        "colab_type": "text"
      },
      "cell_type": "markdown",
      "source": [
        "Basic visualization on the dataset. The first graph gives the relationships between the petals and sepals on the whole dataset and the second individualizes them per species."
      ]
    },
    {
      "metadata": {
        "id": "wmyH1bqMHhJ6",
        "colab_type": "code",
        "outputId": "6f31df1c-87a8-4d11-83ad-ec5a764ce57f",
        "colab": {
          "base_uri": "https://localhost:8080/",
          "height": 345
        }
      },
      "cell_type": "code",
      "source": [
        "fig, axis = plt.subplots(1, 2, figsize=(12, 4))\n",
        "ax1, ax2 = axis\n",
        "\n",
        "for i, species in enumerate(data.target):\n",
        "  if species == 0:\n",
        "     ax1.plot(data.data[i, 0], data.data[i, 1], 'r^', label='setosa')\n",
        "    \n",
        "  elif species == 1:\n",
        "    ax1.plot(data.data[i, 0], data.data[i, 1], 'b^', label='versicolor')\n",
        "  else:\n",
        "    ax1.plot(data.data[i, 0], data.data[i, 1], 'g^', label='virginica')\n",
        "    \n",
        "\n",
        "ax1.set_xlabel('Sepal Length (cm)')\n",
        "ax1.set_ylabel('Sepal Width (cm)')\n",
        "ax1.set_title('Sepal Length vs. Sepal Width Among Iris Species')\n",
        "\n",
        "for i, species in enumerate(data.target):\n",
        "  if species == 0:\n",
        "    ax2.plot(data.data[i, 2], data.data[i, 3], 'r^', label='setosa')\n",
        "    \n",
        "  elif species == 1:\n",
        "    ax2.plot(data.data[i, 2], data.data[i, 3], 'b^', label='versicolor')\n",
        "  else:\n",
        "    ax2.plot(data.data[i, 2], data.data[i, 3], 'g^', label='virginica')\n",
        "ax2.set_xlabel('Petal Length (cm)')\n",
        "ax2.set_ylabel('Petal Width (cm)')\n",
        "ax2.set_title('Petal Length vs. Petal Width Among Iris Species')\n",
        "\n",
        "# TODO - fix so the legend works\n",
        "print('RED - Iris Setosa')\n",
        "print('BLUE - Iris Versicolor')\n",
        "print('GREEN - Iris Virginica')"
      ],
      "execution_count": 32,
      "outputs": [
        {
          "output_type": "stream",
          "text": [
            "RED - Iris Setosa\n",
            "BLUE - Iris Versicolor\n",
            "GREEN - Iris Virginica\n"
          ],
          "name": "stdout"
        },
        {
          "output_type": "display_data",
          "data": {
            "image/png": "[encoded data removed]",
            "text/plain": [
              "<Figure size 864x288 with 2 Axes>"
            ]
          },
          "metadata": {
            "tags": []
          }
        }
      ]
    },
    {
      "metadata": {
        "id": "JIpOys72QdBj",
        "colab_type": "text"
      },
      "cell_type": "markdown",
      "source": [
        "# Summary\n",
        "\n",
        "Overall, this notebook summarized how different classical machine models could be used to predict the three different species of *Iris* flowers given their petal length and width and sepal length and width. \n",
        "\n",
        "Though no exact hammer fits into the many algorithmic nails I could have used, this introductory foray into the Iris dataset shows the importance of looking for optimization and trying to increase the performance on this classical dataset.\n",
        "\n",
        "In the future, I might look into more advanced datasets or other performance measures not studied here to see their effect on either the regression or classification problem studied.\n",
        "\n",
        "For now, <br>\n",
        "** *Ciao* ** and thanks for reading!"
      ]
    },
    {
      "metadata": {
        "id": "MavjXln-u6Av",
        "colab_type": "code",
        "colab": {}
      },
      "cell_type": "code",
      "source": [
        ""
      ],
      "execution_count": 0,
      "outputs": []
    }
  ]
}