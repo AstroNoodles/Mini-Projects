{
 "cells": [
  {
   "cell_type": "markdown",
   "metadata": {},
   "source": [
    "# Linear Algebra Introduction w/ `numpy`\n",
    "For ML Club 2021\n",
    "\n",
    "This notebook will take you through the complex intracracies of the Python module `numpy`. . `Numpy` is an **essential** library in machine learning because of the fast computations it provides to neural networks and standard machine learning algorithms. \n",
    "\n",
    "To start, we will discuss `numpy`, a mathematics library able to convert standard Python lists into vectors for immediate and vectorized computations. \n",
    "\n",
    "Be sure to check out the guided **Avocado Data Analysis** Guided Tutorial coming soon to see how one could use the `pandas` and `matplotlib` libraries to graph real life data!\n",
    "\n",
    "Without further ado, let's get started!"
   ]
  },
  {
   "cell_type": "markdown",
   "metadata": {},
   "source": [
    "## Numpy\n",
    "\n",
    "According to the official `numpy` documentation, we have the following information about the library:\n",
    "> NumPy is the fundamental package for scientific computing in Python. It is a Python library that provides a multidimensional array object, various derived objects (such as masked arrays and matrices), and an assortment of routines for fast operations on arrays, including mathematical, logical, shape manipulation, sorting, selecting, I/O, discrete Fourier transforms, basic linear algebra, basic statistical operations, random simulation and much more.\n",
    "\n",
    ">At the core of the NumPy package, is the ndarray object. This encapsulates n-dimensional arrays of homogeneous data types, with many operations being performed in compiled code for performance. There are several important differences between NumPy arrays and the standard Python sequences:\n",
    "\n",
    "**What is an *n*-dimensional array?**\n",
    "\n",
    "An *n*-dimensional array is an array containing multiple dimensions similar to the dimensionality of geometric shapes. A standard Python `list` is 1-dimensional since it contains values continuing in a straight line. While it is possible to create multi-dimensional arrays in Python, we can do this a lot easier using `numpy` and the representation of a multi-dimensional array will be more intuitive using this library. \n",
    "\n",
    "**Vectorized Computations**\n",
    "\n",
    "We can also use vectorized computations with `numpy`. The word \"vectorized computations\" is simply a bingo word meaning **instant** computation. Instead of using `for` loops in normal Python `lists` to add up every numerical element squared, `numpy` can do this using a simple multiplication operator. This results in a product that is orders of magnitude faster to compute than in standard Python.\n",
    "\n",
    "> **Solve time: 18.65 seconds** for a computation in Python.\n",
    "\n",
    "> **Solve time: 0.31947448799983247 seconds** for a computation in `numpy`."
   ]
  },
  {
   "cell_type": "markdown",
   "metadata": {},
   "source": [
    "First, we will import the library and show some differences between standard `numpy` operations and those on a `list`."
   ]
  },
  {
   "cell_type": "code",
   "execution_count": 1,
   "metadata": {},
   "outputs": [],
   "source": [
    "import numpy as np"
   ]
  },
  {
   "cell_type": "code",
   "execution_count": 12,
   "metadata": {},
   "outputs": [
    {
     "name": "stdout",
     "output_type": "stream",
     "text": [
      "Python List: [0, 1, 2, 3]\n",
      "Numpy Array: [0 1 2 3]\n"
     ]
    }
   ],
   "source": [
    "# Standard List\n",
    "lst = [0, 1, 2, 3]\n",
    "\n",
    "# Numpy array out of a list\n",
    "npa = np.array(lst)\n",
    "\n",
    "print(f\"Python List: {lst}\")\n",
    "print(f\"Numpy Array: {npa}\")"
   ]
  },
  {
   "cell_type": "markdown",
   "metadata": {},
   "source": [
    "### Mathematical Operations\n",
    "Let's test adding the number `2` to each element in the Python `list` and in the `numpy` array.\n",
    "\n",
    "Note that we need to create a whole new `list` in order to add 2 to each element in Python."
   ]
  },
  {
   "cell_type": "code",
   "execution_count": 13,
   "metadata": {},
   "outputs": [
    {
     "name": "stdout",
     "output_type": "stream",
     "text": [
      "Python List: [2, 3, 4, 5]\n",
      "Numpy Array: [2 3 4 5]\n"
     ]
    }
   ],
   "source": [
    "# Python \n",
    "lst2 = [i + 2 for i in lst]\n",
    "\n",
    "# Numpy\n",
    "npa2 = npa + 2\n",
    "\n",
    "print(f\"Python List: {lst2}\")\n",
    "print(f\"Numpy Array: {npa2}\")"
   ]
  },
  {
   "cell_type": "markdown",
   "metadata": {},
   "source": [
    "The same strategy applies to any mathematical operation. \n",
    "\n",
    "If you have ever dealt with vectors in precalculus, `numpy` arrays are very similar to that. Each operation propagates across each element of the array rather than creating a whole new array. These operations that propagate across an array are called ***vectorized operations***. \n",
    "\n",
    "Operations that do math to all elements of a vector without affecting its internal structure (shape) are called ***element-wise operations***."
   ]
  },
  {
   "cell_type": "code",
   "execution_count": 14,
   "metadata": {},
   "outputs": [
    {
     "name": "stdout",
     "output_type": "stream",
     "text": [
      "Python List: [0, 2, 4, 6]\n",
      "Numpy Array: [0 2 4 6]\n"
     ]
    }
   ],
   "source": [
    "# Python \n",
    "lst2 = [i * 2 for i in lst]\n",
    "\n",
    "# Numpy\n",
    "npa3 = npa * 2\n",
    "\n",
    "print(f\"Python List: {lst2}\")\n",
    "print(f\"Numpy Array: {npa3}\")"
   ]
  },
  {
   "cell_type": "markdown",
   "metadata": {},
   "source": [
    "As you can see, the multiplication and division above and below are *vectorized operations* because they affect the items in the entire list at once. We could also use the augmented operations to do the very same thing!"
   ]
  },
  {
   "cell_type": "code",
   "execution_count": 15,
   "metadata": {},
   "outputs": [
    {
     "name": "stdout",
     "output_type": "stream",
     "text": [
      "Python List: [0.0, 0.2, 0.4, 0.6]\n",
      "Numpy Array: [0.  0.2 0.4 0.6]\n"
     ]
    }
   ],
   "source": [
    "# Python \n",
    "lst2 = [i / 5 for i in lst]\n",
    "\n",
    "# Numpy\n",
    "npa3 = npa / 5\n",
    "\n",
    "print(f\"Python List: {lst2}\")\n",
    "print(f\"Numpy Array: {npa3}\")"
   ]
  },
  {
   "cell_type": "markdown",
   "metadata": {},
   "source": [
    "This also applies to the modulo and floor division operators."
   ]
  },
  {
   "cell_type": "code",
   "execution_count": 16,
   "metadata": {},
   "outputs": [
    {
     "name": "stdout",
     "output_type": "stream",
     "text": [
      "Python List: [0, 1, 0, 1]\n",
      "Numpy Array: [0 1 0 1]\n"
     ]
    }
   ],
   "source": [
    "# Python \n",
    "lst2 = [i % 2 for i in lst]\n",
    "\n",
    "# Numpy\n",
    "npa3 = npa % 2\n",
    "\n",
    "print(f\"Python List: {lst2}\")\n",
    "print(f\"Numpy Array: {npa3}\")"
   ]
  },
  {
   "cell_type": "markdown",
   "metadata": {},
   "source": [
    "**Range Comparison**\n",
    "\n",
    "Notice that we need to generate a list from a generator in Python. `numpy` creates this range automatically!"
   ]
  },
  {
   "cell_type": "code",
   "execution_count": 19,
   "metadata": {},
   "outputs": [
    {
     "name": "stdout",
     "output_type": "stream",
     "text": [
      "Python List: [1, 3, 5, 7, 9, 11, 13, 15, 17, 19, 21, 23]\n",
      "Numpy Array: [ 1  3  5  7  9 11 13 15 17 19 21 23]\n"
     ]
    }
   ],
   "source": [
    "# Python \n",
    "lstr = list(range(1, 25, 2))\n",
    "\n",
    "# Numpy\n",
    "npa3 = np.arange(1, 25, 2)\n",
    "\n",
    "print(f\"Python List: {lstr}\")\n",
    "print(f\"Numpy Array: {npa3}\")"
   ]
  },
  {
   "cell_type": "markdown",
   "metadata": {},
   "source": [
    "But, `numpy` can handle float ranges!"
   ]
  },
  {
   "cell_type": "code",
   "execution_count": 20,
   "metadata": {},
   "outputs": [
    {
     "data": {
      "text/plain": [
       "array([ 1. ,  1.2,  1.4,  1.6,  1.8,  2. ,  2.2,  2.4,  2.6,  2.8,  3. ,\n",
       "        3.2,  3.4,  3.6,  3.8,  4. ,  4.2,  4.4,  4.6,  4.8,  5. ,  5.2,\n",
       "        5.4,  5.6,  5.8,  6. ,  6.2,  6.4,  6.6,  6.8,  7. ,  7.2,  7.4,\n",
       "        7.6,  7.8,  8. ,  8.2,  8.4,  8.6,  8.8,  9. ,  9.2,  9.4,  9.6,\n",
       "        9.8, 10. , 10.2, 10.4, 10.6, 10.8, 11. , 11.2, 11.4, 11.6, 11.8,\n",
       "       12. , 12.2, 12.4, 12.6, 12.8, 13. , 13.2, 13.4, 13.6, 13.8, 14. ,\n",
       "       14.2, 14.4, 14.6, 14.8, 15. , 15.2, 15.4, 15.6, 15.8, 16. , 16.2,\n",
       "       16.4, 16.6, 16.8, 17. , 17.2, 17.4, 17.6, 17.8, 18. , 18.2, 18.4,\n",
       "       18.6, 18.8, 19. , 19.2, 19.4, 19.6, 19.8, 20. , 20.2, 20.4, 20.6,\n",
       "       20.8, 21. , 21.2, 21.4, 21.6, 21.8, 22. , 22.2, 22.4, 22.6, 22.8,\n",
       "       23. , 23.2, 23.4, 23.6, 23.8, 24. , 24.2, 24.4, 24.6, 24.8])"
      ]
     },
     "execution_count": 20,
     "metadata": {},
     "output_type": "execute_result"
    }
   ],
   "source": [
    "np.arange(1, 25, .2)"
   ]
  },
  {
   "cell_type": "code",
   "execution_count": 21,
   "metadata": {},
   "outputs": [
    {
     "ename": "TypeError",
     "evalue": "'float' object cannot be interpreted as an integer",
     "output_type": "error",
     "traceback": [
      "\u001b[1;31m---------------------------------------------------------------------------\u001b[0m",
      "\u001b[1;31mTypeError\u001b[0m                                 Traceback (most recent call last)",
      "\u001b[1;32m<ipython-input-21-b4b654d978e7>\u001b[0m in \u001b[0;36m<module>\u001b[1;34m\u001b[0m\n\u001b[1;32m----> 1\u001b[1;33m \u001b[0mlist\u001b[0m\u001b[1;33m(\u001b[0m\u001b[0mrange\u001b[0m\u001b[1;33m(\u001b[0m\u001b[1;36m1\u001b[0m\u001b[1;33m,\u001b[0m \u001b[1;36m25\u001b[0m\u001b[1;33m,\u001b[0m \u001b[1;36m.2\u001b[0m\u001b[1;33m)\u001b[0m\u001b[1;33m)\u001b[0m\u001b[1;33m\u001b[0m\u001b[0m\n\u001b[0m",
      "\u001b[1;31mTypeError\u001b[0m: 'float' object cannot be interpreted as an integer"
     ]
    }
   ],
   "source": [
    "list(range(1, 25, .2))"
   ]
  },
  {
   "cell_type": "markdown",
   "metadata": {},
   "source": [
    "### *N*-Dimensional Arrays\n",
    "\n",
    "Let's look at a standard `list` and a `numpy` array and compare their dimensions.\n",
    "Let's also find out how we can do vectorized computations on *n*-dimensional arrays and lists."
   ]
  },
  {
   "cell_type": "code",
   "execution_count": 11,
   "metadata": {},
   "outputs": [
    {
     "name": "stdout",
     "output_type": "stream",
     "text": [
      "[1, 4, 7, 10, 13, 16, 19, 22]\n",
      "[[1, 2, 3], [4, 5, 6], [7, 8, 9], [10, 11, 12], [13, 14, 15], [16, 17, 18], [19, 20, 21]]\n"
     ]
    }
   ],
   "source": [
    "lst = list(range(1, 25, 3))\n",
    "\n",
    "h = np.arange(1, 25, 3)\n",
    "\n",
    "print(lst) # 1D\n",
    "\n",
    "lst2d = [[1, 2, 3], [4, 5, 6], [7, 8, 9], [10, 11, 12], [13, 14, 15], [16, 17, 18], [19, 20, 21]]\n",
    "print(lst2d) # 2D"
   ]
  },
  {
   "cell_type": "code",
   "execution_count": 12,
   "metadata": {},
   "outputs": [
    {
     "name": "stdout",
     "output_type": "stream",
     "text": [
      "[3, 6, 9, 12, 15, 18, 21, 24, 27, 30, 33, 36, 39, 42, 45, 48, 51, 54, 57, 60, 63]\n"
     ]
    }
   ],
   "source": [
    "# How do we multiply each element of the 2D list by 3?\n",
    "# We will need to do an advanced list comprehension to do this.\n",
    "\n",
    "lst32d = [i * 3 for triple in lst2d for i in triple]\n",
    "print(lst32d)\n",
    "\n",
    "# Oh wait, how do we bucket these values into lists of 3 elements like before?"
   ]
  },
  {
   "cell_type": "code",
   "execution_count": 13,
   "metadata": {},
   "outputs": [
    {
     "name": "stdout",
     "output_type": "stream",
     "text": [
      "[[ 1  2  3]\n",
      " [ 4  5  6]\n",
      " [ 7  8  9]\n",
      " [10 11 12]\n",
      " [13 14 15]\n",
      " [16 17 18]\n",
      " [19 20 21]]\n",
      "\n",
      "[[ 3  6  9]\n",
      " [12 15 18]\n",
      " [21 24 27]\n",
      " [30 33 36]\n",
      " [39 42 45]\n",
      " [48 51 54]\n",
      " [57 60 63]]\n"
     ]
    }
   ],
   "source": [
    "# numpy solves this immediately and efficiently.\n",
    "\n",
    "nlist2d = np.array(lst2d)\n",
    "print(nlist2d)\n",
    "print()\n",
    "print(nlist2d * 3)\n",
    "\n",
    "# we keep the buckets!"
   ]
  },
  {
   "cell_type": "markdown",
   "metadata": {},
   "source": [
    "### Shape of a `numpy` array\n",
    "\n",
    "The shape of a `numpy` array is read as `(# rows, # cols)`. \n",
    "\n",
    "For future reference, the shape may also be called the ***dimensionality*** of the `numpy` array."
   ]
  },
  {
   "cell_type": "code",
   "execution_count": 14,
   "metadata": {},
   "outputs": [
    {
     "data": {
      "text/plain": [
       "(7, 3)"
      ]
     },
     "execution_count": 14,
     "metadata": {},
     "output_type": "execute_result"
    }
   ],
   "source": [
    "nlist2d.shape"
   ]
  },
  {
   "cell_type": "code",
   "execution_count": 15,
   "metadata": {},
   "outputs": [
    {
     "data": {
      "text/plain": [
       "array([[ 1,  2,  3],\n",
       "       [ 4,  5,  6],\n",
       "       [ 7,  8,  9],\n",
       "       [10, 11, 12],\n",
       "       [13, 14, 15],\n",
       "       [16, 17, 18],\n",
       "       [19, 20, 21]])"
      ]
     },
     "execution_count": 15,
     "metadata": {},
     "output_type": "execute_result"
    }
   ],
   "source": [
    "nlist2d"
   ]
  },
  {
   "cell_type": "markdown",
   "metadata": {},
   "source": [
    "If we do not like this arrangement in the array, we can resize it to a more suitable form!\n",
    "\n",
    "This is done using the `reshape` method in a `numpy` array."
   ]
  },
  {
   "cell_type": "code",
   "execution_count": 16,
   "metadata": {},
   "outputs": [
    {
     "data": {
      "text/plain": [
       "array([[ 1,  2,  3,  4,  5,  6,  7],\n",
       "       [ 8,  9, 10, 11, 12, 13, 14],\n",
       "       [15, 16, 17, 18, 19, 20, 21]])"
      ]
     },
     "execution_count": 16,
     "metadata": {},
     "output_type": "execute_result"
    }
   ],
   "source": [
    "nlist2d.reshape((3, 7))"
   ]
  },
  {
   "cell_type": "markdown",
   "metadata": {},
   "source": [
    "Note that the `reshape` method only works if your given arrangement is possible for the current array. For example, you can group 25 elements into a 5 x 5 array. **However**, you cannot convert a list of 33 elements into a 3 x 12 array.\n",
    "\n",
    "We can create simple arrays of 1s and 0s using the `np.ones` or `np.zeros` functions given a shape tuple. Arrays with constants can also be created using the `np.full()` method with a given shape and constant. Usually, methods that automatically create a `numpy` array usually require a shape tuple to see how many values to create in the array."
   ]
  },
  {
   "cell_type": "code",
   "execution_count": 19,
   "metadata": {},
   "outputs": [
    {
     "name": "stdout",
     "output_type": "stream",
     "text": [
      "[1. 1. 1. 1. 1. 1. 1. 1. 1. 1. 1. 1. 1. 1. 1. 1. 1. 1. 1. 1. 1. 1. 1. 1.\n",
      " 1.] \n",
      "\n",
      "[[1. 1. 1. 1. 1.]\n",
      " [1. 1. 1. 1. 1.]\n",
      " [1. 1. 1. 1. 1.]\n",
      " [1. 1. 1. 1. 1.]\n",
      " [1. 1. 1. 1. 1.]]\n"
     ]
    }
   ],
   "source": [
    "ones = np.ones((25,)) # a one item tuple requires a comma after the item\n",
    "print(ones, '\\n')\n",
    "print(ones.reshape((5, 5)))\n",
    "\n",
    "# The shapes must match during array reshaping! -- 25 x 1 = 5 x 5"
   ]
  },
  {
   "cell_type": "code",
   "execution_count": 1,
   "metadata": {},
   "outputs": [
    {
     "ename": "NameError",
     "evalue": "name 'np' is not defined",
     "output_type": "error",
     "traceback": [
      "\u001b[0;31m---------------------------------------------------------------------------\u001b[0m",
      "\u001b[0;31mNameError\u001b[0m                                 Traceback (most recent call last)",
      "\u001b[0;32m<ipython-input-1-01e5d8757a78>\u001b[0m in \u001b[0;36m<module>\u001b[0;34m\u001b[0m\n\u001b[0;32m----> 1\u001b[0;31m \u001b[0mzeroes\u001b[0m \u001b[0;34m=\u001b[0m \u001b[0mnp\u001b[0m\u001b[0;34m.\u001b[0m\u001b[0mzeros\u001b[0m\u001b[0;34m(\u001b[0m\u001b[0;34m(\u001b[0m\u001b[0;36m4\u001b[0m\u001b[0;34m,\u001b[0m \u001b[0;36m4\u001b[0m\u001b[0;34m)\u001b[0m\u001b[0;34m)\u001b[0m\u001b[0;34m\u001b[0m\u001b[0m\n\u001b[0m\u001b[1;32m      2\u001b[0m \u001b[0mprint\u001b[0m\u001b[0;34m(\u001b[0m\u001b[0mzeroes\u001b[0m\u001b[0;34m,\u001b[0m \u001b[0;34m'\\n'\u001b[0m\u001b[0;34m)\u001b[0m\u001b[0;34m\u001b[0m\u001b[0m\n\u001b[1;32m      3\u001b[0m \u001b[0mprint\u001b[0m\u001b[0;34m(\u001b[0m\u001b[0mzeroes\u001b[0m\u001b[0;34m.\u001b[0m\u001b[0mreshape\u001b[0m\u001b[0;34m(\u001b[0m\u001b[0;34m(\u001b[0m\u001b[0;36m2\u001b[0m\u001b[0;34m,\u001b[0m \u001b[0;36m8\u001b[0m\u001b[0;34m)\u001b[0m\u001b[0;34m)\u001b[0m\u001b[0;34m)\u001b[0m\u001b[0;34m\u001b[0m\u001b[0m\n\u001b[1;32m      4\u001b[0m \u001b[0;34m\u001b[0m\u001b[0m\n\u001b[1;32m      5\u001b[0m \u001b[0;31m# 2 x 8 = 4 x 4\u001b[0m\u001b[0;34m\u001b[0m\u001b[0;34m\u001b[0m\u001b[0m\n",
      "\u001b[0;31mNameError\u001b[0m: name 'np' is not defined"
     ]
    }
   ],
   "source": [
    "zeroes = np.zeros((4, 4))\n",
    "print(zeroes, '\\n')\n",
    "print(zeroes.reshape((2, 8)))\n",
    "\n",
    "# 2 x 8 = 4 x 4"
   ]
  },
  {
   "cell_type": "code",
   "execution_count": 30,
   "metadata": {},
   "outputs": [
    {
     "name": "stdout",
     "output_type": "stream",
     "text": [
      "[[5 5 5 5]\n",
      " [5 5 5 5]\n",
      " [5 5 5 5]] \n",
      "\n",
      "[[5 5]\n",
      " [5 5]\n",
      " [5 5]\n",
      " [5 5]\n",
      " [5 5]\n",
      " [5 5]]\n"
     ]
    }
   ],
   "source": [
    "fives = np.full((3, 4), 5)\n",
    "print(fives, '\\n')\n",
    "print(fives.reshape((6, 2)))\n",
    "\n",
    "# 2 x 6 = 3 x 4"
   ]
  },
  {
   "cell_type": "code",
   "execution_count": 22,
   "metadata": {},
   "outputs": [
    {
     "name": "stdout",
     "output_type": "stream",
     "text": [
      "[[0. 0. 0. 0. 0. 0.]\n",
      " [0. 0. 0. 0. 0. 0.]\n",
      " [0. 0. 0. 0. 0. 0.]\n",
      " [0. 0. 0. 0. 0. 0.]\n",
      " [0. 0. 0. 0. 0. 0.]\n",
      " [0. 0. 0. 0. 0. 0.]] \n",
      "\n"
     ]
    },
    {
     "ename": "ValueError",
     "evalue": "cannot reshape array of size 36 into shape (11,3)",
     "output_type": "error",
     "traceback": [
      "\u001b[1;31m---------------------------------------------------------------------------\u001b[0m",
      "\u001b[1;31mValueError\u001b[0m                                Traceback (most recent call last)",
      "\u001b[1;32m<ipython-input-22-cfa84cbc2707>\u001b[0m in \u001b[0;36m<module>\u001b[1;34m\u001b[0m\n\u001b[0;32m      1\u001b[0m \u001b[0mzeroes\u001b[0m \u001b[1;33m=\u001b[0m \u001b[0mnp\u001b[0m\u001b[1;33m.\u001b[0m\u001b[0mzeros\u001b[0m\u001b[1;33m(\u001b[0m\u001b[1;33m(\u001b[0m\u001b[1;36m6\u001b[0m\u001b[1;33m,\u001b[0m \u001b[1;36m6\u001b[0m\u001b[1;33m)\u001b[0m\u001b[1;33m)\u001b[0m\u001b[1;33m\u001b[0m\u001b[0m\n\u001b[0;32m      2\u001b[0m \u001b[0mprint\u001b[0m\u001b[1;33m(\u001b[0m\u001b[0mzeroes\u001b[0m\u001b[1;33m,\u001b[0m \u001b[1;34m'\\n'\u001b[0m\u001b[1;33m)\u001b[0m\u001b[1;33m\u001b[0m\u001b[0m\n\u001b[1;32m----> 3\u001b[1;33m \u001b[0mprint\u001b[0m\u001b[1;33m(\u001b[0m\u001b[0mzeroes\u001b[0m\u001b[1;33m.\u001b[0m\u001b[0mreshape\u001b[0m\u001b[1;33m(\u001b[0m\u001b[1;33m(\u001b[0m\u001b[1;36m11\u001b[0m\u001b[1;33m,\u001b[0m \u001b[1;36m3\u001b[0m\u001b[1;33m)\u001b[0m\u001b[1;33m)\u001b[0m\u001b[1;33m)\u001b[0m\u001b[1;33m\u001b[0m\u001b[0m\n\u001b[0m\u001b[0;32m      4\u001b[0m \u001b[1;33m\u001b[0m\u001b[0m\n\u001b[0;32m      5\u001b[0m \u001b[1;31m# 6 x 6 != 11 x 3\u001b[0m\u001b[1;33m\u001b[0m\u001b[1;33m\u001b[0m\u001b[0m\n",
      "\u001b[1;31mValueError\u001b[0m: cannot reshape array of size 36 into shape (11,3)"
     ]
    }
   ],
   "source": [
    "zeroes = np.zeros((6, 6))\n",
    "print(zeroes, '\\n')\n",
    "print(zeroes.reshape((11, 3)))\n",
    "\n",
    "# 6 x 6 != 11 x 3"
   ]
  },
  {
   "cell_type": "markdown",
   "metadata": {},
   "source": [
    "A **transpose** is a simple mathematical operation that flips the rows and columns of an array. This will be useful later during the discussion of the dot prodcuct.\n",
    "\n",
    "<img src=\"https://2.bp.blogspot.com/-8LzbJv0zB3A/WAzRQbxP5eI/AAAAAAAAHYU/MEqPV8JxtLMCSGSQ-0UKZSYlUN3jALZaQCLcB/w1200-h630-p-k-no-nu/Java%2BProgram%2Bto%2BTranspose%2Ba%2BMatrix%2B.png\" width=300 height=200>\n",
    "\n",
    "To do this with an array, use the `.T` property for an array."
   ]
  },
  {
   "cell_type": "code",
   "execution_count": 23,
   "metadata": {},
   "outputs": [
    {
     "name": "stdout",
     "output_type": "stream",
     "text": [
      "[[0. 0.]\n",
      " [0. 0.]\n",
      " [0. 0.]] \n",
      "\n",
      "[[0. 0. 0.]\n",
      " [0. 0. 0.]]\n"
     ]
    }
   ],
   "source": [
    "zeroes = np.zeros((3, 2))\n",
    "print(zeroes, '\\n')\n",
    "print(zeroes.T)\n",
    "\n",
    "# 3 x 2 (old dimensionality of the array) = 2 x 3 (new dimensionality of the array)"
   ]
  },
  {
   "cell_type": "markdown",
   "metadata": {},
   "source": [
    "## Section Break\n",
    "\n",
    "**Exercises To Test Your Knowledge:**\n",
    "\n",
    "*For all exercises and in the future sections of the manual, an array is implied to mean a `numpy` array.*\n",
    "\n",
    "1. Create an array in the shape `(3, 5)` and transpose it. Print the resulting array and its new shape.\n",
    "\n",
    "\n",
    "2. Create an array with ones in the shape `(6, 2)`. Multiply the array by 2. Print the resulting array.\n",
    "\n",
    "\n",
    "3. Create an array with the following items: `[[3, 12, 15], [32, 56, 32], [456, 323, 233]]`. Floor divide the array by 3. Print the resulting array.\n",
    "\n",
    "\n",
    "4. **Math Question**: How many different arrays can be reshaped from an original array with the shape `(6, 3)`? [Hint: **Factors**]\n",
    "\n",
    "\n",
    "5. **Exploration**: Does a vectorized operation have an effect on the size of an array?\n",
    "    1. Create an array with the shape `(2, 5)`. Use an element-wise operation on the array.\n",
    "    2. Print the current shape of the array.\n",
    "    3. Repeat Steps 1-2 three times.\n",
    "    4. Report your observation to our club leaders. Yes or no?"
   ]
  },
  {
   "cell_type": "markdown",
   "metadata": {},
   "source": [
    "### Indexing and Slicing\n",
    "\n",
    "Most operations with Python lists can be done with arrays. However, when dealing with *N*-dimensional arrays, more indexing and slicing parameters may be needed."
   ]
  },
  {
   "cell_type": "code",
   "execution_count": 47,
   "metadata": {},
   "outputs": [
    {
     "name": "stdout",
     "output_type": "stream",
     "text": [
      "Basic array: [ 3  5  2  4  5  1  4 64] \n",
      "\n",
      "First Item of basic array: 3\n",
      "Last Item of basic array: 64\n",
      "Items 2-5 of basic array: [5 2 4 5]\n",
      "Reversed Basic Array: [64  4  1  5  4  2  5  3]\n"
     ]
    }
   ],
   "source": [
    "basic = np.array([3, 5, 2, 4, 5, 1, 4, 64])\n",
    "nd = np.array([[2, 3, 5], [31, 54, 78], [192, 356, 231]])\n",
    "\n",
    "# What is the `basic` array?\n",
    "print('Basic array:', basic, '\\n')\n",
    "\n",
    "# What is the first item of the `basic` array?\n",
    "print('First Item of basic array:', basic[0])\n",
    "\n",
    "# What is the last item of the `basic` array?\n",
    "print('Last Item of basic array:', basic[-1])\n",
    "\n",
    "# How do we obtain items 2-5 of the `basic` array?\n",
    "print('Items 2-5 of basic array:', basic[1:5])\n",
    "\n",
    "# Reverse the 'basic` array'?\n",
    "print('Reversed Basic Array:', basic[::-1])"
   ]
  },
  {
   "cell_type": "markdown",
   "metadata": {},
   "source": [
    "With *N*-dimensional arrays, we need to specify the index of the row and of the column to access the specified data point.\n",
    "1. **The first index specified in an array is the row index.**\n",
    "2. **The second index specified in an array is the column index.**\n",
    "3. **If you want to get all items in a column or row, use the `:` operator.** This is useful for accessing a specific column in an array.\n",
    "4. **Indexes can either be specified as `arr[i][j]` or as `arr[i, j]`. Both do the same task**.\n",
    "\n",
    "These rules apply to both indexing and slicing."
   ]
  },
  {
   "cell_type": "code",
   "execution_count": 60,
   "metadata": {},
   "outputs": [
    {
     "name": "stdout",
     "output_type": "stream",
     "text": [
      "2d array:\n",
      " [[  2   3   5]\n",
      " [ 31  54  78]\n",
      " [192 356 231]] \n",
      "\n",
      "1st Row of 2d array:\n",
      " [2 3 5] \n",
      "\n",
      "2nd Row of 2d array:\n",
      " [31 54 78] \n",
      "\n",
      "1st Column of 2d array:\n",
      " [  2  31 192] \n",
      "\n",
      "2nd Column of 2d array:\n",
      " [  3  54 356] \n",
      "\n",
      "1st-2nd Rows of 2d array:\n",
      " [[ 2  3  5]\n",
      " [31 54 78]] \n",
      "\n",
      "1st-2nd Columns of 2d array:\n",
      " [[  2   3]\n",
      " [ 31  54]\n",
      " [192 356]] \n",
      "\n"
     ]
    }
   ],
   "source": [
    "# What is 2D Array?\n",
    "print('2d array:\\n', nd, '\\n')\n",
    "\n",
    "# First row of 2D array?\n",
    "print('1st Row of 2d array:\\n', nd[0], '\\n')\n",
    "\n",
    "# Second row of 2D array?\n",
    "print('2nd Row of 2d array:\\n', nd[1], '\\n')\n",
    "\n",
    "# 1st Column of 2D array?\n",
    "print('1st Column of 2d array:\\n', nd[:, 0], '\\n')\n",
    "\n",
    "# 2nd Column of 2D array?\n",
    "print('2nd Column of 2d array:\\n', nd[:, 1], '\\n')\n",
    "\n",
    "# How to get the first and second rows of 2D array?\n",
    "print('1st-2nd Rows of 2d array:\\n', nd[0:2], '\\n')\n",
    "\n",
    "# How to get the first and second columns of 2D array?\n",
    "print('1st-2nd Columns of 2d array:\\n', nd[:, 0:2], '\\n')"
   ]
  },
  {
   "cell_type": "markdown",
   "metadata": {},
   "source": [
    "Part 2 of Indexing + Slicing:"
   ]
  },
  {
   "cell_type": "code",
   "execution_count": 70,
   "metadata": {},
   "outputs": [
    {
     "name": "stdout",
     "output_type": "stream",
     "text": [
      "2d array:\n",
      " [[  2   3   5]\n",
      " [ 31  54  78]\n",
      " [192 356 231]] \n",
      "\n",
      "First Item of 2d array:\n",
      " 2 \n",
      "\n",
      "First Item of 2d array:\n",
      " 3 \n",
      "\n",
      "First Item of 2d array:\n",
      " 78 \n",
      "\n",
      "First Item of 2d array:\n",
      " 356 \n",
      "\n",
      "4th and 5th Items of 2d array:\n",
      " [31 54] \n",
      "\n",
      "4th and 5th Items of 2d array:\n",
      " [356 231] \n",
      "\n"
     ]
    }
   ],
   "source": [
    "# What is 2D Array?\n",
    "print('2d array:\\n', nd, '\\n')\n",
    "\n",
    "# How to get the FIRST ITEM of 2D array?\n",
    "print('First Item of 2d array:\\n', nd[0, 0], '\\n')\n",
    "\n",
    "# How to get the SECOND ITEM of 2D array?\n",
    "print('First Item of 2d array:\\n', nd[0][1], '\\n')\n",
    "\n",
    "# How to get the SIXTH ITEM of 2D array? [it is in the second row and third column]\n",
    "print('First Item of 2d array:\\n', nd[1, 2], '\\n')\n",
    "\n",
    "# How to get the EIGHTH ITEM of 2D array? [it is in the third row and second column]\n",
    "print('First Item of 2d array:\\n', nd[2, 1], '\\n')\n",
    "\n",
    "# How to get the FOURTH and FIFTH ITEMS of 2D array? [use slicing on second row]\n",
    "print('4th and 5th Items of 2d array:\\n', nd[1, 0:2], '\\n')\n",
    "\n",
    "# How to get the EIGHTH AND NINTH ITEMS of 2D array? [use slicing on third row]\n",
    "print('4th and 5th Items of 2d array:\\n', nd[2, 1:3], '\\n')"
   ]
  },
  {
   "cell_type": "markdown",
   "metadata": {},
   "source": [
    "**Boolean Indexing**\n",
    "\n",
    "If we want to select values in an array that are above or below a certain value, we can use boolean indexing. This indexing is possible because of the element-wise operations involving the `>`, `<`, `>=`, `<=`, `!=` and `==` symbols and its effect when applied on an array. Let's explore this!"
   ]
  },
  {
   "cell_type": "code",
   "execution_count": 72,
   "metadata": {},
   "outputs": [
    {
     "name": "stdout",
     "output_type": "stream",
     "text": [
      "2d array:\n",
      " [[  2   3   5]\n",
      " [ 31  54  78]\n",
      " [192 356 231]] \n",
      "\n",
      "Are values in a specific spot greater than 5?:\n",
      " [[False False False]\n",
      " [ True  True  True]\n",
      " [ True  True  True]] \n",
      "\n",
      "Elements greater than 5:\n",
      " [ 31  54  78 192 356 231] \n",
      "\n"
     ]
    }
   ],
   "source": [
    "# What is 2D Array?\n",
    "print('2d array:\\n', nd, '\\n')\n",
    "\n",
    "# Are elements in the array greater than 5?\n",
    "print('Are values in a specific spot greater than 5?:\\n', nd > 5, '\\n')\n",
    "\n",
    "# Select elements greater than 5.\n",
    "print('Elements greater than 5:\\n', nd[nd > 5], '\\n')"
   ]
  },
  {
   "cell_type": "markdown",
   "metadata": {},
   "source": [
    "As you can see, the boolean array removed all values that correspondeded to `False` from the array. All values that corresponded to `True` were kept and placed in a new array. In this way, **any boolean array can index a standard `numpy` array**. \n",
    "\n",
    "The standard syntax for boolean indexing is the following: `arr[arr ? condition]` where `?` refers to a mathematical comparison operator (`>`, `<`, `>=`, `<=`, `!=` and `==`)."
   ]
  },
  {
   "cell_type": "markdown",
   "metadata": {},
   "source": [
    "## Section Break\n",
    "\n",
    "**Questions on Indexing:**\n",
    "\n",
    "1. Create an array with the values `[[1, 323, 32], [23, 432, 456], [np.pi, 65, 256]]`. Print the list.\n",
    "\n",
    "\n",
    "2. Use indexing to isolate π (`np.pi`) from the array.\n",
    "\n",
    "\n",
    "3. Use indexing to isolate `256` from the array.\n",
    "\n",
    "\n",
    "4. Use indexing to select the last column from the array.\n",
    "\n",
    "\n",
    "5. Use slicing to select the last two values from the first row of the array.\n",
    "\n",
    "\n",
    "6. Use slicing to select the first two values from the third row of the array.\n",
    "\n",
    "\n",
    "7. Use boolean indexing to select all values greater than `127` from the array.\n",
    "\n",
    "\n",
    "8. Use boolean indexing to select all values less than `20π` from the array."
   ]
  },
  {
   "cell_type": "markdown",
   "metadata": {},
   "source": [
    "---\n",
    "\n",
    "### Broadcasting\n",
    "\n",
    "Note the following <a href=\"https://numpy.org/doc/stable/user/basics.broadcasting.html\">documentation</a> on the rules for vectorized operations with arrays.\n",
    ">When operating on two arrays, NumPy compares their shapes element-wise. It starts with the trailing dimensions and works its way forward. Two dimensions are compatible when they are equal, or one of them is 1.\n",
    "\n",
    ">If these conditions are not met, a ValueError: operands could not be broadcast together exception is thrown, indicating that the arrays have incompatible shapes. The size of the resulting array is the size that is not 1 along each axis of the inputs.\n",
    "\n",
    ">Arrays do not need to have the same number of dimensions. For example, if you have a 256x256x3 array of RGB values, and you want to scale each color in the image by a different value, you can multiply the image by a one-dimensional array with 3 values. Lining up the sizes of the trailing axes of these arrays according to the broadcast rules, shows that they are compatible:\n",
    "---\n",
    "\n",
    "A simple example of broadcasting would be multiplying a constant to an array. If the constant has a shape of `(1, 1)` and the array has a shape of `(4, 3)`, the constant must be broadcasted to the `(4, 3)` shape to multiply to the second array."
   ]
  },
  {
   "cell_type": "code",
   "execution_count": 4,
   "metadata": {},
   "outputs": [
    {
     "name": "stdout",
     "output_type": "stream",
     "text": [
      "Shape of Array: (2, 3)\n",
      "Size of Constant / Scalar: 1\n",
      "\n",
      "Size of Constant * Array: (2, 3)\n"
     ]
    }
   ],
   "source": [
    "constant = 3\n",
    "array = np.array([[3, 4, 6], [4, 6, 2]])\n",
    "\n",
    "print(f\"Shape of Array: {array.shape}\")\n",
    "print(f\"Size of Constant / Scalar: 1\\n\")\n",
    "\n",
    "array = array * constant\n",
    "print(f\"Size of Constant * Array: {array.shape}\")"
   ]
  },
  {
   "cell_type": "markdown",
   "metadata": {},
   "source": [
    "### Other Vectorized Operations\n",
    "\n",
    "Now that we know broadcasting for multi-matrix operations, we can talk about other types of vectorized operations that are more involoved. Consult the `numpy` <a href=\"https://numpy.org/doc/stable/reference/routines.math.html\">documentation</a> for additional methods you may want to propagate to your arrays. These code blocks are just a selection of some of these methods. "
   ]
  },
  {
   "cell_type": "code",
   "execution_count": 30,
   "metadata": {},
   "outputs": [
    {
     "name": "stdout",
     "output_type": "stream",
     "text": [
      "Original Array:\n",
      "[0.         0.78539816 1.57079633 2.35619449 3.14159265 3.92699082\n",
      " 4.71238898 5.49778714] \n",
      "\n",
      "Sine of The Array:\n",
      "[ 0.00000000e+00  7.07106781e-01  1.00000000e+00  7.07106781e-01\n",
      "  1.22464680e-16 -7.07106781e-01 -1.00000000e+00 -7.07106781e-01] \n",
      "\n",
      "Cosine of The Array:\n",
      "[ 1.00000000e+00  7.07106781e-01  6.12323400e-17 -7.07106781e-01\n",
      " -1.00000000e+00 -7.07106781e-01 -1.83697020e-16  7.07106781e-01] \n",
      "\n",
      "Tangent of The Array:\n",
      "[ 0.00000000e+00  1.00000000e+00  1.63312394e+16 -1.00000000e+00\n",
      " -1.22464680e-16  1.00000000e+00  5.44374645e+15 -1.00000000e+00] \n",
      "\n"
     ]
    }
   ],
   "source": [
    "# Trigonometric Functions - np.pi refers to the constant π\n",
    "\n",
    "circ_range = np.arange(0, 2 * np.pi, np.pi / 4)\n",
    "print('Original Array:')\n",
    "print(circ_range, '\\n')\n",
    "\n",
    "print('Sine of The Array:')\n",
    "print(np.sin(circ_range), '\\n')\n",
    "\n",
    "print('Cosine of The Array:')\n",
    "print(np.cos(circ_range), '\\n')\n",
    "\n",
    "print('Tangent of The Array:')\n",
    "print(np.tan(circ_range), '\\n')"
   ]
  },
  {
   "cell_type": "markdown",
   "metadata": {},
   "source": [
    "Quick visualization!"
   ]
  },
  {
   "cell_type": "code",
   "execution_count": 38,
   "metadata": {},
   "outputs": [
    {
     "data": {
      "text/plain": [
       "<matplotlib.legend.Legend at 0x9d43edb898>"
      ]
     },
     "execution_count": 38,
     "metadata": {},
     "output_type": "execute_result"
    },
    {
     "data": {
      "image/png": "[encoded data removed]",
      "text/plain": [
       "<Figure size 432x288 with 1 Axes>"
      ]
     },
     "metadata": {
      "needs_background": "light"
     },
     "output_type": "display_data"
    }
   ],
   "source": [
    "import matplotlib.pyplot as plt\n",
    "\n",
    "circ_range = np.arange(0, 10 * np.pi, np.pi / 4)\n",
    "\n",
    "plt.plot(circ_range, np.sin(circ_range), label='Sine')\n",
    "plt.plot(circ_range, np.cos(circ_range), label='Cosine')\n",
    "plt.grid()\n",
    "plt.xlabel('Radians')\n",
    "plt.ylabel('Circle Position')\n",
    "plt.title('Circle Movement')\n",
    "plt.legend()"
   ]
  },
  {
   "cell_type": "code",
   "execution_count": 45,
   "metadata": {},
   "outputs": [
    {
     "name": "stdout",
     "output_type": "stream",
     "text": [
      "[ 0  1  2  3  4  5  6  7  8  9 10 11 12 13 14 15 16 17 18 19 20 21 22 23\n",
      " 24 25 26 27 28 29 30 31 32 33 34 35 36 37 38 39 40 41 42 43 44 45 46 47\n",
      " 48 49 50 51 52 53 54 55 56 57 58 59 60 61 62 63 64] \n",
      "\n",
      "Square Root\n",
      "[0.         1.         1.41421356 1.73205081 2.         2.23606798\n",
      " 2.44948974 2.64575131 2.82842712 3.         3.16227766 3.31662479\n",
      " 3.46410162 3.60555128 3.74165739 3.87298335 4.         4.12310563\n",
      " 4.24264069 4.35889894 4.47213595 4.58257569 4.69041576 4.79583152\n",
      " 4.89897949 5.         5.09901951 5.19615242 5.29150262 5.38516481\n",
      " 5.47722558 5.56776436 5.65685425 5.74456265 5.83095189 5.91607978\n",
      " 6.         6.08276253 6.164414   6.244998   6.32455532 6.40312424\n",
      " 6.4807407  6.55743852 6.63324958 6.70820393 6.78232998 6.8556546\n",
      " 6.92820323 7.         7.07106781 7.14142843 7.21110255 7.28010989\n",
      " 7.34846923 7.41619849 7.48331477 7.54983444 7.61577311 7.68114575\n",
      " 7.74596669 7.81024968 7.87400787 7.93725393 8.        ] \n",
      "\n",
      "Cube Root\n",
      "[0.         1.         1.25992105 1.44224957 1.58740105 1.70997595\n",
      " 1.81712059 1.91293118 2.         2.08008382 2.15443469 2.22398009\n",
      " 2.28942849 2.35133469 2.41014226 2.46621207 2.5198421  2.57128159\n",
      " 2.62074139 2.66840165 2.71441762 2.75892418 2.80203933 2.84386698\n",
      " 2.88449914 2.92401774 2.96249607 3.         3.03658897 3.07231683\n",
      " 3.10723251 3.14138065 3.1748021  3.20753433 3.2396118  3.27106631\n",
      " 3.30192725 3.33222185 3.36197541 3.39121144 3.41995189 3.44821724\n",
      " 3.47602664 3.50339806 3.53034834 3.5568933  3.58304787 3.60882608\n",
      " 3.63424119 3.65930571 3.6840315  3.70842977 3.73251116 3.75628575\n",
      " 3.77976315 3.80295246 3.82586237 3.84850113 3.87087664 3.89299642\n",
      " 3.91486764 3.93649718 3.95789161 3.97905721 4.        ]\n"
     ]
    }
   ],
   "source": [
    "# Square Root and Cube Root\n",
    "\n",
    "j = np.arange(0, 65)\n",
    "print(j, '\\n')\n",
    "\n",
    "print('Square Root')\n",
    "print(np.sqrt(j), '\\n')\n",
    "\n",
    "print('Cube Root')\n",
    "print(np.cbrt(j))"
   ]
  },
  {
   "cell_type": "code",
   "execution_count": 46,
   "metadata": {},
   "outputs": [
    {
     "data": {
      "text/plain": [
       "<matplotlib.legend.Legend at 0x9d4510a3c8>"
      ]
     },
     "execution_count": 46,
     "metadata": {},
     "output_type": "execute_result"
    },
    {
     "data": {
      "image/png": "[encoded data removed]",
      "text/plain": [
       "<Figure size 432x288 with 1 Axes>"
      ]
     },
     "metadata": {
      "needs_background": "light"
     },
     "output_type": "display_data"
    }
   ],
   "source": [
    "plt.plot(j, np.sqrt(j), label='Sqrt')\n",
    "plt.plot(j, np.cbrt(j), label='Cbrt')\n",
    "plt.grid()\n",
    "plt.xlabel('$x$') # You can place math notation into a plot label using LaTex using the $ sign.\n",
    "plt.ylabel('$f(x)$')\n",
    "plt.title('Function Comparison: Square Root vs Cube Root')\n",
    "plt.legend()"
   ]
  },
  {
   "cell_type": "code",
   "execution_count": 52,
   "metadata": {},
   "outputs": [
    {
     "name": "stdout",
     "output_type": "stream",
     "text": [
      "[1 2 3 4 5 6 7 8 9] \n",
      "\n",
      "Exponential\n",
      "[2.71828183e+00 7.38905610e+00 2.00855369e+01 5.45981500e+01\n",
      " 1.48413159e+02 4.03428793e+02 1.09663316e+03 2.98095799e+03\n",
      " 8.10308393e+03] \n",
      "\n",
      "Ln\n",
      "[0.         0.69314718 1.09861229 1.38629436 1.60943791 1.79175947\n",
      " 1.94591015 2.07944154 2.19722458] \n",
      "\n"
     ]
    }
   ],
   "source": [
    "# Calculating the exponential (e ^ x) and natural log (ln(x))\n",
    "\n",
    "j = np.arange(1, 10)\n",
    "print(j, '\\n')\n",
    "\n",
    "print('Exponential')\n",
    "print(np.exp(j), '\\n')\n",
    "\n",
    "print('Ln')\n",
    "print(np.log(j), '\\n')"
   ]
  },
  {
   "cell_type": "code",
   "execution_count": 53,
   "metadata": {},
   "outputs": [
    {
     "data": {
      "text/plain": [
       "<matplotlib.legend.Legend at 0x9d452503c8>"
      ]
     },
     "execution_count": 53,
     "metadata": {},
     "output_type": "execute_result"
    },
    {
     "data": {
      "image/png": "[encoded data removed]",
      "text/plain": [
       "<Figure size 432x288 with 1 Axes>"
      ]
     },
     "metadata": {
      "needs_background": "light"
     },
     "output_type": "display_data"
    }
   ],
   "source": [
    "plt.plot(j, np.exp(j), label='Exp')\n",
    "plt.plot(j, np.log(j), label='Ln')\n",
    "plt.grid()\n",
    "plt.xlabel('$x$')\n",
    "plt.ylabel('$f(x)$')\n",
    "plt.title('Function Exponential and Log')\n",
    "plt.legend()"
   ]
  },
  {
   "cell_type": "markdown",
   "metadata": {},
   "source": [
    "### Dot Product\n",
    "\n",
    "The dot product is a way of multiplying matrices together to produce a resultant matrix. This product is the sum of the products of corresponding rows and columns of two matrices. Look at the below image:\n",
    "<img src=\"https://ml-cheatsheet.readthedocs.io/en/latest/_images/khan_academy_matrix_product.png\" width=400 height=400>"
   ]
  },
  {
   "cell_type": "markdown",
   "metadata": {},
   "source": [
    "We have two matrices $\\vec{A}$ and $\\vec{B}$. We also have the rows and columns of the matrices. Each variable in this image represents a component of the row or column such as $\\vec{a}_1$ being in the first row, first column and $\\vec{b}_2$ being in the first row, second column.\n",
    "\n",
    "In the dot product, **we multiply each row in the first matrix by each column in the second matrix**. **This happens for each row and for each column in $\\vec{A}$ and $\\vec{B}$*.\n",
    "\n",
    "---\n",
    "\n",
    "Look at the resultant matrix $\\vec{C}$. The first column in $\\vec{C}$ contains multiplications all made by $\\vec{b}_1$. This is because in order to form the first column in $\\vec{C}$, we need to multiply the first row of $\\vec{A}$ by the first column of $\\vec{B}$ and multiply the second row of $\\vec{A}$ by the first column of $\\vec{B}$. The first column of $\\vec{B}$ is represented by $\\vec{b}_1$.\n",
    "\n",
    "The same goes for forming the second column of $\\vec{C}$ and why all multiplications involve $\\vec{b}_2$. The first item is computed by multiplying the first row of $\\vec{A}$ by the second column of $\\vec{B}$ and the second item is computed by multiplying the second row of $\\vec{A}$ by the second column of $\\vec{B}$. The second column of $\\vec{B}$ is represented by $\\vec{b}_2$.\n",
    "\n",
    "---\n",
    "The below visualization shows this nicely. \n",
    "<img src=\"https://www.mathsisfun.com/algebra/images/matrix-multiply-a.svg\" width=300 height=300>\n",
    "\n",
    "**Note that the dot product is done by multiplying a row vector by a column vector.** This means the second vector in the computation must be a transposed shape of the first vector.\n",
    "\n",
    "To do this in `numpy`, we can use the `dot` method of an array, use the `np.dot` function with two arrays or use the shortcut `@` symbol between two vectors. The resulting vector will have the size of the number of rows from the first matrix and the number of columns from the second matrix."
   ]
  },
  {
   "cell_type": "code",
   "execution_count": 14,
   "metadata": {},
   "outputs": [
    {
     "name": "stdout",
     "output_type": "stream",
     "text": [
      "Vector u:\n",
      " [[1 2 3]\n",
      " [4 5 6]] \n",
      " Vector u shape: (2, 3)\n",
      "\n",
      "Vector v:\n",
      " [[ 7  8]\n",
      " [ 9 10]\n",
      " [11 12]] \n",
      " Vector v shape: (3, 2)\n",
      "\n",
      "v dot u: \n",
      " [[ 58  64]\n",
      " [139 154]] \n",
      " v dot u shape: (2, 2)\n"
     ]
    }
   ],
   "source": [
    "u = np.array([[1, 2, 3], [4, 5, 6]])\n",
    "v = np.array([[7, 8], [9, 10], [11, 12]])\n",
    "\n",
    "print('Vector u:\\n', u, '\\n', 'Vector u shape:', u.shape)\n",
    "print()\n",
    "print('Vector v:\\n', v, '\\n', 'Vector v shape:', v.shape)\n",
    "print()\n",
    "\n",
    "# Notice that the shape of u is the transposed shape of vector v.\n",
    "uv = np.dot(u, v)\n",
    "print('v dot u: \\n', uv, '\\n', 'v dot u shape:', uv.shape)"
   ]
  },
  {
   "cell_type": "code",
   "execution_count": 27,
   "metadata": {},
   "outputs": [
    {
     "name": "stdout",
     "output_type": "stream",
     "text": [
      "Row: [ 1  2  3  4  5  6  7  8  9 10]\n",
      "Column:\n",
      " [[ 1]\n",
      " [ 2]\n",
      " [ 3]\n",
      " [ 4]\n",
      " [ 5]\n",
      " [ 6]\n",
      " [ 7]\n",
      " [ 8]\n",
      " [ 9]\n",
      " [10]]\n",
      "Dot Product:  [385]\n"
     ]
    }
   ],
   "source": [
    "row = np.array([1, 2, 3, 4, 5, 6, 7, 8, 9, 10])\n",
    "print('Row:', row)\n",
    "\n",
    "column = np.array([1, 2, 3, 4, 5, 6, 7, 8, 9, 10]).reshape(-1, 1) # reshape row to column vector\n",
    "print('Column:\\n', column)\n",
    "\n",
    "print('Dot Product: ', row @ column)\n",
    "# The result of a row vector x column vector is a summation of the products of the components of the vectors."
   ]
  },
  {
   "cell_type": "markdown",
   "metadata": {},
   "source": [
    "### Norms of A Matrix\n",
    "\n",
    "As will be seen in machine learning, there are three types of norms of a matrix. According to <a href=\"https://learn.lboro.ac.uk/archive/olmp/olmp_resources/pages/workbooks_1_50_jan2008/Workbook30/30_4_mtrx_norms.pdf\">this</a> link:\n",
    "> The norm of a matrix is a real number which is a measure of the magnitude of the matrix. \n",
    "\n",
    "Norms act as penalty terms of a machine learning algorithm since they are subtracted from the main result of the algorithm to make the result more robust to data outliers and oddities. The norms we will discussing today are the $ℓ_1$ norm, the $ℓ_2$ and the $ℓ_{\\infty}$ norm.\n",
    "\n",
    "<img src=\"https://upload.wikimedia.org/wikipedia/commons/thumb/0/02/Regularization.svg/250px-Regularization.svg.png\" width=300 height=300>\n",
    "Norms are used above to create a best-fit line that best approximates and generalizes to the data points.\n",
    "\n",
    "---"
   ]
  },
  {
   "cell_type": "markdown",
   "metadata": {},
   "source": [
    "The $ℓ_1$ norm of a matrix $w$ ($||w||_1$) is the max absolute value column sum of a matrix. To compute this norm, we find the sum of the absolute values of each column and find the maximum value. Since both `abs` and `sum` are vectorized functions, this only requires a few statements of code!\n",
    "\n",
    "Note:\n",
    "1. **Axis 0 of a matrix refers to the columns and Axis 1 of a matrix refers to the rows.**"
   ]
  },
  {
   "cell_type": "code",
   "execution_count": 83,
   "metadata": {},
   "outputs": [
    {
     "name": "stdout",
     "output_type": "stream",
     "text": [
      "Array w:\n",
      " [[  23  -25   63]\n",
      " [  23  366  -23]\n",
      " [2334 -345  323]\n",
      " [ -45   34 -546]\n",
      " [  88  -66   77]] \n",
      "\n",
      "|Array w|:\n",
      " [[  23   25   63]\n",
      " [  23  366   23]\n",
      " [2334  345  323]\n",
      " [  45   34  546]\n",
      " [  88   66   77]] \n",
      "\n",
      "Sum of Columns:\n",
      " [2513  836 1032] \n",
      "\n",
      "L1 Norm:\n",
      " 2513 \n",
      "\n"
     ]
    }
   ],
   "source": [
    "# L1 Norm of a matrix w\n",
    "\n",
    "w = np.array([[23, -25, 63], [23, 366, -23], [2334, -345, 323], [-45, 34, -546], [88, -66, 77]])\n",
    "print('Array w:\\n', w, '\\n')\n",
    "\n",
    "# First Step of L1 Norm: Find absolute value of each column. We can create a new matrix of absolute values using `np.abs`.\n",
    "absw = np.abs(w)\n",
    "print('|Array w|:\\n', absw, '\\n')\n",
    "\n",
    "# Second Step of L1 Norm: Sum each column. We can do this using `np.sum` over axis=1 (column)\n",
    "csum = np.sum(absw, axis=0)\n",
    "print('Sum of Columns:\\n', csum, '\\n')\n",
    "\n",
    "# Find the max of the values to find the L1 norm!\n",
    "max_val = max(csum)\n",
    "print('L1 Norm:\\n', max_val, '\\n')"
   ]
  },
  {
   "cell_type": "markdown",
   "metadata": {},
   "source": [
    "---\n",
    "The $ℓ_\\infty$ norm of a matrix $w$ ($||w||_\\infty$) is the max absolute value row sum of a matrix. To compute this norm, we find the sum of the absolute values of each row and find the maximum value. Since both `abs` and `sum` are vectorized functions, this only requires a few statements of code!\n",
    "\n",
    "The strategy only requires one change to the code to find the $ℓ_1$ norm! "
   ]
  },
  {
   "cell_type": "code",
   "execution_count": 2,
   "metadata": {},
   "outputs": [
    {
     "name": "stdout",
     "output_type": "stream",
     "text": [
      "Array w:\n",
      " [[  23  -25   63]\n",
      " [  23  366  -23]\n",
      " [2334 -345  323]\n",
      " [ -45   34 -546]\n",
      " [  88  -66   77]] \n",
      "\n",
      "|Array w|:\n",
      " [[  23   25   63]\n",
      " [  23  366   23]\n",
      " [2334  345  323]\n",
      " [  45   34  546]\n",
      " [  88   66   77]] \n",
      "\n",
      "Sum of Rows:\n",
      " [ 111  412 3002  625  231] \n",
      "\n",
      "L∞ Norm:\n",
      " 3002 \n",
      "\n"
     ]
    }
   ],
   "source": [
    "# L-∞ Norm of a matrix w\n",
    "\n",
    "w = np.array([[23, -25, 63], [23, 366, -23], [2334, -345, 323], [-45, 34, -546], [88, -66, 77]])\n",
    "print('Array w:\\n', w, '\\n')\n",
    "\n",
    "# First Step of L∞ Norm: Find absolute value of each column. We can create a new matrix of absolute values using `np.abs`.\n",
    "absw = np.abs(w)\n",
    "print('|Array w|:\\n', absw, '\\n')\n",
    "\n",
    "# Second Step of L∞ Norm: Sum each row. We can do this using `np.sum` over axis=0 (row)\n",
    "rsum = np.sum(absw, axis=1)\n",
    "print('Sum of Rows:\\n', rsum, '\\n')\n",
    "\n",
    "# Find the max of the values to find the L1 norm!\n",
    "max_val = max(rsum)\n",
    "print('L∞ Norm:\\n', max_val, '\\n')"
   ]
  },
  {
   "cell_type": "markdown",
   "metadata": {},
   "source": [
    "---\n",
    "The $ℓ_2$ norm of a matrix $w$ ($||w||_2$) is the most common norm and is simply the Euclidean distance of the matrix. \n",
    "<img src=\"https://miro.medium.com/max/600/0*HTlIui8sHP8pIHBW.jpg\" width=300 height=300> We have a right triangle in the image above. This triangle helps to depict the horizontal and vertical distance of the vector from the origin to point `(3, 4)` in the Cartesian plane. The formula for the $ℓ_2$ norm is $||w||_2=\\sqrt{\\sum_{i}^{n}x_i^2}$ where $n$ is the length of the matrix. \n",
    "\n",
    "There are several applications for this norm as shown in the image below.\n",
    "<img src=\"https://machinelearningflashcards.com/images/L2_Norm_print.png\" width=300 height=300>\n",
    "The next code cell will go through how to calculate this norm from a matrix.\n",
    "\n",
    "---\n",
    "**Fun Fact:** In general, the $ℓ_n$ norm for a matrix $w$ is a variation of the $ℓ_2$ norm formula: $||w||_n=\\sqrt[n]{\\sum_{i}^{n}x_i^n}$. \n",
    "\n",
    "This formula follows for any *n* from 2 to $\\infty$. At $n=\\infty$, the $ℓ_\\infty$ norm applies.\n",
    "\n",
    "---"
   ]
  },
  {
   "cell_type": "code",
   "execution_count": 4,
   "metadata": {},
   "outputs": [
    {
     "name": "stdout",
     "output_type": "stream",
     "text": [
      "Array w:\n",
      " [[  23  -25   63]\n",
      " [  23  366  -23]\n",
      " [2334 -345  323]\n",
      " [ -45   34 -546]\n",
      " [  88  -66   77]] \n",
      "\n",
      "w^2:\n",
      " [[    529     625    3969]\n",
      " [    529  133956     529]\n",
      " [5447556  119025  104329]\n",
      " [   2025    1156  298116]\n",
      " [   7744    4356    5929]] \n",
      "\n",
      "Sum of w:\n",
      " 6130373 \n",
      "\n",
      "L2 Norm:\n",
      " 2475.959006122678 \n",
      "\n"
     ]
    }
   ],
   "source": [
    "# L-2 Norm of a matrix w\n",
    "\n",
    "w = np.array([[23, -25, 63], [23, 366, -23], [2334, -345, 323], [-45, 34, -546], [88, -66, 77]])\n",
    "print('Array w:\\n', w, '\\n')\n",
    "\n",
    "# First Step of L2 Norm: Square all elements of the array\n",
    "sq = w ** 2\n",
    "print('w^2:\\n', sq, '\\n')\n",
    "\n",
    "# Second Step of L2 Norm: Sum the entire array\n",
    "sumw = np.sum(sq)\n",
    "print('Sum of w:\\n', sumw, '\\n')\n",
    "\n",
    "# Sqrt the resulting sum\n",
    "sqrt_val = np.sqrt(sumw)\n",
    "print('L2 Norm:\\n', sqrt_val, '\\n')"
   ]
  },
  {
   "cell_type": "markdown",
   "metadata": {},
   "source": [
    "# Congratulations!\n",
    "\n",
    "You made it through the `numpy` review. Here are some final questions before we move on to `pandas`!\n",
    "\n",
    "## Section Break\n",
    "\n",
    "---\n",
    "\n",
    "**Final Review Questions of `numpy`:**\n",
    "\n",
    "\n",
    "1. Use the `np.full` method to create two arrays filled with constants. Dot product ($\\vec{a} \\cdot \\vec{b}$) the two arrays to each other and print the result.\n",
    "\n",
    "*Use array $\\vec{u}=$* `[[23, 21, 11], [23, 66, 2], [44, 22, 11]]` *and array $\\vec{v}=$* `[[33, 22, 11], [44, 33, 22], [55, 44, 33]]` *for questions 2-4.* \n",
    "\n",
    "2. Find the $ℓ_1$ norm for matrices $\\vec{u}$ and $\\vec{v}$. Which matrix has the greatest $ℓ_1$ norm (greatest $ℓ_1$ penalty)?\n",
    "\n",
    "\n",
    "3. Find the $ℓ_2$ norm for matrices $\\vec{u}$ and $\\vec{v}$. Which matrix has the greatest $ℓ_2$ norm (greatest $ℓ_2$ penalty)?\n",
    "\n",
    "\n",
    "4. Find the value of the expression $\\sqrt[3]{\\vec{u}} + 3\\vec{v}$.\n",
    "---\n",
    "\n",
    "**Exploration with Machine Learning**\n",
    "\n",
    "A very simple machine learning model that can be modelled with linear algebra is a perceptron. The perceptron is shown below:\n",
    "<img src='https://images.deepai.org/glossary-terms/perceptron-6168423.jpg' width=400 height=400>\n",
    "There are three variables that govern a perceptron: **the weights** (symbolized by $\\mathbf{W}$), **the feature vector** (symbolized by $\\mathbf{x}$) and **the bias** (symbolized by $b$).\n",
    "\n",
    "When we want to classify something, we give the perceptron a feature vector consisting of various attributes of the property we want to classify. For example, we can classify the type of wine based on its chemical properties, taste and pH. These features -- pH, taste and chemical properties -- consist the **feature vector**. \n",
    "\n",
    "When we start classifiying wine type using the perceptron, it may get initial predictions wrong. Over time, it will get increasingly and increasingly better until the type of wine is perfectly predicted. This increase in accuracy is attributed to the weights. **Weights** are intially set to random values before they get adjusted via an algorithm such as gradient descent to find the perfect values in the matrix.\n",
    "\n",
    "The **bias** helps to shift the classification boundary using some extra information we may know about our data. Think of this parameter as adjusting the position of the slope of a line by changing the line's y-intercept. It helps the model's classifications rather than learning the data from scratch.\n",
    "\n",
    "The equation for a perceptron is $\\hat{y} = \\sigma(\\mathbf{W} \\cdot \\mathbf{x} + b)$. \n",
    "\n",
    "* The function $\\sigma(x)$ represents an *activation function*.\n",
    "* There are many <a href=\"https://missinglink.ai/guides/neural-network-concepts/7-types-neural-network-activation-functions-right/\" target=\"_blank\">types</a> of activation functions but in this example, let's let the activation function be the ***binary step function*** such that $\\sigma(x)= \\begin{cases} \n",
    "      0, & x< 0 \\\\\n",
    "      1, & x \\geq 0 \\\\\n",
    "   \\end{cases}$\n",
    "\n",
    "---\n",
    "\n",
    "**Questions**\n",
    "\n",
    "We are going to create a perceptron from scratch via linear algebra. Here's how!\n",
    "\n",
    "1. Create three matrices for the weights, biases and feature vector. \n",
    "\n",
    " -- The feature vector ($\\mathbf{x}$) should consist of the following array: `[[12, 33, 22], [66, 33, 11], [2, 5, 3], [22, 4, 45], [58, 9, 23], [57, 1, 0]]`. \n",
    " \n",
    " \n",
    "     -- Imagine these values represent the chemical properties of an unknown type of wine. Each chemical property is represented by a column of this array. Print it to visualize this! \n",
    "\n",
    " -- The weights ($\\mathbf{W}$) should be randomly initialized to values between 0 and 1 with the shape `(3, 6)`. [Hint: Use `np.random.rand`]\n",
    " \n",
    " -- The biases ($b$) should be initialized to a matrix full of ones in the shape `(6, 3)`.\n",
    "\n",
    "\n",
    "2. Compute the dot product between the weights and feature vector. Add the bias to this product.\n",
    "\n",
    "\n",
    "3. We will now use the *binary step* activation function to get our classification. Folow the formula and compute the sum of the result from Step 2 and see if it is greater than 1. If it is, return the value `1`. If not, return `-1`.\n",
    "\n",
    "\n",
    "4. If the result from Step 3 is `1`, the class corresponding to the feature vector is **POSITIVE**. Else, the class corresponding to the feature vector is **NEGATIVE**.\n",
    "\n",
    "### Congratulations, you made a perceptron with `numpy`!"
   ]
  },
  {
   "cell_type": "markdown",
   "metadata": {},
   "source": [
    "---\n",
    "\n",
    "# END OF `NUMPY` REVIEW\n",
    "---"
   ]
  }
 ],
 "metadata": {
  "kernelspec": {
   "display_name": "Python 3",
   "language": "python",
   "name": "python3"
  },
  "language_info": {
   "codemirror_mode": {
    "name": "ipython",
    "version": 3
   },
   "file_extension": ".py",
   "mimetype": "text/x-python",
   "name": "python",
   "nbconvert_exporter": "python",
   "pygments_lexer": "ipython3",
   "version": "3.7.0"
  }
 },
 "nbformat": 4,
 "nbformat_minor": 4
}
