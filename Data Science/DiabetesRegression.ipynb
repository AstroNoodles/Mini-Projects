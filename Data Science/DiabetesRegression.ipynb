{
  "nbformat": 4,
  "nbformat_minor": 0,
  "metadata": {
    "colab": {
      "name": "DiabetesRegression.ipynb",
      "version": "0.3.2",
      "provenance": [],
      "collapsed_sections": []
    },
    "kernelspec": {
      "name": "python3",
      "display_name": "Python 3"
    }
  },
  "cells": [
    {
      "cell_type": "markdown",
      "metadata": {
        "id": "5j6rxMSYgQuT",
        "colab_type": "text"
      },
      "source": [
        "# Diabetes Linear Regression\n",
        "\n",
        "This Jupyter notebook will be used to test my skills on linear regression based on the [diabetes dataset](https://www4.stat.ncsu.edu/~boos/var.select/diabetes.html), readily available in the Sci-kit Learn Python library.\n",
        "\n",
        "To first bring some context to the data, it was collected by Bradley Efron, Trevor Hastie, Iain Johnston and Robert Tishiranie in 2004 as an analysis of their new 'Least Angle Regression' (LARS) algorithm designed to outcompete previous linear regression methods (such as Lasso regression). \n",
        "\n",
        "The outline of this notebook will be as follows\"\n",
        "* Receiving the data from Scikit-Learn\n",
        "* Doing introductory preprocessing and visualization\n",
        "* Testing out various regression methods (LARS, Lasso, Linear, Polynomial, SVR)\n",
        "* Finding their accuracy using RMSE [Root Mean Squared Error] \n",
        "* Use of grid search to increase accuracy and deep learning (Tensorflow) to decrease the loss over time...\n",
        "\n"
      ]
    },
    {
      "cell_type": "code",
      "metadata": {
        "id": "XZGar1NmgM6I",
        "colab_type": "code",
        "colab": {}
      },
      "source": [
        "import sys\n",
        "import numpy as np\n",
        "import matplotlib.pyplot as plt\n",
        "from math import ceil\n",
        "import seaborn as sns\n",
        "from sklearn.datasets import load_diabetes\n",
        "from sklearn.svm import SVR\n",
        "from sklearn.metrics import mean_squared_error\n",
        "from sklearn.linear_model import LinearRegression, LassoCV, LassoLarsCV, RidgeCV, LassoLars\n",
        "from sklearn.model_selection import cross_val_score\n",
        "from sklearn.feature_selection import SelectKBest\n",
        "from sklearn.feature_selection import f_regression\n",
        "\n",
        "\n",
        "%matplotlib inline"
      ],
      "execution_count": 0,
      "outputs": []
    },
    {
      "cell_type": "markdown",
      "metadata": {
        "id": "_bwxWrsvlCYV",
        "colab_type": "text"
      },
      "source": [
        "# Preprocessing\n",
        "\n",
        "According to the source page, there is a sample size of 442 individuals in the data with 10 features and 1 target value. In the numpy array that will be downloaded, these features are \n",
        "* Age\n",
        "* Sex\n",
        "* BMI\n",
        "* Average Blood Pressure\n",
        "* Six Blood Serum measurements\n",
        "* A quantitative measure of disease progression after the baseline\n",
        "\n",
        "According to [Scikit-learn](https://scikit-learn.org/stable/datasets/index.html#diabetes-dataset), the downloaded data has already been scaled for us with a centered mean and with the standard deviation * 442. Therefore, we don't have to scale the data and can proceed to explore it and use it for modelling!"
      ]
    },
    {
      "cell_type": "code",
      "metadata": {
        "id": "dDbqU6O2rT_2",
        "colab_type": "code",
        "outputId": "a95bcf63-cd2f-434a-a1ac-1c59834a3868",
        "colab": {
          "base_uri": "https://localhost:8080/",
          "height": 315
        }
      },
      "source": [
        "db_data = load_diabetes()\n",
        "print(f\"Diabetes Features: {db_data.feature_names} \\n\")\n",
        "print(f\"Diabetes Data: \\n {db_data.data[:5]} \\n\")\n",
        "print(f\"Diabetes Target: \\n {db_data.target[:5]} \\n\")\n"
      ],
      "execution_count": 2,
      "outputs": [
        {
          "output_type": "stream",
          "text": [
            "Diabetes Features: ['age', 'sex', 'bmi', 'bp', 's1', 's2', 's3', 's4', 's5', 's6'] \n",
            "\n",
            "Diabetes Data: \n",
            " [[ 0.03807591  0.05068012  0.06169621  0.02187235 -0.0442235  -0.03482076\n",
            "  -0.04340085 -0.00259226  0.01990842 -0.01764613]\n",
            " [-0.00188202 -0.04464164 -0.05147406 -0.02632783 -0.00844872 -0.01916334\n",
            "   0.07441156 -0.03949338 -0.06832974 -0.09220405]\n",
            " [ 0.08529891  0.05068012  0.04445121 -0.00567061 -0.04559945 -0.03419447\n",
            "  -0.03235593 -0.00259226  0.00286377 -0.02593034]\n",
            " [-0.08906294 -0.04464164 -0.01159501 -0.03665645  0.01219057  0.02499059\n",
            "  -0.03603757  0.03430886  0.02269202 -0.00936191]\n",
            " [ 0.00538306 -0.04464164 -0.03638469  0.02187235  0.00393485  0.01559614\n",
            "   0.00814208 -0.00259226 -0.03199144 -0.04664087]] \n",
            "\n",
            "Diabetes Target: \n",
            " [151.  75. 141. 206. 135.] \n",
            "\n"
          ],
          "name": "stdout"
        }
      ]
    },
    {
      "cell_type": "code",
      "metadata": {
        "id": "hDUWa_z8rbH8",
        "colab_type": "code",
        "outputId": "6358d23a-2338-4cf0-806c-8439798bb1e7",
        "colab": {
          "base_uri": "https://localhost:8080/",
          "height": 596
        }
      },
      "source": [
        "# Let's get a sample of the data (80%) so we can visualize it and do some preprocessing on it\n",
        "# I will be using cross-validation so I won't have access to a proper training set\n",
        "diabetes_len = len(db_data.data)\n",
        "X = db_data.data[:int(ceil(diabetes_len*.8))]\n",
        "y = db_data.target[:int(ceil(diabetes_len*.8))]\n",
        "np.random.seed(42)\n",
        "np.random.shuffle(X)\n",
        "np.random.shuffle(y)\n",
        "\n",
        "print(\"Training Data Sample: \")\n",
        "print(X[:5])\n",
        "print()\n",
        "\n",
        "\n",
        "print(\"Correlation Matrix: \")\n",
        "corr = np.corrcoef(X, rowvar=False)\n",
        "print(corr)"
      ],
      "execution_count": 3,
      "outputs": [
        {
          "output_type": "stream",
          "text": [
            "Training Data Sample: \n",
            "[[ 0.02354575  0.05068012 -0.03961813 -0.00567061 -0.04835136 -0.03325502\n",
            "   0.01182372 -0.03949338 -0.10164355 -0.06735141]\n",
            " [-0.06000263  0.05068012 -0.0105172  -0.0148516  -0.04972731 -0.02354742\n",
            "  -0.0581274   0.0158583  -0.00991896 -0.03421455]\n",
            " [-0.0382074  -0.04464164 -0.0547075  -0.0779709  -0.03321588 -0.08649026\n",
            "   0.14068104 -0.0763945  -0.01919705 -0.0052198 ]\n",
            " [ 0.04897352 -0.04464164 -0.04285156 -0.0538708   0.04521344  0.05004247\n",
            "   0.03391355 -0.00259226 -0.02595242 -0.0632093 ]\n",
            " [-0.04183994 -0.04464164  0.04121778 -0.02632783 -0.03183992 -0.03043668\n",
            "  -0.03603757  0.00294291  0.03365681 -0.01764613]]\n",
            "\n",
            "Correlation Matrix: \n",
            "[[ 1.          0.17455991  0.20179956  0.31649285  0.27685043  0.23276066\n",
            "  -0.04131083  0.18811178  0.2578946   0.28764571]\n",
            " [ 0.17455991  1.          0.07951261  0.21744559 -0.00105342  0.12150539\n",
            "  -0.37846636  0.31450944  0.10028456  0.23149279]\n",
            " [ 0.20179956  0.07951261  1.          0.39568054  0.28726412  0.30720414\n",
            "  -0.36593669  0.44733965  0.45814507  0.39895601]\n",
            " [ 0.31649285  0.21744559  0.39568054  1.          0.26818845  0.21156241\n",
            "  -0.15533654  0.2581106   0.38547487  0.3936175 ]\n",
            " [ 0.27685043 -0.00105342  0.28726412  0.26818845  1.          0.89240326\n",
            "   0.05489474  0.52976943  0.52056261  0.34906601]\n",
            " [ 0.23276066  0.12150539  0.30720414  0.21156241  0.89240326  1.\n",
            "  -0.21386386  0.65762384  0.32575126  0.31385587]\n",
            " [-0.04131083 -0.37846636 -0.36593669 -0.15533654  0.05489474 -0.21386386\n",
            "   1.         -0.74451005 -0.37938913 -0.28723506]\n",
            " [ 0.18811178  0.31450944  0.44733965  0.2581106   0.52976943  0.65762384\n",
            "  -0.74451005  1.          0.61417298  0.44986128]\n",
            " [ 0.2578946   0.10028456  0.45814507  0.38547487  0.52056261  0.32575126\n",
            "  -0.37938913  0.61417298  1.          0.49534678]\n",
            " [ 0.28764571  0.23149279  0.39895601  0.3936175   0.34906601  0.31385587\n",
            "  -0.28723506  0.44986128  0.49534678  1.        ]]\n"
          ],
          "name": "stdout"
        }
      ]
    },
    {
      "cell_type": "code",
      "metadata": {
        "id": "4eZP_nWgtE3Q",
        "colab_type": "code",
        "outputId": "5fb2c6a7-46a3-4731-f76e-188794b34ae5",
        "colab": {
          "base_uri": "https://localhost:8080/",
          "height": 313
        }
      },
      "source": [
        "sns.heatmap(corr, xticklabels=db_data.feature_names, yticklabels=db_data.feature_names)\n",
        "plt.xlabel(\"Diabetes Features\")\n",
        "plt.ylabel(\"Diabetes Features\")\n",
        "plt.title(\"Correlation Matrix on Diabetes Dataset\")"
      ],
      "execution_count": 4,
      "outputs": [
        {
          "output_type": "execute_result",
          "data": {
            "text/plain": [
              "Text(0.5, 1.0, 'Correlation Matrix on Diabetes Dataset')"
            ]
          },
          "metadata": {
            "tags": []
          },
          "execution_count": 4
        },
        {
          "output_type": "display_data",
          "data": {
            "image/png": "[encoded data removed]",
            "text/plain": [
              "<Figure size 432x288 with 2 Axes>"
            ]
          },
          "metadata": {
            "tags": []
          }
        }
      ]
    },
    {
      "cell_type": "markdown",
      "metadata": {
        "id": "g6icTvDcVdFL",
        "colab_type": "text"
      },
      "source": [
        "According to the heat map above, none of the variabes seem directly correlated together except for the first and second serum measurements. Therefore, it is hard to combine them manually.\n",
        "\n",
        "In an attempt to visualize this data for multivariate linear regression, we need to combine the most correlated parameters via a different means, this will be done via SelectKBest and the linear regression scoring method (1). From this, we can create a regression plot.\n",
        "\n"
      ]
    },
    {
      "cell_type": "code",
      "metadata": {
        "id": "-8_Rv121bPV5",
        "colab_type": "code",
        "outputId": "f8f3dbba-290f-4bd2-faaf-7d5194cc5d49",
        "colab": {
          "base_uri": "https://localhost:8080/",
          "height": 348
        }
      },
      "source": [
        "# Original Shapes of the Data\n",
        "print(X.shape, y.shape)\n",
        "\n",
        "# With the most correlated item of the dataset, match the shapes of the samples\n",
        "X_st = SelectKBest(f_regression, k=1).fit_transform(X, y)\n",
        "print(X_st.shape, y.shape)\n",
        "\n",
        "sns.regplot(X_st, y)\n",
        "plt.xlabel(\"Serum measurements\")\n",
        "plt.ylabel(\"Diabetes Prediction Measurement\")\n",
        "plt.title(\"Serum measurement on the prediction of diabetes\")"
      ],
      "execution_count": 14,
      "outputs": [
        {
          "output_type": "stream",
          "text": [
            "(354, 10) (354,)\n",
            "(354, 1) (354,)\n"
          ],
          "name": "stdout"
        },
        {
          "output_type": "execute_result",
          "data": {
            "text/plain": [
              "Text(0.5, 1.0, 'Serum measurement on the prediction of diabetes')"
            ]
          },
          "metadata": {
            "tags": []
          },
          "execution_count": 14
        },
        {
          "output_type": "display_data",
          "data": {
            "image/png": "[encoded data removed]",
            "text/plain": [
              "<Figure size 432x288 with 1 Axes>"
            ]
          },
          "metadata": {
            "tags": []
          }
        }
      ]
    },
    {
      "cell_type": "markdown",
      "metadata": {
        "id": "r2OKzxyafL8t",
        "colab_type": "text"
      },
      "source": [
        "With this regression plot as a starting point, we can try to improve upon this score using linear regression algorithms and check whether the slope of the line matches the slope found by the algorithms in the noisy data or too much data was lost (1) in the data visualization and a better slope can be found.\n",
        "\n"
      ]
    },
    {
      "cell_type": "code",
      "metadata": {
        "id": "nbmwPJyZ2KXz",
        "colab_type": "code",
        "outputId": "1b3a230e-b022-438b-f507-7aa404a6e35e",
        "colab": {
          "base_uri": "https://localhost:8080/",
          "height": 339
        }
      },
      "source": [
        "plt.hist(y, bins=10)\n",
        "print(np.min(y), np.max(y))\n",
        "\n",
        "plt.xlabel(\"Diabetes Measurements\")\n",
        "plt.ylabel(\"Frequency of Diabetes Measurements\")\n",
        "plt.title(\"The Frequency of Diabetes Measurements - The Distribution of Effective Treatment\")\n"
      ],
      "execution_count": 17,
      "outputs": [
        {
          "output_type": "stream",
          "text": [
            "25.0 346.0\n"
          ],
          "name": "stdout"
        },
        {
          "output_type": "execute_result",
          "data": {
            "text/plain": [
              "(array([ 93.,   0., 109.,   0.,  73.,   0.,  60.,   0.,  18.,   1.]),\n",
              " array([1. , 1.5, 2. , 2.5, 3. , 3.5, 4. , 4.5, 5. , 5.5, 6. ]),\n",
              " <a list of 10 Patch objects>)"
            ]
          },
          "metadata": {
            "tags": []
          },
          "execution_count": 17
        },
        {
          "output_type": "display_data",
          "data": {
            "image/png": "[encoded data removed]",
            "text/plain": [
              "<Figure size 432x288 with 1 Axes>"
            ]
          },
          "metadata": {
            "tags": []
          }
        }
      ]
    },
    {
      "cell_type": "markdown",
      "metadata": {
        "id": "OuKc-k_72JC9",
        "colab_type": "text"
      },
      "source": [
        "# Model Development\n",
        "\n",
        "Let's gather some models to predict the likelihood of diabetes given the serum measurements and most important features."
      ]
    },
    {
      "cell_type": "markdown",
      "metadata": {
        "id": "sjQpM7ymq8u_",
        "colab_type": "text"
      },
      "source": [
        "Differences between the Different Regression algorithms: [see here](https://www.analyticsvidhya.com/blog/2017/06/a-comprehensive-guide-for-linear-ridge-and-lasso-regression/). \n",
        "\n",
        "Scikit-learn lists all of the available models that can be fitted to linear regression at this [link](https://scikit-learn.org/stable/modules/linear_model.html).\n"
      ]
    },
    {
      "cell_type": "code",
      "metadata": {
        "id": "8-1JqFdng2XE",
        "colab_type": "code",
        "colab": {}
      },
      "source": [
        "alphas = np.logspace(-6, 6, 13) # The alphas are for the regularization of the lines that are unique to lasso and ridge regression.\n",
        "models = [LinearRegression(n_jobs=-1), RidgeCV(alphas=alphas, cv=10), LassoCV(alphas=alphas, cv=10), LassoLarsCV(n_jobs=-1), LassoLars(alpha=.01)]\n",
        "\n",
        "report = open(\"model_report.txt\", 'w')\n",
        "\n",
        "for model in models:\n",
        "  cross_val_scores = cross_val_score(model, db_data.data, db_data.target, cv=5, scoring=\"neg_mean_squared_error\")\n",
        "  \n",
        "  model_name = type(model).__name__\n",
        "  accuracy = f\"Accuracy: {cross_val_scores.mean():.2f} +/- {[cross_val_scores.std()*2]:.2f}\"\n",
        "  coeffs = f\"Coefficients: {model_name}: {model.coef_}\"\n",
        "  intercept = f\"Intercept: {model_name}: {model.intercept_}\"\n",
        "  \n",
        "  print(model_name)\n",
        "  print(model_name, file=report)\n",
        "  print(accuracy)\n",
        "  print(accuracy, file=report)\n",
        "  print(intercept)\n",
        "  print(intercept, file=report)\n",
        "  print()\n",
        "  print(\"\\n\", file=report)\n",
        "  \n",
        "  "
      ],
      "execution_count": 0,
      "outputs": []
    },
    {
      "cell_type": "markdown",
      "metadata": {
        "id": "PY9oA7MGZQ5V",
        "colab_type": "text"
      },
      "source": [
        "# Notes and References:\n",
        "\n",
        "\n",
        "\n",
        "1.   There are errors that can made through attempting to reduce the dimensionality for visualization (Kaski and Peltonen, 2011), which is measured by calculating the precision and recall for the parameters left out of the visualization, so tests may have to be performed multiple times.\n",
        "2.   List item\n",
        "\n",
        "\n",
        "\n",
        "1.   Kaski S and Peltonen J (2011). Dimensionality Reduction for Data Visualization. IEEE Signal Processing Magazine 28(2):101-104. doi: https://doi.org/10.1109/MSP.2010.940003\n",
        "2.   List item\n",
        "\n"
      ]
    },
    {
      "cell_type": "code",
      "metadata": {
        "id": "D7Ej23Jbuj1O",
        "colab_type": "code",
        "colab": {}
      },
      "source": [
        "# The original shapes\n",
        "print(X.shape, y.shape)\n",
        "\n"
      ],
      "execution_count": 0,
      "outputs": []
    }
  ]
}
