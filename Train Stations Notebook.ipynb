{
 "cells": [
  {
   "cell_type": "markdown",
   "metadata": {},
   "source": [
    "# Train Stations Notebook"
   ]
  },
  {
   "cell_type": "markdown",
   "metadata": {},
   "source": [
    "We want to find the minimal amount of transfers between two MTA stations which we can eventually reapply into an app n the future. We can do this via: http://web.mta.info/developers/data/nyct/subway/Stations.csv"
   ]
  },
  {
   "cell_type": "markdown",
   "metadata": {},
   "source": [
    "The main parts of the csv file we may need to use are the station ID, division, stop name and daytime routes. We need to create a graph which connects the subway stations together so we can use breadth-first search to find the shortest route between the two routes."
   ]
  },
  {
   "cell_type": "code",
   "execution_count": 1,
   "metadata": {},
   "outputs": [],
   "source": [
    "import pandas as pd\n",
    "from collections import deque, defaultdict\n",
    "import matplotlib.pyplot as plt\n",
    "\n",
    "plt.rcParams['figure.figsize'] = 50, 50\n",
    "%matplotlib inline"
   ]
  },
  {
   "cell_type": "code",
   "execution_count": 2,
   "metadata": {},
   "outputs": [],
   "source": [
    "dataset = pd.read_csv('http://web.mta.info/developers/data/nyct/subway/Stations.csv')"
   ]
  },
  {
   "cell_type": "code",
   "execution_count": 3,
   "metadata": {},
   "outputs": [
    {
     "ename": "NameError",
     "evalue": "name 'dq' is not defined",
     "output_type": "error",
     "traceback": [
      "\u001b[0;31m---------------------------------------------------------------------------\u001b[0m",
      "\u001b[0;31mNameError\u001b[0m                                 Traceback (most recent call last)",
      "\u001b[0;32m<ipython-input-3-8c30d86ce6dc>\u001b[0m in \u001b[0;36m<module>\u001b[0;34m()\u001b[0m\n\u001b[0;32m----> 1\u001b[0;31m \u001b[0mdq\u001b[0m\u001b[0;34m\u001b[0m\u001b[0m\n\u001b[0m",
      "\u001b[0;31mNameError\u001b[0m: name 'dq' is not defined"
     ]
    }
   ],
   "source": [
    "dq"
   ]
  },
  {
   "cell_type": "code",
   "execution_count": null,
   "metadata": {},
   "outputs": [],
   "source": [
    "dataset.head(5)"
   ]
  },
  {
   "cell_type": "code",
   "execution_count": null,
   "metadata": {
    "scrolled": false
   },
   "outputs": [],
   "source": [
    "for index, row in dataset.iterrows():\n",
    "    if row['Line'] == 'Franklin Ave Shuttle':\n",
    "        dataset.at[index, \"Daytime Routes\"] = 'Fr_S'\n",
    "    elif row['Line'] == 'Lexington - Shuttle':\n",
    "        dataset.at[index, 'Daytime Routes'] = 'Lex_S'\n",
    "\n",
    "dataset = dataset.iloc[:len(dataset)-1]"
   ]
  },
  {
   "cell_type": "code",
   "execution_count": null,
   "metadata": {
    "scrolled": true
   },
   "outputs": [],
   "source": [
    "kstops = dataset.drop(['Complex ID', 'Division', 'GTFS Stop ID', 'Borough', 'Structure'], axis=1)\n",
    "kstops.rename(index=str,columns={\"GTFS Latitude\" : \"Lat\", 'GTFS Longitude': \"Long\", \"Station ID\": \"id\"}, inplace=True)\n",
    "kstops.head(20)"
   ]
  },
  {
   "cell_type": "code",
   "execution_count": null,
   "metadata": {},
   "outputs": [],
   "source": [
    "trains_stops = kstops[['Stop Name', 'Daytime Routes']]\n",
    "trains_stops"
   ]
  },
  {
   "cell_type": "code",
   "execution_count": null,
   "metadata": {},
   "outputs": [],
   "source": [
    "# Split the trains individually and gather them\n",
    "nyc_trains = []\n",
    "\n",
    "trains = trains_stops['Daytime Routes']\n",
    "for many_trains in trains: # For the N W in the columns\n",
    "    train_list = many_trains.split(\" \") # Split the N W into ['N', 'W']\n",
    "    for train in train_list: # For each char in ['N', 'W']\n",
    "        nyc_trains.append(train) # add it to the list\n",
    "\n",
    "nyc_trains = sorted(list(set(nyc_trains)))\n",
    "print(nyc_trains)"
   ]
  },
  {
   "cell_type": "code",
   "execution_count": null,
   "metadata": {},
   "outputs": [],
   "source": [
    "for index, row in trains_stops.iterrows():\n",
    "    print(index, row['Stop Name'], row['Daytime Routes'])"
   ]
  },
  {
   "cell_type": "code",
   "execution_count": null,
   "metadata": {},
   "outputs": [],
   "source": [
    "# Gather all the stops made by a single train\n",
    "train_to_stops = defaultdict(list)\n",
    "for train in nyc_trains:\n",
    "    for index, row in trains_stops.iterrows():\n",
    "        if train in row['Daytime Routes'].split(\" \"):\n",
    "            train_to_stops[train] += [row['Stop Name']]\n",
    "train_to_stops"
   ]
  },
  {
   "cell_type": "code",
   "execution_count": null,
   "metadata": {
    "scrolled": true
   },
   "outputs": [],
   "source": [
    "stops = trains_stops['Stop Name']\n",
    "stops_to_transfers = defaultdict(list)\n",
    "\n",
    "for index, row in trains_stops.iterrows():\n",
    "    stops_to_transfers[stops[index]] += trains_stops.loc[index, 'Daytime Routes'].split(\" \")\n",
    "\n",
    "stops_to_transfers"
   ]
  },
  {
   "cell_type": "code",
   "execution_count": null,
   "metadata": {},
   "outputs": [],
   "source": [
    "def bfs(goal: str, start: str, dataset: dict):\n",
    "    dq = deque()\n",
    "    dq += dataset[start]\n",
    "    visited = []\n",
    "    while goal not in visited:\n",
    "        item = dq.popleft()\n",
    "        if item not in visited:\n",
    "            print(item)\n",
    "            visited.append(item)\n",
    "    return visited"
   ]
  },
  {
   "cell_type": "code",
   "execution_count": null,
   "metadata": {},
   "outputs": [],
   "source": [
    "bfs('Pelham Pkwy', 'Hewes St', stops_to_transfers)"
   ]
  },
  {
   "cell_type": "code",
   "execution_count": null,
   "metadata": {
    "scrolled": true
   },
   "outputs": [],
   "source": [
    "plt.scatter(kstops['Lat'], kstops['Long'])"
   ]
  }
 ],
 "metadata": {
  "kernelspec": {
   "display_name": "Python 3",
   "language": "python",
   "name": "python3"
  },
  "language_info": {
   "codemirror_mode": {
    "name": "ipython",
    "version": 3
   },
   "file_extension": ".py",
   "mimetype": "text/x-python",
   "name": "python",
   "nbconvert_exporter": "python",
   "pygments_lexer": "ipython3",
   "version": "3.7.0"
  }
 },
 "nbformat": 4,
 "nbformat_minor": 2
}
