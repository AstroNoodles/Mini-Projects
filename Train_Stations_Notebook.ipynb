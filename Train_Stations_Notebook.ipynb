{
  "nbformat": 4,
  "nbformat_minor": 0,
  "metadata": {
    "colab": {
      "name": "Train Stations Notebook.ipynb",
      "version": "0.3.2",
      "provenance": [],
      "toc_visible": true,
      "include_colab_link": true
    },
    "kernelspec": {
      "display_name": "Python 3",
      "language": "python",
      "name": "python3"
    }
  },
  "cells": [
    {
      "cell_type": "markdown",
      "metadata": {
        "id": "view-in-github",
        "colab_type": "text"
      },
      "source": [
        "<a href=\"https://colab.research.google.com/github/AstroNoodles/Mini-Projects/blob/bfs/Train_Stations_Notebook.ipynb\" target=\"_parent\"><img src=\"https://colab.research.google.com/assets/colab-badge.svg\" alt=\"Open In Colab\"/></a>"
      ]
    },
    {
      "metadata": {
        "id": "Mu30iBcQlDi3",
        "colab_type": "text"
      },
      "cell_type": "markdown",
      "source": [
        "# Train Stations Notebook"
      ]
    },
    {
      "metadata": {
        "id": "uLhIAztalDi6",
        "colab_type": "text"
      },
      "cell_type": "markdown",
      "source": [
        "We want to find the minimal amount of transfers between two MTA stations which we can eventually reapply into an app n the future. We can do this via: http://web.mta.info/developers/data/nyct/subway/Stations.csv"
      ]
    },
    {
      "metadata": {
        "id": "pmD5zHuclDi7",
        "colab_type": "text"
      },
      "cell_type": "markdown",
      "source": [
        "The main parts of the csv file we may need to use are the station ID, division, stop name and daytime routes. We need to create a graph which connects the subway stations together so we can use breadth-first search to find the shortest route between the two routes.\n",
        "\n",
        "Let's do some basic data preprocessing and visualization before we do this and import our modules!"
      ]
    },
    {
      "metadata": {
        "id": "HYndPwzhlDi8",
        "colab_type": "code",
        "colab": {}
      },
      "cell_type": "code",
      "source": [
        "import pandas as pd\n",
        "from collections import deque, defaultdict\n",
        "import matplotlib.pyplot as plt\n",
        "\n",
        "%matplotlib inline"
      ],
      "execution_count": 0,
      "outputs": []
    },
    {
      "metadata": {
        "id": "R2BOoWi4lDjA",
        "colab_type": "code",
        "colab": {}
      },
      "cell_type": "code",
      "source": [
        "# Read the csv file\n",
        "dataset = pd.read_csv('http://web.mta.info/developers/data/nyct/subway/Stations.csv')"
      ],
      "execution_count": 0,
      "outputs": []
    },
    {
      "metadata": {
        "id": "gEJ9FFHolDjC",
        "colab_type": "code",
        "outputId": "949cdb6d-25eb-4ade-f0c5-40a72e24549f",
        "colab": {
          "base_uri": "https://localhost:8080/",
          "height": 238
        }
      },
      "cell_type": "code",
      "source": [
        "dataset.head(5)"
      ],
      "execution_count": 0,
      "outputs": [
        {
          "output_type": "execute_result",
          "data": {
            "text/html": [
              "<div>\n",
              "<style scoped>\n",
              "    .dataframe tbody tr th:only-of-type {\n",
              "        vertical-align: middle;\n",
              "    }\n",
              "\n",
              "    .dataframe tbody tr th {\n",
              "        vertical-align: top;\n",
              "    }\n",
              "\n",
              "    .dataframe thead th {\n",
              "        text-align: right;\n",
              "    }\n",
              "</style>\n",
              "<table border=\"1\" class=\"dataframe\">\n",
              "  <thead>\n",
              "    <tr style=\"text-align: right;\">\n",
              "      <th></th>\n",
              "      <th>Station ID</th>\n",
              "      <th>Complex ID</th>\n",
              "      <th>GTFS Stop ID</th>\n",
              "      <th>Division</th>\n",
              "      <th>Line</th>\n",
              "      <th>Stop Name</th>\n",
              "      <th>Borough</th>\n",
              "      <th>Daytime Routes</th>\n",
              "      <th>Structure</th>\n",
              "      <th>GTFS Latitude</th>\n",
              "      <th>GTFS Longitude</th>\n",
              "    </tr>\n",
              "  </thead>\n",
              "  <tbody>\n",
              "    <tr>\n",
              "      <th>0</th>\n",
              "      <td>1</td>\n",
              "      <td>1</td>\n",
              "      <td>R01</td>\n",
              "      <td>BMT</td>\n",
              "      <td>Astoria</td>\n",
              "      <td>Astoria - Ditmars Blvd</td>\n",
              "      <td>Q</td>\n",
              "      <td>N W</td>\n",
              "      <td>Elevated</td>\n",
              "      <td>40.775036</td>\n",
              "      <td>-73.912034</td>\n",
              "    </tr>\n",
              "    <tr>\n",
              "      <th>1</th>\n",
              "      <td>2</td>\n",
              "      <td>2</td>\n",
              "      <td>R03</td>\n",
              "      <td>BMT</td>\n",
              "      <td>Astoria</td>\n",
              "      <td>Astoria Blvd</td>\n",
              "      <td>Q</td>\n",
              "      <td>N W</td>\n",
              "      <td>Elevated</td>\n",
              "      <td>40.770258</td>\n",
              "      <td>-73.917843</td>\n",
              "    </tr>\n",
              "    <tr>\n",
              "      <th>2</th>\n",
              "      <td>3</td>\n",
              "      <td>3</td>\n",
              "      <td>R04</td>\n",
              "      <td>BMT</td>\n",
              "      <td>Astoria</td>\n",
              "      <td>30 Av</td>\n",
              "      <td>Q</td>\n",
              "      <td>N W</td>\n",
              "      <td>Elevated</td>\n",
              "      <td>40.766779</td>\n",
              "      <td>-73.921479</td>\n",
              "    </tr>\n",
              "    <tr>\n",
              "      <th>3</th>\n",
              "      <td>4</td>\n",
              "      <td>4</td>\n",
              "      <td>R05</td>\n",
              "      <td>BMT</td>\n",
              "      <td>Astoria</td>\n",
              "      <td>Broadway</td>\n",
              "      <td>Q</td>\n",
              "      <td>N W</td>\n",
              "      <td>Elevated</td>\n",
              "      <td>40.761820</td>\n",
              "      <td>-73.925508</td>\n",
              "    </tr>\n",
              "    <tr>\n",
              "      <th>4</th>\n",
              "      <td>5</td>\n",
              "      <td>5</td>\n",
              "      <td>R06</td>\n",
              "      <td>BMT</td>\n",
              "      <td>Astoria</td>\n",
              "      <td>36 Av</td>\n",
              "      <td>Q</td>\n",
              "      <td>N W</td>\n",
              "      <td>Elevated</td>\n",
              "      <td>40.756804</td>\n",
              "      <td>-73.929575</td>\n",
              "    </tr>\n",
              "  </tbody>\n",
              "</table>\n",
              "</div>"
            ],
            "text/plain": [
              "   Station ID  Complex ID GTFS Stop ID Division     Line  \\\n",
              "0           1           1          R01      BMT  Astoria   \n",
              "1           2           2          R03      BMT  Astoria   \n",
              "2           3           3          R04      BMT  Astoria   \n",
              "3           4           4          R05      BMT  Astoria   \n",
              "4           5           5          R06      BMT  Astoria   \n",
              "\n",
              "                Stop Name Borough Daytime Routes Structure  GTFS Latitude  \\\n",
              "0  Astoria - Ditmars Blvd       Q            N W  Elevated      40.775036   \n",
              "1            Astoria Blvd       Q            N W  Elevated      40.770258   \n",
              "2                   30 Av       Q            N W  Elevated      40.766779   \n",
              "3                Broadway       Q            N W  Elevated      40.761820   \n",
              "4                   36 Av       Q            N W  Elevated      40.756804   \n",
              "\n",
              "   GTFS Longitude  \n",
              "0      -73.912034  \n",
              "1      -73.917843  \n",
              "2      -73.921479  \n",
              "3      -73.925508  \n",
              "4      -73.929575  "
            ]
          },
          "metadata": {
            "tags": []
          },
          "execution_count": 8
        }
      ]
    },
    {
      "metadata": {
        "id": "vBLiSzygY5k8",
        "colab_type": "text"
      },
      "cell_type": "markdown",
      "source": [
        "# Preprocessing\n",
        "\n",
        "For data preprocessing, I renamed some of the trains and some of the rows to make it clearer and to save some typing for later. :-)"
      ]
    },
    {
      "metadata": {
        "scrolled": false,
        "id": "BNSwAkwalDjF",
        "colab_type": "code",
        "colab": {}
      },
      "cell_type": "code",
      "source": [
        "# Replace the long shuttle trains with the label S\n",
        "\n",
        "for index, row in dataset.iterrows():\n",
        "    if row['Line'] == 'Franklin Ave Shuttle':\n",
        "        dataset.at[index, \"Daytime Routes\"] = 'Fr_S'\n",
        "    elif row['Line'] == 'Lexington - Shuttle':\n",
        "        dataset.at[index, 'Daytime Routes'] = 'Lex_S'\n",
        "\n",
        "dataset = dataset.iloc[:len(dataset)-1]"
      ],
      "execution_count": 0,
      "outputs": []
    },
    {
      "metadata": {
        "scrolled": true,
        "id": "7WDW-OoQlDjH",
        "colab_type": "code",
        "outputId": "2233cd1e-a99d-4ca7-dd91-7fe9fa108cc6",
        "colab": {
          "base_uri": "https://localhost:8080/",
          "height": 359
        }
      },
      "cell_type": "code",
      "source": [
        "# Rename the long feature names with simple ones (id, lat, long)\n",
        "\n",
        "kstops = dataset.drop(['Complex ID', 'Division', 'GTFS Stop ID', 'Line', 'Structure'], axis=1)\n",
        "kstops.rename(index=str,columns={\"GTFS Latitude\" : \"Lat\", 'GTFS Longitude': \"Long\", \"Station ID\": \"id\"}, inplace=True)\n",
        "kstops.head(10)"
      ],
      "execution_count": 0,
      "outputs": [
        {
          "output_type": "execute_result",
          "data": {
            "text/html": [
              "<div>\n",
              "<style scoped>\n",
              "    .dataframe tbody tr th:only-of-type {\n",
              "        vertical-align: middle;\n",
              "    }\n",
              "\n",
              "    .dataframe tbody tr th {\n",
              "        vertical-align: top;\n",
              "    }\n",
              "\n",
              "    .dataframe thead th {\n",
              "        text-align: right;\n",
              "    }\n",
              "</style>\n",
              "<table border=\"1\" class=\"dataframe\">\n",
              "  <thead>\n",
              "    <tr style=\"text-align: right;\">\n",
              "      <th></th>\n",
              "      <th>id</th>\n",
              "      <th>Stop Name</th>\n",
              "      <th>Borough</th>\n",
              "      <th>Daytime Routes</th>\n",
              "      <th>Lat</th>\n",
              "      <th>Long</th>\n",
              "    </tr>\n",
              "  </thead>\n",
              "  <tbody>\n",
              "    <tr>\n",
              "      <th>0</th>\n",
              "      <td>1</td>\n",
              "      <td>Astoria - Ditmars Blvd</td>\n",
              "      <td>Q</td>\n",
              "      <td>N W</td>\n",
              "      <td>40.775036</td>\n",
              "      <td>-73.912034</td>\n",
              "    </tr>\n",
              "    <tr>\n",
              "      <th>1</th>\n",
              "      <td>2</td>\n",
              "      <td>Astoria Blvd</td>\n",
              "      <td>Q</td>\n",
              "      <td>N W</td>\n",
              "      <td>40.770258</td>\n",
              "      <td>-73.917843</td>\n",
              "    </tr>\n",
              "    <tr>\n",
              "      <th>2</th>\n",
              "      <td>3</td>\n",
              "      <td>30 Av</td>\n",
              "      <td>Q</td>\n",
              "      <td>N W</td>\n",
              "      <td>40.766779</td>\n",
              "      <td>-73.921479</td>\n",
              "    </tr>\n",
              "    <tr>\n",
              "      <th>3</th>\n",
              "      <td>4</td>\n",
              "      <td>Broadway</td>\n",
              "      <td>Q</td>\n",
              "      <td>N W</td>\n",
              "      <td>40.761820</td>\n",
              "      <td>-73.925508</td>\n",
              "    </tr>\n",
              "    <tr>\n",
              "      <th>4</th>\n",
              "      <td>5</td>\n",
              "      <td>36 Av</td>\n",
              "      <td>Q</td>\n",
              "      <td>N W</td>\n",
              "      <td>40.756804</td>\n",
              "      <td>-73.929575</td>\n",
              "    </tr>\n",
              "    <tr>\n",
              "      <th>5</th>\n",
              "      <td>6</td>\n",
              "      <td>39 Av</td>\n",
              "      <td>Q</td>\n",
              "      <td>N W</td>\n",
              "      <td>40.752882</td>\n",
              "      <td>-73.932755</td>\n",
              "    </tr>\n",
              "    <tr>\n",
              "      <th>6</th>\n",
              "      <td>7</td>\n",
              "      <td>Lexington Av/59 St</td>\n",
              "      <td>M</td>\n",
              "      <td>N W R</td>\n",
              "      <td>40.762660</td>\n",
              "      <td>-73.967258</td>\n",
              "    </tr>\n",
              "    <tr>\n",
              "      <th>7</th>\n",
              "      <td>8</td>\n",
              "      <td>5 Av/59 St</td>\n",
              "      <td>M</td>\n",
              "      <td>N W R</td>\n",
              "      <td>40.764811</td>\n",
              "      <td>-73.973347</td>\n",
              "    </tr>\n",
              "    <tr>\n",
              "      <th>8</th>\n",
              "      <td>9</td>\n",
              "      <td>57 St - 7 Av</td>\n",
              "      <td>M</td>\n",
              "      <td>N Q R W</td>\n",
              "      <td>40.764664</td>\n",
              "      <td>-73.980658</td>\n",
              "    </tr>\n",
              "    <tr>\n",
              "      <th>9</th>\n",
              "      <td>10</td>\n",
              "      <td>49 St</td>\n",
              "      <td>M</td>\n",
              "      <td>N R W</td>\n",
              "      <td>40.759901</td>\n",
              "      <td>-73.984139</td>\n",
              "    </tr>\n",
              "  </tbody>\n",
              "</table>\n",
              "</div>"
            ],
            "text/plain": [
              "   id               Stop Name Borough Daytime Routes        Lat       Long\n",
              "0   1  Astoria - Ditmars Blvd       Q            N W  40.775036 -73.912034\n",
              "1   2            Astoria Blvd       Q            N W  40.770258 -73.917843\n",
              "2   3                   30 Av       Q            N W  40.766779 -73.921479\n",
              "3   4                Broadway       Q            N W  40.761820 -73.925508\n",
              "4   5                   36 Av       Q            N W  40.756804 -73.929575\n",
              "5   6                   39 Av       Q            N W  40.752882 -73.932755\n",
              "6   7      Lexington Av/59 St       M          N W R  40.762660 -73.967258\n",
              "7   8              5 Av/59 St       M          N W R  40.764811 -73.973347\n",
              "8   9            57 St - 7 Av       M        N Q R W  40.764664 -73.980658\n",
              "9  10                   49 St       M          N R W  40.759901 -73.984139"
            ]
          },
          "metadata": {
            "tags": []
          },
          "execution_count": 10
        }
      ]
    },
    {
      "metadata": {
        "id": "ec-CpxawlDjL",
        "colab_type": "code",
        "colab": {}
      },
      "cell_type": "code",
      "source": [
        "trains_stops = kstops[['Stop Name', 'Daytime Routes', 'Borough']]\n",
        "trains_stops[10:20]"
      ],
      "execution_count": 0,
      "outputs": []
    },
    {
      "metadata": {
        "id": "-taCeMCplDjQ",
        "colab_type": "code",
        "colab": {}
      },
      "cell_type": "code",
      "source": [
        "for index, row in trains_stops[:5].iterrows():\n",
        "    print(index, row['Stop Name'], row['Daytime Routes'])"
      ],
      "execution_count": 0,
      "outputs": []
    },
    {
      "metadata": {
        "id": "Z0Fnn2_OZqZD",
        "colab_type": "text"
      },
      "cell_type": "markdown",
      "source": [
        "# Collective Procedures\n",
        "\n",
        "Now, I collected the train stops and attempted to pair them together."
      ]
    },
    {
      "metadata": {
        "id": "4gzHt80xlDjN",
        "colab_type": "code",
        "colab": {}
      },
      "cell_type": "code",
      "source": [
        "# Split the trains individually and gather them\n",
        "nyc_trains = []\n",
        "\n",
        "trains = trains_stops['Daytime Routes']\n",
        "for many_trains in trains: # For the N W in the columns\n",
        "    train_list = many_trains.split(\" \") # Split the N W into ['N', 'W']\n",
        "    for train in train_list: # For each char in ['N', 'W']\n",
        "        nyc_trains.append(train) # add it to the list\n",
        "\n",
        "nyc_trains = sorted(list(set(nyc_trains)))\n",
        "print(nyc_trains)"
      ],
      "execution_count": 0,
      "outputs": []
    },
    {
      "metadata": {
        "id": "dXWxQgHXlDjT",
        "colab_type": "code",
        "colab": {}
      },
      "cell_type": "code",
      "source": [
        "# Gather all the stops made by a single train\n",
        "train_to_stops = defaultdict(list)\n",
        "stop_collisions = []\n",
        "\n",
        "for train in nyc_trains:\n",
        "    for index, row in trains_stops.iterrows():\n",
        "        if train in row['Daytime Routes'].split(\" \"):\n",
        "#           if row['Stop Name'] not in stop_collisions:\n",
        "#             train_to_stops[train] += [row['Stop Name']]\n",
        "#             stop_collisions.append(row['Stop Name'])\n",
        "#           else:\n",
        "#             train_to_stops[train] += [f\"{row['Stop Name']}  {row['Line']}\"]\n",
        "            train_to_stops[train] += [f\"{row['Stop Name']}\"]\n",
        "train_to_stops"
      ],
      "execution_count": 0,
      "outputs": []
    },
    {
      "metadata": {
        "scrolled": true,
        "id": "UubD0pb2lDjV",
        "colab_type": "code",
        "colab": {}
      },
      "cell_type": "code",
      "source": [
        "stops = trains_stops['Stop Name']\n",
        "stops_to_transfers = defaultdict(list)\n",
        "\n",
        "for index, row in trains_stops.iterrows():\n",
        "    stops_to_transfers[stops[index]] += trains_stops.loc[index, 'Daytime Routes'].split(\" \")\n",
        "\n",
        "stops_to_transfers"
      ],
      "execution_count": 0,
      "outputs": []
    },
    {
      "metadata": {
        "id": "Mn2pCpC6VtuR",
        "colab_type": "text"
      },
      "cell_type": "markdown",
      "source": [
        "# Visualization\n",
        "\n",
        "Some brief visualization of the dataset. \n",
        "* First,  I want to get a picture of NYC from my Google Drive using PyDrive \n",
        "* Then, we can place it as the background to the latitude vs. longitude scatter plot that can formed out of the data."
      ]
    },
    {
      "metadata": {
        "scrolled": true,
        "id": "LkJrMLFalDjd",
        "colab_type": "code",
        "outputId": "54dbca45-b3e0-436c-a21f-68cdcee17398",
        "colab": {
          "base_uri": "https://localhost:8080/",
          "height": 311
        }
      },
      "cell_type": "code",
      "source": [
        "# Basic Data Visualization\n",
        "plt.plot(kstops['Lat'], kstops['Long'], 'bo')\n",
        "# nyc_map = plt.imread('https://raw.githubusercontent.com/AstroNoodles/Mini-Projects/master/nyc_map.png', 0)\n",
        "# plt.imshow()\n",
        "\n",
        "plt.xlabel('Latitude')\n",
        "plt.ylabel('Longitude')\n",
        "plt.title('Longitude vs. Latitude - Train Stop Locations')"
      ],
      "execution_count": 0,
      "outputs": [
        {
          "output_type": "execute_result",
          "data": {
            "text/plain": [
              "Text(0.5, 1.0, 'Longitude vs. Latitude - Train Stop Locations')"
            ]
          },
          "metadata": {
            "tags": []
          },
          "execution_count": 24
        },
        {
          "output_type": "display_data",
          "data": {
            "image/png": "[encoded data removed]",
            "text/plain": [
              "<Figure size 432x288 with 1 Axes>"
            ]
          },
          "metadata": {
            "tags": []
          }
        }
      ]
    },
    {
      "metadata": {
        "id": "MkkaM2a1Z_Sj",
        "colab_type": "text"
      },
      "cell_type": "markdown",
      "source": [
        "# Breadth-First Search and Goal Accomplishment (WIP)\n",
        "\n",
        "Now to accomplish the breadth first search and complete the goal of the notebook!"
      ]
    },
    {
      "metadata": {
        "id": "sTWX8o9OlDjY",
        "colab_type": "code",
        "colab": {}
      },
      "cell_type": "code",
      "source": [
        "def bfs(goal: str, start: str, dataset: dict):\n",
        "    dq = deque()\n",
        "    dq += dataset[start]\n",
        "    visited = []\n",
        "    while goal not in visited:\n",
        "        item = dq.popleft()\n",
        "        if item not in visited:\n",
        "            print(item)\n",
        "            visited.append(item)\n",
        "    return visited"
      ],
      "execution_count": 0,
      "outputs": []
    },
    {
      "metadata": {
        "id": "Fyj1h0BJlDja",
        "colab_type": "code",
        "colab": {}
      },
      "cell_type": "code",
      "source": [
        "bfs('Pelham Pkwy', 'Hewes St', stops_to_transfers)\n",
        "# HELP?"
      ],
      "execution_count": 0,
      "outputs": []
    },
    {
      "metadata": {
        "id": "3YiUncdqlDjh",
        "colab_type": "code",
        "colab": {}
      },
      "cell_type": "code",
      "source": [
        ""
      ],
      "execution_count": 0,
      "outputs": []
    }
  ]
}