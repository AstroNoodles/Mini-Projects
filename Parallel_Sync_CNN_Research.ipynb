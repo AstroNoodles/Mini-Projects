{
  "nbformat": 4,
  "nbformat_minor": 0,
  "metadata": {
    "colab": {
      "name": "Parallel Sync CNN Research.ipynb",
      "version": "0.3.2",
      "provenance": [],
      "collapsed_sections": [],
      "toc_visible": true,
      "include_colab_link": true
    },
    "kernelspec": {
      "name": "python3",
      "display_name": "Python 3"
    },
    "accelerator": "GPU"
  },
  "cells": [
    {
      "cell_type": "markdown",
      "metadata": {
        "id": "view-in-github",
        "colab_type": "text"
      },
      "source": [
        "<a href=\"https://colab.research.google.com/github/AstroNoodles/Mini-Projects/blob/master/Parallel_Sync_CNN_Research.ipynb\" target=\"_parent\"><img src=\"https://colab.research.google.com/assets/colab-badge.svg\" alt=\"Open In Colab\"/></a>"
      ]
    },
    {
      "cell_type": "markdown",
      "metadata": {
        "id": "pAGvK8NCk4eZ",
        "colab_type": "text"
      },
      "source": [
        "# Parallel Synchronous Gradient Descent CNN Research\n",
        "In this notebook, I am led by graduate student Pengzhan Guo to create a synchronous CNN that can be parallelized between multiple supercomputers and is optimized by the best gradient descent networks (ADAM or RMSProp).\n",
        "\n",
        "The CNN will be trained using the CiFAR dataset which will predict images out of 10 classes and multiple trials of the experiment will be done."
      ]
    },
    {
      "cell_type": "markdown",
      "metadata": {
        "id": "r3OczuioYX3X",
        "colab_type": "text"
      },
      "source": [
        "https://github.com/geifmany/cifar-vgg/blob/master/cifar10vgg.py"
      ]
    },
    {
      "cell_type": "code",
      "metadata": {
        "id": "sERWrdZJhDMh",
        "colab_type": "code",
        "colab": {}
      },
      "source": [
        "# To run Keras on any GPUs on the computer, this line must be included\n",
        "# !pip3 install tensorflow-gpu\n",
        "# !pip3 install scipy\n",
        "# !pip3 install Pillow"
      ],
      "execution_count": 0,
      "outputs": []
    },
    {
      "cell_type": "code",
      "metadata": {
        "id": "MsNj0qWzsfGg",
        "colab_type": "code",
        "colab": {}
      },
      "source": [
        "# Obtain the imports for the project\n",
        "import numpy as np\n",
        "import random\n",
        "import tensorflow as tf\n",
        "import matplotlib.pyplot as plt\n",
        "\n",
        "\n",
        "NUM_CLASSES = 10\n",
        "EPOCHS = 100\n",
        "BATCH_SIZE = 128\n"
      ],
      "execution_count": 0,
      "outputs": []
    },
    {
      "cell_type": "markdown",
      "metadata": {
        "id": "mXEyw05F9nAX",
        "colab_type": "text"
      },
      "source": [
        "# Preprocessing the dataset\n",
        "This is the step where visualization and preprocessing is done in the CIFAR10 dataset that Keras gives us."
      ]
    },
    {
      "cell_type": "code",
      "metadata": {
        "id": "09xsHmNj9k4W",
        "colab_type": "code",
        "outputId": "b86a6d74-9dba-4e76-aeee-0ad99ac6fb8b",
        "colab": {
          "base_uri": "https://localhost:8080/",
          "height": 108
        }
      },
      "source": [
        "(x_train, y_train), (x_test, y_test) = tf.keras.datasets.cifar10.load_data()\n",
        "print(\"The shape of the training data is \" + str(x_train.shape) + \" and the shape of the labels are \" + str(y_train.shape))"
      ],
      "execution_count": 0,
      "outputs": [
        {
          "output_type": "stream",
          "text": [
            "Downloading data from https://www.cs.toronto.edu/~kriz/cifar-10-python.tar.gz\n",
            "170500096/170498071 [==============================] - 4s 0us/step\n",
            "The shape of the training data is (50000, 32, 32, 3) and the shape of the labels are (50000, 1)\n"
          ],
          "name": "stdout"
        }
      ]
    },
    {
      "cell_type": "code",
      "metadata": {
        "id": "aDVt_PNX3DsN",
        "colab_type": "code",
        "outputId": "15483b19-8ab2-445f-d6b2-995c368089e0",
        "colab": {
          "base_uri": "https://localhost:8080/",
          "height": 432
        }
      },
      "source": [
        "def visualize_cifar(train_data):\n",
        "  \"\"\" Visualizes the cifar-10 dataset using matplotlib. This helps give a greater understanding\n",
        "      of the items that are in the dataset\"\"\"\n",
        "  plt.figure(figsize=(7, 7))\n",
        "  for i in range(1, 10):\n",
        "    plt.subplot(3, 3, i)\n",
        "    plt.imshow(random.choice(train_data))\n",
        "\n",
        "visualize_cifar(x_train)\n"
      ],
      "execution_count": 0,
      "outputs": [
        {
          "output_type": "display_data",
          "data": {
            "image/png": "[encoded data removed]",
            "text/plain": [
              "<Figure size 504x504 with 9 Axes>"
            ]
          },
          "metadata": {
            "tags": []
          }
        }
      ]
    },
    {
      "cell_type": "code",
      "metadata": {
        "id": "iGyhmazLz6j2",
        "colab_type": "code",
        "colab": {}
      },
      "source": [
        "def normalize_data(x_train, x_test):\n",
        "  \"\"\" Normalizes the data by dividing by subtracting the mean \n",
        "      and dividing by the standard deviation. Akin to scikit-learn's\n",
        "      StandardScaler.\"\"\"\n",
        "  mean_train, mean_test = np.mean(x_train), np.mean(x_test)\n",
        "  std_train, std_test = np.std(x_train), np.std(x_test)\n",
        "  return ((x_train - mean_train) / std_train, (x_test - mean_test) / std_test)\n",
        "  "
      ],
      "execution_count": 0,
      "outputs": []
    },
    {
      "cell_type": "code",
      "metadata": {
        "id": "Rt9X9WIYsjV8",
        "colab_type": "code",
        "colab": {}
      },
      "source": [
        "def smooth_label(labels, epsillion):\n",
        "  \"\"\" Adds a smooth labeling to all the one-hot encoded labels to prevent overfitting\n",
        "      in the dataset: https://tinyurl.com/kerastricks\"\"\"\n",
        "  if 0 <= epsillion <= 1:\n",
        "    labels *= (1.0 - epsillion)\n",
        "    labels += (epsillion / labels.shape[1])\n",
        "  else:\n",
        "    raise Exception(\"Label smoothing factor should be between 0 and 1. Your factor is: \" + str(epsillion))\n",
        "  \n",
        "  return labels\n",
        "  "
      ],
      "execution_count": 0,
      "outputs": []
    },
    {
      "cell_type": "markdown",
      "metadata": {
        "id": "lYkUvDWdihFI",
        "colab_type": "text"
      },
      "source": [
        "And now, we prepare the data for preprocessing!"
      ]
    },
    {
      "cell_type": "code",
      "metadata": {
        "id": "7-dyhjj--1Kq",
        "colab_type": "code",
        "outputId": "bceafc69-fbec-4e2c-db6b-aa48dbd2d049",
        "colab": {
          "base_uri": "https://localhost:8080/",
          "height": 34
        }
      },
      "source": [
        "x_train = x_train.astype(\"float32\")\n",
        "x_test = x_test.astype(\"float32\")\n",
        "\n",
        "x_train, x_test = normalize_data(x_train, x_test)\n",
        "\n",
        "y_train = tf.keras.utils.to_categorical(y_train, num_classes=NUM_CLASSES)\n",
        "y_test = tf.keras.utils.to_categorical(y_test, num_classes=NUM_CLASSES)\n",
        "\n",
        "smooth_label(y_train, 0.2)\n",
        "print(y_train[0])\n",
        "\n",
        "# Preprocessing the image dataset by artificially increasing the training data size\n",
        "# via rescaling, shifting, flipping and rotating the dataset.\n",
        "data_gen = tf.keras.preprocessing.image.ImageDataGenerator(\n",
        "    featurewise_center=True,\n",
        "    samplewise_center=True,\n",
        "    rotation_range=90, \n",
        "    width_shift_range=.2, \n",
        "    height_shift_range=.2, \n",
        "    horizontal_flip=True,\n",
        "    vertical_flip=True,\n",
        "    brightness_range=(0.0, 1.0),\n",
        "    rescale=2)\n",
        "\n",
        "data_gen.fit(x_train)\n",
        "\n",
        "reg_factor = 0.005 # Regularization factor for L2 Regularization"
      ],
      "execution_count": 0,
      "outputs": [
        {
          "output_type": "stream",
          "text": [
            "[0.02 0.02 0.02 0.02 0.02 0.02 0.82 0.02 0.02 0.02]\n"
          ],
          "name": "stdout"
        }
      ]
    },
    {
      "cell_type": "markdown",
      "metadata": {
        "id": "0dAfCyApD7Ru",
        "colab_type": "text"
      },
      "source": [
        "# Building The Model\n",
        "The models were built by using a combination of methods from the Inceptionv3 model and the VGGNet models that are on Github. The layers used are given in the imports in the first code cell."
      ]
    },
    {
      "cell_type": "code",
      "metadata": {
        "id": "O0JSRwcR3bKt",
        "colab_type": "code",
        "colab": {}
      },
      "source": [
        "\n",
        "def create_conv_net1():\n",
        "  model = tf.keras.models.Sequential()\n",
        "  \n",
        "  # Layer 1\n",
        "  model.add(tf.keras.layers.Conv2D(128, (3, 3), kernel_initializer=\"he_normal\", input_shape=(32, 32, 3), \n",
        "                   padding=\"same\", kernel_regularizer=tf.keras.regularizers.l2(reg_factor)))\n",
        "  model.add(tf.keras.layers.BatchNormalization())\n",
        "  model.add(tf.keras.layers.Activation('relu'))\n",
        "  model.add(tf.keras.layers.Conv2D(128, (1, 3), padding=\"same\", kernel_regularizer=tf.keras.regularizers.l2(reg_factor)))  \n",
        "  model.add(tf.keras.layers.BatchNormalization())\n",
        "  model.add(tf.keras.layers.Activation('relu'))\n",
        "  \n",
        "            \n",
        "  # Layer 2\n",
        "  model.add(tf.keras.layers.Conv2D(256, (3, 1), strides=2, padding=\"same\", kernel_regularizer=tf.keras.regularizers.l2(reg_factor)))\n",
        "  model.add(tf.keras.layers.BatchNormalization())\n",
        "  model.add(tf.keras.layers.Activation('relu'))\n",
        "  model.add(tf.keras.layers.Conv2D(256, 1, strides=2, padding=\"same\", kernel_regularizer=tf.keras.regularizers.l2(reg_factor)))\n",
        "  model.add(tf.keras.layers.BatchNormalization())\n",
        "  model.add(tf.keras.layers.Activation('relu'))\n",
        "            \n",
        "  \n",
        "  model.add(tf.keras.layers.Dropout(.2))          \n",
        "            \n",
        "  # Layer 3\n",
        "  model.add(tf.keras.layers.Conv2D(512, (3, 1), padding=\"same\", kernel_regularizer=tf.keras.regularizers.l2(reg_factor)))\n",
        "  model.add(tf.keras.layers.BatchNormalization())\n",
        "  model.add(tf.keras.layers.Activation('relu'))\n",
        "  model.add(tf.keras.layers.Conv2D(512, (1, 3), padding=\"same\", kernel_regularizer=tf.keras.regularizers.l2(reg_factor)))\n",
        "  model.add(tf.keras.layers.BatchNormalization())\n",
        "  model.add(tf.keras.layers.Activation('relu'))\n",
        "  \n",
        "            \n",
        "  # Layer 4\n",
        "  model.add(tf.keras.layers.Conv2D(1024, (3, 1), strides=2, padding=\"same\", kernel_regularizer=tf.keras.regularizers.l2(reg_factor)))\n",
        "  model.add(tf.keras.layers.BatchNormalization())\n",
        "  model.add(tf.keras.layers.Activation('relu'))\n",
        "  model.add(tf.keras.layers.Conv2D(1024, (1, 3), strides=2, padding=\"same\", kernel_regularizer=tf.keras.regularizers.l2(reg_factor)))\n",
        "  model.add(tf.keras.layers.BatchNormalization())\n",
        "  model.add(tf.keras.layers.Activation('relu'))\n",
        "  model.add(tf.keras.layers.MaxPooling2D(2, 2))\n",
        "   \n",
        " \n",
        "  # Layer 5\n",
        "  model.add(tf.keras.layers.Conv2D(2056, (3, 1), padding=\"same\", kernel_regularizer=tf.keras.regularizers.l2(reg_factor)))\n",
        "  model.add(tf.keras.layers.BatchNormalization())\n",
        "  model.add(tf.keras.layers.Activation('relu'))\n",
        "\n",
        "  model.add(tf.keras.layers.Conv2D(2056, (1, 3), padding=\"same\", kernel_regularizer=tf.keras.regularizers.l2(reg_factor)))\n",
        "  model.add(tf.keras.layers.BatchNormalization())\n",
        "  model.add(tf.keras.layers.Activation('relu'))\n",
        "  \n",
        "  model.add(tf.keras.layers.Dropout(.2)) \n",
        "            \n",
        "#   Layer 6 \n",
        "#   model.add(tf.keras.layers.Flatten())\n",
        "#   model.add(tf.keras.layers.Dense(2056, kernel_regularizer=tf.keras.regularizers.l2(reg_factor)))\n",
        "#   model.add(tf.keras.layers.Activation('relu'))\n",
        "#   # model.add(tf.keras.layers.BatchNormalization())\n",
        "  \n",
        "#   # Layer 7\n",
        "#   model.add(tf.keras.layers.Dense(2056, kernel_regularizer=tf.keras.regularizers.l2(reg_factor)))\n",
        "#   model.add(tf.keras.layers.Activation('relu'))\n",
        "#   # model.add(tf.keras.layers.BatchNormalization())\n",
        "            \n",
        "#   # Layer 8 \n",
        "#   model.add(tf.keras.layers.Dense(1024, kernel_regularizer=tf.keras.regularizers.l2(reg_factor)))\n",
        "#   model.add(tf.keras.layers.Activation('relu'))\n",
        "#   model.add(tf.keras.layers.BatchNormalization())\n",
        "#   model.add(tf.keras.layers.Dropout(.2))\n",
        "            \n",
        " # Layer 9  \n",
        "  model.add(tf.keras.layers.Flatten())\n",
        "  model.add(tf.keras.layers.Dense(NUM_CLASSES))\n",
        "  model.add(tf.keras.layers.Activation('softmax'))\n",
        "  \n",
        "  return model\n",
        "           "
      ],
      "execution_count": 0,
      "outputs": []
    },
    {
      "cell_type": "code",
      "metadata": {
        "id": "w35xI_1T8-07",
        "colab_type": "code",
        "colab": {}
      },
      "source": [
        "def create_conv_net2():\n",
        "  model = tf.keras.models.Sequential()\n",
        "  \n",
        "  # Layer 1\n",
        "  model.add(tf.keras.layers.Conv2D(128, (3, 3), kernel_initializer=\"he_normal\", input_shape=(32, 32, 3), \n",
        "                   padding=\"same\", kernel_regularizer=tf.keras.regularizers.l2(reg_factor)))\n",
        "  model.add(tf.keras.layers.BatchNormalization())\n",
        "  model.add(tf.keras.layers.Activation('relu'))\n",
        "  model.add(tf.keras.layers.Conv2D(128, (1, 3), padding=\"same\", kernel_regularizer=tf.keras.regularizers.l2(reg_factor)))  \n",
        "  model.add(tf.keras.layers.BatchNormalization())\n",
        "  model.add(tf.keras.layers.Activation('relu'))\n",
        "  \n",
        "  \n",
        "  model.add(tf.keras.layers.MaxPooling2D(2, 2))\n",
        "            \n",
        "  # Layer 2\n",
        "  model.add(tf.keras.layers.Conv2D(256, (3, 1), padding=\"same\", kernel_regularizer=tf.keras.regularizers.l2(reg_factor)))\n",
        "  model.add(tf.keras.layers.BatchNormalization())\n",
        "  model.add(tf.keras.layers.Activation('relu'))\n",
        "  model.add(tf.keras.layers.Conv2D(256, 1, padding=\"same\", kernel_regularizer=tf.keras.regularizers.l2(reg_factor)))\n",
        "  model.add(tf.keras.layers.BatchNormalization())\n",
        "  model.add(tf.keras.layers.Activation('relu'))\n",
        "            \n",
        "                       \n",
        "  model.add(tf.keras.layers.Conv2D(256, (1, 3), padding=\"same\", kernel_regularizer=tf.keras.regularizers.l2(reg_factor)))\n",
        "  model.add(tf.keras.layers.BatchNormalization())\n",
        "  model.add(tf.keras.layers.Activation('relu'))\n",
        "  \n",
        "  model.add(tf.keras.layers.MaxPooling2D(2, 2))\n",
        "  model.add(tf.keras.layers.Dropout(.2))          \n",
        "            \n",
        "  # Layer 3\n",
        "  model.add(tf.keras.layers.Conv2D(512, (3, 1), padding=\"same\", kernel_regularizer=tf.keras.regularizers.l2(reg_factor)))\n",
        "  model.add(tf.keras.layers.BatchNormalization())\n",
        "  model.add(tf.keras.layers.Activation('relu'))\n",
        "  model.add(tf.keras.layers.Conv2D(512, (1, 3), padding=\"same\", kernel_regularizer=tf.keras.regularizers.l2(reg_factor)))\n",
        "  model.add(tf.keras.layers.BatchNormalization())\n",
        "  model.add(tf.keras.layers.Activation('relu'))\n",
        "  \n",
        "  model.add(tf.keras.layers.MaxPooling2D(2, 2))\n",
        "            \n",
        "  # Layer 4\n",
        "  model.add(tf.keras.layers.Conv2D(1024, (3, 1), padding=\"same\", kernel_regularizer=tf.keras.regularizers.l2(reg_factor)))\n",
        "  model.add(tf.keras.layers.BatchNormalization())\n",
        "  model.add(tf.keras.layers.Activation('relu'))\n",
        "  model.add(tf.keras.layers.Conv2D(1024, (1, 3), padding=\"same\", kernel_regularizer=tf.keras.regularizers.l2(reg_factor)))\n",
        "  model.add(tf.keras.layers.BatchNormalization())\n",
        "  model.add(tf.keras.layers.Activation('relu'))\n",
        "  model.add(tf.keras.layers.MaxPooling2D(2, 2))\n",
        "   \n",
        " \n",
        "  # Layer 5\n",
        "  model.add(tf.keras.layers.Conv2D(2056, (3, 1), padding=\"same\", kernel_regularizer=tf.keras.regularizers.l2(reg_factor)))\n",
        "  model.add(tf.keras.layers.BatchNormalization())\n",
        "  model.add(tf.keras.layers.Activation('relu'))\n",
        "\n",
        "  model.add(tf.keras.layers.Conv2D(2056, (1, 3), padding=\"same\", kernel_regularizer=tf.keras.regularizers.l2(reg_factor)))\n",
        "  model.add(tf.keras.layers.BatchNormalization())\n",
        "  model.add(tf.keras.layers.Activation('relu'))\n",
        "  \n",
        "  model.add(tf.keras.layers.MaxPooling2D(1, 1))\n",
        "  model.add(tf.keras.layers.Dropout(.2)) \n",
        "            \n",
        "#   Layer 6 \n",
        "#   model.add(tf.keras.layers.Flatten())\n",
        "#   model.add(tf.keras.layers.Dense(2056, kernel_regularizer=tf.keras.regularizers.l2(reg_factor)))\n",
        "#   model.add(tf.keras.layers.Activation('relu'))\n",
        "#   # model.add(tf.keras.layers.BatchNormalization())\n",
        "  \n",
        "#   # Layer 7\n",
        "#   model.add(tf.keras.layers.Dense(2056, kernel_regularizer=tf.keras.regularizers.l2(reg_factor)))\n",
        "#   model.add(tf.keras.layers.Activation('relu'))\n",
        "#   # model.add(tf.keras.layers.BatchNormalization())\n",
        "            \n",
        "#   # Layer 8 \n",
        "#   model.add(tf.keras.layers.Dense(1024, kernel_regularizer=tf.keras.regularizers.l2(reg_factor)))\n",
        "#   model.add(tf.keras.layers.Activation('relu'))\n",
        "#   model.add(tf.keras.layers.BatchNormalization())\n",
        "#   model.add(tf.keras.layers.Dropout(.2))\n",
        "            \n",
        " # Layer 9\n",
        "  model.add(tf.keras.layers.AveragePooling2D())\n",
        "  model.add(tf.keras.layers.Flatten())\n",
        "  model.add(tf.keras.layers.Dense(NUM_CLASSES))\n",
        "  model.add(tf.keras.layers.Activation('softmax'))\n",
        "  \n",
        "  return model"
      ],
      "execution_count": 0,
      "outputs": []
    },
    {
      "cell_type": "code",
      "metadata": {
        "id": "Qe5SUViXSEAS",
        "colab_type": "code",
        "colab": {}
      },
      "source": [
        "def create_conv_net3():\n",
        "  model = tf.keras.models.Sequential()\n",
        "  \n",
        "  # Layer 1\n",
        "  model.add(tf.keras.layers.Conv2D(128, (3, 1), kernel_initializer=\"he_normal\", input_shape=(32, 32, 3), \n",
        "                   padding=\"same\", kernel_regularizer=tf.keras.regularizers.l2(reg_factor)))\n",
        "  model.add(tf.keras.layers.Activation('relu'))\n",
        "  model.add(tf.keras.layers.BatchNormalization())\n",
        "  model.add(tf.keras.layers.Conv2D(128, (1, 3), padding=\"same\", kernel_regularizer=tf.keras.regularizers.l2(reg_factor)))  \n",
        "  model.add(tf.keras.layers.Activation('relu'))\n",
        "  model.add(tf.keras.layers.BatchNormalization())\n",
        "  \n",
        "            \n",
        "  # Layer 2\n",
        "  model.add(tf.keras.layers.Conv2D(256, (3, 1), strides=(2,2), padding=\"same\", kernel_regularizer=tf.keras.regularizers.l2(reg_factor)))\n",
        "  model.add(tf.keras.layers.BatchNormalization())\n",
        "  model.add(tf.keras.layers.Activation('relu'))\n",
        "  model.add(tf.keras.layers.Conv2D(256, (1, 3), padding=\"same\", kernel_regularizer=tf.keras.regularizers.l2(reg_factor)))\n",
        "  model.add(tf.keras.layers.BatchNormalization())\n",
        "  model.add(tf.keras.layers.Activation('relu'))\n",
        "          \n",
        "            \n",
        "  # Layer 3\n",
        "  model.add(tf.keras.layers.Conv2D(512, (3, 1), padding=\"same\", kernel_regularizer=tf.keras.regularizers.l2(reg_factor)))\n",
        "  model.add(tf.keras.layers.BatchNormalization())\n",
        "  model.add(tf.keras.layers.Activation('relu'))\n",
        "  model.add(tf.keras.layers.Conv2D(512, (1, 3), padding=\"same\", kernel_regularizer=tf.keras.regularizers.l2(reg_factor)))\n",
        "  model.add(tf.keras.layers.BatchNormalization())\n",
        "  model.add(tf.keras.layers.Activation('relu'))\n",
        "  \n",
        "            \n",
        "  # Layer 4\n",
        "  model.add(tf.keras.layers.Conv2D(1024, (3, 1), padding=\"same\", kernel_regularizer=tf.keras.regularizers.l2(reg_factor)))\n",
        "  model.add(tf.keras.layers.BatchNormalization())\n",
        "  model.add(tf.keras.layers.Activation('relu'))\n",
        "  model.add(tf.keras.layers.Conv2D(1024, (1, 3), padding=\"same\", kernel_regularizer=tf.keras.regularizers.l2(reg_factor)))\n",
        "  model.add(tf.keras.layers.BatchNormalization())\n",
        "  model.add(tf.keras.layers.Activation('relu'))\n",
        "  model.add(tf.keras.layers.MaxPooling2D(2, 2))\n",
        "   \n",
        " \n",
        "  # Layer 5\n",
        "  model.add(tf.keras.layers.Conv2D(2056, (3, 1), padding=\"same\", kernel_regularizer=tf.keras.regularizers.l2(reg_factor)))\n",
        "  model.add(tf.keras.layers.BatchNormalization())\n",
        "  model.add(tf.keras.layers.Activation('relu'))\n",
        "\n",
        "  model.add(tf.keras.layers.Conv2D(2056, (1, 3), padding=\"same\", kernel_regularizer=tf.keras.regularizers.l2(reg_factor)))\n",
        "  model.add(tf.keras.layers.BatchNormalization())\n",
        "  model.add(tf.keras.layers.Activation('relu'))\n",
        "  \n",
        "  # model.add(tf.keras.layers.Dropout(.2)) \n",
        "            \n",
        "#   Layer 6 \n",
        "#   model.add(tf.keras.layers.Flatten())\n",
        "#   model.add(tf.keras.layers.Dense(2056, kernel_regularizer=tf.keras.regularizers.l2(reg_factor)))\n",
        "#   model.add(tf.keras.layers.Activation('relu'))\n",
        "#   # model.add(tf.keras.layers.BatchNormalization())\n",
        "  \n",
        "#   # Layer 7\n",
        "#   model.add(tf.keras.layers.Dense(2056, kernel_regularizer=tf.keras.regularizers.l2(reg_factor)))\n",
        "#   model.add(tf.keras.layers.Activation('relu'))\n",
        "#   # model.add(tf.keras.layers.BatchNormalization())\n",
        "            \n",
        "#   # Layer 8 \n",
        "#   model.add(tf.keras.layers.Dense(1024, kernel_regularizer=tf.keras.regularizers.l2(reg_factor)))\n",
        "#   model.add(tf.keras.layers.Activation('relu'))\n",
        "#   model.add(tf.keras.layers.BatchNormalization())\n",
        "#   model.add(tf.keras.layers.Dropout(.2))\n",
        "            \n",
        " # Layer 9\n",
        "  model.add(tf.keras.layers.AveragePooling2D())\n",
        "  model.add(tf.keras.layers.Flatten())\n",
        "  model.add(tf.keras.layers.Dense(NUM_CLASSES))\n",
        "  model.add(tf.keras.layers.Activation('softmax'))\n",
        "  \n",
        "  return model"
      ],
      "execution_count": 0,
      "outputs": []
    },
    {
      "cell_type": "markdown",
      "metadata": {
        "id": "y3aRBjBUi12H",
        "colab_type": "text"
      },
      "source": [
        "Now, we print the models to see their summary and number of parameters in each."
      ]
    },
    {
      "cell_type": "code",
      "metadata": {
        "id": "JH1We1lv0yDL",
        "colab_type": "code",
        "outputId": "163ef0fe-6e54-4e48-c527-a4879953bf19",
        "colab": {
          "base_uri": "https://localhost:8080/",
          "height": 1000
        }
      },
      "source": [
        "model1 = create_conv_net1()\n",
        "model2 = create_conv_net2()\n",
        "model3 = create_conv_net3()\n",
        "\n",
        "model1.summary()\n",
        "print()\n",
        "# model2.summary()\n",
        "# print()\n",
        "# model3.summary()"
      ],
      "execution_count": 0,
      "outputs": [
        {
          "output_type": "stream",
          "text": [
            "WARNING: Logging before flag parsing goes to stderr.\n",
            "W0817 23:37:17.373382 140621288433536 deprecation.py:506] From /usr/local/lib/python3.6/dist-packages/tensorflow/python/ops/init_ops.py:1251: calling VarianceScaling.__init__ (from tensorflow.python.ops.init_ops) with dtype is deprecated and will be removed in a future version.\n",
            "Instructions for updating:\n",
            "Call initializer instance with the dtype argument instead of passing it to the constructor\n"
          ],
          "name": "stderr"
        },
        {
          "output_type": "stream",
          "text": [
            "Model: \"sequential\"\n",
            "_________________________________________________________________\n",
            "Layer (type)                 Output Shape              Param #   \n",
            "=================================================================\n",
            "conv2d (Conv2D)              (None, 32, 32, 128)       3584      \n",
            "_________________________________________________________________\n",
            "batch_normalization (BatchNo (None, 32, 32, 128)       512       \n",
            "_________________________________________________________________\n",
            "activation (Activation)      (None, 32, 32, 128)       0         \n",
            "_________________________________________________________________\n",
            "conv2d_1 (Conv2D)            (None, 32, 32, 128)       49280     \n",
            "_________________________________________________________________\n",
            "batch_normalization_1 (Batch (None, 32, 32, 128)       512       \n",
            "_________________________________________________________________\n",
            "activation_1 (Activation)    (None, 32, 32, 128)       0         \n",
            "_________________________________________________________________\n",
            "conv2d_2 (Conv2D)            (None, 16, 16, 256)       98560     \n",
            "_________________________________________________________________\n",
            "batch_normalization_2 (Batch (None, 16, 16, 256)       1024      \n",
            "_________________________________________________________________\n",
            "activation_2 (Activation)    (None, 16, 16, 256)       0         \n",
            "_________________________________________________________________\n",
            "conv2d_3 (Conv2D)            (None, 8, 8, 256)         65792     \n",
            "_________________________________________________________________\n",
            "batch_normalization_3 (Batch (None, 8, 8, 256)         1024      \n",
            "_________________________________________________________________\n",
            "activation_3 (Activation)    (None, 8, 8, 256)         0         \n",
            "_________________________________________________________________\n",
            "dropout (Dropout)            (None, 8, 8, 256)         0         \n",
            "_________________________________________________________________\n",
            "conv2d_4 (Conv2D)            (None, 8, 8, 512)         393728    \n",
            "_________________________________________________________________\n",
            "batch_normalization_4 (Batch (None, 8, 8, 512)         2048      \n",
            "_________________________________________________________________\n",
            "activation_4 (Activation)    (None, 8, 8, 512)         0         \n",
            "_________________________________________________________________\n",
            "conv2d_5 (Conv2D)            (None, 8, 8, 512)         786944    \n",
            "_________________________________________________________________\n",
            "batch_normalization_5 (Batch (None, 8, 8, 512)         2048      \n",
            "_________________________________________________________________\n",
            "activation_5 (Activation)    (None, 8, 8, 512)         0         \n",
            "_________________________________________________________________\n",
            "conv2d_6 (Conv2D)            (None, 4, 4, 1024)        1573888   \n",
            "_________________________________________________________________\n",
            "batch_normalization_6 (Batch (None, 4, 4, 1024)        4096      \n",
            "_________________________________________________________________\n",
            "activation_6 (Activation)    (None, 4, 4, 1024)        0         \n",
            "_________________________________________________________________\n",
            "conv2d_7 (Conv2D)            (None, 2, 2, 1024)        3146752   \n",
            "_________________________________________________________________\n",
            "batch_normalization_7 (Batch (None, 2, 2, 1024)        4096      \n",
            "_________________________________________________________________\n",
            "activation_7 (Activation)    (None, 2, 2, 1024)        0         \n",
            "_________________________________________________________________\n",
            "max_pooling2d (MaxPooling2D) (None, 1, 1, 1024)        0         \n",
            "_________________________________________________________________\n",
            "conv2d_8 (Conv2D)            (None, 1, 1, 2056)        6318088   \n",
            "_________________________________________________________________\n",
            "batch_normalization_8 (Batch (None, 1, 1, 2056)        8224      \n",
            "_________________________________________________________________\n",
            "activation_8 (Activation)    (None, 1, 1, 2056)        0         \n",
            "_________________________________________________________________\n",
            "conv2d_9 (Conv2D)            (None, 1, 1, 2056)        12683464  \n",
            "_________________________________________________________________\n",
            "batch_normalization_9 (Batch (None, 1, 1, 2056)        8224      \n",
            "_________________________________________________________________\n",
            "activation_9 (Activation)    (None, 1, 1, 2056)        0         \n",
            "_________________________________________________________________\n",
            "dropout_1 (Dropout)          (None, 1, 1, 2056)        0         \n",
            "_________________________________________________________________\n",
            "flatten (Flatten)            (None, 2056)              0         \n",
            "_________________________________________________________________\n",
            "dense (Dense)                (None, 10)                20570     \n",
            "_________________________________________________________________\n",
            "activation_10 (Activation)   (None, 10)                0         \n",
            "=================================================================\n",
            "Total params: 25,172,458\n",
            "Trainable params: 25,156,554\n",
            "Non-trainable params: 15,904\n",
            "_________________________________________________________________\n",
            "\n"
          ],
          "name": "stdout"
        }
      ]
    },
    {
      "cell_type": "markdown",
      "metadata": {
        "id": "WM3f-PcnR-YP",
        "colab_type": "text"
      },
      "source": [
        "# Executing the Model\n",
        "Now, the model built above will be executed with the training set. If there are more than one GPUs on the computer this file is being called in, then it will parallelize the model between the GPUs, else it will execute on the one GPU and CPU. "
      ]
    },
    {
      "cell_type": "code",
      "metadata": {
        "id": "ApLHVEugUVNu",
        "colab_type": "code",
        "outputId": "cd81b2e0-3da0-4d04-a54c-7725f2b77e18",
        "colab": {
          "base_uri": "https://localhost:8080/",
          "height": 34
        }
      },
      "source": [
        "# First, check the available amount of parallel GPUs\n",
        "print(tf.keras.__version__)\n",
        "# if '2.' in tf.keras.__version__:\n",
        "#   from keras import backend as K\n",
        "#   gpus = K.tensorflow_backend._get_available_gpus()\n",
        "#   print('Available GPUs on this device are: ' + str(gpus))\n",
        "\n",
        "#   isParallel = len(gpus) > 1\n",
        "# else:\n",
        "isParallel = False # toggle for testing purposes\n",
        "learning_rate = 0.1\n",
        "decay_rate = 1 "
      ],
      "execution_count": 0,
      "outputs": [
        {
          "output_type": "stream",
          "text": [
            "2.2.4-tf\n"
          ],
          "name": "stdout"
        }
      ]
    },
    {
      "cell_type": "code",
      "metadata": {
        "id": "zM1oiUtCsOQJ",
        "colab_type": "code",
        "colab": {}
      },
      "source": [
        "# Now, to add a learning rate scheduler to see if there is an effect\n",
        "def schedule_lr(epoch):\n",
        "  return 1 / (1 + decay_rate * epoch) * learning_rate\n",
        "\n",
        "schedule_lr = tf.keras.callbacks.LearningRateScheduler(schedule_lr, verbose=1)\n",
        "  "
      ],
      "execution_count": 0,
      "outputs": []
    },
    {
      "cell_type": "code",
      "metadata": {
        "id": "SgWdaTzVaK72",
        "colab_type": "code",
        "colab": {}
      },
      "source": [
        "def results_to_file(results, file_name=\"test.txt\"):\n",
        "  if not results:\n",
        "    raise TypeError('No dictionary to save to file')\n",
        "  with open(file_name, 'w+') as file:\n",
        "    print(str(results), file=file)\n",
        "  print('Success saving to file!')"
      ],
      "execution_count": 0,
      "outputs": []
    },
    {
      "cell_type": "code",
      "metadata": {
        "id": "01wmaqL7QAe4",
        "colab_type": "code",
        "outputId": "f89cf9ad-5f7e-4427-b2cd-a83fe86f7965",
        "colab": {
          "base_uri": "https://localhost:8080/",
          "height": 466
        }
      },
      "source": [
        "# Now, run the model.\n",
        "optimizer = tf.keras.optimizers.SGD(lr=learning_rate, decay=1e-6, momentum=0.9, \n",
        "                                    nesterov = True)\n",
        "# optimizer = tf.keras.optimizers.Adam(epsilon=1e-8)\n",
        "history = None\n",
        "\n",
        "if isParallel:\n",
        "  print('GPUs parallelized!')\n",
        "  multi_gpu_model = tf.keras.utils.multi_gpu_model(model1, 2)\n",
        "  multi_gpu_model.compile(optimizer=optimizer, loss=\"categorical_crossentropy\", \n",
        "                                    metrics=['accuracy'])\n",
        "  history = multi_gpu_model.fit_generator(data_gen.flow(x_train, y_train, batch_size=BATCH_SIZE), \n",
        "                      steps_per_epoch=(x_train.shape[0] // BATCH_SIZE), epochs=EPOCHS,\n",
        "                      validation_data=(x_test, y_test), callbacks=[schedule_lr])\n",
        "  results_to_file(history.history, 'model1.txt')\n",
        "else:\n",
        "  print('CPU Compilation')\n",
        "  \n",
        "  model1.compile(optimizer=optimizer, loss=\"categorical_crossentropy\", \n",
        "                metrics=['accuracy'])\n",
        "  history = model1.fit_generator(data_gen.flow(x_train, y_train, batch_size=BATCH_SIZE), \n",
        "                      steps_per_epoch=(x_train.shape[0] // BATCH_SIZE), epochs=EPOCHS,\n",
        "                      validation_data=(x_test, y_test), callbacks=[schedule_lr])\n",
        "  results_to_file(history.history, 'model1.txt')\n"
      ],
      "execution_count": 0,
      "outputs": [
        {
          "output_type": "stream",
          "text": [
            "CPU Compilation\n",
            "\n",
            "Epoch 00001: LearningRateScheduler reducing learning rate to 0.1.\n",
            "Epoch 1/100\n"
          ],
          "name": "stdout"
        },
        {
          "output_type": "error",
          "ename": "KeyboardInterrupt",
          "evalue": "ignored",
          "traceback": [
            "\u001b[0;31m---------------------------------------------------------------------------\u001b[0m",
            "\u001b[0;31mKeyboardInterrupt\u001b[0m                         Traceback (most recent call last)",
            "\u001b[0;32m<ipython-input-15-34dcd749f1ad>\u001b[0m in \u001b[0;36m<module>\u001b[0;34m()\u001b[0m\n\u001b[1;32m     20\u001b[0m   history = model1.fit_generator(data_gen.flow(x_train, y_train, batch_size=BATCH_SIZE), \n\u001b[1;32m     21\u001b[0m                       \u001b[0msteps_per_epoch\u001b[0m\u001b[0;34m=\u001b[0m\u001b[0;34m(\u001b[0m\u001b[0mx_train\u001b[0m\u001b[0;34m.\u001b[0m\u001b[0mshape\u001b[0m\u001b[0;34m[\u001b[0m\u001b[0;36m0\u001b[0m\u001b[0;34m]\u001b[0m \u001b[0;34m//\u001b[0m \u001b[0mBATCH_SIZE\u001b[0m\u001b[0;34m)\u001b[0m\u001b[0;34m,\u001b[0m \u001b[0mepochs\u001b[0m\u001b[0;34m=\u001b[0m\u001b[0mEPOCHS\u001b[0m\u001b[0;34m,\u001b[0m\u001b[0;34m\u001b[0m\u001b[0;34m\u001b[0m\u001b[0m\n\u001b[0;32m---> 22\u001b[0;31m                       validation_data=(x_test, y_test), callbacks=[schedule_lr])\n\u001b[0m\u001b[1;32m     23\u001b[0m   \u001b[0mresults_to_file\u001b[0m\u001b[0;34m(\u001b[0m\u001b[0mhistory\u001b[0m\u001b[0;34m.\u001b[0m\u001b[0mhistory\u001b[0m\u001b[0;34m,\u001b[0m \u001b[0;34m'model1.txt'\u001b[0m\u001b[0;34m)\u001b[0m\u001b[0;34m\u001b[0m\u001b[0;34m\u001b[0m\u001b[0m\n",
            "\u001b[0;32m/usr/local/lib/python3.6/dist-packages/tensorflow/python/keras/engine/training.py\u001b[0m in \u001b[0;36mfit_generator\u001b[0;34m(self, generator, steps_per_epoch, epochs, verbose, callbacks, validation_data, validation_steps, validation_freq, class_weight, max_queue_size, workers, use_multiprocessing, shuffle, initial_epoch)\u001b[0m\n\u001b[1;32m   1431\u001b[0m         \u001b[0mshuffle\u001b[0m\u001b[0;34m=\u001b[0m\u001b[0mshuffle\u001b[0m\u001b[0;34m,\u001b[0m\u001b[0;34m\u001b[0m\u001b[0;34m\u001b[0m\u001b[0m\n\u001b[1;32m   1432\u001b[0m         \u001b[0minitial_epoch\u001b[0m\u001b[0;34m=\u001b[0m\u001b[0minitial_epoch\u001b[0m\u001b[0;34m,\u001b[0m\u001b[0;34m\u001b[0m\u001b[0;34m\u001b[0m\u001b[0m\n\u001b[0;32m-> 1433\u001b[0;31m         steps_name='steps_per_epoch')\n\u001b[0m\u001b[1;32m   1434\u001b[0m \u001b[0;34m\u001b[0m\u001b[0m\n\u001b[1;32m   1435\u001b[0m   def evaluate_generator(self,\n",
            "\u001b[0;32m/usr/local/lib/python3.6/dist-packages/tensorflow/python/keras/engine/training_generator.py\u001b[0m in \u001b[0;36mmodel_iteration\u001b[0;34m(model, data, steps_per_epoch, epochs, verbose, callbacks, validation_data, validation_steps, validation_freq, class_weight, max_queue_size, workers, use_multiprocessing, shuffle, initial_epoch, mode, batch_size, steps_name, **kwargs)\u001b[0m\n\u001b[1;32m    262\u001b[0m \u001b[0;34m\u001b[0m\u001b[0m\n\u001b[1;32m    263\u001b[0m       \u001b[0mis_deferred\u001b[0m \u001b[0;34m=\u001b[0m \u001b[0;32mnot\u001b[0m \u001b[0mmodel\u001b[0m\u001b[0;34m.\u001b[0m\u001b[0m_is_compiled\u001b[0m\u001b[0;34m\u001b[0m\u001b[0;34m\u001b[0m\u001b[0m\n\u001b[0;32m--> 264\u001b[0;31m       \u001b[0mbatch_outs\u001b[0m \u001b[0;34m=\u001b[0m \u001b[0mbatch_function\u001b[0m\u001b[0;34m(\u001b[0m\u001b[0;34m*\u001b[0m\u001b[0mbatch_data\u001b[0m\u001b[0;34m)\u001b[0m\u001b[0;34m\u001b[0m\u001b[0;34m\u001b[0m\u001b[0m\n\u001b[0m\u001b[1;32m    265\u001b[0m       \u001b[0;32mif\u001b[0m \u001b[0;32mnot\u001b[0m \u001b[0misinstance\u001b[0m\u001b[0;34m(\u001b[0m\u001b[0mbatch_outs\u001b[0m\u001b[0;34m,\u001b[0m \u001b[0mlist\u001b[0m\u001b[0;34m)\u001b[0m\u001b[0;34m:\u001b[0m\u001b[0;34m\u001b[0m\u001b[0;34m\u001b[0m\u001b[0m\n\u001b[1;32m    266\u001b[0m         \u001b[0mbatch_outs\u001b[0m \u001b[0;34m=\u001b[0m \u001b[0;34m[\u001b[0m\u001b[0mbatch_outs\u001b[0m\u001b[0;34m]\u001b[0m\u001b[0;34m\u001b[0m\u001b[0;34m\u001b[0m\u001b[0m\n",
            "\u001b[0;32m/usr/local/lib/python3.6/dist-packages/tensorflow/python/keras/engine/training.py\u001b[0m in \u001b[0;36mtrain_on_batch\u001b[0;34m(self, x, y, sample_weight, class_weight, reset_metrics)\u001b[0m\n\u001b[1;32m   1173\u001b[0m       \u001b[0mself\u001b[0m\u001b[0;34m.\u001b[0m\u001b[0m_update_sample_weight_modes\u001b[0m\u001b[0;34m(\u001b[0m\u001b[0msample_weights\u001b[0m\u001b[0;34m=\u001b[0m\u001b[0msample_weights\u001b[0m\u001b[0;34m)\u001b[0m\u001b[0;34m\u001b[0m\u001b[0;34m\u001b[0m\u001b[0m\n\u001b[1;32m   1174\u001b[0m       \u001b[0mself\u001b[0m\u001b[0;34m.\u001b[0m\u001b[0m_make_train_function\u001b[0m\u001b[0;34m(\u001b[0m\u001b[0;34m)\u001b[0m\u001b[0;34m\u001b[0m\u001b[0;34m\u001b[0m\u001b[0m\n\u001b[0;32m-> 1175\u001b[0;31m       \u001b[0moutputs\u001b[0m \u001b[0;34m=\u001b[0m \u001b[0mself\u001b[0m\u001b[0;34m.\u001b[0m\u001b[0mtrain_function\u001b[0m\u001b[0;34m(\u001b[0m\u001b[0mins\u001b[0m\u001b[0;34m)\u001b[0m  \u001b[0;31m# pylint: disable=not-callable\u001b[0m\u001b[0;34m\u001b[0m\u001b[0;34m\u001b[0m\u001b[0m\n\u001b[0m\u001b[1;32m   1176\u001b[0m \u001b[0;34m\u001b[0m\u001b[0m\n\u001b[1;32m   1177\u001b[0m     \u001b[0;32mif\u001b[0m \u001b[0mreset_metrics\u001b[0m\u001b[0;34m:\u001b[0m\u001b[0;34m\u001b[0m\u001b[0;34m\u001b[0m\u001b[0m\n",
            "\u001b[0;32m/usr/local/lib/python3.6/dist-packages/tensorflow/python/keras/backend.py\u001b[0m in \u001b[0;36m__call__\u001b[0;34m(self, inputs)\u001b[0m\n\u001b[1;32m   3290\u001b[0m \u001b[0;34m\u001b[0m\u001b[0m\n\u001b[1;32m   3291\u001b[0m     fetched = self._callable_fn(*array_vals,\n\u001b[0;32m-> 3292\u001b[0;31m                                 run_metadata=self.run_metadata)\n\u001b[0m\u001b[1;32m   3293\u001b[0m     \u001b[0mself\u001b[0m\u001b[0;34m.\u001b[0m\u001b[0m_call_fetch_callbacks\u001b[0m\u001b[0;34m(\u001b[0m\u001b[0mfetched\u001b[0m\u001b[0;34m[\u001b[0m\u001b[0;34m-\u001b[0m\u001b[0mlen\u001b[0m\u001b[0;34m(\u001b[0m\u001b[0mself\u001b[0m\u001b[0;34m.\u001b[0m\u001b[0m_fetches\u001b[0m\u001b[0;34m)\u001b[0m\u001b[0;34m:\u001b[0m\u001b[0;34m]\u001b[0m\u001b[0;34m)\u001b[0m\u001b[0;34m\u001b[0m\u001b[0;34m\u001b[0m\u001b[0m\n\u001b[1;32m   3294\u001b[0m     output_structure = nest.pack_sequence_as(\n",
            "\u001b[0;32m/usr/local/lib/python3.6/dist-packages/tensorflow/python/client/session.py\u001b[0m in \u001b[0;36m__call__\u001b[0;34m(self, *args, **kwargs)\u001b[0m\n\u001b[1;32m   1456\u001b[0m         ret = tf_session.TF_SessionRunCallable(self._session._session,\n\u001b[1;32m   1457\u001b[0m                                                \u001b[0mself\u001b[0m\u001b[0;34m.\u001b[0m\u001b[0m_handle\u001b[0m\u001b[0;34m,\u001b[0m \u001b[0margs\u001b[0m\u001b[0;34m,\u001b[0m\u001b[0;34m\u001b[0m\u001b[0;34m\u001b[0m\u001b[0m\n\u001b[0;32m-> 1458\u001b[0;31m                                                run_metadata_ptr)\n\u001b[0m\u001b[1;32m   1459\u001b[0m         \u001b[0;32mif\u001b[0m \u001b[0mrun_metadata\u001b[0m\u001b[0;34m:\u001b[0m\u001b[0;34m\u001b[0m\u001b[0;34m\u001b[0m\u001b[0m\n\u001b[1;32m   1460\u001b[0m           \u001b[0mproto_data\u001b[0m \u001b[0;34m=\u001b[0m \u001b[0mtf_session\u001b[0m\u001b[0;34m.\u001b[0m\u001b[0mTF_GetBuffer\u001b[0m\u001b[0;34m(\u001b[0m\u001b[0mrun_metadata_ptr\u001b[0m\u001b[0;34m)\u001b[0m\u001b[0;34m\u001b[0m\u001b[0;34m\u001b[0m\u001b[0m\n",
            "\u001b[0;31mKeyboardInterrupt\u001b[0m: "
          ]
        }
      ]
    },
    {
      "cell_type": "code",
      "metadata": {
        "id": "nSipPRgaezRG",
        "colab_type": "code",
        "colab": {}
      },
      "source": [
        "plt.plot(history.history['acc'])\n",
        "plt.plot(history.history['val_acc'])\n",
        "plt.xlabel('Epoch')\n",
        "plt.ylabel('Accuracy')\n",
        "plt.title('Model Accuracy')\n",
        "plt.legend(['Train', 'Test'], loc=\"upper left\")\n",
        "plt.savefig('model1-acc.png')"
      ],
      "execution_count": 0,
      "outputs": []
    },
    {
      "cell_type": "code",
      "metadata": {
        "id": "hAZRk0OGVYXY",
        "colab_type": "code",
        "colab": {}
      },
      "source": [
        "# Now, run the model.\n",
        "optimizer = tf.keras.optimizers.SGD(lr=learning_rate, decay=1e-6, momentum=0.9, nesterov = True)\n",
        "# optimizer = tf.keras.optimizers.Adam(epsilon=1e-8)\n",
        "\n",
        "if isParallel:\n",
        "  print('GPUs parallelized!')\n",
        "  multi_gpu_model = tf.keras.utils.multi_gpu_model(model2, 2)\n",
        "  multi_gpu_model.compile(optimizer=optimizer, loss=\"categorical_crossentropy\", metrics=['accuracy'])\n",
        "  history = multi_gpu_model.fit_generator(data_gen.flow(x_train, y_train, batch_size=BATCH_SIZE), \n",
        "                      steps_per_epoch=(x_train.shape[0] // BATCH_SIZE), epochs=EPOCHS,\n",
        "                      validation_data=(x_test, y_test), callbacks=[schedule_lr])\n",
        "  results_to_file(history.history, 'model2.txt')\n",
        "else:\n",
        "  print('CPU Compilation')\n",
        "  \n",
        "  model2.compile(optimizer=optimizer, loss=\"categorical_crossentropy\", \n",
        "                metrics=['accuracy'])\n",
        "  history = model2.fit_generator(data_gen.flow(x_train, y_train, batch_size=BATCH_SIZE), \n",
        "                      steps_per_epoch=(x_train.shape[0] // BATCH_SIZE), epochs=EPOCHS,\n",
        "                      validation_data=(x_test, y_test), callbacks=[schedule_lr])\n",
        "  results_to_file(history.history, 'model2.txt')\n",
        "\n"
      ],
      "execution_count": 0,
      "outputs": []
    },
    {
      "cell_type": "code",
      "metadata": {
        "id": "nAYx45F4fOnY",
        "colab_type": "code",
        "colab": {}
      },
      "source": [
        "plt.plot(history.history['acc'])\n",
        "plt.plot(history.history['val_acc'])\n",
        "plt.xlabel('Epoch')\n",
        "plt.ylabel('Accuracy')\n",
        "plt.title('Model Accuracy')\n",
        "plt.legend(['Train', 'Test'], loc=\"upper left\")\n",
        "plt.savefig('model1-acc.png')"
      ],
      "execution_count": 0,
      "outputs": []
    },
    {
      "cell_type": "code",
      "metadata": {
        "id": "RQ7NSImrVaEZ",
        "colab_type": "code",
        "colab": {}
      },
      "source": [
        "# Now, run the model.\n",
        "optimizer = tf.keras.optimizers.SGD(lr=learning_rate, decay=1e-6, momentum=0.9, nesterov = True)\n",
        "# optimizer = tf.keras.optimizers.Adam(epsilon=1e-8)\n",
        "history = None\n",
        "\n",
        "if isParallel:\n",
        "  print('GPUs parallelized!')\n",
        "  multi_gpu_model = tf.keras.utils.multi_gpu_model(model3, 2)\n",
        "  multi_gpu_model.compile(optimizer=optimizer, loss=\"categorical_crossentropy\", metrics=['accuracy'])\n",
        "  history = multi_gpu_model.fit_generator(data_gen.flow(x_train, y_train, batch_size=BATCH_SIZE), \n",
        "                      steps_per_epoch=(x_train.shape[0] // BATCH_SIZE), epochs=EPOCHS,\n",
        "                      validation_data=(x_test, y_test), callbacks=[schedule_lr])\n",
        "  results_to_file(history.history, 'model3.txt')\n",
        "else:\n",
        "  print('CPU Compilation')\n",
        "  \n",
        "  model3.compile(optimizer=optimizer, loss=\"categorical_crossentropy\", \n",
        "                metrics=['accuracy'])\n",
        "  history = model3.fit_generator(data_gen.flow(x_train, y_train, batch_size=BATCH_SIZE), \n",
        "                      steps_per_epoch=(x_train.shape[0] // BATCH_SIZE), epochs=EPOCHS,\n",
        "                      validation_data=(x_test, y_test), callbacks=[schedule_lr])\n",
        "  results_to_file(history.history, 'model3.txt')\n"
      ],
      "execution_count": 0,
      "outputs": []
    },
    {
      "cell_type": "code",
      "metadata": {
        "id": "_2nnRekKgFrm",
        "colab_type": "code",
        "colab": {}
      },
      "source": [
        "plt.plot(history.history['acc'])\n",
        "plt.plot(history.history['val_acc'])\n",
        "plt.xlabel('Epoch')\n",
        "plt.ylabel('Accuracy')\n",
        "plt.title('Model Accuracy')\n",
        "plt.legend(['Train', 'Test'], loc=\"upper left\")\n",
        "plt.savefig('model1-acc.png')"
      ],
      "execution_count": 0,
      "outputs": []
    }
  ]
}