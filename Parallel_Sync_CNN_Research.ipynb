{
  "nbformat": 4,
  "nbformat_minor": 0,
  "metadata": {
    "colab": {
      "name": "Parallel Sync CNN Research.ipynb",
      "version": "0.3.2",
      "provenance": [],
      "collapsed_sections": [],
      "toc_visible": true,
      "include_colab_link": true
    },
    "kernelspec": {
      "name": "python3",
      "display_name": "Python 3"
    },
    "accelerator": "GPU"
  },
  "cells": [
    {
      "cell_type": "markdown",
      "metadata": {
        "id": "view-in-github",
        "colab_type": "text"
      },
      "source": [
        "<a href=\"https://colab.research.google.com/github/AstroNoodles/Mini-Projects/blob/master/Parallel_Sync_CNN_Research.ipynb\" target=\"_parent\"><img src=\"https://colab.research.google.com/assets/colab-badge.svg\" alt=\"Open In Colab\"/></a>"
      ]
    },
    {
      "cell_type": "markdown",
      "metadata": {
        "id": "pAGvK8NCk4eZ",
        "colab_type": "text"
      },
      "source": [
        "# Parallel Synchronous Gradient Descent CNN Research\n",
        "In this notebook, I am led by graduate student Pengzhan Guo to create a synchronous CNN that can be parallelized between multiple supercomputers and is optimized by the best gradient descent networks (ADAM or RMSProp).\n",
        "\n",
        "The CNN will be trained using the CiFAR dataset which will predict images out of 10 classes and multiple trials of the experiment will be done."
      ]
    },
    {
      "cell_type": "markdown",
      "metadata": {
        "id": "r3OczuioYX3X",
        "colab_type": "text"
      },
      "source": [
        "https://github.com/geifmany/cifar-vgg/blob/master/cifar10vgg.py"
      ]
    },
    {
      "cell_type": "code",
      "metadata": {
        "id": "sERWrdZJhDMh",
        "colab_type": "code",
        "colab": {}
      },
      "source": [
        "# To run Keras on any GPUs on the computer, this line must be included\n",
        "# !pip3 install tensorflow-gpu"
      ],
      "execution_count": 0,
      "outputs": []
    },
    {
      "cell_type": "code",
      "metadata": {
        "id": "MsNj0qWzsfGg",
        "colab_type": "code",
        "outputId": "551d5930-bc5c-4eb7-e49a-23e21f4e6356",
        "colab": {
          "base_uri": "https://localhost:8080/",
          "height": 34
        }
      },
      "source": [
        "# Obtain the imports for the project\n",
        "import numpy as np\n",
        "import random\n",
        "import tensorflow as tf\n",
        "import tensorflow.keras as keras\n",
        "import matplotlib.pyplot as plt\n",
        "\n",
        "from keras.preprocessing.image import ImageDataGenerator\n",
        "from keras.models import Sequential\n",
        "from keras.layers import Conv2D, Activation, MaxPooling2D, GlobalAveragePooling2D \n",
        "from keras.layers import Dense, Flatten, Dropout, BatchNormalization\n",
        "from keras.regularizers import l2\n",
        "from keras.optimizers import SGD, Adam\n",
        "\n",
        "NUM_CLASSES = 10\n",
        "EPOCHS = 400\n",
        "BATCH_SIZE = 128\n"
      ],
      "execution_count": 2,
      "outputs": [
        {
          "output_type": "stream",
          "text": [
            "Using TensorFlow backend.\n"
          ],
          "name": "stderr"
        }
      ]
    },
    {
      "cell_type": "markdown",
      "metadata": {
        "id": "mXEyw05F9nAX",
        "colab_type": "text"
      },
      "source": [
        "# Preprocessing the dataset\n",
        "This is the step where visualization and preprocessing is done in the CIFAR10 dataset that Keras gives us."
      ]
    },
    {
      "cell_type": "code",
      "metadata": {
        "id": "09xsHmNj9k4W",
        "colab_type": "code",
        "outputId": "633c7be7-6c92-419b-c378-b49dbcf6c1f0",
        "colab": {
          "base_uri": "https://localhost:8080/",
          "height": 108
        }
      },
      "source": [
        "(x_train, y_train), (x_test, y_test) = keras.datasets.cifar10.load_data()\n",
        "print(f\"The shape of the training data is {x_train.shape} and the shape of the labels are {y_train.shape}\")"
      ],
      "execution_count": 3,
      "outputs": [
        {
          "output_type": "stream",
          "text": [
            "Downloading data from https://www.cs.toronto.edu/~kriz/cifar-10-python.tar.gz\n",
            "170500096/170498071 [==============================] - 2s 0us/step\n",
            "The shape of the training data is (50000, 32, 32, 3) and the shape of the labels are (50000, 1)\n"
          ],
          "name": "stdout"
        }
      ]
    },
    {
      "cell_type": "code",
      "metadata": {
        "id": "aDVt_PNX3DsN",
        "colab_type": "code",
        "outputId": "748f0811-aa76-4e65-be62-80b7e5196ea6",
        "colab": {
          "base_uri": "https://localhost:8080/",
          "height": 432
        }
      },
      "source": [
        "def visualize_cifar(train_data):\n",
        "  \"\"\" Visualizes the cifar-10 dataset using matplotlib. This helps give a greater understanding\n",
        "      of the items that are in the dataset\"\"\"\n",
        "  plt.figure(figsize=(7, 7))\n",
        "  for i in range(1, 10):\n",
        "    plt.subplot(3, 3, i)\n",
        "    plt.imshow(random.choice(train_data))\n",
        "\n",
        "visualize_cifar(x_train)\n"
      ],
      "execution_count": 4,
      "outputs": [
        {
          "output_type": "display_data",
          "data": {
            "image/png": "[encoded data removed]",
            "text/plain": [
              "<Figure size 504x504 with 9 Axes>"
            ]
          },
          "metadata": {
            "tags": []
          }
        }
      ]
    },
    {
      "cell_type": "code",
      "metadata": {
        "id": "iGyhmazLz6j2",
        "colab_type": "code",
        "colab": {}
      },
      "source": [
        "def normalize_data(x_train, x_test):\n",
        "  mean_train, mean_test = np.mean(x_train), np.mean(x_test)\n",
        "  std_train, std_test = np.std(x_train), np.std(x_test)\n",
        "  return ((x_train - mean_train) / std_train, (x_test - mean_test) / std_test)\n",
        "  "
      ],
      "execution_count": 0,
      "outputs": []
    },
    {
      "cell_type": "code",
      "metadata": {
        "id": "Rt9X9WIYsjV8",
        "colab_type": "code",
        "colab": {}
      },
      "source": [
        "def smooth_label(labels, epsillion):\n",
        "  \"\"\" Adds a smooth labeling to all the one-hot encoded labels to prevent overfitting\n",
        "      in the dataset: https://tinyurl.com/kerastricks\"\"\"\n",
        "  if 0 <= epsillion <= 1:\n",
        "    labels *= (1.0 - epsillion)\n",
        "    labels += (epsillion / labels.shape[1])\n",
        "  else:\n",
        "    raise Exception(\"Label smoothing factor should be between 0 and 1. Your factor is: \" + str(epsillion))\n",
        "  \n",
        "  return labels\n",
        "  "
      ],
      "execution_count": 0,
      "outputs": []
    },
    {
      "cell_type": "code",
      "metadata": {
        "id": "7-dyhjj--1Kq",
        "colab_type": "code",
        "outputId": "635d4537-f886-41e7-fe17-82d0f8797479",
        "colab": {
          "base_uri": "https://localhost:8080/",
          "height": 51
        }
      },
      "source": [
        "x_train = x_train.astype(\"float32\")\n",
        "x_test = x_test.astype(\"float32\")\n",
        "\n",
        "x_train, x_test = normalize_data(x_train, x_test)\n",
        "\n",
        "y_train = keras.utils.to_categorical(y_train, num_classes=NUM_CLASSES)\n",
        "y_test = keras.utils.to_categorical(y_test, num_classes=NUM_CLASSES)\n",
        "\n",
        "smooth_label(y_train, 0.1)\n",
        "print(y_train[0])\n",
        "\n",
        "# Preprocessing the image dataset by artificially increasing the training data size\n",
        "# via rescaling, shifting, flipping and rotating the dataset.\n",
        "data_gen = ImageDataGenerator(\n",
        "    featurewise_center=True,\n",
        "    samplewise_center=True,\n",
        "    rotation_range=90, \n",
        "    width_shift_range=.2, \n",
        "    height_shift_range=.2, \n",
        "    horizontal_flip=True,\n",
        "    vertical_flip=True,\n",
        "    brightness_range=(0.0, 1.0),\n",
        "    rescale=2)\n",
        "\n",
        "data_gen.fit(x_train)"
      ],
      "execution_count": 7,
      "outputs": [
        {
          "output_type": "stream",
          "text": [
            "[0.01       0.01       0.01       0.01       0.01       0.01\n",
            " 0.90999997 0.01       0.01       0.01      ]\n"
          ],
          "name": "stdout"
        }
      ]
    },
    {
      "cell_type": "markdown",
      "metadata": {
        "id": "0dAfCyApD7Ru",
        "colab_type": "text"
      },
      "source": [
        "# Building The Model\n",
        "The model was built by using a combination of methods from the Inceptionv3 model and the VGGNet models that are on Github. The layers used are given in the imports in the first code cell."
      ]
    },
    {
      "cell_type": "code",
      "metadata": {
        "id": "O0JSRwcR3bKt",
        "colab_type": "code",
        "colab": {}
      },
      "source": [
        "def create_conv_net():\n",
        "  model = Sequential()\n",
        "  \n",
        "  # Layer 1\n",
        "  model.add(Conv2D(32, (3, 1), kernel_initializer=\"he_normal\", input_shape=(32, 32, 3), \n",
        "                   padding=\"same\", kernel_regularizer=l2()))\n",
        "  model.add(Activation('relu'))\n",
        "  model.add(BatchNormalization())\n",
        "  model.add(Conv2D(32, (1, 3), padding=\"same\", kernel_regularizer=l2()))  \n",
        "  model.add(Activation('relu'))\n",
        "  model.add(BatchNormalization())\n",
        "  \n",
        "  model.add(MaxPooling2D(2, 2))\n",
        "            \n",
        "  # Layer 2\n",
        "  model.add(Conv2D(64, (3, 1), padding=\"same\", kernel_regularizer=l2()))\n",
        "  model.add(Activation('relu'))\n",
        "  model.add(BatchNormalization())\n",
        "  model.add(Conv2D(64, (1, 3), padding=\"same\", kernel_regularizer=l2()))\n",
        "  model.add(Activation('relu'))\n",
        "  model.add(BatchNormalization())\n",
        "  \n",
        "  model.add(MaxPooling2D(2, 2))\n",
        "  model.add(Dropout(.3))          \n",
        "            \n",
        "  # Layer 3\n",
        "  model.add(Conv2D(128, (3, 1), padding=\"same\", kernel_regularizer=l2()))\n",
        "  model.add(Activation('relu'))\n",
        "  model.add(BatchNormalization())\n",
        "  model.add(Conv2D(128, (1, 3), padding=\"same\", kernel_regularizer=l2()))\n",
        "  model.add(Activation('relu'))\n",
        "  model.add(BatchNormalization())\n",
        "  \n",
        "  model.add(MaxPooling2D(2, 2))\n",
        "            \n",
        "  # Layer 4\n",
        "  model.add(Conv2D(256, (3, 1), padding=\"same\", kernel_regularizer=l2()))\n",
        "  model.add(Activation('relu'))\n",
        "  model.add(BatchNormalization())\n",
        "  model.add(Conv2D(256, (1, 3), padding=\"same\", kernel_regularizer=l2()))\n",
        "  model.add(Activation('relu'))\n",
        "  model.add(BatchNormalization())\n",
        "  model.add(MaxPooling2D(2, 2))\n",
        "   \n",
        " \n",
        "  # Layer 5\n",
        "  model.add(Conv2D(512, (3, 1), padding=\"same\", kernel_regularizer=l2()))\n",
        "  model.add(Activation('relu'))\n",
        "  model.add(BatchNormalization())\n",
        "  model.add(Conv2D(512, (1, 3), padding=\"same\", kernel_regularizer=l2()))\n",
        "  model.add(Activation('relu'))\n",
        "  model.add(BatchNormalization())\n",
        "  \n",
        "  model.add(MaxPooling2D(2, 2))\n",
        "  model.add(Dropout(.5)) \n",
        "  \n",
        "            \n",
        "  # Layer 6 \n",
        "  model.add(Flatten())\n",
        "  model.add(Dense(512, kernel_regularizer=l2()))\n",
        "  model.add(Activation('relu'))\n",
        "  model.add(BatchNormalization())\n",
        "  \n",
        "  # Layer 7\n",
        "  model.add(Dense(512, kernel_regularizer=l2()))\n",
        "  model.add(Activation('relu'))\n",
        "  model.add(BatchNormalization())\n",
        "            \n",
        "  # Layer 8 \n",
        "  model.add(Dense(256, kernel_regularizer=l2()))\n",
        "  model.add(Activation('relu'))\n",
        "  model.add(BatchNormalization())\n",
        "  model.add(Dropout(.5))\n",
        "            \n",
        "  # Layer 9\n",
        "  # model.add(GlobalAveragePooling2D())\n",
        "  model.add(Dense(NUM_CLASSES))\n",
        "  model.add(Activation('softmax'))\n",
        "  \n",
        "  return model\n",
        "           "
      ],
      "execution_count": 0,
      "outputs": []
    },
    {
      "cell_type": "code",
      "metadata": {
        "id": "JH1We1lv0yDL",
        "colab_type": "code",
        "outputId": "d919abba-bceb-4ff2-e439-458f99124243",
        "colab": {
          "base_uri": "https://localhost:8080/",
          "height": 1000
        }
      },
      "source": [
        "model = create_conv_net()\n",
        "model.summary()"
      ],
      "execution_count": 15,
      "outputs": [
        {
          "output_type": "stream",
          "text": [
            "_________________________________________________________________\n",
            "Layer (type)                 Output Shape              Param #   \n",
            "=================================================================\n",
            "conv2d_27 (Conv2D)           (None, 32, 32, 32)        320       \n",
            "_________________________________________________________________\n",
            "activation_35 (Activation)   (None, 32, 32, 32)        0         \n",
            "_________________________________________________________________\n",
            "batch_normalization_33 (Batc (None, 32, 32, 32)        128       \n",
            "_________________________________________________________________\n",
            "conv2d_28 (Conv2D)           (None, 32, 32, 32)        3104      \n",
            "_________________________________________________________________\n",
            "activation_36 (Activation)   (None, 32, 32, 32)        0         \n",
            "_________________________________________________________________\n",
            "batch_normalization_34 (Batc (None, 32, 32, 32)        128       \n",
            "_________________________________________________________________\n",
            "max_pooling2d_14 (MaxPooling (None, 16, 16, 32)        0         \n",
            "_________________________________________________________________\n",
            "conv2d_29 (Conv2D)           (None, 16, 16, 64)        6208      \n",
            "_________________________________________________________________\n",
            "activation_37 (Activation)   (None, 16, 16, 64)        0         \n",
            "_________________________________________________________________\n",
            "batch_normalization_35 (Batc (None, 16, 16, 64)        256       \n",
            "_________________________________________________________________\n",
            "conv2d_30 (Conv2D)           (None, 16, 16, 64)        12352     \n",
            "_________________________________________________________________\n",
            "activation_38 (Activation)   (None, 16, 16, 64)        0         \n",
            "_________________________________________________________________\n",
            "batch_normalization_36 (Batc (None, 16, 16, 64)        256       \n",
            "_________________________________________________________________\n",
            "max_pooling2d_15 (MaxPooling (None, 8, 8, 64)          0         \n",
            "_________________________________________________________________\n",
            "dropout_7 (Dropout)          (None, 8, 8, 64)          0         \n",
            "_________________________________________________________________\n",
            "conv2d_31 (Conv2D)           (None, 8, 8, 128)         24704     \n",
            "_________________________________________________________________\n",
            "activation_39 (Activation)   (None, 8, 8, 128)         0         \n",
            "_________________________________________________________________\n",
            "batch_normalization_37 (Batc (None, 8, 8, 128)         512       \n",
            "_________________________________________________________________\n",
            "conv2d_32 (Conv2D)           (None, 8, 8, 128)         49280     \n",
            "_________________________________________________________________\n",
            "activation_40 (Activation)   (None, 8, 8, 128)         0         \n",
            "_________________________________________________________________\n",
            "batch_normalization_38 (Batc (None, 8, 8, 128)         512       \n",
            "_________________________________________________________________\n",
            "max_pooling2d_16 (MaxPooling (None, 4, 4, 128)         0         \n",
            "_________________________________________________________________\n",
            "conv2d_33 (Conv2D)           (None, 4, 4, 256)         98560     \n",
            "_________________________________________________________________\n",
            "activation_41 (Activation)   (None, 4, 4, 256)         0         \n",
            "_________________________________________________________________\n",
            "batch_normalization_39 (Batc (None, 4, 4, 256)         1024      \n",
            "_________________________________________________________________\n",
            "conv2d_34 (Conv2D)           (None, 4, 4, 256)         196864    \n",
            "_________________________________________________________________\n",
            "activation_42 (Activation)   (None, 4, 4, 256)         0         \n",
            "_________________________________________________________________\n",
            "batch_normalization_40 (Batc (None, 4, 4, 256)         1024      \n",
            "_________________________________________________________________\n",
            "max_pooling2d_17 (MaxPooling (None, 2, 2, 256)         0         \n",
            "_________________________________________________________________\n",
            "conv2d_35 (Conv2D)           (None, 2, 2, 512)         393728    \n",
            "_________________________________________________________________\n",
            "activation_43 (Activation)   (None, 2, 2, 512)         0         \n",
            "_________________________________________________________________\n",
            "batch_normalization_41 (Batc (None, 2, 2, 512)         2048      \n",
            "_________________________________________________________________\n",
            "conv2d_36 (Conv2D)           (None, 2, 2, 512)         786944    \n",
            "_________________________________________________________________\n",
            "activation_44 (Activation)   (None, 2, 2, 512)         0         \n",
            "_________________________________________________________________\n",
            "batch_normalization_42 (Batc (None, 2, 2, 512)         2048      \n",
            "_________________________________________________________________\n",
            "max_pooling2d_18 (MaxPooling (None, 1, 1, 512)         0         \n",
            "_________________________________________________________________\n",
            "dropout_8 (Dropout)          (None, 1, 1, 512)         0         \n",
            "_________________________________________________________________\n",
            "flatten_3 (Flatten)          (None, 512)               0         \n",
            "_________________________________________________________________\n",
            "dense_9 (Dense)              (None, 512)               262656    \n",
            "_________________________________________________________________\n",
            "activation_45 (Activation)   (None, 512)               0         \n",
            "_________________________________________________________________\n",
            "batch_normalization_43 (Batc (None, 512)               2048      \n",
            "_________________________________________________________________\n",
            "dense_10 (Dense)             (None, 512)               262656    \n",
            "_________________________________________________________________\n",
            "activation_46 (Activation)   (None, 512)               0         \n",
            "_________________________________________________________________\n",
            "batch_normalization_44 (Batc (None, 512)               2048      \n",
            "_________________________________________________________________\n",
            "dense_11 (Dense)             (None, 256)               131328    \n",
            "_________________________________________________________________\n",
            "activation_47 (Activation)   (None, 256)               0         \n",
            "_________________________________________________________________\n",
            "batch_normalization_45 (Batc (None, 256)               1024      \n",
            "_________________________________________________________________\n",
            "dropout_9 (Dropout)          (None, 256)               0         \n",
            "_________________________________________________________________\n",
            "dense_12 (Dense)             (None, 10)                2570      \n",
            "_________________________________________________________________\n",
            "activation_48 (Activation)   (None, 10)                0         \n",
            "=================================================================\n",
            "Total params: 2,244,330\n",
            "Trainable params: 2,237,802\n",
            "Non-trainable params: 6,528\n",
            "_________________________________________________________________\n"
          ],
          "name": "stdout"
        }
      ]
    },
    {
      "cell_type": "markdown",
      "metadata": {
        "id": "WM3f-PcnR-YP",
        "colab_type": "text"
      },
      "source": [
        "# Executing the Model\n",
        "Now, the model built above will be executed with the training set. If there are more than one GPUs on the computer this file is being called in, then it will parallelize the model between the GPUs, else it will execute on the one GPU and CPU. "
      ]
    },
    {
      "cell_type": "code",
      "metadata": {
        "id": "ApLHVEugUVNu",
        "colab_type": "code",
        "outputId": "acc201dc-5a1f-4a31-febf-7066cb96f722",
        "colab": {
          "base_uri": "https://localhost:8080/",
          "height": 34
        }
      },
      "source": [
        "# First, check the available amount of parallel GPUs\n",
        "from keras import backend as K\n",
        "gpus = K.tensorflow_backend._get_available_gpus()\n",
        "print(f'Available GPUs on this device are: {gpus}')\n",
        "\n",
        "isParallel = len(gpus) > 1"
      ],
      "execution_count": 0,
      "outputs": [
        {
          "output_type": "stream",
          "text": [
            "Available GPUs on this device are: ['/job:localhost/replica:0/task:0/device:GPU:0']\n"
          ],
          "name": "stdout"
        }
      ]
    },
    {
      "cell_type": "code",
      "metadata": {
        "id": "01wmaqL7QAe4",
        "colab_type": "code",
        "outputId": "9988bc2e-3ee6-4d32-abfc-ee71ebaf6e94",
        "colab": {
          "base_uri": "https://localhost:8080/",
          "height": 567
        }
      },
      "source": [
        "# Now, run the model.\n",
        "optimizer = SGD(momentum=0.9, nesterov = True)\n",
        "# optimizer = Adam(epsilon=1e-8)\n",
        "\n",
        "if isParallel:\n",
        "  print('GPUs parallelized!')\n",
        "  multi_gpu_model = keras.utils.multi_gpu_model(model, len(gpus))\n",
        "  multi_gpu_model.compile(optimizer=optimizer, loss=\"categorical_crossentropy\", metrics=['accuracy'])\n",
        "  multi_gpu_model.fit_generator(data_gen.flow(x_train, y_train, batch_size=BATCH_SIZE), \n",
        "                      steps_per_epoch=(x_train.shape[0] // BATCH_SIZE), epochs=EPOCHS,\n",
        "                      validation_data=(x_test, y_test))\n",
        "else:\n",
        "  print('CPU Compilation')\n",
        "  \n",
        "  model.compile(optimizer=optimizer, loss=\"categorical_crossentropy\", \n",
        "                metrics=['accuracy'])\n",
        "  model.fit_generator(data_gen.flow(x_train, y_train, batch_size=BATCH_SIZE), \n",
        "                      steps_per_epoch=(x_train.shape[0] // BATCH_SIZE), epochs=EPOCHS,\n",
        "                      validation_data=(x_test, y_test))"
      ],
      "execution_count": 0,
      "outputs": [
        {
          "output_type": "stream",
          "text": [
            "W0805 15:52:57.712718 140715371923328 deprecation_wrapper.py:119] From /usr/local/lib/python3.6/dist-packages/keras/optimizers.py:790: The name tf.train.Optimizer is deprecated. Please use tf.compat.v1.train.Optimizer instead.\n",
            "\n"
          ],
          "name": "stderr"
        },
        {
          "output_type": "stream",
          "text": [
            "CPU Compilation\n"
          ],
          "name": "stdout"
        },
        {
          "output_type": "stream",
          "text": [
            "W0805 15:52:57.945425 140715371923328 deprecation.py:323] From /usr/local/lib/python3.6/dist-packages/tensorflow/python/ops/math_grad.py:1250: add_dispatch_support.<locals>.wrapper (from tensorflow.python.ops.array_ops) is deprecated and will be removed in a future version.\n",
            "Instructions for updating:\n",
            "Use tf.where in 2.0, which has the same broadcast rule as np.where\n"
          ],
          "name": "stderr"
        },
        {
          "output_type": "stream",
          "text": [
            "Epoch 1/400\n",
            "390/390 [==============================] - 39s 101ms/step - loss: 11.2318 - acc: 0.1884 - val_loss: 6.1220 - val_acc: 0.1000\n",
            "Epoch 2/400\n",
            "390/390 [==============================] - 34s 87ms/step - loss: 3.9953 - acc: 0.2541 - val_loss: 3.1629 - val_acc: 0.1223\n",
            "Epoch 3/400\n",
            "390/390 [==============================] - 34s 87ms/step - loss: 2.5085 - acc: 0.2827 - val_loss: 2.7268 - val_acc: 0.1000\n",
            "Epoch 4/400\n",
            "390/390 [==============================] - 34s 86ms/step - loss: 2.1998 - acc: 0.3005 - val_loss: 2.4783 - val_acc: 0.1369\n",
            "Epoch 5/400\n",
            "390/390 [==============================] - 34s 87ms/step - loss: 2.1192 - acc: 0.3238 - val_loss: 2.3388 - val_acc: 0.1650\n",
            "Epoch 6/400\n",
            "390/390 [==============================] - 34s 87ms/step - loss: 2.1085 - acc: 0.3265 - val_loss: 2.5225 - val_acc: 0.1253\n",
            "Epoch 7/400\n",
            "390/390 [==============================] - 34s 87ms/step - loss: 2.0935 - acc: 0.3336 - val_loss: 2.4142 - val_acc: 0.2090\n",
            "Epoch 8/400\n",
            "390/390 [==============================] - 34s 87ms/step - loss: 2.0946 - acc: 0.3471 - val_loss: 2.2948 - val_acc: 0.2147\n",
            "Epoch 9/400\n",
            "390/390 [==============================] - 34s 86ms/step - loss: 2.0838 - acc: 0.3536 - val_loss: 2.5002 - val_acc: 0.1430\n",
            "Epoch 10/400\n",
            "390/390 [==============================] - 34s 87ms/step - loss: 2.0875 - acc: 0.3513 - val_loss: 2.4390 - val_acc: 0.1540\n",
            "Epoch 11/400\n",
            "390/390 [==============================] - 34s 86ms/step - loss: 2.0806 - acc: 0.3656 - val_loss: 2.7829 - val_acc: 0.1043\n",
            "Epoch 12/400\n",
            "315/390 [=======================>......] - ETA: 6s - loss: 2.0843 - acc: 0.3648"
          ],
          "name": "stdout"
        }
      ]
    },
    {
      "cell_type": "code",
      "metadata": {
        "id": "_2nnRekKgFrm",
        "colab_type": "code",
        "colab": {}
      },
      "source": [
        ""
      ],
      "execution_count": 0,
      "outputs": []
    }
  ]
}