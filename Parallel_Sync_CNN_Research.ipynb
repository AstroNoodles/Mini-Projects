{
  "nbformat": 4,
  "nbformat_minor": 0,
  "metadata": {
    "colab": {
      "name": "Parallel Sync CNN Research.ipynb",
      "provenance": [],
      "collapsed_sections": [],
      "toc_visible": true,
      "include_colab_link": true
    },
    "kernelspec": {
      "name": "python3",
      "display_name": "Python 3"
    },
    "accelerator": "GPU"
  },
  "cells": [
    {
      "cell_type": "markdown",
      "metadata": {
        "id": "view-in-github",
        "colab_type": "text"
      },
      "source": [
        "<a href=\"https://colab.research.google.com/github/AstroNoodles/Mini-Projects/blob/master/Parallel_Sync_CNN_Research.ipynb\" target=\"_parent\"><img src=\"https://colab.research.google.com/assets/colab-badge.svg\" alt=\"Open In Colab\"/></a>"
      ]
    },
    {
      "cell_type": "markdown",
      "metadata": {
        "id": "pAGvK8NCk4eZ",
        "colab_type": "text"
      },
      "source": [
        "# Parallel Synchronous Gradient Descent CNN Research\n",
        "In this notebook, I am led by graduate student Pengzhan Guo to create a synchronous CNN that can be parallelized between multiple supercomputers and is optimized by the best gradient descent networks (ADAM or RMSProp).\n",
        "\n",
        "The CNN will be trained using the CiFAR dataset which will predict images out of 10 classes and multiple trials of the experiment will be done."
      ]
    },
    {
      "cell_type": "markdown",
      "metadata": {
        "id": "r3OczuioYX3X",
        "colab_type": "text"
      },
      "source": [
        "https://github.com/geifmany/cifar-vgg/blob/master/cifar10vgg.py"
      ]
    },
    {
      "cell_type": "code",
      "metadata": {
        "id": "MsNj0qWzsfGg",
        "colab_type": "code",
        "colab": {}
      },
      "source": [
        "import numpy as np\n",
        "import random\n",
        "from imageio import imread\n",
        "import tensorflow as tf\n",
        "import pandas as pd\n",
        "from sklearn.model_selection import train_test_split\n",
        "import matplotlib.pyplot as plt\n",
        "from tensorflow.python.client import device_lib\n",
        "\n",
        "NUM_CLASSES = 10\n",
        "reg_factor = 1e-06 # Regularization factor for L2 Regularization\n"
      ],
      "execution_count": 0,
      "outputs": []
    },
    {
      "cell_type": "code",
      "metadata": {
        "id": "rYJYsezCoK68",
        "colab_type": "code",
        "outputId": "40ee7488-27ae-483b-d118-f41a2e799d12",
        "colab": {
          "base_uri": "https://localhost:8080/",
          "height": 1000
        }
      },
      "source": [
        "# DEBUG\n",
        "test_img = imread('https://www.mariowiki.com/images/thumb/5/53/Luigi_Mario_Party.png/158px-Luigi_Mario_Party.png')\n",
        "print(test_img[150:230])\n",
        "\n",
        "plt.imshow(test_img)\n",
        "plt.show()"
      ],
      "execution_count": 28,
      "outputs": [
        {
          "output_type": "stream",
          "text": [
            "[[[0 0 0 0]\n",
            "  [0 0 0 0]\n",
            "  [0 0 0 0]\n",
            "  ...\n",
            "  [0 0 0 0]\n",
            "  [0 0 0 0]\n",
            "  [0 0 0 0]]\n",
            "\n",
            " [[0 0 0 0]\n",
            "  [0 0 0 0]\n",
            "  [0 0 0 0]\n",
            "  ...\n",
            "  [0 0 0 0]\n",
            "  [0 0 0 0]\n",
            "  [0 0 0 0]]\n",
            "\n",
            " [[0 0 0 0]\n",
            "  [0 0 0 0]\n",
            "  [0 0 0 0]\n",
            "  ...\n",
            "  [0 0 0 0]\n",
            "  [0 0 0 0]\n",
            "  [0 0 0 0]]\n",
            "\n",
            " ...\n",
            "\n",
            " [[0 0 0 0]\n",
            "  [0 0 0 0]\n",
            "  [0 0 0 0]\n",
            "  ...\n",
            "  [0 0 0 0]\n",
            "  [0 0 0 0]\n",
            "  [0 0 0 0]]\n",
            "\n",
            " [[0 0 0 0]\n",
            "  [0 0 0 0]\n",
            "  [0 0 0 0]\n",
            "  ...\n",
            "  [0 0 0 0]\n",
            "  [0 0 0 0]\n",
            "  [0 0 0 0]]\n",
            "\n",
            " [[0 0 0 0]\n",
            "  [0 0 0 0]\n",
            "  [0 0 0 0]\n",
            "  ...\n",
            "  [0 0 0 0]\n",
            "  [0 0 0 0]\n",
            "  [0 0 0 0]]]\n"
          ],
          "name": "stdout"
        },
        {
          "output_type": "display_data",
          "data": {
            "image/png": "[encoded data removed]",
            "text/plain": [
              "<Figure size 432x288 with 1 Axes>"
            ]
          },
          "metadata": {
            "tags": []
          }
        }
      ]
    },
    {
      "cell_type": "markdown",
      "metadata": {
        "id": "mXEyw05F9nAX",
        "colab_type": "text"
      },
      "source": [
        "# Retrieving the Datasets\n",
        "This is the step where visualization and preprocessing is done in the CIFAR10 dataset that Keras gives us."
      ]
    },
    {
      "cell_type": "code",
      "metadata": {
        "id": "gz9vvJFs8WAa",
        "colab_type": "code",
        "outputId": "2a86665d-918e-432e-9927-0fb95af6e35a",
        "colab": {
          "base_uri": "https://localhost:8080/",
          "height": 68
        }
      },
      "source": [
        "# DEBUG\n",
        "x_train = np.arange(1, 10)\n",
        "shape = tf.add(x_train, np.arange(2, 11))\n",
        "\n",
        "with tf.compat.v1.Session() as sess:\n",
        "  print(sess.run(shape[0:]))\n",
        "  print(sess.run(shape[:-1]))\n",
        "  print(sess.run(shape[1] // 2))"
      ],
      "execution_count": 29,
      "outputs": [
        {
          "output_type": "stream",
          "text": [
            "[ 3  5  7  9 11 13 15 17 19]\n",
            "[ 3  5  7  9 11 13 15 17]\n",
            "2\n"
          ],
          "name": "stdout"
        }
      ]
    },
    {
      "cell_type": "markdown",
      "metadata": {
        "id": "O2ncDtfGdOYH",
        "colab_type": "text"
      },
      "source": [
        "## Using The Image Data\n",
        "This is from mammographic slides with SVS images rather than DICOM images"
      ]
    },
    {
      "cell_type": "markdown",
      "metadata": {
        "id": "QwhNTUqRksUk",
        "colab_type": "text"
      },
      "source": [
        "The strategy:\n",
        "1. To identify breast cancer cells, you need to convert them into jpeg files or zip file\n",
        "since they are too large.\n",
        "2. !! USE ZIP FILES !!\n",
        "3. Then, you need to set the CNN on the images and using the target, get the CNN to\n",
        "predict the result\n",
        "4. THE MAJOR PROBLEM: How do I save the images without using too much storage? (Many gigabytes and megabytes x 140)"
      ]
    },
    {
      "cell_type": "code",
      "metadata": {
        "id": "cGaUIhrckzAg",
        "colab_type": "code",
        "colab": {}
      },
      "source": [
        "# The Image Data\n",
        "import tarfile\n",
        "import zipfile\n",
        "import os\n",
        "\n",
        "def open_slides(slide_dir=\".\"):\n",
        "  for slide in os.listdir(slide_dir):\n",
        "    if slide.endswith(\".tar.gz\"):\n",
        "      print(slide)\n",
        "      slide_dir_i = tarfile.open(slide)\n",
        "      slide_dir_i.extractall(slide_dir)\n",
        "    elif slide.endswith(\".zip\"):\n",
        "      print(slide)\n",
        "      zip_file_i = zipfile.ZipFile(slide)\n",
        "      zip_file_i.extractall(slide_dir)\n",
        "  \n",
        "def to_np_array(image_dir=\".\", indicator=\"Output\"):\n",
        "  output_arr = []\n",
        "  # Note that the output files should be named 'Output#'\n",
        "  for item in os.listdir(image_dir):\n",
        "    if os.path.isdir(item) and indicator in item:\n",
        "      new_dir = os.sep.join([image_dir, item, \"Output\"])\n",
        "      print(item)\n",
        "      print(new_dir)\n",
        "      for image in os.listdir(new_dir):\n",
        "        im_array = imread(os.sep.join([new_dir, image]))\n",
        "        no_alpha = np.delete(im_array, 1, axis=2)\n",
        "        print(no_alpha.shape)\n",
        "        output_arr.append(no_alpha)\n",
        "  return np.array(output_arr)"
      ],
      "execution_count": 0,
      "outputs": []
    },
    {
      "cell_type": "code",
      "metadata": {
        "id": "ulR_k8EVpc7p",
        "colab_type": "code",
        "colab": {
          "base_uri": "https://localhost:8080/",
          "height": 408
        },
        "outputId": "3a2634b9-92b5-4e9e-9bd1-a0abc0d5316b"
      },
      "source": [
        "# Get the training and testing data\n",
        "\n",
        "open_slides()\n",
        "X = to_np_array()\n",
        "target = pd.read_csv('target.csv')\n",
        "target['slide'] = target['slide'].str.replace(\".svs\", \".png\")\n",
        "\n",
        "test_target = target['target']\n",
        "CIFAR = False"
      ],
      "execution_count": 31,
      "outputs": [
        {
          "output_type": "stream",
          "text": [
            "Output1.zip\n",
            "Output1\n",
            "./Output1/Output\n",
            "(32, 32, 3)\n",
            "(32, 32, 3)\n",
            "(32, 32, 3)\n",
            "(32, 32, 3)\n",
            "(32, 32, 3)\n",
            "(32, 32, 3)\n",
            "(32, 32, 3)\n",
            "(32, 32, 3)\n",
            "(32, 32, 3)\n",
            "(32, 32, 3)\n",
            "(32, 32, 3)\n",
            "(32, 32, 3)\n",
            "(32, 32, 3)\n",
            "(32, 32, 3)\n",
            "(32, 32, 3)\n",
            "(32, 32, 3)\n",
            "(32, 32, 3)\n",
            "(32, 32, 3)\n",
            "(32, 32, 3)\n",
            "(32, 32, 3)\n"
          ],
          "name": "stdout"
        }
      ]
    },
    {
      "cell_type": "code",
      "metadata": {
        "id": "aDVt_PNX3DsN",
        "colab_type": "code",
        "outputId": "cc93def0-f53d-4b11-de1d-8c82fe3c6812",
        "colab": {
          "base_uri": "https://localhost:8080/",
          "height": 431
        }
      },
      "source": [
        "def visualize_cifar(train_data):\n",
        "  \"\"\" Visualizes the cifar-10 dataset using matplotlib. This helps give a greater understanding\n",
        "      of the items that are in the dataset\"\"\"\n",
        "  plt.figure(figsize=(7, 7))\n",
        "  for i in range(1, 10):\n",
        "    plt.subplot(3, 3, i)\n",
        "    plt.imshow(random.choice(train_data))\n",
        "\n",
        "\n",
        "visualize_cifar(X)"
      ],
      "execution_count": 32,
      "outputs": [
        {
          "output_type": "display_data",
          "data": {
            "image/png": "[encoded data removed]",
            "text/plain": [
              "<Figure size 504x504 with 9 Axes>"
            ]
          },
          "metadata": {
            "tags": []
          }
        }
      ]
    },
    {
      "cell_type": "markdown",
      "metadata": {
        "id": "h6Jr8Kf6w8aB",
        "colab_type": "text"
      },
      "source": [
        "## Examining Class Imbalance"
      ]
    },
    {
      "cell_type": "code",
      "metadata": {
        "id": "1LxHBJOhVt23",
        "colab_type": "code",
        "colab": {
          "base_uri": "https://localhost:8080/",
          "height": 281
        },
        "outputId": "f8edb3b3-e3ca-4b8a-bb49-48d498b5f6f6"
      },
      "source": [
        "target.hist()\n",
        "plt.show()"
      ],
      "execution_count": 33,
      "outputs": [
        {
          "output_type": "display_data",
          "data": {
            "image/png": "[encoded data removed]",
            "text/plain": [
              "<Figure size 432x288 with 1 Axes>"
            ]
          },
          "metadata": {
            "tags": []
          }
        }
      ]
    },
    {
      "cell_type": "code",
      "metadata": {
        "id": "PWhfCr9QCGVW",
        "colab_type": "code",
        "colab": {
          "base_uri": "https://localhost:8080/",
          "height": 51
        },
        "outputId": "1ede5918-27d5-433d-b2c0-abe6d9d3b0e5"
      },
      "source": [
        "no = test_target[test_target == 0]\n",
        "yes = test_target[test_target == 1]\n",
        "\n",
        "print(f\"NO CANCER has {len(no)} elements and CANCER has {len(yes)} elements\")\n",
        "\n",
        "class_weights = {0: len(no) / len(yes), 1: len(yes) / len(yes)}\n",
        "print(class_weights)"
      ],
      "execution_count": 34,
      "outputs": [
        {
          "output_type": "stream",
          "text": [
            "NO CANCER has 16 elements and CANCER has 4 elements\n",
            "{0: 4.0, 1: 1.0}\n"
          ],
          "name": "stdout"
        }
      ]
    },
    {
      "cell_type": "code",
      "metadata": {
        "id": "ZPJFC4BXHl7j",
        "colab_type": "code",
        "colab": {}
      },
      "source": [
        "ids = np.arange(len(yes))\n",
        "choices = np.random.choice(ids, len(no))\n",
        "sample_yes = yes[choices]"
      ],
      "execution_count": 0,
      "outputs": []
    },
    {
      "cell_type": "code",
      "metadata": {
        "id": "OmZE2FGZpU-9",
        "colab_type": "code",
        "colab": {
          "base_uri": "https://localhost:8080/",
          "height": 1000
        },
        "outputId": "1a405199-4182-4a65-bc64-81afb30e49d1"
      },
      "source": [
        "# Shuffle and split the data\n",
        "print(X.shape, test_target.shape)\n",
        "x_train, x_test, y_train, y_test = train_test_split(X, test_target, test_size=.4, \n",
        "                                                    random_state=42)\n",
        "x_train, x_val, y_train, y_val = train_test_split(x_train, y_train, \n",
        "                                                  test_size=.2, random_state=42)\n",
        "print(x_train)\n",
        "print()\n",
        "print(y_train)\n",
        "\n",
        "plt.imshow(x_train[0])"
      ],
      "execution_count": 35,
      "outputs": [
        {
          "output_type": "stream",
          "text": [
            "(20, 32, 32, 3) (20,)\n",
            "[[[[244 244 255]\n",
            "   [244 244 255]\n",
            "   [244 244 255]\n",
            "   ...\n",
            "   [243 243 255]\n",
            "   [243 243 255]\n",
            "   [242 243 255]]\n",
            "\n",
            "  [[244 244 255]\n",
            "   [244 244 255]\n",
            "   [244 244 255]\n",
            "   ...\n",
            "   [243 243 255]\n",
            "   [243 243 255]\n",
            "   [243 243 255]]\n",
            "\n",
            "  [[244 244 255]\n",
            "   [244 244 255]\n",
            "   [244 244 255]\n",
            "   ...\n",
            "   [243 243 255]\n",
            "   [243 243 255]\n",
            "   [243 243 255]]\n",
            "\n",
            "  ...\n",
            "\n",
            "  [[243 243 255]\n",
            "   [244 244 255]\n",
            "   [244 244 255]\n",
            "   ...\n",
            "   [243 243 255]\n",
            "   [243 243 255]\n",
            "   [242 242 255]]\n",
            "\n",
            "  [[241 241 255]\n",
            "   [244 244 255]\n",
            "   [244 244 255]\n",
            "   ...\n",
            "   [243 243 255]\n",
            "   [243 243 255]\n",
            "   [242 242 255]]\n",
            "\n",
            "  [[244 244 255]\n",
            "   [244 244 255]\n",
            "   [243 243 255]\n",
            "   ...\n",
            "   [243 243 255]\n",
            "   [243 243 255]\n",
            "   [242 242 255]]]\n",
            "\n",
            "\n",
            " [[[242 242 255]\n",
            "   [242 242 255]\n",
            "   [242 241 255]\n",
            "   ...\n",
            "   [242 242 255]\n",
            "   [242 242 255]\n",
            "   [242 241 255]]\n",
            "\n",
            "  [[242 242 255]\n",
            "   [242 241 255]\n",
            "   [242 241 255]\n",
            "   ...\n",
            "   [242 242 255]\n",
            "   [242 242 255]\n",
            "   [242 242 255]]\n",
            "\n",
            "  [[242 242 255]\n",
            "   [242 242 255]\n",
            "   [242 241 255]\n",
            "   ...\n",
            "   [242 242 255]\n",
            "   [242 242 255]\n",
            "   [242 242 255]]\n",
            "\n",
            "  ...\n",
            "\n",
            "  [[244 243 255]\n",
            "   [243 243 255]\n",
            "   [244 243 255]\n",
            "   ...\n",
            "   [244 243 255]\n",
            "   [243 243 255]\n",
            "   [244 243 255]]\n",
            "\n",
            "  [[244 243 255]\n",
            "   [244 243 255]\n",
            "   [244 243 255]\n",
            "   ...\n",
            "   [244 243 255]\n",
            "   [243 243 255]\n",
            "   [244 243 255]]\n",
            "\n",
            "  [[244 243 255]\n",
            "   [243 242 255]\n",
            "   [241 241 255]\n",
            "   ...\n",
            "   [244 243 255]\n",
            "   [244 243 255]\n",
            "   [244 243 255]]]\n",
            "\n",
            "\n",
            " [[[244 244 255]\n",
            "   [244 244 255]\n",
            "   [244 244 255]\n",
            "   ...\n",
            "   [240 241 255]\n",
            "   [244 245 255]\n",
            "   [230 230 255]]\n",
            "\n",
            "  [[244 244 255]\n",
            "   [244 244 255]\n",
            "   [244 244 255]\n",
            "   ...\n",
            "   [241 242 255]\n",
            "   [245 246 255]\n",
            "   [226 226 255]]\n",
            "\n",
            "  [[244 244 255]\n",
            "   [244 244 255]\n",
            "   [244 244 255]\n",
            "   ...\n",
            "   [242 242 255]\n",
            "   [246 246 255]\n",
            "   [225 225 255]]\n",
            "\n",
            "  ...\n",
            "\n",
            "  [[244 244 255]\n",
            "   [244 244 255]\n",
            "   [244 244 255]\n",
            "   ...\n",
            "   [239 241 255]\n",
            "   [241 242 255]\n",
            "   [230 230 255]]\n",
            "\n",
            "  [[244 244 255]\n",
            "   [244 244 255]\n",
            "   [244 244 255]\n",
            "   ...\n",
            "   [240 241 255]\n",
            "   [241 242 255]\n",
            "   [230 230 255]]\n",
            "\n",
            "  [[244 244 255]\n",
            "   [244 244 255]\n",
            "   [244 244 255]\n",
            "   ...\n",
            "   [240 241 255]\n",
            "   [241 242 255]\n",
            "   [230 230 255]]]\n",
            "\n",
            "\n",
            " ...\n",
            "\n",
            "\n",
            " [[[189 187 255]\n",
            "   [186 185 255]\n",
            "   [188 187 255]\n",
            "   ...\n",
            "   [217 215 255]\n",
            "   [199 197 255]\n",
            "   [197 195 255]]\n",
            "\n",
            "  [[250 250 255]\n",
            "   [251 251 255]\n",
            "   [250 250 255]\n",
            "   ...\n",
            "   [245 246 255]\n",
            "   [248 249 255]\n",
            "   [249 249 255]]\n",
            "\n",
            "  [[241 241 255]\n",
            "   [241 241 255]\n",
            "   [247 246 255]\n",
            "   ...\n",
            "   [242 242 255]\n",
            "   [242 242 255]\n",
            "   [242 242 255]]\n",
            "\n",
            "  ...\n",
            "\n",
            "  [[242 242 255]\n",
            "   [243 243 255]\n",
            "   [243 243 255]\n",
            "   ...\n",
            "   [233 232 255]\n",
            "   [242 242 255]\n",
            "   [242 242 255]]\n",
            "\n",
            "  [[242 242 255]\n",
            "   [242 242 255]\n",
            "   [243 243 255]\n",
            "   ...\n",
            "   [233 233 255]\n",
            "   [240 240 255]\n",
            "   [242 242 255]]\n",
            "\n",
            "  [[240 240 255]\n",
            "   [241 241 255]\n",
            "   [241 241 255]\n",
            "   ...\n",
            "   [235 236 255]\n",
            "   [234 233 255]\n",
            "   [241 241 255]]]\n",
            "\n",
            "\n",
            " [[[243 243 255]\n",
            "   [243 243 255]\n",
            "   [243 243 255]\n",
            "   ...\n",
            "   [241 242 255]\n",
            "   [241 242 255]\n",
            "   [241 242 255]]\n",
            "\n",
            "  [[243 243 255]\n",
            "   [243 243 255]\n",
            "   [243 243 255]\n",
            "   ...\n",
            "   [241 242 255]\n",
            "   [241 242 255]\n",
            "   [241 242 255]]\n",
            "\n",
            "  [[243 243 255]\n",
            "   [243 243 255]\n",
            "   [243 243 255]\n",
            "   ...\n",
            "   [241 243 255]\n",
            "   [241 242 255]\n",
            "   [241 242 255]]\n",
            "\n",
            "  ...\n",
            "\n",
            "  [[243 243 255]\n",
            "   [243 243 255]\n",
            "   [243 243 255]\n",
            "   ...\n",
            "   [242 242 255]\n",
            "   [242 242 255]\n",
            "   [242 242 255]]\n",
            "\n",
            "  [[243 243 255]\n",
            "   [243 243 255]\n",
            "   [243 243 255]\n",
            "   ...\n",
            "   [242 242 255]\n",
            "   [242 242 255]\n",
            "   [242 242 255]]\n",
            "\n",
            "  [[243 243 255]\n",
            "   [243 243 255]\n",
            "   [243 243 255]\n",
            "   ...\n",
            "   [242 242 255]\n",
            "   [242 242 255]\n",
            "   [242 242 255]]]\n",
            "\n",
            "\n",
            " [[[242 243 255]\n",
            "   [242 243 255]\n",
            "   [242 243 255]\n",
            "   ...\n",
            "   [243 243 255]\n",
            "   [242 243 255]\n",
            "   [243 243 255]]\n",
            "\n",
            "  [[242 243 255]\n",
            "   [242 243 255]\n",
            "   [242 243 255]\n",
            "   ...\n",
            "   [242 243 255]\n",
            "   [243 243 255]\n",
            "   [243 243 255]]\n",
            "\n",
            "  [[242 243 255]\n",
            "   [242 242 255]\n",
            "   [242 242 255]\n",
            "   ...\n",
            "   [242 243 255]\n",
            "   [243 243 255]\n",
            "   [243 243 255]]\n",
            "\n",
            "  ...\n",
            "\n",
            "  [[244 244 255]\n",
            "   [244 244 255]\n",
            "   [244 244 255]\n",
            "   ...\n",
            "   [243 243 255]\n",
            "   [244 243 255]\n",
            "   [243 243 255]]\n",
            "\n",
            "  [[244 243 255]\n",
            "   [244 244 255]\n",
            "   [244 244 255]\n",
            "   ...\n",
            "   [243 243 255]\n",
            "   [244 244 255]\n",
            "   [243 243 255]]\n",
            "\n",
            "  [[244 244 255]\n",
            "   [244 244 255]\n",
            "   [244 244 255]\n",
            "   ...\n",
            "   [243 243 255]\n",
            "   [243 243 255]\n",
            "   [243 243 255]]]]\n",
            "\n",
            "7     0\n",
            "19    0\n",
            "13    0\n",
            "16    0\n",
            "6     0\n",
            "9     0\n",
            "12    0\n",
            "2     0\n",
            "4     0\n",
            "Name: target, dtype: int64\n"
          ],
          "name": "stdout"
        },
        {
          "output_type": "execute_result",
          "data": {
            "text/plain": [
              "<matplotlib.image.AxesImage at 0x7f0053ad8898>"
            ]
          },
          "metadata": {
            "tags": []
          },
          "execution_count": 35
        },
        {
          "output_type": "display_data",
          "data": {
            "image/png": "[encoded data removed]",
            "text/plain": [
              "<Figure size 432x288 with 1 Axes>"
            ]
          },
          "metadata": {
            "tags": []
          }
        }
      ]
    },
    {
      "cell_type": "markdown",
      "metadata": {
        "id": "a5-btGY8rpox",
        "colab_type": "text"
      },
      "source": [
        "# Preprocessing the Data"
      ]
    },
    {
      "cell_type": "code",
      "metadata": {
        "id": "Rt9X9WIYsjV8",
        "colab_type": "code",
        "colab": {}
      },
      "source": [
        "def smooth_label(labels, epsillion):\n",
        "  \"\"\" Adds a smooth labeling to all the one-hot encoded labels to prevent overfitting\n",
        "      in the dataset: https://tinyurl.com/kerastricks\"\"\"\n",
        "  if 0 <= epsillion <= 1:\n",
        "    labels *= (1.0 - epsillion)\n",
        "    labels += (epsillion / labels.shape[1])\n",
        "  else:\n",
        "    raise Exception(\"Label smoothing factor should be between 0 and 1. Your factor is: \" + str(epsillion))\n",
        "  \n",
        "  return labels\n",
        "  "
      ],
      "execution_count": 0,
      "outputs": []
    },
    {
      "cell_type": "code",
      "metadata": {
        "id": "iGyhmazLz6j2",
        "colab_type": "code",
        "colab": {}
      },
      "source": [
        "def normalize_data(x_train, x_test):\n",
        "  \"\"\" Normalizes the data by dividing by subtracting the mean \n",
        "      and dividing by the standard deviation. Akin to scikit-learn's\n",
        "      StandardScaler.\"\"\"\n",
        "  mean_train, mean_test = np.mean(x_train), np.mean(x_test)\n",
        "  std_train, std_test = np.std(x_train), np.std(x_test)\n",
        "  return ((x_train - mean_train) / std_train, (x_test - mean_test) / std_test)\n",
        "  "
      ],
      "execution_count": 0,
      "outputs": []
    },
    {
      "cell_type": "markdown",
      "metadata": {
        "id": "lYkUvDWdihFI",
        "colab_type": "text"
      },
      "source": [
        "And now, we prepare the data for preprocessing!"
      ]
    },
    {
      "cell_type": "code",
      "metadata": {
        "id": "zWOYGbHqsnJz",
        "colab_type": "code",
        "colab": {
          "base_uri": "https://localhost:8080/",
          "height": 1000
        },
        "outputId": "47fb390d-d5b7-4fe9-c69f-8f0ab90bbdca"
      },
      "source": [
        "# ONLY FOR BREAST CANCER SLIDES\n",
        "NUM_CLASSES = 2\n",
        "BATCH_SIZE = 32\n",
        "\n",
        "x_train = x_train.astype(\"float32\")\n",
        "x_test = x_test.astype(\"float32\")\n",
        "x_train, x_test = normalize_data(x_train, x_test)\n",
        "y_train = tf.keras.utils.to_categorical(y_train, num_classes=NUM_CLASSES)\n",
        "y_test = tf.keras.utils.to_categorical(y_test, num_classes=NUM_CLASSES)\n",
        "smooth_label(y_train, 0.2)\n",
        "\n",
        "print(x_train, x_train.shape, y_train, y_train.shape)\n",
        "\n",
        "# Preprocessing the image dataset by artificially increasing the training data size\n",
        "# via rescaling, shifting, flipping and rotating the dataset.\n",
        "data_gen = tf.keras.preprocessing.image.ImageDataGenerator(\n",
        "    featurewise_center=False,\n",
        "    samplewise_center=False,\n",
        "    rotation_range=180,\n",
        "    featurewise_std_normalization=False,\n",
        "    samplewise_std_normalization=False,\n",
        "    width_shift_range=.5,\n",
        "    height_shift_range=.5,\n",
        "    horizontal_flip=True,\n",
        "    vertical_flip=True)\n",
        "\n",
        "data_gen.fit(x_train)"
      ],
      "execution_count": 38,
      "outputs": [
        {
          "output_type": "stream",
          "text": [
            "[[[[ 0.2982808   0.2982808   0.63029623]\n",
            "   [ 0.2982808   0.2982808   0.63029623]\n",
            "   [ 0.2982808   0.2982808   0.63029623]\n",
            "   ...\n",
            "   [ 0.26809758  0.26809758  0.63029623]\n",
            "   [ 0.26809758  0.26809758  0.63029623]\n",
            "   [ 0.23791437  0.26809758  0.63029623]]\n",
            "\n",
            "  [[ 0.2982808   0.2982808   0.63029623]\n",
            "   [ 0.2982808   0.2982808   0.63029623]\n",
            "   [ 0.2982808   0.2982808   0.63029623]\n",
            "   ...\n",
            "   [ 0.26809758  0.26809758  0.63029623]\n",
            "   [ 0.26809758  0.26809758  0.63029623]\n",
            "   [ 0.26809758  0.26809758  0.63029623]]\n",
            "\n",
            "  [[ 0.2982808   0.2982808   0.63029623]\n",
            "   [ 0.2982808   0.2982808   0.63029623]\n",
            "   [ 0.2982808   0.2982808   0.63029623]\n",
            "   ...\n",
            "   [ 0.26809758  0.26809758  0.63029623]\n",
            "   [ 0.26809758  0.26809758  0.63029623]\n",
            "   [ 0.26809758  0.26809758  0.63029623]]\n",
            "\n",
            "  ...\n",
            "\n",
            "  [[ 0.26809758  0.26809758  0.63029623]\n",
            "   [ 0.2982808   0.2982808   0.63029623]\n",
            "   [ 0.2982808   0.2982808   0.63029623]\n",
            "   ...\n",
            "   [ 0.26809758  0.26809758  0.63029623]\n",
            "   [ 0.26809758  0.26809758  0.63029623]\n",
            "   [ 0.23791437  0.23791437  0.63029623]]\n",
            "\n",
            "  [[ 0.20773116  0.20773116  0.63029623]\n",
            "   [ 0.2982808   0.2982808   0.63029623]\n",
            "   [ 0.2982808   0.2982808   0.63029623]\n",
            "   ...\n",
            "   [ 0.26809758  0.26809758  0.63029623]\n",
            "   [ 0.26809758  0.26809758  0.63029623]\n",
            "   [ 0.23791437  0.23791437  0.63029623]]\n",
            "\n",
            "  [[ 0.2982808   0.2982808   0.63029623]\n",
            "   [ 0.2982808   0.2982808   0.63029623]\n",
            "   [ 0.26809758  0.26809758  0.63029623]\n",
            "   ...\n",
            "   [ 0.26809758  0.26809758  0.63029623]\n",
            "   [ 0.26809758  0.26809758  0.63029623]\n",
            "   [ 0.23791437  0.23791437  0.63029623]]]\n",
            "\n",
            "\n",
            " [[[ 0.23791437  0.23791437  0.63029623]\n",
            "   [ 0.23791437  0.23791437  0.63029623]\n",
            "   [ 0.23791437  0.20773116  0.63029623]\n",
            "   ...\n",
            "   [ 0.23791437  0.23791437  0.63029623]\n",
            "   [ 0.23791437  0.23791437  0.63029623]\n",
            "   [ 0.23791437  0.20773116  0.63029623]]\n",
            "\n",
            "  [[ 0.23791437  0.23791437  0.63029623]\n",
            "   [ 0.23791437  0.20773116  0.63029623]\n",
            "   [ 0.23791437  0.20773116  0.63029623]\n",
            "   ...\n",
            "   [ 0.23791437  0.23791437  0.63029623]\n",
            "   [ 0.23791437  0.23791437  0.63029623]\n",
            "   [ 0.23791437  0.23791437  0.63029623]]\n",
            "\n",
            "  [[ 0.23791437  0.23791437  0.63029623]\n",
            "   [ 0.23791437  0.23791437  0.63029623]\n",
            "   [ 0.23791437  0.20773116  0.63029623]\n",
            "   ...\n",
            "   [ 0.23791437  0.23791437  0.63029623]\n",
            "   [ 0.23791437  0.23791437  0.63029623]\n",
            "   [ 0.23791437  0.23791437  0.63029623]]\n",
            "\n",
            "  ...\n",
            "\n",
            "  [[ 0.2982808   0.26809758  0.63029623]\n",
            "   [ 0.26809758  0.26809758  0.63029623]\n",
            "   [ 0.2982808   0.26809758  0.63029623]\n",
            "   ...\n",
            "   [ 0.2982808   0.26809758  0.63029623]\n",
            "   [ 0.26809758  0.26809758  0.63029623]\n",
            "   [ 0.2982808   0.26809758  0.63029623]]\n",
            "\n",
            "  [[ 0.2982808   0.26809758  0.63029623]\n",
            "   [ 0.2982808   0.26809758  0.63029623]\n",
            "   [ 0.2982808   0.26809758  0.63029623]\n",
            "   ...\n",
            "   [ 0.2982808   0.26809758  0.63029623]\n",
            "   [ 0.26809758  0.26809758  0.63029623]\n",
            "   [ 0.2982808   0.26809758  0.63029623]]\n",
            "\n",
            "  [[ 0.2982808   0.26809758  0.63029623]\n",
            "   [ 0.26809758  0.23791437  0.63029623]\n",
            "   [ 0.20773116  0.20773116  0.63029623]\n",
            "   ...\n",
            "   [ 0.2982808   0.26809758  0.63029623]\n",
            "   [ 0.2982808   0.26809758  0.63029623]\n",
            "   [ 0.2982808   0.26809758  0.63029623]]]\n",
            "\n",
            "\n",
            " [[[ 0.2982808   0.2982808   0.63029623]\n",
            "   [ 0.2982808   0.2982808   0.63029623]\n",
            "   [ 0.2982808   0.2982808   0.63029623]\n",
            "   ...\n",
            "   [ 0.17754793  0.20773116  0.63029623]\n",
            "   [ 0.2982808   0.32846403  0.63029623]\n",
            "   [-0.12428425 -0.12428425  0.63029623]]\n",
            "\n",
            "  [[ 0.2982808   0.2982808   0.63029623]\n",
            "   [ 0.2982808   0.2982808   0.63029623]\n",
            "   [ 0.2982808   0.2982808   0.63029623]\n",
            "   ...\n",
            "   [ 0.20773116  0.23791437  0.63029623]\n",
            "   [ 0.32846403  0.35864726  0.63029623]\n",
            "   [-0.24501713 -0.24501713  0.63029623]]\n",
            "\n",
            "  [[ 0.2982808   0.2982808   0.63029623]\n",
            "   [ 0.2982808   0.2982808   0.63029623]\n",
            "   [ 0.2982808   0.2982808   0.63029623]\n",
            "   ...\n",
            "   [ 0.23791437  0.23791437  0.63029623]\n",
            "   [ 0.35864726  0.35864726  0.63029623]\n",
            "   [-0.27520034 -0.27520034  0.63029623]]\n",
            "\n",
            "  ...\n",
            "\n",
            "  [[ 0.2982808   0.2982808   0.63029623]\n",
            "   [ 0.2982808   0.2982808   0.63029623]\n",
            "   [ 0.2982808   0.2982808   0.63029623]\n",
            "   ...\n",
            "   [ 0.14736472  0.20773116  0.63029623]\n",
            "   [ 0.20773116  0.23791437  0.63029623]\n",
            "   [-0.12428425 -0.12428425  0.63029623]]\n",
            "\n",
            "  [[ 0.2982808   0.2982808   0.63029623]\n",
            "   [ 0.2982808   0.2982808   0.63029623]\n",
            "   [ 0.2982808   0.2982808   0.63029623]\n",
            "   ...\n",
            "   [ 0.17754793  0.20773116  0.63029623]\n",
            "   [ 0.20773116  0.23791437  0.63029623]\n",
            "   [-0.12428425 -0.12428425  0.63029623]]\n",
            "\n",
            "  [[ 0.2982808   0.2982808   0.63029623]\n",
            "   [ 0.2982808   0.2982808   0.63029623]\n",
            "   [ 0.2982808   0.2982808   0.63029623]\n",
            "   ...\n",
            "   [ 0.17754793  0.20773116  0.63029623]\n",
            "   [ 0.20773116  0.23791437  0.63029623]\n",
            "   [-0.12428425 -0.12428425  0.63029623]]]\n",
            "\n",
            "\n",
            " ...\n",
            "\n",
            "\n",
            " [[[-1.3617963  -1.4221627   0.63029623]\n",
            "   [-1.4523458  -1.482529    0.63029623]\n",
            "   [-1.3919795  -1.4221627   0.63029623]\n",
            "   ...\n",
            "   [-0.5166661  -0.5770325   0.63029623]\n",
            "   [-1.0599641  -1.1203305   0.63029623]\n",
            "   [-1.1203305  -1.1806968   0.63029623]]\n",
            "\n",
            "  [[ 0.47938013  0.47938013  0.63029623]\n",
            "   [ 0.5095633   0.5095633   0.63029623]\n",
            "   [ 0.47938013  0.47938013  0.63029623]\n",
            "   ...\n",
            "   [ 0.32846403  0.35864726  0.63029623]\n",
            "   [ 0.41901368  0.4491969   0.63029623]\n",
            "   [ 0.4491969   0.4491969   0.63029623]]\n",
            "\n",
            "  [[ 0.20773116  0.20773116  0.63029623]\n",
            "   [ 0.20773116  0.20773116  0.63029623]\n",
            "   [ 0.38883048  0.35864726  0.63029623]\n",
            "   ...\n",
            "   [ 0.23791437  0.23791437  0.63029623]\n",
            "   [ 0.23791437  0.23791437  0.63029623]\n",
            "   [ 0.23791437  0.23791437  0.63029623]]\n",
            "\n",
            "  ...\n",
            "\n",
            "  [[ 0.23791437  0.23791437  0.63029623]\n",
            "   [ 0.26809758  0.26809758  0.63029623]\n",
            "   [ 0.26809758  0.26809758  0.63029623]\n",
            "   ...\n",
            "   [-0.03373459 -0.06391781  0.63029623]\n",
            "   [ 0.23791437  0.23791437  0.63029623]\n",
            "   [ 0.23791437  0.23791437  0.63029623]]\n",
            "\n",
            "  [[ 0.23791437  0.23791437  0.63029623]\n",
            "   [ 0.23791437  0.23791437  0.63029623]\n",
            "   [ 0.26809758  0.26809758  0.63029623]\n",
            "   ...\n",
            "   [-0.03373459 -0.03373459  0.63029623]\n",
            "   [ 0.17754793  0.17754793  0.63029623]\n",
            "   [ 0.23791437  0.23791437  0.63029623]]\n",
            "\n",
            "  [[ 0.17754793  0.17754793  0.63029623]\n",
            "   [ 0.20773116  0.20773116  0.63029623]\n",
            "   [ 0.20773116  0.20773116  0.63029623]\n",
            "   ...\n",
            "   [ 0.02663185  0.05681507  0.63029623]\n",
            "   [-0.00355137 -0.03373459  0.63029623]\n",
            "   [ 0.20773116  0.20773116  0.63029623]]]\n",
            "\n",
            "\n",
            " [[[ 0.26809758  0.26809758  0.63029623]\n",
            "   [ 0.26809758  0.26809758  0.63029623]\n",
            "   [ 0.26809758  0.26809758  0.63029623]\n",
            "   ...\n",
            "   [ 0.20773116  0.23791437  0.63029623]\n",
            "   [ 0.20773116  0.23791437  0.63029623]\n",
            "   [ 0.20773116  0.23791437  0.63029623]]\n",
            "\n",
            "  [[ 0.26809758  0.26809758  0.63029623]\n",
            "   [ 0.26809758  0.26809758  0.63029623]\n",
            "   [ 0.26809758  0.26809758  0.63029623]\n",
            "   ...\n",
            "   [ 0.20773116  0.23791437  0.63029623]\n",
            "   [ 0.20773116  0.23791437  0.63029623]\n",
            "   [ 0.20773116  0.23791437  0.63029623]]\n",
            "\n",
            "  [[ 0.26809758  0.26809758  0.63029623]\n",
            "   [ 0.26809758  0.26809758  0.63029623]\n",
            "   [ 0.26809758  0.26809758  0.63029623]\n",
            "   ...\n",
            "   [ 0.20773116  0.26809758  0.63029623]\n",
            "   [ 0.20773116  0.23791437  0.63029623]\n",
            "   [ 0.20773116  0.23791437  0.63029623]]\n",
            "\n",
            "  ...\n",
            "\n",
            "  [[ 0.26809758  0.26809758  0.63029623]\n",
            "   [ 0.26809758  0.26809758  0.63029623]\n",
            "   [ 0.26809758  0.26809758  0.63029623]\n",
            "   ...\n",
            "   [ 0.23791437  0.23791437  0.63029623]\n",
            "   [ 0.23791437  0.23791437  0.63029623]\n",
            "   [ 0.23791437  0.23791437  0.63029623]]\n",
            "\n",
            "  [[ 0.26809758  0.26809758  0.63029623]\n",
            "   [ 0.26809758  0.26809758  0.63029623]\n",
            "   [ 0.26809758  0.26809758  0.63029623]\n",
            "   ...\n",
            "   [ 0.23791437  0.23791437  0.63029623]\n",
            "   [ 0.23791437  0.23791437  0.63029623]\n",
            "   [ 0.23791437  0.23791437  0.63029623]]\n",
            "\n",
            "  [[ 0.26809758  0.26809758  0.63029623]\n",
            "   [ 0.26809758  0.26809758  0.63029623]\n",
            "   [ 0.26809758  0.26809758  0.63029623]\n",
            "   ...\n",
            "   [ 0.23791437  0.23791437  0.63029623]\n",
            "   [ 0.23791437  0.23791437  0.63029623]\n",
            "   [ 0.23791437  0.23791437  0.63029623]]]\n",
            "\n",
            "\n",
            " [[[ 0.23791437  0.26809758  0.63029623]\n",
            "   [ 0.23791437  0.26809758  0.63029623]\n",
            "   [ 0.23791437  0.26809758  0.63029623]\n",
            "   ...\n",
            "   [ 0.26809758  0.26809758  0.63029623]\n",
            "   [ 0.23791437  0.26809758  0.63029623]\n",
            "   [ 0.26809758  0.26809758  0.63029623]]\n",
            "\n",
            "  [[ 0.23791437  0.26809758  0.63029623]\n",
            "   [ 0.23791437  0.26809758  0.63029623]\n",
            "   [ 0.23791437  0.26809758  0.63029623]\n",
            "   ...\n",
            "   [ 0.23791437  0.26809758  0.63029623]\n",
            "   [ 0.26809758  0.26809758  0.63029623]\n",
            "   [ 0.26809758  0.26809758  0.63029623]]\n",
            "\n",
            "  [[ 0.23791437  0.26809758  0.63029623]\n",
            "   [ 0.23791437  0.23791437  0.63029623]\n",
            "   [ 0.23791437  0.23791437  0.63029623]\n",
            "   ...\n",
            "   [ 0.23791437  0.26809758  0.63029623]\n",
            "   [ 0.26809758  0.26809758  0.63029623]\n",
            "   [ 0.26809758  0.26809758  0.63029623]]\n",
            "\n",
            "  ...\n",
            "\n",
            "  [[ 0.2982808   0.2982808   0.63029623]\n",
            "   [ 0.2982808   0.2982808   0.63029623]\n",
            "   [ 0.2982808   0.2982808   0.63029623]\n",
            "   ...\n",
            "   [ 0.26809758  0.26809758  0.63029623]\n",
            "   [ 0.2982808   0.26809758  0.63029623]\n",
            "   [ 0.26809758  0.26809758  0.63029623]]\n",
            "\n",
            "  [[ 0.2982808   0.26809758  0.63029623]\n",
            "   [ 0.2982808   0.2982808   0.63029623]\n",
            "   [ 0.2982808   0.2982808   0.63029623]\n",
            "   ...\n",
            "   [ 0.26809758  0.26809758  0.63029623]\n",
            "   [ 0.2982808   0.2982808   0.63029623]\n",
            "   [ 0.26809758  0.26809758  0.63029623]]\n",
            "\n",
            "  [[ 0.2982808   0.2982808   0.63029623]\n",
            "   [ 0.2982808   0.2982808   0.63029623]\n",
            "   [ 0.2982808   0.2982808   0.63029623]\n",
            "   ...\n",
            "   [ 0.26809758  0.26809758  0.63029623]\n",
            "   [ 0.26809758  0.26809758  0.63029623]\n",
            "   [ 0.26809758  0.26809758  0.63029623]]]] (9, 32, 32, 3) [[0.90000004 0.1       ]\n",
            " [0.90000004 0.1       ]\n",
            " [0.90000004 0.1       ]\n",
            " [0.90000004 0.1       ]\n",
            " [0.90000004 0.1       ]\n",
            " [0.90000004 0.1       ]\n",
            " [0.90000004 0.1       ]\n",
            " [0.90000004 0.1       ]\n",
            " [0.90000004 0.1       ]] (9, 2)\n"
          ],
          "name": "stdout"
        }
      ]
    },
    {
      "cell_type": "markdown",
      "metadata": {
        "id": "0dAfCyApD7Ru",
        "colab_type": "text"
      },
      "source": [
        "# Building The Model\n",
        "The models were built by using a combination of methods from the Inceptionv3 model and the VGGNet models that are on Github. The layers used are given in the imports in the first code cell."
      ]
    },
    {
      "cell_type": "code",
      "metadata": {
        "id": "w35xI_1T8-07",
        "colab_type": "code",
        "colab": {
          "base_uri": "https://localhost:8080/",
          "height": 306
        },
        "outputId": "d50ae5ed-a210-4dd5-8be4-6302b3143473"
      },
      "source": [
        "def cifar_net(reg_factor):\n",
        "    model = tf.keras.models.Sequential()\n",
        "\n",
        "    # Layer 1\n",
        "    model.add(tf.keras.layers.Conv2D(128, (3, 3), kernel_initializer=tf.keras.initializers.he_normal(), \n",
        "                                     input_shape=(32, 32, 3),\n",
        "    padding=\"same\", kernel_regularizer=tf.keras.regularizers.l2(reg_factor)))\n",
        "    model.add(tf.keras.layers.BatchNormalization())\n",
        "    model.add(tf.keras.layers.LeakyReLU())\n",
        "    model.add(tf.keras.layers.Conv2D(128, (1, 3), padding=\"same\", kernel_regularizer=tf.keras.regularizers.l2(reg_factor)))\n",
        "    model.add(tf.keras.layers.BatchNormalization())\n",
        "    model.add(tf.keras.layers.LeakyReLU())\n",
        "\n",
        "\n",
        "    model.add(tf.keras.layers.MaxPooling2D(2, 2))\n",
        "\n",
        "    # Layer 2\n",
        "    model.add(tf.keras.layers.Conv2D(256, (3, 1), padding=\"same\", kernel_regularizer=tf.keras.regularizers.l2(reg_factor)))\n",
        "    model.add(tf.keras.layers.BatchNormalization())\n",
        "    model.add(tf.keras.layers.LeakyReLU())\n",
        "    model.add(tf.keras.layers.Conv2D(256, 1, padding=\"same\", kernel_regularizer=tf.keras.regularizers.l2(reg_factor)))\n",
        "    model.add(tf.keras.layers.BatchNormalization())\n",
        "    model.add(tf.keras.layers.LeakyReLU())\n",
        "\n",
        "\n",
        "    model.add(tf.keras.layers.Conv2D(256, (1, 3), padding=\"same\", kernel_regularizer=tf.keras.regularizers.l2(reg_factor)))\n",
        "    model.add(tf.keras.layers.BatchNormalization())\n",
        "    model.add(tf.keras.layers.LeakyReLU())\n",
        "\n",
        "    model.add(tf.keras.layers.MaxPooling2D(2, 2))\n",
        "    model.add(tf.keras.layers.Dropout(.2))\n",
        "\n",
        "    # Layer 3\n",
        "    model.add(tf.keras.layers.Conv2D(512, (3, 1), padding=\"same\", kernel_regularizer=tf.keras.regularizers.l2(reg_factor)))\n",
        "    model.add(tf.keras.layers.BatchNormalization())\n",
        "    model.add(tf.keras.layers.LeakyReLU())\n",
        "    model.add(tf.keras.layers.Conv2D(512, (1, 3), padding=\"same\", kernel_regularizer=tf.keras.regularizers.l2(reg_factor)))\n",
        "    model.add(tf.keras.layers.BatchNormalization())\n",
        "    model.add(tf.keras.layers.LeakyReLU())\n",
        "\n",
        "    model.add(tf.keras.layers.MaxPooling2D(2, 2))\n",
        "\n",
        "    # Layer 4\n",
        "    model.add(tf.keras.layers.Conv2D(1024, (3, 1), padding=\"same\", kernel_regularizer=tf.keras.regularizers.l2(reg_factor)))\n",
        "    model.add(tf.keras.layers.BatchNormalization())\n",
        "    model.add(tf.keras.layers.LeakyReLU())\n",
        "    model.add(tf.keras.layers.Conv2D(1024, (1, 3), padding=\"same\", kernel_regularizer=tf.keras.regularizers.l2(reg_factor)))\n",
        "    model.add(tf.keras.layers.BatchNormalization())\n",
        "    model.add(tf.keras.layers.LeakyReLU())\n",
        "    model.add(tf.keras.layers.MaxPooling2D(2, 2))\n",
        "\n",
        "\n",
        "    # Layer 5\n",
        "    model.add(tf.keras.layers.Conv2D(2056, (3, 1), padding=\"same\", kernel_regularizer=tf.keras.regularizers.l2(reg_factor)))\n",
        "    model.add(tf.keras.layers.BatchNormalization())\n",
        "    model.add(tf.keras.layers.LeakyReLU())\n",
        "\n",
        "    model.add(tf.keras.layers.Conv2D(2056, (1, 3), padding=\"same\", kernel_regularizer=tf.keras.regularizers.l2(reg_factor)))\n",
        "    model.add(tf.keras.layers.BatchNormalization())\n",
        "    model.add(tf.keras.layers.LeakyReLU())\n",
        "\n",
        "\n",
        "    model.add(tf.keras.layers.MaxPooling2D(1, 1))\n",
        "    model.add(tf.keras.layers.Dropout(.2))\n",
        "\n",
        "    #   Layer 6\n",
        "    #   model.add(tf.keras.layers.Flatten())\n",
        "    #   model.add(tf.keras.layers.Dense(2056, kernel_regularizer=tf.keras.regularizers.l2(reg_factor)))\n",
        "    #   model.add(tf.keras.layers.Activation('relu'))\n",
        "    #   # model.add(tf.keras.layers.BatchNormalization())\n",
        "\n",
        "    #   # Layer 7\n",
        "    #   model.add(tf.keras.layers.Dense(2056, kernel_regularizer=tf.keras.regularizers.l2(reg_factor)))\n",
        "    #   model.add(tf.keras.layers.Activation('relu'))\n",
        "    #   # model.add(tf.keras.layers.BatchNormalization())\n",
        "\n",
        "    #   # Layer 8\n",
        "    #   model.add(tf.keras.layers.Dense(1024, kernel_regularizer=tf.keras.regularizers.l2(reg_factor)))\n",
        "    #   model.add(tf.keras.layers.Activation('relu'))\n",
        "    #   model.add(tf.keras.layers.BatchNormalization())\n",
        "    #   model.add(tf.keras.layers.Dropout(.2))\n",
        "\n",
        "    # Layer 9\n",
        "    model.add(tf.keras.layers.AveragePooling2D())\n",
        "    model.add(tf.keras.layers.Flatten())\n",
        "    model.add(tf.keras.layers.Dense(NUM_CLASSES))\n",
        "    model.add(tf.keras.layers.Activation('softmax'))\n",
        "\n",
        "    return model\n",
        "no"
      ],
      "execution_count": 39,
      "outputs": [
        {
          "output_type": "execute_result",
          "data": {
            "text/plain": [
              "2     0\n",
              "3     0\n",
              "4     0\n",
              "5     0\n",
              "6     0\n",
              "7     0\n",
              "8     0\n",
              "9     0\n",
              "10    0\n",
              "11    0\n",
              "12    0\n",
              "13    0\n",
              "14    0\n",
              "15    0\n",
              "16    0\n",
              "19    0\n",
              "Name: target, dtype: int64"
            ]
          },
          "metadata": {
            "tags": []
          },
          "execution_count": 39
        }
      ]
    },
    {
      "cell_type": "code",
      "metadata": {
        "id": "LvUGbVOWJrp1",
        "colab_type": "code",
        "colab": {}
      },
      "source": [
        "def cancer_net(output_bias=None, reg_factor=.4):\n",
        "    if output_bias is not None:\n",
        "      output_bias = tf.keras.initializers.Constant(output_bias)\n",
        "    \n",
        "    \n",
        "    model = tf.keras.models.Sequential(name=\"Breast Cancer Net\")\n",
        "\n",
        "    # Layer 1\n",
        "    model.add(tf.keras.layers.Conv2D(8, (3, 3), kernel_initializer=tf.keras.initializers.he_normal(), \n",
        "                input_shape=(32, 32, 3), kernel_constraint=tf.keras.constraints.max_norm(1, axis=[0, 1, 2]),\n",
        "    padding=\"same\", kernel_regularizer=tf.keras.regularizers.l2(reg_factor)))\n",
        " #   model.add(tf.keras.layers.BatchNormalization())\n",
        "    model.add(tf.keras.layers.Activation('elu'))\n",
        "\n",
        "    model.add(tf.keras.layers.MaxPooling2D(2, 2))\n",
        "\n",
        "    # Layer 2\n",
        "    model.add(tf.keras.layers.Conv2D(16, (3, 1), padding=\"same\", kernel_constraint=tf.keras.constraints.max_norm(1, axis=[0, 1, 2]), kernel_regularizer=tf.keras.regularizers.l2(reg_factor)))\n",
        "  #  model.add(tf.keras.layers.BatchNormalization())\n",
        "    model.add(tf.keras.layers.Activation('elu'))\n",
        "\n",
        "    model.add(tf.keras.layers.MaxPooling2D(2, 2))\n",
        "\n",
        "    # Layer 3\n",
        "    model.add(tf.keras.layers.Conv2D(16, (1, 3), padding=\"same\", kernel_constraint=tf.keras.constraints.max_norm(1, axis=[0, 1, 2]), kernel_regularizer=tf.keras.regularizers.l2(reg_factor)))\n",
        "    model.add(tf.keras.layers.BatchNormalization())\n",
        "    model.add(tf.keras.layers.Activation('elu'))\n",
        "\n",
        "   # model.add(tf.keras.layers.MaxPooling2D(2, 2))\n",
        "    model.add(tf.keras.layers.Dropout(.3))\n",
        "\n",
        "    # Layer 4\n",
        "    model.add(tf.keras.layers.Conv2D(32, (3, 1), padding=\"same\", kernel_constraint=tf.keras.constraints.max_norm(1, axis=[0, 1, 2]),  kernel_regularizer=tf.keras.regularizers.l2(reg_factor)))\n",
        " #   model.add(tf.keras.layers.BatchNormalization())\n",
        "    model.add(tf.keras.layers.Activation('elu'))\n",
        "\n",
        "    model.add(tf.keras.layers.MaxPooling2D(2, 2))\n",
        "\n",
        "    # Layer 5\n",
        "    model.add(tf.keras.layers.Conv2D(32, (1, 3), padding=\"same\", kernel_constraint=tf.keras.constraints.max_norm(1, axis=[0, 1, 2]), kernel_regularizer=tf.keras.regularizers.l2(reg_factor)))\n",
        "    model.add(tf.keras.layers.BatchNormalization())\n",
        "    model.add(tf.keras.layers.Activation('elu'))\n",
        "\n",
        "\n",
        "\n",
        "    model.add(tf.keras.layers.Conv2D(32, (3, 1), padding=\"same\", kernel_constraint=tf.keras.constraints.max_norm(1, axis=[0, 1, 2]),  kernel_regularizer=tf.keras.regularizers.l2(reg_factor)))\n",
        " #   model.add(tf.keras.layers.BatchNormalization())\n",
        "    model.add(tf.keras.layers.Activation('relu'))\n",
        "    model.add(tf.keras.layers.Dropout(.5))\n",
        "\n",
        "    model.add(tf.keras.layers.MaxPooling2D(2, 2))\n",
        "\n",
        "      #Layer 6\n",
        "    model.add(tf.keras.layers.Flatten())\n",
        "    model.add(tf.keras.layers.Dense(128, kernel_constraint=tf.keras.constraints.max_norm(1, axis=0), kernel_regularizer=tf.keras.regularizers.l2(reg_factor)))\n",
        "    model.add(tf.keras.layers.Activation('relu'))\n",
        "   # model.add(tf.keras.layers.BatchNormalization())\n",
        "\n",
        "    model.add(tf.keras.layers.Dropout(.4))\n",
        "\n",
        "    # Layer 8\n",
        "    model.add(tf.keras.layers.Dense(128, kernel_constraint=tf.keras.constraints.max_norm(1, axis=0), kernel_regularizer=tf.keras.regularizers.l2(reg_factor)))\n",
        "    model.add(tf.keras.layers.Activation('relu'))\n",
        "    #model.add(tf.keras.layers.BatchNormalization())\n",
        "    model.add(tf.keras.layers.Dropout(.3))\n",
        "\n",
        "    # Layer 9\n",
        "    model.add(tf.keras.layers.Flatten())\n",
        "    model.add(tf.keras.layers.Dense(NUM_CLASSES, bias_initializer=output_bias) )\n",
        "    model.add(tf.keras.layers.Activation('sigmoid'))\n",
        "\n",
        "    return model\n"
      ],
      "execution_count": 0,
      "outputs": []
    },
    {
      "cell_type": "markdown",
      "metadata": {
        "id": "y3aRBjBUi12H",
        "colab_type": "text"
      },
      "source": [
        "Now, we print the models to see their summary and number of parameters in each."
      ]
    },
    {
      "cell_type": "code",
      "metadata": {
        "id": "JH1We1lv0yDL",
        "colab_type": "code",
        "colab": {
          "base_uri": "https://localhost:8080/",
          "height": 1000
        },
        "outputId": "ce59a541-4a9b-4a4d-aca9-082bda869126"
      },
      "source": [
        "output_bias = np.log([len(yes) / len(no)])\n",
        "print(output_bias)\n",
        "\n",
        "model2 = cancer_net(output_bias)\n",
        "model2.summary()\n",
        "print()"
      ],
      "execution_count": 41,
      "outputs": [
        {
          "output_type": "stream",
          "text": [
            "[-1.38629436]\n",
            "Model: \"Breast Cancer Net\"\n",
            "_________________________________________________________________\n",
            "Layer (type)                 Output Shape              Param #   \n",
            "=================================================================\n",
            "conv2d_12 (Conv2D)           (None, 32, 32, 8)         224       \n",
            "_________________________________________________________________\n",
            "activation_18 (Activation)   (None, 32, 32, 8)         0         \n",
            "_________________________________________________________________\n",
            "max_pooling2d_8 (MaxPooling2 (None, 16, 16, 8)         0         \n",
            "_________________________________________________________________\n",
            "conv2d_13 (Conv2D)           (None, 16, 16, 16)        400       \n",
            "_________________________________________________________________\n",
            "activation_19 (Activation)   (None, 16, 16, 16)        0         \n",
            "_________________________________________________________________\n",
            "max_pooling2d_9 (MaxPooling2 (None, 8, 8, 16)          0         \n",
            "_________________________________________________________________\n",
            "conv2d_14 (Conv2D)           (None, 8, 8, 16)          784       \n",
            "_________________________________________________________________\n",
            "batch_normalization_4 (Batch (None, 8, 8, 16)          64        \n",
            "_________________________________________________________________\n",
            "activation_20 (Activation)   (None, 8, 8, 16)          0         \n",
            "_________________________________________________________________\n",
            "dropout_8 (Dropout)          (None, 8, 8, 16)          0         \n",
            "_________________________________________________________________\n",
            "conv2d_15 (Conv2D)           (None, 8, 8, 32)          1568      \n",
            "_________________________________________________________________\n",
            "activation_21 (Activation)   (None, 8, 8, 32)          0         \n",
            "_________________________________________________________________\n",
            "max_pooling2d_10 (MaxPooling (None, 4, 4, 32)          0         \n",
            "_________________________________________________________________\n",
            "conv2d_16 (Conv2D)           (None, 4, 4, 32)          3104      \n",
            "_________________________________________________________________\n",
            "batch_normalization_5 (Batch (None, 4, 4, 32)          128       \n",
            "_________________________________________________________________\n",
            "activation_22 (Activation)   (None, 4, 4, 32)          0         \n",
            "_________________________________________________________________\n",
            "conv2d_17 (Conv2D)           (None, 4, 4, 32)          3104      \n",
            "_________________________________________________________________\n",
            "activation_23 (Activation)   (None, 4, 4, 32)          0         \n",
            "_________________________________________________________________\n",
            "dropout_9 (Dropout)          (None, 4, 4, 32)          0         \n",
            "_________________________________________________________________\n",
            "max_pooling2d_11 (MaxPooling (None, 2, 2, 32)          0         \n",
            "_________________________________________________________________\n",
            "flatten_4 (Flatten)          (None, 128)               0         \n",
            "_________________________________________________________________\n",
            "dense_6 (Dense)              (None, 128)               16512     \n",
            "_________________________________________________________________\n",
            "activation_24 (Activation)   (None, 128)               0         \n",
            "_________________________________________________________________\n",
            "dropout_10 (Dropout)         (None, 128)               0         \n",
            "_________________________________________________________________\n",
            "dense_7 (Dense)              (None, 128)               16512     \n",
            "_________________________________________________________________\n",
            "activation_25 (Activation)   (None, 128)               0         \n",
            "_________________________________________________________________\n",
            "dropout_11 (Dropout)         (None, 128)               0         \n",
            "_________________________________________________________________\n",
            "flatten_5 (Flatten)          (None, 128)               0         \n",
            "_________________________________________________________________\n",
            "dense_8 (Dense)              (None, 2)                 258       \n",
            "_________________________________________________________________\n",
            "activation_26 (Activation)   (None, 2)                 0         \n",
            "=================================================================\n",
            "Total params: 42,658\n",
            "Trainable params: 42,562\n",
            "Non-trainable params: 96\n",
            "_________________________________________________________________\n",
            "\n"
          ],
          "name": "stdout"
        }
      ]
    },
    {
      "cell_type": "markdown",
      "metadata": {
        "id": "WM3f-PcnR-YP",
        "colab_type": "text"
      },
      "source": [
        "# Executing the Model\n",
        "Now, the model built above will be executed with the training set. If there are more than one GPUs on the computer this file is being called in, then it will parallelize the model between the GPUs, else it will execute on the one GPU and CPU. "
      ]
    },
    {
      "cell_type": "code",
      "metadata": {
        "id": "ApLHVEugUVNu",
        "colab_type": "code",
        "colab": {
          "base_uri": "https://localhost:8080/",
          "height": 68
        },
        "outputId": "cd6d18e3-8bfd-4d1f-ca85-a9bc65b226e8"
      },
      "source": [
        "print(tf.keras.__version__)\n",
        "devices = device_lib.list_local_devices()\n",
        "learning_rate = 1e-3\n",
        "decay_rate = 1\n",
        "gpus = [devices[i].device_type in devices for (i, device) in enumerate(devices) if \"GPU\" in devices[i].device_type]\n",
        "print(gpus)\n",
        "\n",
        "T = len(x_train) // len(gpus)\n",
        "print(T)\n",
        "isParallel = any(gpus)"
      ],
      "execution_count": 42,
      "outputs": [
        {
          "output_type": "stream",
          "text": [
            "2.2.4-tf\n",
            "[False, False]\n",
            "4\n"
          ],
          "name": "stdout"
        }
      ]
    },
    {
      "cell_type": "code",
      "metadata": {
        "id": "s8js8AsiYjL6",
        "colab_type": "code",
        "colab": {}
      },
      "source": [
        "def schedule_lr(epoch, lr):\n",
        "  return 1 / (1 + decay_rate * epoch) * learning_rate\n",
        "\n",
        "schedule_lr = tf.keras.callbacks.LearningRateScheduler(schedule_lr, verbose=1)"
      ],
      "execution_count": 0,
      "outputs": []
    },
    {
      "cell_type": "code",
      "metadata": {
        "id": "SgWdaTzVaK72",
        "colab_type": "code",
        "colab": {}
      },
      "source": [
        "def results_to_file(results, file_name=\"test.txt\"):\n",
        "  if not results:\n",
        "    raise TypeError('No dictionary to save to file')\n",
        "  with open(file_name, 'w+') as file:\n",
        "    print(str(results), file=file)\n",
        "  print('Success saving to file!')"
      ],
      "execution_count": 0,
      "outputs": []
    },
    {
      "cell_type": "code",
      "metadata": {
        "id": "01wmaqL7QAe4",
        "colab_type": "code",
        "colab": {
          "base_uri": "https://localhost:8080/",
          "height": 615
        },
        "outputId": "e061180a-46dd-4bad-82dd-e549e4608478"
      },
      "source": [
        "optimizer = tf.keras.optimizers.SGD(lr=learning_rate, momentum=0.9, \n",
        "                                    nesterov = True)\n",
        "EPOCHS = 300\n",
        "BATCH_SIZE = 128\n",
        "\n",
        "history = None\n",
        "print(y_test)\n",
        "if isParallel:\n",
        "  print('GPUs parallelized!')\n",
        "  model2 = tf.keras.utils.multi_gpu_model(model2, 2)\n",
        "  model2.compile(optimizer=optimizer, loss=\"categorical_crossentropy\", metrics=\n",
        "                 [tf.keras.metrics.Precision(name = 'precision'), tf.keras.metrics.AUC(name=\"auc\"), \n",
        "                  tf.keras.metrics.BinaryAccuracy(name=\"binary_acc\"), tf.keras.metrics.Recall(name='recall')])\n",
        "  \n",
        "  history = multi_gpu_model.fit_generator(data_gen.flow(x_train, y_train, batch_size=BATCH_SIZE),\n",
        "                      steps_per_epoch=(x_train.shape[0] // BATCH_SIZE), epochs=EPOCHS,\n",
        "                      validation_data=(x_val, y_val), class_weight=class_weights)\n",
        "  results_to_file(history.history, 'model2-l2perfect=' + str(reg_factor) + '.txt')\n",
        "else:\n",
        "  print('CPU Compilation')\n",
        "\n",
        "  model2.compile(optimizer=optimizer, loss=\"binary_crossentropy\",\n",
        "                metrics=[tf.keras.metrics.Precision(name = 'precision'), tf.keras.metrics.AUC(name=\"auc\"), \n",
        "                         tf.keras.metrics.BinaryAccuracy(name=\"binary_acc\"), tf.keras.metrics.Recall(name='recall')])\n",
        "  \n",
        "  history = model2.fit_generator(data_gen.flow(x_train, y_train, batch_size=test_batch),\n",
        "                      steps_per_epoch=(x_train.shape[0] // test_batch), epochs=EPOCHS,\n",
        "                      validation_data=(x_test, y_test), class_weight=class_weights)\n",
        "  results_to_file(history.history, 'model2perfect.txt')"
      ],
      "execution_count": 65,
      "outputs": [
        {
          "output_type": "stream",
          "text": [
            "[[0. 1.]\n",
            " [0. 1.]\n",
            " [1. 0.]\n",
            " [0. 1.]\n",
            " [1. 0.]\n",
            " [1. 0.]\n",
            " [1. 0.]\n",
            " [1. 0.]]\n",
            "CPU Compilation\n",
            "Epoch 1/6\n",
            "1/2 [==============>...............] - ETA: 1s - loss: 145.6162 - precision: 1.0000 - auc: 0.0000e+00 - binary_acc: 0.0000e+00 - recall: 0.1250Epoch 1/6\n",
            "8/2 [========================================================================================================================] - 1s 73ms/sample - loss: 142.4032 - precision: 0.0000e+00 - auc: 0.5625 - binary_acc: 0.5000 - recall: 0.0000e+00\n",
            "2/2 [==============================] - 3s 1s/step - loss: 145.5569 - precision: 1.0000 - auc: 0.0000e+00 - binary_acc: 0.0000e+00 - recall: 0.1000 - val_loss: 142.3969 - val_precision: 0.0000e+00 - val_auc: 0.5625 - val_binary_acc: 0.5000 - val_recall: 0.0000e+00\n",
            "Epoch 2/6\n",
            "1/2 [==============>...............] - ETA: 1s - loss: 144.8156 - precision: 1.0000 - auc: 0.0000e+00 - binary_acc: 0.0000e+00 - recall: 0.1250Epoch 1/6\n",
            "8/2 [========================================================================================================================] - 1s 80ms/sample - loss: 140.6953 - precision: 0.0000e+00 - auc: 0.4844 - binary_acc: 0.5000 - recall: 0.0000e+00\n",
            "2/2 [==============================] - 2s 989ms/step - loss: 143.9591 - precision: 1.0000 - auc: 0.0000e+00 - binary_acc: 0.0000e+00 - recall: 0.2000 - val_loss: 140.6922 - val_precision: 0.0000e+00 - val_auc: 0.4844 - val_binary_acc: 0.5000 - val_recall: 0.0000e+00\n",
            "Epoch 3/6\n",
            "1/2 [==============>...............] - ETA: 1s - loss: 141.5620 - precision: 1.0000 - auc: 0.0000e+00 - binary_acc: 0.0000e+00 - recall: 0.3750Epoch 1/6\n",
            "8/2 [========================================================================================================================] - 1s 85ms/sample - loss: 138.4027 - precision: 0.0000e+00 - auc: 0.4531 - binary_acc: 0.5000 - recall: 0.0000e+00\n",
            "2/2 [==============================] - 2s 1s/step - loss: 140.9899 - precision: 1.0000 - auc: 0.0000e+00 - binary_acc: 0.0000e+00 - recall: 0.5000 - val_loss: 138.4907 - val_precision: 0.0000e+00 - val_auc: 0.4531 - val_binary_acc: 0.5000 - val_recall: 0.0000e+00\n",
            "Epoch 4/6\n",
            "1/2 [==============>...............] - ETA: 1s - loss: 138.9987 - precision: 1.0000 - auc: 0.0000e+00 - binary_acc: 0.0000e+00 - recall: 0.5000Epoch 1/6\n",
            "8/2 [========================================================================================================================] - 1s 90ms/sample - loss: 135.7965 - precision: 0.0000e+00 - auc: 0.4375 - binary_acc: 0.5000 - recall: 0.0000e+00\n",
            "2/2 [==============================] - 2s 1s/step - loss: 138.4761 - precision: 1.0000 - auc: 0.0000e+00 - binary_acc: 0.0000e+00 - recall: 0.5000 - val_loss: 135.9011 - val_precision: 0.0000e+00 - val_auc: 0.4375 - val_binary_acc: 0.5000 - val_recall: 0.0000e+00\n",
            "Epoch 5/6\n",
            "1/2 [==============>...............] - ETA: 1s - loss: 136.6279 - precision: 1.0000 - auc: 0.0000e+00 - binary_acc: 0.0000e+00 - recall: 0.5000Epoch 1/6\n",
            "8/2 [========================================================================================================================] - 1s 94ms/sample - loss: 132.9015 - precision: 0.0000e+00 - auc: 0.4375 - binary_acc: 0.5000 - recall: 0.0000e+00\n",
            "2/2 [==============================] - 2s 1s/step - loss: 135.9141 - precision: 1.0000 - auc: 0.0000e+00 - binary_acc: 0.0000e+00 - recall: 0.5000 - val_loss: 133.0163 - val_precision: 0.0000e+00 - val_auc: 0.4375 - val_binary_acc: 0.5000 - val_recall: 0.0000e+00\n",
            "Epoch 6/6\n",
            "1/2 [==============>...............] - ETA: 1s - loss: 133.6382 - precision: 1.0000 - auc: 0.0000e+00 - binary_acc: 0.0000e+00 - recall: 0.5000Epoch 1/6\n",
            "8/2 [========================================================================================================================] - 1s 100ms/sample - loss: 129.7945 - precision: 0.0000e+00 - auc: 0.4453 - binary_acc: 0.5000 - recall: 0.0000e+00\n",
            "2/2 [==============================] - 2s 1s/step - loss: 132.7693 - precision: 1.0000 - auc: 0.0000e+00 - binary_acc: 0.0000e+00 - recall: 0.5000 - val_loss: 129.9185 - val_precision: 0.0000e+00 - val_auc: 0.4453 - val_binary_acc: 0.5000 - val_recall: 0.0000e+00\n",
            "Success saving to file!\n"
          ],
          "name": "stdout"
        }
      ]
    },
    {
      "cell_type": "markdown",
      "metadata": {
        "id": "o7fsu-jRDxl1",
        "colab_type": "text"
      },
      "source": [
        "# Analyzing Results\n",
        "Currently, the best results give a constant validation binary accuracy of .7564."
      ]
    },
    {
      "cell_type": "code",
      "metadata": {
        "id": "BSiqsgjNBHJr",
        "colab_type": "code",
        "colab": {
          "base_uri": "https://localhost:8080/",
          "height": 139
        },
        "outputId": "4918758d-5abd-4ce5-8bb2-b5cfbd0a1133"
      },
      "source": [
        "main_results = model2.evaluate(x_train, y_train, batch_size=BATCH_SIZE, verbose=1)\n",
        "for metric, result in zip(model2.metrics_names, main_results):\n",
        "  print(metric, \" : \", result)"
      ],
      "execution_count": 66,
      "outputs": [
        {
          "output_type": "stream",
          "text": [
            "\r9/9 [==============================] - 0s 641us/sample - loss: 129.7152 - precision: 0.0000e+00 - auc: 0.0000e+00 - binary_acc: 0.0000e+00 - recall: 0.0000e+00\n",
            "loss  :  129.71524047851562\n",
            "precision  :  0.0\n",
            "auc  :  0.0\n",
            "binary_acc  :  0.0\n",
            "recall  :  0.0\n"
          ],
          "name": "stdout"
        }
      ]
    },
    {
      "cell_type": "code",
      "metadata": {
        "id": "2502i9RbDLKh",
        "colab_type": "code",
        "colab": {}
      },
      "source": [
        "def plot_curve(train_data, test_data, figname, title, ylabel):\n",
        "  plt.clf()\n",
        "  plt.plot(train_data)\n",
        "  plt.plot(test_data)\n",
        "  plt.xlabel('Epoch')\n",
        "  plt.ylabel(ylabel)\n",
        "  plt.title(title)\n",
        "  plt.legend(['train', 'test'], loc='upper left')\n",
        "  plt.show()\n",
        "  plt.savefig(figname)"
      ],
      "execution_count": 0,
      "outputs": []
    },
    {
      "cell_type": "code",
      "metadata": {
        "id": "nSipPRgaezRG",
        "colab_type": "code",
        "colab": {
          "base_uri": "https://localhost:8080/",
          "height": 590
        },
        "outputId": "3fd6f932-1abb-4251-fa95-420fa9d1acbf"
      },
      "source": [
        "plot_curve(history.history['binary_acc'], \n",
        "           history.history['val_binary_acc'], 'model2acc.png', \n",
        "           'Model Accuracy vs Epoch', \n",
        "          'Accuracy')\n",
        "plot_curve(history.history['loss'], \n",
        "           history.history['val_loss'], 'model2loss.png',\n",
        "           'Model Loss vs Epoch', 'Loss')"
      ],
      "execution_count": 68,
      "outputs": [
        {
          "output_type": "display_data",
          "data": {
            "image/png": "[encoded data removed]",
            "text/plain": [
              "<Figure size 432x288 with 1 Axes>"
            ]
          },
          "metadata": {
            "tags": []
          }
        },
        {
          "output_type": "display_data",
          "data": {
            "image/png": "[encoded data removed]",
            "text/plain": [
              "<Figure size 432x288 with 1 Axes>"
            ]
          },
          "metadata": {
            "tags": []
          }
        },
        {
          "output_type": "display_data",
          "data": {
            "text/plain": [
              "<Figure size 432x288 with 0 Axes>"
            ]
          },
          "metadata": {
            "tags": []
          }
        }
      ]
    },
    {
      "cell_type": "code",
      "metadata": {
        "id": "xgN5P-8jMilv",
        "colab_type": "code",
        "colab": {}
      },
      "source": [
        ""
      ],
      "execution_count": 0,
      "outputs": []
    }
  ]
}